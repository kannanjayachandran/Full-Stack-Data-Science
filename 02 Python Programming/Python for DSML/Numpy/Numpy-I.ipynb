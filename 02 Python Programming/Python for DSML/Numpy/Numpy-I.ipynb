{
    "cells": [
        {
            "cell_type": "markdown",
            "metadata": {},
            "source": [
                "<div align=\"center\"> <h1> <font color=\"Orange\"> Numpy - I </font> </h1> </div>"
            ]
        },
        {
            "cell_type": "code",
            "execution_count": 1,
            "metadata": {},
            "outputs": [],
            "source": [
                "import numpy as np"
            ]
        },
        {
            "cell_type": "markdown",
            "metadata": {},
            "source": [
                "### Basic Operations"
            ]
        },
        {
            "cell_type": "code",
            "execution_count": 34,
            "metadata": {},
            "outputs": [
                {
                    "name": "stdout",
                    "output_type": "stream",
                    "text": [
                        "Array :\n",
                        "[[ 1  2  3  4]\n",
                        " [ 5  6  7  8]\n",
                        " [ 9 10 11 12]]\n",
                        "--------------------------------------------------\n",
                        "\n",
                        "Type of array is : <class 'numpy.ndarray'>\n",
                        "--------------------------------------------------\n",
                        "\n",
                        "shape of the array :  (3, 4)\n",
                        "--------------------------------------------------\n",
                        "\n",
                        "Dimension of array is (ndim) :  2\n",
                        "--------------------------------------------------\n",
                        "\n",
                        "Size :  12\n",
                        "--------------------------------------------------\n",
                        "\n",
                        "Data type :  int64\n",
                        "--------------------------------------------------\n",
                        "\n",
                        "Item size : 8 bytes\n",
                        "--------------------------------------------------\n",
                        "\n",
                        "Total bytes: 96\n",
                        "--------------------------------------------------\n",
                        "\n",
                        "Strides: (32, 8)\n",
                        "--------------------------------------------------\n",
                        "\n",
                        "Memory :  <memory at 0x0000022D44C92810>\n",
                        "--------------------------------------------------\n",
                        "\n",
                        "Element wise operation (Squared list):\n",
                        " [[  1   4   9  16]\n",
                        " [ 25  36  49  64]\n",
                        " [ 81 100 121 144]]\n"
                    ]
                }
            ],
            "source": [
                "# numpy arrays\n",
                "np_arr = np.array([[1, 2, 3, 4],\n",
                "                [5, 6, 7, 8],\n",
                "                [9, 10, 11, 12]])\n",
                "\n",
                "# numpy array\n",
                "print(f\"Array :\\n{np_arr}\")\n",
                "print('--------------------------------------------------\\n')\n",
                "\n",
                "# type of object\n",
                "print(f\"Type of array is : {type(np_arr)}\")\n",
                "print('--------------------------------------------------\\n')\n",
                "\n",
                "# shape (elements per dimension)\n",
                "print(\"shape of the array : \", np_arr.shape)\n",
                "print('--------------------------------------------------\\n')\n",
                "\n",
                "# dimension\n",
                "print(\"Dimension of array is (ndim) : \", np_arr.ndim)\n",
                "print('--------------------------------------------------\\n')\n",
                "\n",
                "# Size\n",
                "print(\"Size : \", np_arr.size)\n",
                "print('--------------------------------------------------\\n')\n",
                "\n",
                "# Data type\n",
                "print(\"Data type : \", np_arr.dtype)\n",
                "print('--------------------------------------------------\\n')\n",
                "\n",
                "# Item size\n",
                "print(f\"Item size : {np_arr.itemsize} bytes\")\n",
                "print('--------------------------------------------------\\n')\n",
                "\n",
                "# Total size\n",
                "print(f\"Total bytes: {np_arr.nbytes}\")\n",
                "print('--------------------------------------------------\\n')\n",
                "\n",
                "# bytes to next row/col\n",
                "print(f\"Strides: {np_arr.strides}\")\n",
                "print('--------------------------------------------------\\n')\n",
                "\n",
                "# buffer containing actual data\n",
                "print(\"Memory : \", np_arr.data)\n",
                "print('--------------------------------------------------\\n')\n",
                "\n",
                "# element wise operations\n",
                "print(\"Element wise operation (Squared list):\\n\", np_arr**2)"
            ]
        },
        {
            "cell_type": "markdown",
            "metadata": {},
            "source": [
                "### Understanding axes with examples"
            ]
        },
        {
            "cell_type": "code",
            "execution_count": 3,
            "metadata": {},
            "outputs": [
                {
                    "name": "stdout",
                    "output_type": "stream",
                    "text": [
                        "1D array - axes: 1, shape: (4,)\n",
                        "2D array - axes: 2, shape: (2, 3)\n",
                        "3D array - axes: 3, shape: (2, 2, 2)\n"
                    ]
                }
            ],
            "source": [
                "arr_1d = np.array([1, 2, 3, 4])\n",
                "arr_2d = np.array([[1, 2, 3], [4, 5, 6]])\n",
                "arr_3d = np.array([[[1, 2], [3, 4]], [[5, 6], [7, 8]]])\n",
                "\n",
                "print(f\"1D array - axes: {arr_1d.ndim}, shape: {arr_1d.shape}\")\n",
                "print(f\"2D array - axes: {arr_2d.ndim}, shape: {arr_2d.shape}\")\n",
                "print(f\"3D array - axes: {arr_3d.ndim}, shape: {arr_3d.shape}\")"
            ]
        },
        {
            "cell_type": "markdown",
            "metadata": {},
            "source": [
                "### Memory layout explanation using `strides`"
            ]
        },
        {
            "cell_type": "code",
            "execution_count": 4,
            "metadata": {},
            "outputs": [
                {
                    "name": "stdout",
                    "output_type": "stream",
                    "text": [
                        "Shape: (2, 3)\n",
                        "Strides: (12, 4)\n",
                        "Item size: 4 bytes\n"
                    ]
                }
            ],
            "source": [
                "# Understanding strides\n",
                "arr = np.array([[1, 2, 3],\n",
                "                [4, 5, 6]], dtype=np.int32)\n",
                "\n",
                "print(f\"Shape: {arr.shape}\")\n",
                "print(f\"Strides: {arr.strides}\")\n",
                "print(f\"Item size: {arr.itemsize} bytes\")\n",
                "\n",
                "# Strides explanation:\n",
                "# - To move to next row: skip 12 bytes (3 elements × 4 bytes)\n",
                "# - To move to next column: skip 4 bytes (1 element × 4 bytes)"
            ]
        },
        {
            "cell_type": "markdown",
            "metadata": {},
            "source": [
                "### Array Creation"
            ]
        },
        {
            "cell_type": "code",
            "execution_count": 24,
            "metadata": {},
            "outputs": [
                {
                    "name": "stdout",
                    "output_type": "stream",
                    "text": [
                        "1D array: [1 2 3 4 5]\n",
                        "--------------------------------------------------\n",
                        "\n",
                        "2D array:\n",
                        "[[1 2 3]\n",
                        " [4 5 6]]\n",
                        "--------------------------------------------------\n",
                        "\n",
                        "Float array: [1. 2. 3.], dtype: float64\n",
                        "--------------------------------------------------\n",
                        "\n",
                        "From tuple: [1 2 3 4]\n"
                    ]
                }
            ],
            "source": [
                "# 1D array from list\n",
                "arr1 = np.array([1, 2, 3, 4, 5])\n",
                "print(f\"1D array: {arr1}\")\n",
                "print('--------------------------------------------------\\n')\n",
                "\n",
                "# 2D array from nested lists\n",
                "arr2 = np.array([[1, 2, 3], [4, 5, 6]])\n",
                "print(f\"2D array:\\n{arr2}\")\n",
                "print('--------------------------------------------------\\n')\n",
                "\n",
                "# Explicitly specify data type\n",
                "arr3 = np.array([1, 2, 3], dtype=np.float64)\n",
                "print(f\"Float array: {arr3}, dtype: {arr3.dtype}\")\n",
                "print('--------------------------------------------------\\n')\n",
                "\n",
                "# From tuple\n",
                "arr4 = np.array((1, 2, 3, 4))\n",
                "print(f\"From tuple: {arr4}\")"
            ]
        },
        {
            "cell_type": "markdown",
            "metadata": {},
            "source": [
                "#### Array Generation Functions\n",
                "\n",
                "- `arange`\n",
                "- `linspace`\n",
                "- `logspace`"
            ]
        },
        {
            "cell_type": "code",
            "execution_count": 18,
            "metadata": {},
            "outputs": [
                {
                    "name": "stdout",
                    "output_type": "stream",
                    "text": [
                        "arange(10): [0 1 2 3 4 5 6 7 8 9]\n",
                        "--------------------------------------------------\n",
                        "\n",
                        "arange(5, 15): [ 5  6  7  8  9 10 11 12 13 14]\n",
                        "--------------------------------------------------\n",
                        "\n",
                        "arange(0, 10, 2): [0 2 4 6 8]\n",
                        "--------------------------------------------------\n",
                        "\n",
                        "arange(0, 1, 0.1): [0.  0.1 0.2 0.3 0.4 0.5 0.6 0.7 0.8 0.9]\n",
                        "--------------------------------------------------\n",
                        "\n",
                        "Total bytes of arr5 (int8) :100\n",
                        "Total bytes of arr6 (int64) :800\n"
                    ]
                }
            ],
            "source": [
                "# Basic usage\n",
                "arr1 = np.arange(10)                    # 0 to 9\n",
                "arr2 = np.arange(5, 15)                 # 5 to 14\n",
                "arr3 = np.arange(0, 10, 2)              # 0, 2, 4, 6, 8 (start, end, step)\n",
                "arr4 = np.arange(0, 1, 0.1)             # Supports floats (unlike range); but prefer linspace while dealing with floats\n",
                "\n",
                "print(f\"arange(10): {arr1}\")\n",
                "print('--------------------------------------------------\\n')\n",
                "print(f\"arange(5, 15): {arr2}\")\n",
                "print('--------------------------------------------------\\n')\n",
                "print(f\"arange(0, 10, 2): {arr3}\")\n",
                "print('--------------------------------------------------\\n')\n",
                "print(f\"arange(0, 1, 0.1): {arr4}\")\n",
                "print('--------------------------------------------------\\n')\n",
                "\n",
                "# data type argument\n",
                "arr5 = np.arange(1, 101, dtype='int8')\n",
                "arr6 = np.arange(1, 101)\n",
                "\n",
                "print(f\"Total bytes of arr5 (int8) :{arr5.nbytes}\")\n",
                "print(f\"Total bytes of arr6 (int64) :{arr6.nbytes}\")"
            ]
        },
        {
            "cell_type": "code",
            "execution_count": 27,
            "metadata": {},
            "outputs": [
                {
                    "name": "stdout",
                    "output_type": "stream",
                    "text": [
                        "linspace(0, 10, 5): [ 0.   2.5  5.   7.5 10. ]\n",
                        "--------------------------------------------------\n",
                        "\n",
                        "linspace(0, 1, 11): [0.  0.1 0.2 0.3 0.4 0.5 0.6 0.7 0.8 0.9 1. ]\n",
                        "--------------------------------------------------\n",
                        "\n",
                        "linspace(0, 10, 5, endpoint=False): [0. 2. 4. 6. 8.]\n",
                        "--------------------------------------------------\n",
                        "\n",
                        "Array: [ 0.   2.5  5.   7.5 10. ], Step: 2.5\n"
                    ]
                }
            ],
            "source": [
                "# Creates evenly spaced numbers over specified interval\n",
                "arr1 = np.linspace(0, 10, 5)            # 5 points from 0 to 10\n",
                "arr2 = np.linspace(0, 1, 11)            # 11 points from 0 to 1\n",
                "arr3 = np.linspace(0, 10, 5, endpoint=False)  # Exclude endpoint\n",
                "\n",
                "print(f\"linspace(0, 10, 5): {arr1}\")\n",
                "print('--------------------------------------------------\\n')\n",
                "print(f\"linspace(0, 1, 11): {arr2}\")\n",
                "print('--------------------------------------------------\\n')\n",
                "print(f\"linspace(0, 10, 5, endpoint=False): {arr3}\")\n",
                "print('--------------------------------------------------\\n')\n",
                "\n",
                "# Get the step size\n",
                "arr, step = np.linspace(0, 10, 5, retstep=True)\n",
                "print(f\"Array: {arr}, Step: {step}\")"
            ]
        },
        {
            "cell_type": "code",
            "execution_count": 28,
            "metadata": {},
            "outputs": [
                {
                    "name": "stdout",
                    "output_type": "stream",
                    "text": [
                        "logspace(0, 3, 4): [   1.   10.  100. 1000.]\n",
                        "--------------------------------------------------\n",
                        "\n",
                        "logspace(1, 3, 3, base=2): [2. 4. 8.]\n"
                    ]
                }
            ],
            "source": [
                "# Creates numbers spaced evenly on a log scale\n",
                "arr1 = np.logspace(0, 3, 4)             # 10^0 to 10^3, 4 points\n",
                "arr2 = np.logspace(1, 3, 3, base=2)     # 2^1 to 2^3, 3 points\n",
                "\n",
                "print(f\"logspace(0, 3, 4): {arr1}\")\n",
                "print('--------------------------------------------------\\n')\n",
                "print(f\"logspace(1, 3, 3, base=2): {arr2}\")"
            ]
        },
        {
            "cell_type": "markdown",
            "metadata": {},
            "source": [
                "### Initialization / Placeholder Arrays\n",
                "\n",
                "- Zeros, Ones, empty, and Full Arrays\n",
                "- Identity and Eye matrices"
            ]
        },
        {
            "cell_type": "code",
            "execution_count": 15,
            "metadata": {},
            "outputs": [
                {
                    "name": "stdout",
                    "output_type": "stream",
                    "text": [
                        "Zeros 1D: [0. 0. 0. 0. 0.]\n",
                        "\n",
                        "Zeros 2D:\n",
                        "[[0. 0. 0. 0.]\n",
                        " [0. 0. 0. 0.]\n",
                        " [0. 0. 0. 0.]]\n",
                        "\n",
                        "Ones 2D:\n",
                        "[[1. 1. 1.]\n",
                        " [1. 1. 1.]]\n",
                        "\n",
                        "Uninitialized array (Garbage values) :\n",
                        "[[1. 1. 1.]\n",
                        " [1. 1. 1.]]\n",
                        "\n",
                        "Full (7):\n",
                        "[[7 7 7]\n",
                        " [7 7 7]\n",
                        " [7 7 7]]\n",
                        "\n",
                        "Full (π):\n",
                        "[[3.14159265 3.14159265 3.14159265 3.14159265]\n",
                        " [3.14159265 3.14159265 3.14159265 3.14159265]]\n"
                    ]
                }
            ],
            "source": [
                "# Create arrays filled with specific values\n",
                "zeros_1d = np.zeros(5)\n",
                "zeros_2d = np.zeros((3, 4))\n",
                "zeros_int = np.zeros((2, 3), dtype=np.int32)\n",
                "\n",
                "ones_1d = np.ones(5)\n",
                "ones_2d = np.ones((2, 3))\n",
                "\n",
                "uninitialized_arr = np.empty((2, 3))\n",
                "\n",
                "full_arr = np.full((3, 3), 7)           # Fill with 7\n",
                "full_pi = np.full((2, 4), np.pi)        # Fill with π\n",
                "\n",
                "print(f\"Zeros 1D: {zeros_1d}\")\n",
                "print(f\"\\nZeros 2D:\\n{zeros_2d}\")\n",
                "print(f\"\\nOnes 2D:\\n{ones_2d}\")\n",
                "print(f\"\\nUninitialized array (Garbage values) :\\n{uninitialized_arr}\")\n",
                "print(f\"\\nFull (7):\\n{full_arr}\")\n",
                "print(f\"\\nFull (π):\\n{full_pi}\")"
            ]
        },
        {
            "cell_type": "code",
            "execution_count": 29,
            "metadata": {},
            "outputs": [
                {
                    "name": "stdout",
                    "output_type": "stream",
                    "text": [
                        "Identity 4x4:\n",
                        "[[1. 0. 0. 0.]\n",
                        " [0. 1. 0. 0.]\n",
                        " [0. 0. 1. 0.]\n",
                        " [0. 0. 0. 1.]]\n",
                        "--------------------------------------------------\n",
                        "\n",
                        "Identity 3x5:\n",
                        "[[1. 0. 0. 0. 0.]\n",
                        " [0. 1. 0. 0. 0.]\n",
                        " [0. 0. 1. 0. 0.]]\n",
                        "--------------------------------------------------\n",
                        "\n",
                        "Eye with k=1:\n",
                        "[[0. 1. 0. 0.]\n",
                        " [0. 0. 1. 0.]\n",
                        " [0. 0. 0. 1.]\n",
                        " [0. 0. 0. 0.]]\n",
                        "--------------------------------------------------\n",
                        "\n",
                        "Diagonal from array:\n",
                        "[[1 0 0 0]\n",
                        " [0 2 0 0]\n",
                        " [0 0 3 0]\n",
                        " [0 0 0 4]]\n"
                    ]
                }
            ],
            "source": [
                "# Identity matrix (diagonal of ones)\n",
                "identity = np.eye(4)\n",
                "print(f\"Identity 4x4:\\n{identity}\")\n",
                "print('--------------------------------------------------\\n')\n",
                "\n",
                "# Identity with different dimensions\n",
                "identity_rect = np.eye(3, 5)\n",
                "print(f\"Identity 3x5:\\n{identity_rect}\")\n",
                "print('--------------------------------------------------\\n')\n",
                "\n",
                "# Diagonal offset\n",
                "eye_offset = np.eye(4, k=1)  # Diagonal shifted up by 1\n",
                "print(f\"Eye with k=1:\\n{eye_offset}\")\n",
                "print('--------------------------------------------------\\n')\n",
                "\n",
                "# Create diagonal matrix from array\n",
                "diag_arr = np.diag([1, 2, 3, 4])\n",
                "print(f\"Diagonal from array:\\n{diag_arr}\")"
            ]
        },
        {
            "cell_type": "markdown",
            "metadata": {},
            "source": [
                "### Arrays from Existing Arrays"
            ]
        },
        {
            "cell_type": "code",
            "execution_count": 30,
            "metadata": {},
            "outputs": [
                {
                    "name": "stdout",
                    "output_type": "stream",
                    "text": [
                        "Original:\n",
                        "[[1 2 3]\n",
                        " [4 5 6]]\n",
                        "--------------------------------------------------\n",
                        "\n",
                        "Zeros like:\n",
                        "[[0 0 0]\n",
                        " [0 0 0]]\n",
                        "--------------------------------------------------\n",
                        "\n",
                        "Ones like:\n",
                        "[[1 1 1]\n",
                        " [1 1 1]]\n",
                        "--------------------------------------------------\n",
                        "\n",
                        "Full like (9):\n",
                        "[[9 9 9]\n",
                        " [9 9 9]]\n"
                    ]
                }
            ],
            "source": [
                "# Create arrays with same shape as existing arrays\n",
                "original = np.array([[1, 2, 3], [4, 5, 6]])\n",
                "\n",
                "zeros_like = np.zeros_like(original)\n",
                "ones_like = np.ones_like(original)\n",
                "empty_like = np.empty_like(original)\n",
                "full_like = np.full_like(original, 9)\n",
                "\n",
                "print(f\"Original:\\n{original}\")\n",
                "print('--------------------------------------------------\\n')\n",
                "print(f\"Zeros like:\\n{zeros_like}\")\n",
                "print('--------------------------------------------------\\n')\n",
                "print(f\"Ones like:\\n{ones_like}\")\n",
                "print('--------------------------------------------------\\n')\n",
                "print(f\"Full like (9):\\n{full_like}\")"
            ]
        },
        {
            "cell_type": "markdown",
            "metadata": {},
            "source": [
                "### From Functions (`fromfunction`)"
            ]
        },
        {
            "cell_type": "code",
            "execution_count": 31,
            "metadata": {},
            "outputs": [
                {
                    "name": "stdout",
                    "output_type": "stream",
                    "text": [
                        "Array from function:\n",
                        "[[0 1 2 3 4]\n",
                        " [1 2 3 4 5]\n",
                        " [2 3 4 5 6]\n",
                        " [3 4 5 6 7]]\n",
                        "--------------------------------------------------\n",
                        "\n",
                        "Multiplication table:\n",
                        "[[ 1  2  3  4  5]\n",
                        " [ 2  4  6  8 10]\n",
                        " [ 3  6  9 12 15]\n",
                        " [ 4  8 12 16 20]\n",
                        " [ 5 10 15 20 25]]\n"
                    ]
                }
            ],
            "source": [
                "# Create array by executing a function over each coordinate\n",
                "def func(i, j):\n",
                "    return i + j\n",
                "\n",
                "arr = np.fromfunction(func, (4, 5), dtype=int)\n",
                "print(f\"Array from function:\\n{arr}\")\n",
                "print('--------------------------------------------------\\n')\n",
                "\n",
                "# Create multiplication table\n",
                "def mult_table(i, j):\n",
                "    return (i + 1) * (j + 1)\n",
                "\n",
                "table = np.fromfunction(mult_table, (5, 5), dtype=int)\n",
                "print(f\"Multiplication table:\\n{table}\")"
            ]
        },
        {
            "cell_type": "markdown",
            "metadata": {},
            "source": [
                "### Data types"
            ]
        },
        {
            "cell_type": "code",
            "execution_count": 20,
            "metadata": {},
            "outputs": [
                {
                    "name": "stdout",
                    "output_type": "stream",
                    "text": [
                        "int8: [1 2 3], size: 1 bytes\n",
                        "float16: [1.5 2.5], size: 2 bytes\n",
                        "bool: [ True False  True], size: 1 bytes\n",
                        "\n",
                        "int8 info: Machine parameters for int8\n",
                        "---------------------------------------------------------------\n",
                        "min = -128\n",
                        "max = 127\n",
                        "---------------------------------------------------------------\n",
                        "\n",
                        "float64 info: Machine parameters for float64\n",
                        "---------------------------------------------------------------\n",
                        "precision =  15   resolution = 1.0000000000000001e-15\n",
                        "machep =    -52   eps =        2.2204460492503131e-16\n",
                        "negep =     -53   epsneg =     1.1102230246251565e-16\n",
                        "minexp =  -1022   tiny =       2.2250738585072014e-308\n",
                        "maxexp =   1024   max =        1.7976931348623157e+308\n",
                        "nexp =       11   min =        -max\n",
                        "smallest_normal = 2.2250738585072014e-308   smallest_subnormal = 4.9406564584124654e-324\n",
                        "---------------------------------------------------------------\n",
                        "\n"
                    ]
                }
            ],
            "source": [
                "# Exploring data types\n",
                "int8_arr = np.array([1, 2, 3], dtype=np.int8)\n",
                "float16_arr = np.array([1.5, 2.5], dtype=np.float16)\n",
                "bool_arr = np.array([True, False, True], dtype=np.bool_)\n",
                "\n",
                "print(f\"int8: {int8_arr}, size: {int8_arr.itemsize} bytes\")\n",
                "print(f\"float16: {float16_arr}, size: {float16_arr.itemsize} bytes\")\n",
                "print(f\"bool: {bool_arr}, size: {bool_arr.itemsize} bytes\")\n",
                "\n",
                "# Type info\n",
                "print(f\"\\nint8 info: {np.iinfo(np.int8)}\")\n",
                "print(f\"float64 info: {np.finfo(np.float64)}\")"
            ]
        },
        {
            "cell_type": "markdown",
            "metadata": {},
            "source": [
                "### Type conversion"
            ]
        },
        {
            "cell_type": "code",
            "execution_count": 21,
            "metadata": {},
            "outputs": [
                {
                    "name": "stdout",
                    "output_type": "stream",
                    "text": [
                        "int32 + float64 = float64: [2.5 4.5 6.5]\n",
                        "Float to int: [1 2 3]\n",
                        "Can safely cast float64 to int32? False\n"
                    ]
                }
            ],
            "source": [
                "# Automatic type promotion\n",
                "arr1 = np.array([1, 2, 3], dtype=np.int32)\n",
                "arr2 = np.array([1.5, 2.5, 3.5], dtype=np.float64)\n",
                "result = arr1 + arr2  # int32 promoted to float64\n",
                "print(f\"int32 + float64 = {result.dtype}: {result}\")\n",
                "\n",
                "# Explicit type casting\n",
                "float_arr = np.array([1.7, 2.8, 3.9])\n",
                "int_arr = float_arr.astype(np.int32)  # Truncates decimals\n",
                "print(f\"Float to int: {int_arr}\")\n",
                "\n",
                "# Safe casting check\n",
                "can_cast = np.can_cast(np.float64, np.int32)\n",
                "print(f\"Can safely cast float64 to int32? {can_cast}\")"
            ]
        },
        {
            "cell_type": "markdown",
            "metadata": {},
            "source": [
                "### Memory Considerations "
            ]
        },
        {
            "cell_type": "code",
            "execution_count": 22,
            "metadata": {},
            "outputs": [
                {
                    "name": "stdout",
                    "output_type": "stream",
                    "text": [
                        "int64: 8.00 MB\n",
                        "int32: 4.00 MB (50% reduction)\n",
                        "int8:  1.00 MB (87.5% reduction)\n",
                        "\n",
                        "Ages array: 1.00 MB\n"
                    ]
                }
            ],
            "source": [
                "# Memory comparison\n",
                "n = 1_000_000\n",
                "\n",
                "arr_int64 = np.ones(n, dtype=np.int64)\n",
                "arr_int32 = np.ones(n, dtype=np.int32)\n",
                "arr_int8 = np.ones(n, dtype=np.int8)\n",
                "\n",
                "print(f\"int64: {arr_int64.nbytes / 1e6:.2f} MB\")\n",
                "print(f\"int32: {arr_int32.nbytes / 1e6:.2f} MB (50% reduction)\")\n",
                "print(f\"int8:  {arr_int8.nbytes / 1e6:.2f} MB (87.5% reduction)\")\n",
                "\n",
                "# For datasets with categorical data (e.g., age 0-120)\n",
                "ages = np.random.randint(0, 120, size=1_000_000, dtype=np.uint8)\n",
                "print(f\"\\nAges array: {ages.nbytes / 1e6:.2f} MB\")"
            ]
        },
        {
            "cell_type": "markdown",
            "metadata": {},
            "source": [
                "### Stacking Arrays"
            ]
        },
        {
            "cell_type": "code",
            "execution_count": 35,
            "metadata": {},
            "outputs": [
                {
                    "name": "stdout",
                    "output_type": "stream",
                    "text": [
                        "Vertically stacked:\n",
                        "[[1 2 3]\n",
                        " [4 5 6]\n",
                        " [7 8 9]]\n",
                        "Shape: (3, 3)\n",
                        "--------------------------------------------------\n",
                        "\n",
                        "Horizontally stacked:\n",
                        "[[1 4 7]\n",
                        " [2 5 8]\n",
                        " [3 6 9]]\n",
                        "Shape: (3, 3)\n",
                        "--------------------------------------------------\n",
                        "\n",
                        "Depth stacked:\n",
                        "[[[1 5]\n",
                        "  [2 6]]\n",
                        "\n",
                        " [[3 7]\n",
                        "  [4 8]]]\n",
                        "Shape: (2, 2, 2)\n"
                    ]
                }
            ],
            "source": [
                "# v-stack\n",
                "# Stacking arrays vertically (row-wise)\n",
                "arr1 = np.array([[1, 2, 3]])\n",
                "arr2 = np.array([[4, 5, 6]])\n",
                "arr3 = np.array([[7, 8, 9]])\n",
                "\n",
                "vstacked = np.vstack((arr1, arr2, arr3))\n",
                "print(f\"Vertically stacked:\\n{vstacked}\")\n",
                "print(f\"Shape: {vstacked.shape}\")\n",
                "print('--------------------------------------------------\\n')\n",
                "\n",
                "# h-stack\n",
                "# Stacking arrays horizontally (column-wise)\n",
                "arr1 = np.array([[1], [2], [3]])\n",
                "arr2 = np.array([[4], [5], [6]])\n",
                "arr3 = np.array([[7], [8], [9]])\n",
                "\n",
                "hstacked = np.hstack((arr1, arr2, arr3))\n",
                "print(f\"Horizontally stacked:\\n{hstacked}\")\n",
                "print(f\"Shape: {hstacked.shape}\")\n",
                "print('--------------------------------------------------\\n')\n",
                "\n",
                "# d-stack\n",
                "# Stacking arrays depth-wise (along 3rd axis)\n",
                "arr1 = np.array([[1, 2], [3, 4]])\n",
                "arr2 = np.array([[5, 6], [7, 8]])\n",
                "\n",
                "dstacked = np.dstack((arr1, arr2))\n",
                "print(f\"Depth stacked:\\n{dstacked}\")\n",
                "print(f\"Shape: {dstacked.shape}\")"
            ]
        },
        {
            "cell_type": "markdown",
            "metadata": {},
            "source": [
                "### concatenate"
            ]
        },
        {
            "cell_type": "code",
            "execution_count": 3,
            "metadata": {},
            "outputs": [
                {
                    "name": "stdout",
                    "output_type": "stream",
                    "text": [
                        "Concatenate axis=0:\n",
                        "[[1 2]\n",
                        " [3 4]\n",
                        " [5 6]\n",
                        " [7 8]]\n",
                        "--------------------------------------------------\n",
                        "\n",
                        "Concatenate axis=1:\n",
                        "[[1 2 5 6]\n",
                        " [3 4 7 8]]\n",
                        "--------------------------------------------------\n",
                        "\n",
                        "1D concatenate: [1 2 3 4 5 6]\n"
                    ]
                }
            ],
            "source": [
                "# Concatenate along specified axis\n",
                "arr1 = np.array([[1, 2], [3, 4]])\n",
                "arr2 = np.array([[5, 6], [7, 8]])\n",
                "\n",
                "# axis=0 (vertical)\n",
                "concat_0 = np.concatenate((arr1, arr2), axis=0)\n",
                "print(f\"Concatenate axis=0:\\n{concat_0}\")\n",
                "print('--------------------------------------------------\\n')\n",
                "\n",
                "# axis=1 (horizontal)\n",
                "concat_1 = np.concatenate((arr1, arr2), axis=1)\n",
                "print(f\"Concatenate axis=1:\\n{concat_1}\")\n",
                "print('--------------------------------------------------\\n')\n",
                "\n",
                "# 1D concatenation\n",
                "arr_1d_1 = np.array([1, 2, 3])\n",
                "arr_1d_2 = np.array([4, 5, 6])\n",
                "concat_1d = np.concatenate((arr_1d_1, arr_1d_2))\n",
                "print(f\"1D concatenate: {concat_1d}\")"
            ]
        },
        {
            "cell_type": "markdown",
            "metadata": {},
            "source": [
                "### Splitting Arrays"
            ]
        },
        {
            "cell_type": "code",
            "execution_count": 4,
            "metadata": {},
            "outputs": [
                {
                    "name": "stdout",
                    "output_type": "stream",
                    "text": [
                        "Original:\n",
                        "[[ 0  1  2  3]\n",
                        " [ 4  5  6  7]\n",
                        " [ 8  9 10 11]]\n",
                        "\n",
                        "--------------------------------------------------\n",
                        "\n",
                        "Horizontal split 1:\n",
                        "[[0 1]\n",
                        " [4 5]\n",
                        " [8 9]]\n",
                        "\n",
                        "Horizontal split 2:\n",
                        "[[ 2  3]\n",
                        " [ 6  7]\n",
                        " [10 11]]\n",
                        "\n",
                        "--------------------------------------------------\n",
                        "\n",
                        "Vertical split 1:\n",
                        "[[0 1 2 3]]\n",
                        "\n",
                        "Vertical split 2:\n",
                        "[[4 5 6 7]]\n",
                        "\n",
                        "Vertical split 3:\n",
                        "[[ 8  9 10 11]]\n"
                    ]
                }
            ],
            "source": [
                "# Split array into equal parts\n",
                "arr = np.arange(12).reshape(3, 4)\n",
                "print(f\"Original:\\n{arr}\\n\")\n",
                "print('--------------------------------------------------\\n')\n",
                "\n",
                "# Horizontal split (split columns)\n",
                "h1, h2 = np.hsplit(arr, 2)\n",
                "print(f\"Horizontal split 1:\\n{h1}\")\n",
                "print(f\"\\nHorizontal split 2:\\n{h2}\\n\")\n",
                "print('--------------------------------------------------\\n')\n",
                "\n",
                "# Vertical split (split rows)\n",
                "v1, v2, v3 = np.vsplit(arr, 3)\n",
                "print(f\"Vertical split 1:\\n{v1}\")\n",
                "print(f\"\\nVertical split 2:\\n{v2}\")\n",
                "print(f\"\\nVertical split 3:\\n{v3}\")"
            ]
        },
        {
            "cell_type": "markdown",
            "metadata": {},
            "source": [
                "### Repeating and Tiling    "
            ]
        },
        {
            "cell_type": "code",
            "execution_count": 5,
            "metadata": {},
            "outputs": [
                {
                    "name": "stdout",
                    "output_type": "stream",
                    "text": [
                        "Repeated: [1 1 1 2 2 2 3 3 3]\n",
                        "--------------------------------------------------\n",
                        "\n",
                        "Repeated (variable): [1 1 2 2 2 3]\n",
                        "--------------------------------------------------\n",
                        "\n",
                        "Tiled:\n",
                        "[[1 2 1 2 1 2]\n",
                        " [3 4 3 4 3 4]\n",
                        " [1 2 1 2 1 2]\n",
                        " [3 4 3 4 3 4]]\n"
                    ]
                }
            ],
            "source": [
                "# Repeat elements\n",
                "arr = np.array([1, 2, 3])\n",
                "repeated = np.repeat(arr, 3)\n",
                "print(f\"Repeated: {repeated}\")\n",
                "print('--------------------------------------------------\\n')\n",
                "\n",
                "# Repeat with different counts per element\n",
                "repeated_var = np.repeat(arr, [2, 3, 1])\n",
                "print(f\"Repeated (variable): {repeated_var}\")\n",
                "print('--------------------------------------------------\\n')\n",
                "\n",
                "# Tile array\n",
                "arr_2d = np.array([[1, 2], [3, 4]])\n",
                "tiled = np.tile(arr_2d, (2, 3))  # Repeat 2 times vertically, 3 times horizontally\n",
                "print(f\"Tiled:\\n{tiled}\")"
            ]
        },
        {
            "cell_type": "markdown",
            "metadata": {},
            "source": [
                "### Indexing - Slicing - Reshaping"
            ]
        },
        {
            "cell_type": "code",
            "execution_count": 7,
            "metadata": {},
            "outputs": [
                {
                    "name": "stdout",
                    "output_type": "stream",
                    "text": [
                        "arr[0]: 10\n",
                        "\n",
                        "arr[-1]: 50\n",
                        "\n",
                        "arr[2]: 30\n",
                        "\n",
                        "arr_2d[0, 3]: 4\n",
                        "\n",
                        "arr_2d[1, 2]: 7\n",
                        "\n",
                        "arr_2d[-1, -1]: 12\n",
                        "Row 1: [5 6 7 8]\n",
                        "Column 2: [ 3  7 11]\n"
                    ]
                }
            ],
            "source": [
                "# 1D indexing\n",
                "arr = np.array([10, 20, 30, 40, 50])\n",
                "print(f\"arr[0]: {arr[0]}\")      # First element\n",
                "print(f\"\\narr[-1]: {arr[-1]}\")    # Last element\n",
                "print(f\"\\narr[2]: {arr[2]}\")      # Third element\n",
                "\n",
                "# 2D indexing\n",
                "arr_2d = np.array([[1, 2, 3, 4],\n",
                "                   [5, 6, 7, 8],\n",
                "                   [9, 10, 11, 12]])\n",
                "\n",
                "print(f\"\\narr_2d[0, 3]: {arr_2d[0, 3]}\")     # Row 0, column 3\n",
                "print(f\"\\narr_2d[1, 2]: {arr_2d[1, 2]}\")       # Row 1, column 2\n",
                "print(f\"\\narr_2d[-1, -1]: {arr_2d[-1, -1]}\")   # Last element\n",
                "\n",
                "# Accessing entire rows/columns\n",
                "print(f\"Row 1: {arr_2d[1]}\")                  # Entire row 1\n",
                "print(f\"Column 2: {arr_2d[:, 2]}\")            # Entire column 2"
            ]
        },
        {
            "cell_type": "code",
            "execution_count": null,
            "metadata": {},
            "outputs": [
                {
                    "name": "stdout",
                    "output_type": "stream",
                    "text": [
                        "Selected elements: [10 30 50]\n",
                        "--------------------------------------------------\n",
                        "\n",
                        "Selected rows:\n",
                        "[[1 2 3]\n",
                        " [7 8 9]]\n",
                        "--------------------------------------------------\n",
                        "\n",
                        "Diagonal elements: [1 5 9]\n"
                    ]
                }
            ],
            "source": [
                "# Select specific elements using integer arrays\n",
                "arr = np.array([10, 20, 30, 40, 50, 60])\n",
                "indices = np.array([0, 2, 4])\n",
                "selected = arr[indices]\n",
                "print(f\"Selected elements: {selected}\")\n",
                "print('--------------------------------------------------\\n')\n",
                "\n",
                "# 2D integer array indexing\n",
                "arr_2d = np.array([[1, 2, 3],\n",
                "                   [4, 5, 6],\n",
                "                   [7, 8, 9]])\n",
                "\n",
                "# Select specific rows\n",
                "rows = np.array([0, 2])\n",
                "selected_rows = arr_2d[rows]\n",
                "print(f\"Selected rows:\\n{selected_rows}\")\n",
                "print('--------------------------------------------------\\n')\n",
                "\n",
                "# Select specific elements (row, col pairs)\n",
                "rows = np.array([0, 1, 2])\n",
                "cols = np.array([0, 1, 2])\n",
                "diagonal = arr_2d[rows, cols]\n",
                "print(f\"Diagonal elements: {diagonal}\")\n",
                "\n",
                "# Other types\n",
                "print(f'\\nAll numbers greater than 4 : {arr_2d[arr_2d > 4]}')"
            ]
        },
        {
            "cell_type": "code",
            "execution_count": 13,
            "metadata": {},
            "outputs": [
                {
                    "name": "stdout",
                    "output_type": "stream",
                    "text": [
                        "arr[2:7]: [2 3 4 5 6]\n",
                        "arr[:5]: [0 1 2 3 4]\n",
                        "arr[5:]: [5 6 7 8 9]\n",
                        "arr[::2]: [0 2 4 6 8]\n",
                        "arr[::-1]: [9 8 7 6 5 4 3 2 1 0]\n",
                        "\n",
                        "First 2 rows:\n",
                        "[[1 2 3 4]\n",
                        " [5 6 7 8]]\n",
                        "--------------------------------------------------\n",
                        "\n",
                        "Last 2 columns:\n",
                        "[[ 3  4]\n",
                        " [ 7  8]\n",
                        " [11 12]]\n",
                        "--------------------------------------------------\n",
                        "\n",
                        "Center 2x2 block:\n",
                        "[[ 6  7]\n",
                        " [10 11]]\n",
                        "--------------------------------------------------\n",
                        "\n",
                        "Every other element:\n",
                        "[[ 1  3]\n",
                        " [ 9 11]]\n",
                        "--------------------------------------------------\n",
                        "\n",
                        "Train :\n",
                        " [[1 2 3 4]\n",
                        " [5 6 7 8]]\n",
                        "\n",
                        "Test :\n",
                        " [[ 9 10 11 12]]\n"
                    ]
                }
            ],
            "source": [
                "# 1D slicing\n",
                "arr = np.arange(10)\n",
                "print(f\"arr[2:7]: {arr[2:7]}\")        # Elements from index 2 to 6\n",
                "print(f\"arr[:5]: {arr[:5]}\")          # First 5 elements\n",
                "print(f\"arr[5:]: {arr[5:]}\")          # From index 5 to end\n",
                "print(f\"arr[::2]: {arr[::2]}\")        # Every 2nd element\n",
                "print(f\"arr[::-1]: {arr[::-1]}\")      # Reverse array\n",
                "\n",
                "# 2D slicing\n",
                "arr_2d = np.array([[1, 2, 3, 4],\n",
                "                   [5, 6, 7, 8],\n",
                "                   [9, 10, 11, 12]])\n",
                "\n",
                "print(f\"\\nFirst 2 rows:\\n{arr_2d[:2]}\")\n",
                "print('--------------------------------------------------\\n')\n",
                "print(f\"Last 2 columns:\\n{arr_2d[:, -2:]}\")\n",
                "print('--------------------------------------------------\\n')\n",
                "print(f\"Center 2x2 block:\\n{arr_2d[1:3, 1:3]}\")\n",
                "print('--------------------------------------------------\\n')\n",
                "print(f\"Every other element:\\n{arr_2d[::2, ::2]}\")\n",
                "print('--------------------------------------------------\\n')\n",
                "\n",
                "# Slicing example for train-test split\n",
                "split = 2\n",
                "train, test = arr_2d[:split, :], arr_2d[split:, :]\n",
                "print('Train :\\n', train)\n",
                "\n",
                "print('\\nTest :\\n', test)"
            ]
        },
        {
            "cell_type": "code",
            "execution_count": 24,
            "metadata": {},
            "outputs": [
                {
                    "name": "stdout",
                    "output_type": "stream",
                    "text": [
                        "Original: [ 0  1  2  3  4  5  6  7  8  9 10 11]\n",
                        "--------------------------------------------------\n",
                        "\n",
                        "Reshaped (3x4):\n",
                        "[[ 0  1  2  3]\n",
                        " [ 4  5  6  7]\n",
                        " [ 8  9 10 11]]\n",
                        "--------------------------------------------------\n",
                        "\n",
                        "Auto reshape (4, -1):\n",
                        "[[ 0  1  2  3  4  5]\n",
                        " [ 6  7  8  9 10 11]\n",
                        " [12 13 14 15 16 17]\n",
                        " [18 19 20 21 22 23]]\n",
                        "--------------------------------------------------\n",
                        "\n",
                        "3D reshape (2, 3, 4):\n",
                        "[[[ 0  1  2  3]\n",
                        "  [ 4  5  6  7]\n",
                        "  [ 8  9 10 11]]\n",
                        "\n",
                        " [[12 13 14 15]\n",
                        "  [16 17 18 19]\n",
                        "  [20 21 22 23]]]\n",
                        "--------------------------------------------------\n",
                        "\n",
                        "3D -> 1D:\n",
                        "[ 0  1  2  3  4  5  6  7  8  9 10 11 12 13 14 15 16 17 18 19 20 21 22 23]\n",
                        "--------------------------------------------------\n",
                        "\n"
                    ]
                }
            ],
            "source": [
                "# Reshape 1D to 2D\n",
                "arr = np.arange(12)\n",
                "reshaped = arr.reshape(3, 4)\n",
                "print(f\"Original: {arr}\")\n",
                "print('--------------------------------------------------\\n')\n",
                "print(f\"Reshaped (3x4):\\n{reshaped}\")\n",
                "print('--------------------------------------------------\\n')\n",
                "\n",
                "# Reshape with -1 (automatic dimension calculation)\n",
                "arr = np.arange(24)\n",
                "auto_reshape = arr.reshape(4, -1)  # NumPy calculates: 24/4 = 6\n",
                "print(f\"Auto reshape (4, -1):\\n{auto_reshape}\")\n",
                "print('--------------------------------------------------\\n')\n",
                "\n",
                "# Multiple reshapes\n",
                "arr = np.arange(24)\n",
                "reshaped_3d = arr.reshape(2, 3, 4)\n",
                "print(f\"3D reshape (2, 3, 4):\\n{reshaped_3d}\")\n",
                "print('--------------------------------------------------\\n')\n",
                "\n",
                "# 3d to 1d\n",
                "arr_new_1d = reshaped_3d.reshape(24)\n",
                "print(f\"3D -> 1D:\\n{arr_new_1d}\")\n",
                "print('--------------------------------------------------\\n')"
            ]
        },
        {
            "cell_type": "markdown",
            "metadata": {},
            "source": [
                "### Reshape vs `np.resize` vs `ndarray.resize`"
            ]
        },
        {
            "cell_type": "code",
            "execution_count": 20,
            "metadata": {},
            "outputs": [
                {
                    "name": "stdout",
                    "output_type": "stream",
                    "text": [
                        "Reshaped:\n",
                        "[[ 0  1  2  3]\n",
                        " [ 4  5  6  7]\n",
                        " [ 8  9 10 11]]\n",
                        "\n",
                        "np.resize (repeats):\n",
                        "[[0 1 2 3]\n",
                        " [4 5 0 1]\n",
                        " [2 3 4 5]]\n",
                        "\n",
                        "arr.resize (fills with 0):\n",
                        "[[0 1 2 3]\n",
                        " [4 5 0 0]\n",
                        " [0 0 0 0]]\n"
                    ]
                }
            ],
            "source": [
                "# Reshape: requires compatible dimensions\n",
                "arr = np.arange(12)\n",
                "reshaped = np.reshape(arr, (3, 4))  # Works: 12 elements = 3x4\n",
                "print(f\"Reshaped:\\n{reshaped}\")\n",
                "\n",
                "# Resize: can change total number of elements\n",
                "arr = np.arange(6)\n",
                "resized = np.resize(arr, (3, 4))  # 6 elements -> 12 (repeats pattern)\n",
                "print(f\"\\nnp.resize (repeats):\\n{resized}\")\n",
                "\n",
                "# ndarray.resize: modifies in place, fills with zeros\n",
                "arr = np.arange(6)\n",
                "arr.resize((3, 4))  # Fills extra elements with 0\n",
                "print(f\"\\narr.resize (fills with 0):\\n{arr}\")"
            ]
        },
        {
            "cell_type": "markdown",
            "metadata": {},
            "source": [
                "### Flattening (`flatten()` and `ravel()`)"
            ]
        },
        {
            "cell_type": "code",
            "execution_count": 30,
            "metadata": {},
            "outputs": [
                {
                    "name": "stdout",
                    "output_type": "stream",
                    "text": [
                        "Original array:\n",
                        "[[1 2 3]\n",
                        " [4 5 6]]\n",
                        "--------------------------------------------------\n",
                        "\n",
                        "Original after flatten[0]=999:\n",
                        "[[1 2 3]\n",
                        " [4 5 6]]\n",
                        "Flattened: [999   2   3   4   5   6]\n",
                        "--------------------------------------------------\n",
                        "\n",
                        "Original array:\n",
                        "[[1 2]\n",
                        " [3 4]\n",
                        " [5 6]]\n",
                        "Original after ravel[0]=999:\n",
                        "[[999   2]\n",
                        " [  3   4]\n",
                        " [  5   6]]\n",
                        "--------------------------------------------------\n",
                        "\n",
                        "Raveled: [999   2   3   4   5   6]\n",
                        "--------------------------------------------------\n",
                        "\n",
                        "\n",
                        "Ravel 'C' order (row-major): [1 2 3 4 5 6]\n",
                        "Ravel 'F' order (column-major): [1 4 2 5 3 6]\n"
                    ]
                }
            ],
            "source": [
                "# Create 2D array\n",
                "arr = np.arange(1, 7).reshape(2, 3)\n",
                "print(f\"Original array:\\n{arr}\")\n",
                "print('--------------------------------------------------\\n')\n",
                "\n",
                "# flatten: always returns a copy\n",
                "flattened = arr.flatten()\n",
                "flattened[0] = 999\n",
                "print(f\"Original after flatten[0]=999:\\n{arr}\")  # Unchanged\n",
                "\n",
                "print(f\"Flattened: {flattened}\")\n",
                "print('--------------------------------------------------\\n')\n",
                "\n",
                "# ravel: returns view when possible (more memory efficient)\n",
                "arr = np.arange(1, 7).reshape(3, 2)\n",
                "print(f\"Original array:\\n{arr}\")\n",
                "\n",
                "raveled = arr.ravel()\n",
                "raveled[0] = 999\n",
                "print(f\"Original after ravel[0]=999:\\n{arr}\")  # Changed!\n",
                "print('--------------------------------------------------\\n')\n",
                "print(f\"Raveled: {raveled}\")\n",
                "print('--------------------------------------------------\\n')\n",
                "\n",
                "# ravel order options\n",
                "arr = np.array([[1, 2, 3],\n",
                "                [4, 5, 6]])\n",
                "print(f\"\\nRavel 'C' order (row-major): {arr.ravel()}\")\n",
                "print(f\"Ravel 'F' order (column-major): {arr.ravel('F')}\")\n",
                "# arange also supports order options"
            ]
        },
        {
            "cell_type": "markdown",
            "metadata": {},
            "source": [
                "### Transpose and Axis manipulation"
            ]
        },
        {
            "cell_type": "code",
            "execution_count": 32,
            "metadata": {},
            "outputs": [
                {
                    "name": "stdout",
                    "output_type": "stream",
                    "text": [
                        "Original:\n",
                        "[[1 2 3]\n",
                        " [4 5 6]]\n",
                        "--------------------------------------------------\n",
                        "\n",
                        "Transposed:\n",
                        "[[1 4]\n",
                        " [2 5]\n",
                        " [3 6]]\n",
                        "--------------------------------------------------\n",
                        "\n",
                        "Using transpose():\n",
                        "[[1 4]\n",
                        " [2 5]\n",
                        " [3 6]]\n",
                        "--------------------------------------------------\n",
                        "\n",
                        "3D array :\n",
                        "[[[ 0  1  2  3]\n",
                        "  [ 4  5  6  7]\n",
                        "  [ 8  9 10 11]]\n",
                        "\n",
                        " [[12 13 14 15]\n",
                        "  [16 17 18 19]\n",
                        "  [20 21 22 23]]]\n",
                        "\n",
                        "3D array shape: (2, 3, 4)\n",
                        "--------------------------------------------------\n",
                        "\n",
                        "Swapped array :\n",
                        "[[[ 0 12]\n",
                        "  [ 4 16]\n",
                        "  [ 8 20]]\n",
                        "\n",
                        " [[ 1 13]\n",
                        "  [ 5 17]\n",
                        "  [ 9 21]]\n",
                        "\n",
                        " [[ 2 14]\n",
                        "  [ 6 18]\n",
                        "  [10 22]]\n",
                        "\n",
                        " [[ 3 15]\n",
                        "  [ 7 19]\n",
                        "  [11 23]]]\n",
                        "\n",
                        "After swapping axes 0 and 2: (4, 3, 2)\n",
                        "--------------------------------------------------\n",
                        "\n",
                        "Transpose (2,0,1): (4, 2, 3)\n"
                    ]
                }
            ],
            "source": [
                "# Transpose 2D array\n",
                "arr = np.array([[1, 2, 3],\n",
                "                [4, 5, 6]])\n",
                "transposed = arr.T\n",
                "print(f\"Original:\\n{arr}\")\n",
                "print('--------------------------------------------------\\n')\n",
                "print(f\"Transposed:\\n{transposed}\")\n",
                "print('--------------------------------------------------\\n')\n",
                "\n",
                "# Transpose with transpose() method\n",
                "transposed2 = arr.transpose()\n",
                "print(f\"Using transpose():\\n{transposed2}\")\n",
                "print('--------------------------------------------------\\n')\n",
                "\n",
                "# Swapping axes in 3D\n",
                "arr_3d = np.arange(24).reshape(2, 3, 4)\n",
                "print(f\"3D array :\\n{arr_3d}\")\n",
                "print(f\"\\n3D array shape: {arr_3d.shape}\")\n",
                "print('--------------------------------------------------\\n')\n",
                "\n",
                "swapped = np.swapaxes(arr_3d, 0, 2)  # Swap axis 0 and axis 2\n",
                "print(f\"Swapped array :\\n{swapped}\")\n",
                "print(f\"\\nAfter swapping axes 0 and 2: {swapped.shape}\")\n",
                "print('--------------------------------------------------\\n')\n",
                "\n",
                "# Transpose with specific axis order\n",
                "transposed_3d = arr_3d.transpose(2, 0, 1)\n",
                "print(f\"Transpose (2,0,1): {transposed_3d.shape}\")"
            ]
        },
        {
            "cell_type": "markdown",
            "metadata": {},
            "source": [
                "### Adding and removing axis"
            ]
        },
        {
            "cell_type": "code",
            "execution_count": 33,
            "metadata": {},
            "outputs": [
                {
                    "name": "stdout",
                    "output_type": "stream",
                    "text": [
                        "Original shape: (4,)\n",
                        "Column vector shape: (4, 1)\n",
                        "Row vector shape: (1, 4)\n",
                        "Expand dims axis=0: (1, 4)\n",
                        "\n",
                        "Before squeeze: (1, 1, 3)\n",
                        "After squeeze: (3,)\n",
                        "Squeezed: [1 2 3]\n"
                    ]
                }
            ],
            "source": [
                "# Add new axis using np.newaxis\n",
                "arr = np.array([1, 2, 3, 4])\n",
                "print(f\"Original shape: {arr.shape}\")\n",
                "\n",
                "# Add axis at different positions\n",
                "arr_col = arr[:, np.newaxis]  # Column vector\n",
                "arr_row = arr[np.newaxis, :]  # Row vector\n",
                "print(f\"Column vector shape: {arr_col.shape}\")\n",
                "print(f\"Row vector shape: {arr_row.shape}\")\n",
                "\n",
                "# Using expand_dims\n",
                "arr_expand = np.expand_dims(arr, axis=0)\n",
                "print(f\"Expand dims axis=0: {arr_expand.shape}\")\n",
                "\n",
                "# Squeeze: remove single-dimensional entries\n",
                "arr_squeezable = np.array([[[1, 2, 3]]])\n",
                "print(f\"\\nBefore squeeze: {arr_squeezable.shape}\")\n",
                "squeezed = np.squeeze(arr_squeezable)\n",
                "print(f\"After squeeze: {squeezed.shape}\")\n",
                "print(f\"Squeezed: {squeezed}\")"
            ]
        },
        {
            "cell_type": "code",
            "execution_count": null,
            "metadata": {},
            "outputs": [],
            "source": []
        },
        {
            "cell_type": "code",
            "execution_count": null,
            "metadata": {},
            "outputs": [],
            "source": []
        },
        {
            "cell_type": "code",
            "execution_count": null,
            "metadata": {},
            "outputs": [],
            "source": []
        },
        {
            "cell_type": "code",
            "execution_count": null,
            "metadata": {},
            "outputs": [
                {
                    "name": "stdout",
                    "output_type": "stream",
                    "text": [
                        "Row 1 : [1 2 3]\n",
                        "\n",
                        "First element : 1\n",
                        "\n",
                        "Multiple indexing : \n",
                        "[[7 8 9]\n",
                        " [4 5 6]\n",
                        " [4 5 6]\n",
                        " [1 2 3]]\n",
                        "\n",
                        "Multi dimensional indexing : \n",
                        "[2 6 8 4]\n",
                        "\n",
                        "All numbers greater than 4 : [5 6 7 8 9]\n",
                        "\n",
                        "Mask for all numbers less than 3 : [[ True  True False]\n",
                        " [False False False]\n",
                        " [False False False]]\n",
                        "\n",
                        "Numbers which are multiple of 2 and 3 : [6]\n",
                        "\n",
                        "Numbers which are multiple of 2 or 3 : [2 3 4 6 8 9]\n",
                        "---------------------------------------------------------------------\n",
                        "Col 1 :  [1 4 7]\n",
                        "\n",
                        "Train :  [[1 2 3]\n",
                        " [4 5 6]]\n",
                        "Test :  [[7 8 9]]\n"
                    ]
                }
            ],
            "source": [
                "a10 = np.array([\n",
                "    [1, 2, 3],\n",
                "    [4, 5, 6],\n",
                "    [7, 8, 9]\n",
                "])\n",
                "\n",
                "# Indexing - masking\n",
                "\n",
                "print(f'\\nAll numbers greater than 4 : {a10[a10 > 4]}')\n",
                "print(f'\\nMask for all numbers less than 3 : {a10 < 3}')\n",
                "print(f'\\nNumbers which are multiple of 2 and 3 : {a10[(a10 % 2 == 0) & (a10 % 3 == 0)]}')\n",
                "print(f'\\nNumbers which are multiple of 2 or 3 : {a10[(a10 % 2 == 0) | (a10 % 3 == 0)]}')\n",
                "print('---------------------------------------------------------------------')\n",
                "\n"
            ]
        }
    ],
    "metadata": {
        "kernelspec": {
            "display_name": "Python Base (DSML)",
            "language": "python",
            "name": "base"
        },
        "language_info": {
            "codemirror_mode": {
                "name": "ipython",
                "version": 3
            },
            "file_extension": ".py",
            "mimetype": "text/x-python",
            "name": "python",
            "nbconvert_exporter": "python",
            "pygments_lexer": "ipython3",
            "version": "3.13.1"
        },
        "orig_nbformat": 4
    },
    "nbformat": 4,
    "nbformat_minor": 2
}
