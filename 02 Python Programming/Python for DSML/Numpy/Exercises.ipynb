{
 "cells": [
  {
   "cell_type": "markdown",
   "metadata": {},
   "source": [
    "<h1 align=\"center\" >  <font color=\"Orange\"> Numpy ~ Exercises </font> </h1>"
   ]
  },
  {
   "cell_type": "code",
   "execution_count": 1,
   "metadata": {},
   "outputs": [],
   "source": [
    "import numpy as np"
   ]
  },
  {
   "cell_type": "markdown",
   "metadata": {},
   "source": [
    "### Fancy Indexing"
   ]
  },
  {
   "cell_type": "code",
   "execution_count": 2,
   "metadata": {},
   "outputs": [
    {
     "name": "stdout",
     "output_type": "stream",
     "text": [
      "Random batch shape: (4, 5)\n",
      "Batch:\n",
      "[[ 0  1  2  3  4]\n",
      " [25 26 27 28 29]\n",
      " [30 31 32 33 34]\n",
      " [ 5  6  7  8  9]]\n",
      "\n",
      "Subset features shape: (20, 3)\n",
      "First 5 rows of subset:\n",
      "[[ 0  2  4]\n",
      " [ 5  7  9]\n",
      " [10 12 14]\n",
      " [15 17 19]\n",
      " [20 22 24]]\n"
     ]
    }
   ],
   "source": [
    "# Select random samples (common in mini-batch training)\n",
    "X = np.arange(100).reshape(20, 5)  # 20 samples, 5 features\n",
    "batch_indices = np.random.choice(20, size=4, replace=False)\n",
    "batch = X[batch_indices]\n",
    "print(f\"Random batch shape: {batch.shape}\")\n",
    "print(f\"Batch:\\n{batch}\")\n",
    "\n",
    "# Select specific features\n",
    "feature_indices = [0, 2, 4]  # Select features 0, 2, 4\n",
    "X_subset = X[:, feature_indices]\n",
    "print(f\"\\nSubset features shape: {X_subset.shape}\")\n",
    "print(f\"First 5 rows of subset:\\n{X_subset[:5]}\")"
   ]
  },
  {
   "cell_type": "markdown",
   "metadata": {},
   "source": [
    "### Feature Normalization (Z-score) using broadcasting"
   ]
  },
  {
   "cell_type": "code",
   "execution_count": 3,
   "metadata": {},
   "outputs": [
    {
     "name": "stdout",
     "output_type": "stream",
     "text": [
      "Original data:\n",
      "[[ 1.  2.  3.]\n",
      " [ 4.  5.  6.]\n",
      " [ 7.  8.  9.]\n",
      " [10. 11. 12.]]\n",
      "Mean per feature: [5.5 6.5 7.5]\n",
      "Std per feature: [3.35410197 3.35410197 3.35410197]\n",
      "\n",
      "Normalized data:\n",
      "[[-1.34164079 -1.34164079 -1.34164079]\n",
      " [-0.4472136  -0.4472136  -0.4472136 ]\n",
      " [ 0.4472136   0.4472136   0.4472136 ]\n",
      " [ 1.34164079  1.34164079  1.34164079]]\n",
      "New mean per feature: [0. 0. 0.]\n",
      "New std per feature: [1. 1. 1.]\n"
     ]
    }
   ],
   "source": [
    "# Normalize features: (X - mean) / std\n",
    "X = np.array([[1, 2, 3],\n",
    "              [4, 5, 6],\n",
    "              [7, 8, 9],\n",
    "              [10, 11, 12]], dtype=float)\n",
    "\n",
    "# Compute mean and std along axis 0 (for each feature)\n",
    "mean = X.mean(axis=0)  # Shape: (3,)\n",
    "std = X.std(axis=0)    # Shape: (3,)\n",
    "\n",
    "print(f\"Original data:\\n{X}\")\n",
    "print(f\"Mean per feature: {mean}\")\n",
    "print(f\"Std per feature: {std}\")\n",
    "\n",
    "# Broadcasting: (4,3) - (3,) -> (4,3) - (1,3) -> (4,3)\n",
    "X_normalized = (X - mean) / std\n",
    "print(f\"\\nNormalized data:\\n{X_normalized}\")\n",
    "print(f\"New mean per feature: {X_normalized.mean(axis=0)}\")\n",
    "print(f\"New std per feature: {X_normalized.std(axis=0)}\")"
   ]
  },
  {
   "cell_type": "markdown",
   "metadata": {},
   "source": [
    "### Min-Max Scaling"
   ]
  },
  {
   "cell_type": "code",
   "execution_count": 4,
   "metadata": {},
   "outputs": [
    {
     "name": "stdout",
     "output_type": "stream",
     "text": [
      "Min-max scaled:\n",
      "[[0.         0.        ]\n",
      " [0.33333333 0.33333333]\n",
      " [0.66666667 0.66666667]\n",
      " [1.         1.        ]]\n"
     ]
    }
   ],
   "source": [
    "# Scale features to [0, 1]: (X - min) / (max - min)\n",
    "X = np.array([[1, 2],\n",
    "              [3, 4],\n",
    "              [5, 6],\n",
    "              [7, 8]], dtype=float)\n",
    "\n",
    "X_min = X.min(axis=0)  # Shape: (2,)\n",
    "X_max = X.max(axis=0)  # Shape: (2,)\n",
    "\n",
    "X_scaled = (X - X_min) / (X_max - X_min)\n",
    "print(f\"Min-max scaled:\\n{X_scaled}\")"
   ]
  },
  {
   "cell_type": "markdown",
   "metadata": {},
   "source": [
    "### UFuncs in Machine learning\n",
    "\n",
    "- Activation Functions\n",
    "- Distance Calculation"
   ]
  },
  {
   "cell_type": "code",
   "execution_count": 5,
   "metadata": {},
   "outputs": [
    {
     "name": "stdout",
     "output_type": "stream",
     "text": [
      "Input: [-2 -1  0  1  2]\n",
      "ReLU: [0 0 0 1 2]\n",
      "Sigmoid: [0.11920292 0.26894142 0.5        0.73105858 0.88079708]\n",
      "Tanh: [-0.96402758 -0.76159416  0.          0.76159416  0.96402758]\n",
      "\n",
      "Logits: [2.  1.  0.1]\n",
      "Softmax: [0.65900114 0.24243297 0.09856589]\n",
      "Sum: 1.0\n"
     ]
    }
   ],
   "source": [
    "# ReLU (Rectified Linear Unit)\n",
    "def relu(x):\n",
    "    return np.maximum(0, x)\n",
    "\n",
    "# Sigmoid\n",
    "def sigmoid(x):\n",
    "    return 1 / (1 + np.exp(-x))\n",
    "\n",
    "# Tanh\n",
    "def tanh(x):\n",
    "    return np.tanh(x)\n",
    "\n",
    "# Softmax (for classification)\n",
    "def softmax(x):\n",
    "    exp_x = np.exp(x - np.max(x))  # Subtract max for numerical stability\n",
    "    return exp_x / np.sum(exp_x, axis=0)\n",
    "\n",
    "# Test activation functions\n",
    "x = np.array([-2, -1, 0, 1, 2])\n",
    "print(f\"Input: {x}\")\n",
    "print(f\"ReLU: {relu(x)}\")\n",
    "print(f\"Sigmoid: {sigmoid(x)}\")\n",
    "print(f\"Tanh: {tanh(x)}\")\n",
    "\n",
    "# Softmax on logits\n",
    "logits = np.array([2.0, 1.0, 0.1])\n",
    "print(f\"\\nLogits: {logits}\")\n",
    "print(f\"Softmax: {softmax(logits)}\")\n",
    "print(f\"Sum: {np.sum(softmax(logits))}\")  # Should be 1.0"
   ]
  },
  {
   "cell_type": "code",
   "execution_count": 6,
   "metadata": {},
   "outputs": [
    {
     "name": "stdout",
     "output_type": "stream",
     "text": [
      "Vector x: [1 2 3]\n",
      "Vector y: [4 5 6]\n",
      "Euclidean distance: 5.1962\n",
      "Manhattan distance: 9.0000\n",
      "Cosine similarity: 0.9746\n"
     ]
    }
   ],
   "source": [
    "# Euclidean distance between vectors\n",
    "def euclidean_distance(x, y):\n",
    "    return np.sqrt(np.sum((x - y) ** 2))\n",
    "\n",
    "# Manhattan distance\n",
    "def manhattan_distance(x, y):\n",
    "    return np.sum(np.abs(x - y))\n",
    "\n",
    "# Cosine similarity\n",
    "def cosine_similarity(x, y):\n",
    "    return np.dot(x, y) / (np.linalg.norm(x) * np.linalg.norm(y))\n",
    "\n",
    "# Test with sample vectors\n",
    "x = np.array([1, 2, 3])\n",
    "y = np.array([4, 5, 6])\n",
    "\n",
    "print(f\"Vector x: {x}\")\n",
    "print(f\"Vector y: {y}\")\n",
    "print(f\"Euclidean distance: {euclidean_distance(x, y):.4f}\")\n",
    "print(f\"Manhattan distance: {manhattan_distance(x, y):.4f}\")\n",
    "print(f\"Cosine similarity: {cosine_similarity(x, y):.4f}\")"
   ]
  },
  {
   "cell_type": "code",
   "execution_count": null,
   "metadata": {},
   "outputs": [],
   "source": []
  },
  {
   "cell_type": "code",
   "execution_count": null,
   "metadata": {},
   "outputs": [],
   "source": []
  },
  {
   "cell_type": "code",
   "execution_count": null,
   "metadata": {},
   "outputs": [],
   "source": []
  },
  {
   "cell_type": "code",
   "execution_count": null,
   "metadata": {},
   "outputs": [],
   "source": []
  },
  {
   "cell_type": "code",
   "execution_count": null,
   "metadata": {},
   "outputs": [],
   "source": []
  },
  {
   "cell_type": "code",
   "execution_count": null,
   "metadata": {},
   "outputs": [],
   "source": []
  },
  {
   "cell_type": "markdown",
   "metadata": {},
   "source": [
    "1. Print numpy version and configurations\n",
    "\n",
    "2. Create a null vector of size 10 (an array of 10 zeros)\n",
    "\n",
    "3. Find the memory size of an array and np array containing same elements\n",
    "\n",
    "4. Reverse a vector (first element becomes last)\n",
    "\n",
    "5. Create a 3x3 matrix with values ranging from 0 to 8\n",
    "\n",
    "6. Find indices of non-zero elements from [1,2,0,0,4,0]\n",
    "\n",
    "7. Sort an array\n",
    "\n",
    "8. Double each element of an array\n",
    "\n",
    "9. Add two randomly generated 3D tensors using loops\n",
    "\n",
    "10. Create a function which displays a summary report (mean, median, variance, standard deviation) of the given numpy array\n",
    "\n",
    "11. Replace all odd numbers in an array with -1, without changing the array\n",
    "\n",
    "12. Element wise comparison of two arrays (a > b)\n"
   ]
  },
  {
   "cell_type": "code",
   "execution_count": null,
   "metadata": {},
   "outputs": [],
   "source": []
  },
  {
   "cell_type": "code",
   "execution_count": null,
   "metadata": {},
   "outputs": [],
   "source": [
    "# Print numpy version and configurations\n",
    "print('Version :', np.__version__)\n",
    "\n",
    "print('\\nConfig')\n",
    "np.show_config()"
   ]
  },
  {
   "cell_type": "code",
   "execution_count": null,
   "metadata": {},
   "outputs": [
    {
     "data": {
      "text/plain": [
       "array([0, 0, 0, 0, 0, 0, 0, 0, 0, 0])"
      ]
     },
     "execution_count": 12,
     "metadata": {},
     "output_type": "execute_result"
    }
   ],
   "source": [
    "# Create a null vector of size 10 (an array of 10 zeros)\n",
    "arr = np.zeros(10, dtype=int)\n",
    "arr"
   ]
  },
  {
   "cell_type": "code",
   "execution_count": 18,
   "metadata": {},
   "outputs": [
    {
     "name": "stdout",
     "output_type": "stream",
     "text": [
      "Size of numpy array: 8.0 Kilobytes\n",
      "Size of normal array: 36.856 kilobytes.\n"
     ]
    }
   ],
   "source": [
    "# Find the memory size of an array and np array containing same elements\n",
    "import sys\n",
    "\n",
    "\n",
    "arr_normal = [x for x in range(1, 1001)]\n",
    "arr_np = np.array(np.arange(1, 1001))\n",
    "\n",
    "np_array_size = arr_np.itemsize * arr_np.size\n",
    "\n",
    "list_size = sys.getsizeof(arr_normal) + sum(sys.getsizeof(x) for x in arr_normal)\n",
    "\n",
    "print(f'Size of numpy array: {np_array_size/1000} Kilobytes')\n",
    "print(f'Size of normal array: {list_size/1000:.3f} kilobytes.')\n"
   ]
  },
  {
   "cell_type": "code",
   "execution_count": 21,
   "metadata": {},
   "outputs": [
    {
     "name": "stdout",
     "output_type": "stream",
     "text": [
      "[ 1  2  3  4  5  6  7  8  9 10]\n",
      "[10  9  8  7  6  5  4  3  2  1]\n"
     ]
    }
   ],
   "source": [
    "# Reverse a vector (first element becomes last)\n",
    "vector_to_reverse = np.arange(1, 11)\n",
    "print(vector_to_reverse)\n",
    "vector_to_reverse = vector_to_reverse[::-1]\n",
    "print(vector_to_reverse)"
   ]
  },
  {
   "cell_type": "code",
   "execution_count": 24,
   "metadata": {},
   "outputs": [
    {
     "data": {
      "text/plain": [
       "array([[0, 1, 2],\n",
       "       [3, 4, 5],\n",
       "       [6, 7, 8]])"
      ]
     },
     "execution_count": 24,
     "metadata": {},
     "output_type": "execute_result"
    }
   ],
   "source": [
    "# Create a 3x3 matrix with values ranging from 0 to 8\n",
    "matrix1 = np.arange(9).reshape((3, 3))\n",
    "matrix1"
   ]
  },
  {
   "cell_type": "code",
   "execution_count": 29,
   "metadata": {},
   "outputs": [
    {
     "name": "stdout",
     "output_type": "stream",
     "text": [
      "0 1 4\n"
     ]
    }
   ],
   "source": [
    "arr_non_zero = np.array([1,2,0,0,4,0])\n",
    "print(*np.nonzero(arr_non_zero)[0])"
   ]
  },
  {
   "cell_type": "code",
   "execution_count": 10,
   "metadata": {},
   "outputs": [
    {
     "data": {
      "text/plain": [
       "array(['Ghidorah', 'Mothra', 'Shimomura'], dtype='<U9')"
      ]
     },
     "execution_count": 10,
     "metadata": {},
     "output_type": "execute_result"
    }
   ],
   "source": [
    "names = np.array(['Mothra', 'Ghidorah', 'Shimomura'])\n",
    "\n",
    "sorted_names = np.sort(names)\n",
    "sorted_names"
   ]
  },
  {
   "cell_type": "code",
   "execution_count": 19,
   "metadata": {},
   "outputs": [
    {
     "name": "stdout",
     "output_type": "stream",
     "text": [
      "Original Array : \n",
      "[[ 1  2  3  4]\n",
      " [ 7  8  9 10]\n",
      " [ 2  3  4  5]\n",
      " [ 5  6  7  8]]\n",
      "\n",
      "Doubled Array : \n",
      "[[ 2  4  6  8]\n",
      " [14 16 18 20]\n",
      " [ 4  6  8 10]\n",
      " [10 12 14 16]]\n"
     ]
    }
   ],
   "source": [
    "# double each element of an array\n",
    "arr_to_double= np.array([[1,2, 3, 4],[7, 8, 9, 10],[2, 3, 4, 5],[5, 6, 7, 8]])\n",
    "\n",
    "print(f\"Original Array : \\n{arr_to_double}\\n\")\n",
    "print(f\"Doubled Array : \\n{arr_to_double * 2}\")\n"
   ]
  },
  {
   "cell_type": "code",
   "execution_count": 26,
   "metadata": {},
   "outputs": [
    {
     "name": "stdout",
     "output_type": "stream",
     "text": [
      "Input Tensor 1 :\n",
      "[[[21 50]\n",
      "  [25  5]\n",
      "  [94 36]]\n",
      "\n",
      " [[72 54]\n",
      "  [44 17]\n",
      "  [36  7]]\n",
      "\n",
      " [[34  4]\n",
      "  [12 84]\n",
      "  [63 63]]\n",
      "\n",
      " [[23  3]\n",
      "  [80 77]\n",
      "  [86 58]]]\n",
      "\n",
      "Input Tensor 2 :\n",
      "[[[46 88]\n",
      "  [24 57]\n",
      "  [77 94]]\n",
      "\n",
      " [[ 1  3]\n",
      "  [57 34]\n",
      "  [25 86]]\n",
      "\n",
      " [[35 84]\n",
      "  [37 42]\n",
      "  [23 79]]\n",
      "\n",
      " [[80  8]\n",
      "  [62 70]\n",
      "  [24 63]]]\n",
      "\n",
      "Input Tensor 1 + Input Tensor 2 : \n",
      "[[[ 67. 138.]\n",
      "  [ 49.  62.]\n",
      "  [171. 130.]]\n",
      "\n",
      " [[ 73.  57.]\n",
      "  [101.  51.]\n",
      "  [ 61.  93.]]\n",
      "\n",
      " [[ 69.  88.]\n",
      "  [ 49. 126.]\n",
      "  [ 86. 142.]]\n",
      "\n",
      " [[103.  11.]\n",
      "  [142. 147.]\n",
      "  [110. 121.]]]\n"
     ]
    }
   ],
   "source": [
    "# Add two randomly generated 3D tensors using loops\n",
    "random_array_1 = np.random.randint(1, 100, 24).reshape((4, 3, 2))\n",
    "random_array_2 = np.random.randint(1, 100, 24).reshape((4, 3, 2))\n",
    "ans = np.zeros((4, 3, 2))\n",
    "\n",
    "print(f\"Input Tensor 1 :\\n{random_array_1}\\n\")\n",
    "print(f\"Input Tensor 2 :\\n{random_array_2}\\n\")\n",
    "\n",
    "for i in range(len(random_array_1)):\n",
    "    for j in range(len(random_array_1[0])):\n",
    "        for k in range(len(random_array_1[0][0])):\n",
    "            ans[i][j][k] = random_array_1[i][j][k] + random_array_2[i][j][k]\n",
    "\n",
    "print(f\"Input Tensor 1 + Input Tensor 2 : \\n{ans}\")\n",
    "# ans2 = random_array_1 + random_array_2 # using broadcasting -> much efficient   \n",
    "# print(f\"Input Tensor 1 + Input Tensor 2 : \\n{ans2}\")"
   ]
  },
  {
   "cell_type": "code",
   "execution_count": 31,
   "metadata": {},
   "outputs": [
    {
     "name": "stdout",
     "output_type": "stream",
     "text": [
      "Mean : 54.786\n",
      "Median : 55.200\n",
      "Variance : 287.544\n",
      "Variance : 16.957\n"
     ]
    }
   ],
   "source": [
    "# Create a function which displays a summary report (mean, median, variance, standard deviation) of the given numpy array\n",
    "def summary_report(data: np.ndarray):\n",
    "    print(f'Mean : {np.mean(data):.3f}')\n",
    "\n",
    "    print(f'Median : {np.median(data):.3f}')\n",
    "\n",
    "    print(f'Variance : {np.var(data):.3f}')\n",
    "\n",
    "    print(f'Variance : {np.std(data):.3f}')\n",
    "\n",
    "\n",
    "data = 0.6 * (np.random.randint(1, 100, 100)) + 27\n",
    "summary_report(data)"
   ]
  },
  {
   "cell_type": "code",
   "execution_count": 34,
   "metadata": {},
   "outputs": [
    {
     "name": "stdout",
     "output_type": "stream",
     "text": [
      "Original Array :\n",
      "[1 2 3 4 5 6 7 6 4 3 2 1]\n",
      "Changed Array :\n",
      "[-1  2 -1  4 -1  6 -1  6  4 -1  2 -1]\n"
     ]
    }
   ],
   "source": [
    "# Replace all odd numbers in an array with -1, without changing the array\n",
    "array_1 = np.array([1, 2, 3, 4, 5, 6, 7, 6, 4, 3, 2, 1])\n",
    "array_out = np.where(array_1 % 2 == 1, -1, array_1)\n",
    "print(f\"Original Array :\\n{array_1}\")\n",
    "print(f\"Changed Array :\\n{array_out}\")"
   ]
  },
  {
   "cell_type": "code",
   "execution_count": null,
   "metadata": {},
   "outputs": [
    {
     "data": {
      "text/plain": [
       "array([False, False,  True])"
      ]
     },
     "execution_count": 35,
     "metadata": {},
     "output_type": "execute_result"
    }
   ],
   "source": [
    "# element wise comparison\n",
    "array_2 = np.array(['a', 'b', 'h'])\n",
    "array_3 = np.array(['c', 'f', 'd'])\n",
    "array_2 > array_3"
   ]
  },
  {
   "cell_type": "code",
   "execution_count": 14,
   "metadata": {},
   "outputs": [],
   "source": [
    "iris_data = np.random.rand(100, 4) * 6\n",
    "iris_data = np.round(iris_data, 3)"
   ]
  },
  {
   "cell_type": "code",
   "execution_count": 20,
   "metadata": {},
   "outputs": [
    {
     "data": {
      "text/plain": [
       "array([[0.296, 4.913, 5.936, 1.16 ],\n",
       "       [1.057, 3.45 , 5.404, 2.229],\n",
       "       [1.16 , 3.125, 5.28 , 0.57 ],\n",
       "       [1.31 , 4.574, 3.16 , 2.555],\n",
       "       [1.371, 2.825, 5.517, 4.494],\n",
       "       [1.854, 5.501, 5.069, 4.366],\n",
       "       [1.203, 4.08 , 4.606, 1.   ],\n",
       "       [0.34 , 4.988, 4.547, 3.852],\n",
       "       [0.362, 2.839, 3.788, 1.377],\n",
       "       [0.334, 1.283, 4.83 , 3.082],\n",
       "       [1.632, 4.039, 3.002, 2.005],\n",
       "       [0.086, 3.17 , 3.698, 5.287],\n",
       "       [1.87 , 5.808, 4.191, 3.428],\n",
       "       [0.185, 5.964, 3.817, 5.661],\n",
       "       [1.631, 5.885, 3.64 , 2.334],\n",
       "       [1.17 , 1.372, 5.712, 5.255],\n",
       "       [1.031, 3.978, 4.78 , 2.137],\n",
       "       [0.752, 1.239, 3.695, 5.031]])"
      ]
     },
     "execution_count": 20,
     "metadata": {},
     "output_type": "execute_result"
    }
   ],
   "source": [
    "iris_data_filtered = (iris_data[:, 0] < 2.0) & (iris_data[:, 2] > 3)\n",
    "iris_data[iris_data_filtered]"
   ]
  },
  {
   "cell_type": "code",
   "execution_count": 22,
   "metadata": {},
   "outputs": [
    {
     "data": {
      "text/plain": [
       "array([[0.296, 4.913, 5.936, 1.16 ],\n",
       "       [1.085, 4.842, 0.493, 3.886],\n",
       "       [1.057,   nan, 5.404, 2.229],\n",
       "       [3.968, 4.139, 2.918, 5.52 ],\n",
       "       [1.16 , 3.125, 5.28 , 0.57 ],\n",
       "       [1.31 , 4.574, 3.16 , 2.555],\n",
       "       [3.012, 3.665, 0.622, 3.34 ],\n",
       "       [3.055, 5.249, 4.005, 0.018],\n",
       "       [0.171, 5.644, 1.839, 1.48 ],\n",
       "       [5.594, 4.266,   nan, 1.057],\n",
       "       [4.595, 3.274, 5.061, 4.185],\n",
       "       [1.371, 2.825, 5.517, 4.494],\n",
       "       [3.659, 1.508, 1.979, 3.896],\n",
       "       [3.222, 5.118, 4.279, 0.607],\n",
       "       [2.097, 5.077, 0.182, 3.884],\n",
       "       [1.095, 3.688, 1.505, 0.058],\n",
       "       [1.378, 4.017, 1.204, 5.263],\n",
       "       [2.695, 4.077, 5.468, 1.538],\n",
       "       [4.105, 5.286, 1.652, 1.541],\n",
       "       [5.323, 2.134, 1.5  , 3.636],\n",
       "       [1.854, 5.501, 5.069, 4.366],\n",
       "       [4.458, 0.742, 3.74 , 0.634],\n",
       "       [2.348, 5.008, 1.72 , 1.917],\n",
       "       [2.598, 5.241, 3.095, 0.925],\n",
       "       [1.203, 4.08 , 4.606, 1.   ],\n",
       "       [0.418, 1.437, 0.469, 1.958],\n",
       "       [2.128, 4.02 ,   nan, 0.768],\n",
       "       [1.007, 2.976,   nan, 1.167],\n",
       "       [4.082, 3.402, 0.126, 4.988],\n",
       "       [5.076, 4.023, 3.116, 0.668],\n",
       "       [2.376, 5.158, 0.965, 3.812],\n",
       "       [0.641, 3.938, 1.214, 4.886],\n",
       "       [4.334, 3.989, 2.418, 0.364],\n",
       "       [5.087, 1.233, 4.939, 4.8  ],\n",
       "       [2.596, 0.064, 0.517, 5.312],\n",
       "       [1.034, 3.306, 1.535, 1.635],\n",
       "       [0.26 , 5.335, 1.05 , 2.335],\n",
       "       [0.34 , 4.988, 4.547, 3.852],\n",
       "       [  nan, 5.491, 0.012, 4.398],\n",
       "       [5.738, 2.726, 2.86 , 2.484],\n",
       "       [0.502, 3.279, 1.717, 2.62 ],\n",
       "       [5.936, 2.131, 4.901, 4.257],\n",
       "       [0.362, 2.839, 3.788, 1.377],\n",
       "       [0.334, 1.283, 4.83 , 3.082],\n",
       "       [  nan, 4.039, 3.002, 2.005],\n",
       "       [3.329, 5.134,   nan, 2.484],\n",
       "       [5.842, 3.655, 3.552, 2.364],\n",
       "       [0.086,   nan, 3.698, 5.287],\n",
       "       [5.971, 1.804, 4.072, 4.663],\n",
       "       [3.24 , 5.609, 2.069, 3.023],\n",
       "       [2.244, 3.128, 5.841, 4.811],\n",
       "       [5.705, 3.601, 5.906, 3.818],\n",
       "       [1.87 , 5.808, 4.191, 3.428],\n",
       "       [  nan, 0.386, 5.899, 0.999],\n",
       "       [4.762, 5.165, 5.824, 3.846],\n",
       "       [5.393, 0.329, 3.544, 5.346],\n",
       "       [  nan, 2.013, 2.69 , 2.788],\n",
       "       [3.261, 0.765, 0.89 , 1.037],\n",
       "       [2.292, 2.075, 4.177, 0.312],\n",
       "       [5.873, 5.763, 1.042, 4.426],\n",
       "       [0.185, 5.964, 3.817, 5.661],\n",
       "       [2.468, 0.305, 5.692, 0.837],\n",
       "       [2.102, 5.537, 5.193, 3.16 ],\n",
       "       [5.517, 2.909, 5.272, 4.268],\n",
       "       [  nan, 0.446,   nan, 1.748],\n",
       "       [3.054, 4.623, 1.602, 5.48 ],\n",
       "       [2.536, 3.771, 5.349, 4.784],\n",
       "       [4.483, 4.574, 0.783, 2.356],\n",
       "       [4.745, 5.379, 3.749, 5.201],\n",
       "       [3.165, 2.369, 5.422, 2.876],\n",
       "       [1.328, 2.978, 2.212, 0.676],\n",
       "       [4.275,   nan, 1.714, 5.71 ],\n",
       "       [  nan, 1.024, 5.38 , 1.145],\n",
       "       [2.331, 1.987, 5.239, 2.466],\n",
       "       [0.712, 0.423, 2.188, 0.288],\n",
       "       [1.631, 5.885, 3.64 , 2.334],\n",
       "       [5.665, 3.124, 3.411, 4.489],\n",
       "       [0.707, 0.363, 2.701, 1.693],\n",
       "       [5.453, 3.653, 4.497, 5.872],\n",
       "       [1.17 , 1.372, 5.712, 5.255],\n",
       "       [2.011, 5.005, 2.818, 5.53 ],\n",
       "       [0.843,   nan,   nan, 3.631],\n",
       "       [2.102, 4.32 , 3.83 , 2.827],\n",
       "       [4.92 , 3.353, 0.312, 3.116],\n",
       "       [1.031, 3.978, 4.78 , 2.137],\n",
       "       [5.859, 1.345, 3.444, 1.847],\n",
       "       [0.833, 3.617, 0.309, 3.651],\n",
       "       [3.798, 4.752, 3.212, 3.312],\n",
       "       [2.843, 5.092, 0.019, 2.4  ],\n",
       "       [5.49 , 4.02 , 5.735, 2.171],\n",
       "       [1.083,   nan, 2.107, 0.271],\n",
       "       [2.207,   nan, 5.26 , 0.532],\n",
       "       [3.304, 3.249, 5.632, 2.121],\n",
       "       [2.352, 2.642, 4.044, 5.127],\n",
       "       [5.223, 2.286, 2.656, 2.291],\n",
       "       [2.12 , 1.608, 2.056, 5.662],\n",
       "       [5.232, 2.148, 4.624, 4.066],\n",
       "       [0.752, 1.239,   nan, 5.031],\n",
       "       [1.73 , 5.361,   nan, 4.801],\n",
       "       [3.91 , 2.953, 0.274, 1.43 ]])"
      ]
     },
     "execution_count": 22,
     "metadata": {},
     "output_type": "execute_result"
    }
   ],
   "source": [
    "iris_data[np.random.randint(99, size=20), np.random.randint(3, size=20)] = np.nan\n",
    "iris_data"
   ]
  },
  {
   "cell_type": "code",
   "execution_count": 26,
   "metadata": {},
   "outputs": [
    {
     "data": {
      "text/plain": [
       "array([[0.296, 4.913, 5.936, 1.16 ],\n",
       "       [1.085, 4.842, 0.493, 3.886],\n",
       "       [3.968, 4.139, 2.918, 5.52 ],\n",
       "       [1.16 , 3.125, 5.28 , 0.57 ],\n",
       "       [1.31 , 4.574, 3.16 , 2.555],\n",
       "       [3.012, 3.665, 0.622, 3.34 ],\n",
       "       [3.055, 5.249, 4.005, 0.018],\n",
       "       [0.171, 5.644, 1.839, 1.48 ],\n",
       "       [4.595, 3.274, 5.061, 4.185],\n",
       "       [1.371, 2.825, 5.517, 4.494],\n",
       "       [3.659, 1.508, 1.979, 3.896],\n",
       "       [3.222, 5.118, 4.279, 0.607],\n",
       "       [2.097, 5.077, 0.182, 3.884],\n",
       "       [1.095, 3.688, 1.505, 0.058],\n",
       "       [1.378, 4.017, 1.204, 5.263],\n",
       "       [2.695, 4.077, 5.468, 1.538],\n",
       "       [4.105, 5.286, 1.652, 1.541],\n",
       "       [5.323, 2.134, 1.5  , 3.636],\n",
       "       [1.854, 5.501, 5.069, 4.366],\n",
       "       [4.458, 0.742, 3.74 , 0.634],\n",
       "       [2.348, 5.008, 1.72 , 1.917],\n",
       "       [2.598, 5.241, 3.095, 0.925],\n",
       "       [1.203, 4.08 , 4.606, 1.   ],\n",
       "       [0.418, 1.437, 0.469, 1.958],\n",
       "       [4.082, 3.402, 0.126, 4.988],\n",
       "       [5.076, 4.023, 3.116, 0.668],\n",
       "       [2.376, 5.158, 0.965, 3.812],\n",
       "       [0.641, 3.938, 1.214, 4.886],\n",
       "       [4.334, 3.989, 2.418, 0.364],\n",
       "       [5.087, 1.233, 4.939, 4.8  ],\n",
       "       [2.596, 0.064, 0.517, 5.312],\n",
       "       [1.034, 3.306, 1.535, 1.635],\n",
       "       [0.26 , 5.335, 1.05 , 2.335],\n",
       "       [0.34 , 4.988, 4.547, 3.852],\n",
       "       [5.738, 2.726, 2.86 , 2.484],\n",
       "       [0.502, 3.279, 1.717, 2.62 ],\n",
       "       [5.936, 2.131, 4.901, 4.257],\n",
       "       [0.362, 2.839, 3.788, 1.377],\n",
       "       [0.334, 1.283, 4.83 , 3.082],\n",
       "       [5.842, 3.655, 3.552, 2.364],\n",
       "       [5.971, 1.804, 4.072, 4.663],\n",
       "       [3.24 , 5.609, 2.069, 3.023],\n",
       "       [2.244, 3.128, 5.841, 4.811],\n",
       "       [5.705, 3.601, 5.906, 3.818],\n",
       "       [1.87 , 5.808, 4.191, 3.428],\n",
       "       [4.762, 5.165, 5.824, 3.846],\n",
       "       [5.393, 0.329, 3.544, 5.346],\n",
       "       [3.261, 0.765, 0.89 , 1.037],\n",
       "       [2.292, 2.075, 4.177, 0.312],\n",
       "       [5.873, 5.763, 1.042, 4.426],\n",
       "       [0.185, 5.964, 3.817, 5.661],\n",
       "       [2.468, 0.305, 5.692, 0.837],\n",
       "       [2.102, 5.537, 5.193, 3.16 ],\n",
       "       [5.517, 2.909, 5.272, 4.268],\n",
       "       [3.054, 4.623, 1.602, 5.48 ],\n",
       "       [2.536, 3.771, 5.349, 4.784],\n",
       "       [4.483, 4.574, 0.783, 2.356],\n",
       "       [4.745, 5.379, 3.749, 5.201],\n",
       "       [3.165, 2.369, 5.422, 2.876],\n",
       "       [1.328, 2.978, 2.212, 0.676],\n",
       "       [2.331, 1.987, 5.239, 2.466],\n",
       "       [0.712, 0.423, 2.188, 0.288],\n",
       "       [1.631, 5.885, 3.64 , 2.334],\n",
       "       [5.665, 3.124, 3.411, 4.489],\n",
       "       [0.707, 0.363, 2.701, 1.693],\n",
       "       [5.453, 3.653, 4.497, 5.872],\n",
       "       [1.17 , 1.372, 5.712, 5.255],\n",
       "       [2.011, 5.005, 2.818, 5.53 ],\n",
       "       [2.102, 4.32 , 3.83 , 2.827],\n",
       "       [4.92 , 3.353, 0.312, 3.116],\n",
       "       [1.031, 3.978, 4.78 , 2.137],\n",
       "       [5.859, 1.345, 3.444, 1.847],\n",
       "       [0.833, 3.617, 0.309, 3.651],\n",
       "       [3.798, 4.752, 3.212, 3.312],\n",
       "       [2.843, 5.092, 0.019, 2.4  ],\n",
       "       [5.49 , 4.02 , 5.735, 2.171],\n",
       "       [3.304, 3.249, 5.632, 2.121],\n",
       "       [2.352, 2.642, 4.044, 5.127],\n",
       "       [5.223, 2.286, 2.656, 2.291],\n",
       "       [2.12 , 1.608, 2.056, 5.662],\n",
       "       [5.232, 2.148, 4.624, 4.066],\n",
       "       [3.91 , 2.953, 0.274, 1.43 ]])"
      ]
     },
     "execution_count": 26,
     "metadata": {},
     "output_type": "execute_result"
    }
   ],
   "source": [
    "# removing nan values\n",
    "output = np.array([~np.any(np.isnan(row)) for row in iris_data])\n",
    "iris_data[output]"
   ]
  },
  {
   "cell_type": "code",
   "execution_count": 27,
   "metadata": {},
   "outputs": [
    {
     "name": "stdout",
     "output_type": "stream",
     "text": [
      "[3 1 1 2 5 5 1 3 4 4]\n"
     ]
    },
    {
     "data": {
      "text/plain": [
       "array([False, False,  True, False, False,  True,  True,  True, False,\n",
       "        True])"
      ]
     },
     "execution_count": 27,
     "metadata": {},
     "output_type": "execute_result"
    }
   ],
   "source": [
    "# Find duplicate entries, and mark them as true for the second occurrence onwards. First occurrence should be false\n",
    "a = np.random.randint(1, 6, 10)\n",
    "print(a)\n",
    "\n",
    "out = np.full(a.shape[0], True)\n",
    "\n",
    "unique_vals = np.unique(a, return_index=True)[1]\n",
    "\n",
    "out[unique_vals] = False\n",
    "out\n"
   ]
  }
 ],
 "metadata": {
  "kernelspec": {
   "display_name": "Python Base (DSML)",
   "language": "python",
   "name": "base"
  },
  "language_info": {
   "codemirror_mode": {
    "name": "ipython",
    "version": 3
   },
   "file_extension": ".py",
   "mimetype": "text/x-python",
   "name": "python",
   "nbconvert_exporter": "python",
   "pygments_lexer": "ipython3",
   "version": "3.13.1"
  },
  "orig_nbformat": 4
 },
 "nbformat": 4,
 "nbformat_minor": 2
}
