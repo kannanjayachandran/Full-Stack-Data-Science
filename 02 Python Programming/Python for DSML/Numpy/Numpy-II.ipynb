{
 "cells": [
  {
   "cell_type": "markdown",
   "metadata": {},
   "source": [
    "<div align=\"center\"> <h1> <font color=\"Orange\"> Numpy - II </font> </h1> </div>"
   ]
  },
  {
   "cell_type": "code",
   "execution_count": 1,
   "metadata": {},
   "outputs": [],
   "source": [
    "import numpy as np"
   ]
  },
  {
   "cell_type": "markdown",
   "metadata": {},
   "source": [
    "### Broadcasting"
   ]
  },
  {
   "cell_type": "code",
   "execution_count": 6,
   "metadata": {},
   "outputs": [
    {
     "name": "stdout",
     "output_type": "stream",
     "text": [
      "Array + scalar: [11 12 13 14]\n",
      "\n",
      "2D + 1D:\n",
      "[[11 22 33]\n",
      " [14 25 36]]\n",
      "\n",
      "Column + row:\n",
      "[[11 21 31 41]\n",
      " [12 22 32 42]\n",
      " [13 23 33 43]]\n",
      "\n",
      "3D shape: (2, 3, 4), 1D shape: (4,)\n",
      "Result shape: (2, 3, 4)\n"
     ]
    }
   ],
   "source": [
    "# Example 1: Scalar and array\n",
    "arr = np.array([1, 2, 3, 4])\n",
    "result = arr + 10\n",
    "print(f\"Array + scalar: {result}\")\n",
    "# Broadcasting: (4,) + () -> (4,) + (1,) -> (4,)\n",
    "\n",
    "# Example 2: 1D and 2D\n",
    "arr_2d = np.array([[1, 2, 3], \n",
    "                   [4, 5, 6]])\n",
    "arr_1d = np.array([10, 20, 30])\n",
    "result = arr_2d + arr_1d\n",
    "print(f\"\\n2D + 1D:\\n{result}\")\n",
    "# Broadcasting: (2,3) + (3,) -> (2,3) + (1,3) -> (2,3)\n",
    "\n",
    "# Example 3: Column and row vectors\n",
    "col = np.array([[1], [2], [3]])\n",
    "row = np.array([10, 20, 30, 40])\n",
    "result = col + row\n",
    "print(f\"\\nColumn + row:\\n{result}\")\n",
    "# Broadcasting: (3,1) + (4,) -> (3,1) + (1,4) -> (3,4)\n",
    "# Step-by-step visualization:\n",
    "# a: (3,1) -> [[1], [2], [3]]\n",
    "# b: (4,)  -> [10, 20, 30, 40]\n",
    "# \n",
    "# After broadcasting:\n",
    "# a becomes: [[1, 1, 1, 1],\n",
    "#             [2, 2, 2, 2],\n",
    "#             [3, 3, 3, 3]]\n",
    "# \n",
    "# b becomes: [[10, 20, 30, 40],\n",
    "#             [10, 20, 30, 40],\n",
    "#             [10, 20, 30, 40]]\n",
    "\n",
    "# Example 4: Broadcasting in 3D\n",
    "arr_3d = np.ones((2, 3, 4))\n",
    "arr_1d = np.array([1, 2, 3, 4])\n",
    "result = arr_3d + arr_1d\n",
    "print(f\"\\n3D shape: {arr_3d.shape}, 1D shape: {arr_1d.shape}\")\n",
    "print(f\"Result shape: {result.shape}\")\n",
    "# Broadcasting: (2,3,4) + (4,) -> (2,3,4) + (1,1,4) -> (2,3,4)"
   ]
  },
  {
   "cell_type": "code",
   "execution_count": 2,
   "metadata": {},
   "outputs": [
    {
     "name": "stdout",
     "output_type": "stream",
     "text": [
      "Batch + bias shape: (32, 10)\n"
     ]
    }
   ],
   "source": [
    "# Common pattern: add bias to each sample in batch\n",
    "batch = np.random.randn(32, 10)  # 32 samples, 10 features\n",
    "bias = np.random.randn(10)       # 10 biases\n",
    "result = batch + bias            # Broadcasts correctly\n",
    "print(f\"Batch + bias shape: {result.shape}\")"
   ]
  },
  {
   "cell_type": "markdown",
   "metadata": {},
   "source": [
    "### Arithmetic UFuncs"
   ]
  },
  {
   "cell_type": "code",
   "execution_count": 14,
   "metadata": {},
   "outputs": [
    {
     "name": "stdout",
     "output_type": "stream",
     "text": [
      "Addition: [11 22 33 44]\n",
      "Subtraction: [ -9 -18 -27 -36]\n",
      "Multiplication: [ 10  40  90 160]\n",
      "Division: [10. 10. 10. 10.]\n",
      "Floor division: [10 10 10 10]\n",
      "Power: [ 1  4  9 16]\n",
      "Modulo: [0 0 0 0]\n",
      "\n",
      "Using operators:\n",
      "a + b = [11 22 33 44]\n",
      "a * 2 = [2 4 6 8]\n",
      "a ** 2 = [ 1  4  9 16]\n"
     ]
    }
   ],
   "source": [
    "# Basic arithmetic operations\n",
    "a = np.array([1, 2, 3, 4])\n",
    "b = np.array([10, 20, 30, 40])\n",
    "\n",
    "print(f\"Addition: {np.add(a, b)}\")          # a + b\n",
    "print(f\"Subtraction: {np.subtract(a, b)}\")  # a - b\n",
    "print(f\"Multiplication: {np.multiply(a, b)}\")  # a * b\n",
    "print(f\"Division: {np.divide(b, a)}\")       # b / a\n",
    "print(f\"Floor division: {np.floor_divide(b, a)}\")  # b // a\n",
    "print(f\"Power: {np.power(a, 2)}\")           # a ** 2\n",
    "print(f\"Modulo: {np.mod(b, a)}\")            # b % a\n",
    "\n",
    "# Operator shortcuts\n",
    "print(f\"\\nUsing operators:\")\n",
    "print(f\"a + b = {a + b}\")\n",
    "print(f\"a * 2 = {a * 2}\")\n",
    "print(f\"a ** 2 = {a ** 2}\")"
   ]
  },
  {
   "cell_type": "markdown",
   "metadata": {},
   "source": [
    "### Comparison UFuncs"
   ]
  },
  {
   "cell_type": "code",
   "execution_count": 15,
   "metadata": {},
   "outputs": [
    {
     "name": "stdout",
     "output_type": "stream",
     "text": [
      "Greater: [False False False  True  True]\n",
      "Less: [ True  True False False False]\n",
      "Equal: [False False  True False False]\n",
      "Not equal: [ True  True False  True  True]\n",
      "\n",
      "Using operators:\n",
      "a > b: [False False False  True  True]\n",
      "a == 3: [False False  True False False]\n"
     ]
    }
   ],
   "source": [
    "a = np.array([1, 2, 3, 4, 5])\n",
    "b = np.array([5, 4, 3, 2, 1])\n",
    "\n",
    "print(f\"Greater: {np.greater(a, b)}\")           # a > b\n",
    "print(f\"Less: {np.less(a, b)}\")                 # a < b\n",
    "print(f\"Equal: {np.equal(a, 3)}\")               # a == 3\n",
    "print(f\"Not equal: {np.not_equal(a, 3)}\")       # a != 3\n",
    "\n",
    "# Operator shortcuts\n",
    "print(f\"\\nUsing operators:\")\n",
    "print(f\"a > b: {a > b}\")\n",
    "print(f\"a == 3: {a == 3}\")"
   ]
  },
  {
   "cell_type": "markdown",
   "metadata": {},
   "source": [
    "### Mathematical UFuncs"
   ]
  },
  {
   "cell_type": "code",
   "execution_count": 16,
   "metadata": {},
   "outputs": [
    {
     "name": "stdout",
     "output_type": "stream",
     "text": [
      "Sine: [0.         0.5        0.70710678 0.8660254  1.        ]\n",
      "Cosine: [1.00000000e+00 8.66025404e-01 7.07106781e-01 5.00000000e-01\n",
      " 6.12323400e-17]\n",
      "Tangent: [0.         0.57735027 1.         1.73205081]\n",
      "\n",
      "Exponential: [  2.71828183   7.3890561   20.08553692  54.59815003 148.4131591 ]\n",
      "Natural log: [0.         0.69314718 1.09861229 1.38629436 1.60943791]\n",
      "Log base 10: [0.         0.30103    0.47712125 0.60205999 0.69897   ]\n",
      "Log base 2: [0.         1.         1.5849625  2.         2.32192809]\n",
      "\n",
      "Round: [1. 2. 4. 4. 6.]\n",
      "Floor: [1. 2. 3. 4. 5.]\n",
      "Ceil: [2. 3. 4. 5. 6.]\n",
      "Truncate: [1. 2. 3. 4. 5.]\n"
     ]
    }
   ],
   "source": [
    "# Trigonometric functions\n",
    "angles = np.array([0, np.pi/6, np.pi/4, np.pi/3, np.pi/2])\n",
    "print(f\"Sine: {np.sin(angles)}\")\n",
    "print(f\"Cosine: {np.cos(angles)}\")\n",
    "print(f\"Tangent: {np.tan(angles[:4])}\")  # Avoid pi/2 for tan\n",
    "\n",
    "# Exponential and logarithmic\n",
    "x = np.array([1, 2, 3, 4, 5])\n",
    "print(f\"\\nExponential: {np.exp(x)}\")\n",
    "print(f\"Natural log: {np.log(x)}\")\n",
    "print(f\"Log base 10: {np.log10(x)}\")\n",
    "print(f\"Log base 2: {np.log2(x)}\")\n",
    "\n",
    "# Rounding\n",
    "x = np.array([1.2, 2.5, 3.7, 4.1, 5.9])\n",
    "print(f\"\\nRound: {np.round(x)}\")\n",
    "print(f\"Floor: {np.floor(x)}\")\n",
    "print(f\"Ceil: {np.ceil(x)}\")\n",
    "print(f\"Truncate: {np.trunc(x)}\")"
   ]
  },
  {
   "cell_type": "markdown",
   "metadata": {},
   "source": [
    "### Statistical UFuncs"
   ]
  },
  {
   "cell_type": "code",
   "execution_count": 17,
   "metadata": {},
   "outputs": [
    {
     "name": "stdout",
     "output_type": "stream",
     "text": [
      "Absolute: [3 1 0 1 3]\n",
      "Sign: [-1 -1  0  1  1]\n",
      "\n",
      "Element-wise maximum: [3 5 4 5 4]\n",
      "Element-wise minimum: [1 2 3 2 1]\n",
      "Clipped: [ 0  0  5 10 10]\n"
     ]
    }
   ],
   "source": [
    "# Absolute value and sign\n",
    "x = np.array([-3, -1, 0, 1, 3])\n",
    "print(f\"Absolute: {np.abs(x)}\")\n",
    "print(f\"Sign: {np.sign(x)}\")\n",
    "\n",
    "# Min/Max element-wise\n",
    "a = np.array([1, 5, 3, 2, 4])\n",
    "b = np.array([3, 2, 4, 5, 1])\n",
    "print(f\"\\nElement-wise maximum: {np.maximum(a, b)}\")\n",
    "print(f\"Element-wise minimum: {np.minimum(a, b)}\")\n",
    "\n",
    "# Clipping values\n",
    "x = np.array([-5, 0, 5, 10, 15])\n",
    "clipped = np.clip(x, 0, 10)  # Clip to [0, 10]\n",
    "print(f\"Clipped: {clipped}\")"
   ]
  },
  {
   "cell_type": "markdown",
   "metadata": {},
   "source": [
    "### Basic Aggregations"
   ]
  },
  {
   "cell_type": "code",
   "execution_count": 18,
   "metadata": {},
   "outputs": [
    {
     "name": "stdout",
     "output_type": "stream",
     "text": [
      "Data:\n",
      "[[ 1  2  3  4]\n",
      " [ 5  6  7  8]\n",
      " [ 9 10 11 12]]\n",
      "\n",
      "Sum: 78\n",
      "Mean: 6.5\n",
      "Median: 6.5\n",
      "Standard deviation: 3.452052529534663\n",
      "Variance: 11.916666666666666\n",
      "Min: 1\n",
      "Max: 12\n"
     ]
    }
   ],
   "source": [
    "# Create sample data\n",
    "data = np.array([[1, 2, 3, 4],\n",
    "                 [5, 6, 7, 8],\n",
    "                 [9, 10, 11, 12]])\n",
    "\n",
    "print(f\"Data:\\n{data}\\n\")\n",
    "\n",
    "# Aggregate over entire array\n",
    "print(f\"Sum: {np.sum(data)}\")\n",
    "print(f\"Mean: {np.mean(data)}\")\n",
    "print(f\"Median: {np.median(data)}\")\n",
    "print(f\"Standard deviation: {np.std(data)}\")\n",
    "print(f\"Variance: {np.var(data)}\")\n",
    "print(f\"Min: {np.min(data)}\")\n",
    "print(f\"Max: {np.max(data)}\")"
   ]
  },
  {
   "cell_type": "markdown",
   "metadata": {},
   "source": [
    "### Axis-Based Operations"
   ]
  },
  {
   "cell_type": "code",
   "execution_count": 19,
   "metadata": {},
   "outputs": [
    {
     "name": "stdout",
     "output_type": "stream",
     "text": [
      "Sum along axis 0 (column sums): [15 18 21 24]\n",
      "Mean along axis 0: [5. 6. 7. 8.]\n",
      "\n",
      "Sum along axis 1 (row sums): [10 26 42]\n",
      "Mean along axis 1: [ 2.5  6.5 10.5]\n",
      "\n",
      "3D data shape: (2, 3, 4)\n",
      "Sum along axes (0, 2): [ 60  92 124]\n"
     ]
    }
   ],
   "source": [
    "data = np.array([[1, 2, 3, 4],\n",
    "                 [5, 6, 7, 8],\n",
    "                 [9, 10, 11, 12]])\n",
    "\n",
    "# Axis 0: down the rows (column-wise operation)\n",
    "print(f\"Sum along axis 0 (column sums): {np.sum(data, axis=0)}\")\n",
    "print(f\"Mean along axis 0: {np.mean(data, axis=0)}\")\n",
    "\n",
    "# Axis 1: across the columns (row-wise operation)\n",
    "print(f\"\\nSum along axis 1 (row sums): {np.sum(data, axis=1)}\")\n",
    "print(f\"Mean along axis 1: {np.mean(data, axis=1)}\")\n",
    "\n",
    "# Multiple axes\n",
    "data_3d = np.arange(24).reshape(2, 3, 4)\n",
    "print(f\"\\n3D data shape: {data_3d.shape}\")\n",
    "print(f\"Sum along axes (0, 2): {np.sum(data_3d, axis=(0, 2))}\")"
   ]
  },
  {
   "cell_type": "code",
   "execution_count": null,
   "metadata": {},
   "outputs": [],
   "source": []
  },
  {
   "cell_type": "code",
   "execution_count": null,
   "metadata": {},
   "outputs": [],
   "source": []
  },
  {
   "cell_type": "markdown",
   "metadata": {},
   "source": [
    "### Matrix Operations"
   ]
  },
  {
   "cell_type": "code",
   "execution_count": 3,
   "metadata": {},
   "outputs": [
    {
     "name": "stdout",
     "output_type": "stream",
     "text": [
      "Matrix : \n",
      "[[ 1  2  3  4]\n",
      " [ 5  6  7  8]\n",
      " [ 9 10 11 12]\n",
      " [13 14 15 16]]\n",
      "\n",
      "Diagonal Matrix : \n",
      " [[1 0 0 0 0]\n",
      " [0 2 0 0 0]\n",
      " [0 0 3 0 0]\n",
      " [0 0 0 4 0]\n",
      " [0 0 0 0 5]]\n",
      "\n",
      "Diagonal elements are : [1 2 3 4 5]\n",
      "\n",
      "Identity matrix : \n",
      " [[1 0 0 0 0]\n",
      " [0 1 0 0 0]\n",
      " [0 0 1 0 0]\n",
      " [0 0 0 1 0]\n",
      " [0 0 0 0 1]]\n",
      "\n",
      "Identity matrix : \n",
      " [[1 0 0 0]\n",
      " [0 1 0 0]\n",
      " [0 0 1 0]]\n",
      "\n",
      "Lower triangular matrix : \n",
      " [[ 1  0  0  0]\n",
      " [ 5  6  0  0]\n",
      " [ 9 10 11  0]\n",
      " [13 14 15 16]]\n",
      "\n",
      "Upper triangular matrix : \n",
      " [[ 1  2  3  4]\n",
      " [ 0  6  7  8]\n",
      " [ 0  0 11 12]\n",
      " [ 0  0  0 16]]\n"
     ]
    }
   ],
   "source": [
    "# create a matrix of 4, 4\n",
    "a1 = np.arange(1, 17).reshape((4, 4))\n",
    "print(f'Matrix : \\n{a1}')\n",
    "\n",
    "# diagonal matrix\n",
    "diagonal_matrix = np.diag([1, 2, 3, 4, 5])\n",
    "print(\"\\nDiagonal Matrix : \\n\", diagonal_matrix)\n",
    "print(\"\\nDiagonal elements are :\", np.diag(diagonal_matrix))\n",
    "\n",
    "# identity matrix using np.identity() : only square identity matrix\n",
    "print(\"\\nIdentity matrix : \\n\", np.identity(5, dtype=int))\n",
    "\n",
    "# eye() : non square identity matrix\n",
    "print(\"\\nIdentity matrix : \\n\", np.eye(3, 4, dtype=int))\n",
    "\n",
    "# lower triangular matrix\n",
    "l_t= np.tril(a1)\n",
    "print(\"\\nLower triangular matrix : \\n\", l_t)\n",
    "\n",
    "# upper triangular matrix\n",
    "u_t = np.triu(a1)\n",
    "print(\"\\nUpper triangular matrix : \\n\", u_t)"
   ]
  },
  {
   "cell_type": "code",
   "execution_count": 12,
   "metadata": {},
   "outputs": [
    {
     "name": "stdout",
     "output_type": "stream",
     "text": [
      "\n",
      "Dot product of two 1D arrays : 80\n",
      "\n",
      "Twice of a3 : [16 14 12 10  8]\n",
      "\n",
      "Multiplication : \n",
      "[[180 190 200]\n",
      " [444 470 496]\n",
      " [708 750 792]] \n",
      "== [[180 190 200]\n",
      " [444 470 496]\n",
      " [708 750 792]]\n"
     ]
    }
   ],
   "source": [
    "# Multiplication\n",
    "a2 = np.array((1, 2, 3, 4, 5))\n",
    "a3 = np.array((8, 7, 6, 5, 4))\n",
    "\n",
    "# multiplication (for 1D with 1D np.dot() is preferred)\n",
    "a4 = np.dot(a2, a3)\n",
    "print(f'\\nDot product of two 1D arrays : {a4}')\n",
    "\n",
    "# 1D with a scalar (* is preferred)\n",
    "print(f'\\nTwice of a3 : {a3 * 2}')\n",
    "\n",
    "# 2D with 2D (np.matmul() or @ is preferred)\n",
    "a5 = np.arange(1, 13).reshape((3, 4))\n",
    "a6 = np.arange(12, 24).reshape((4, 3))\n",
    "a7 = a5 @ a6\n",
    "a8 = np.matmul(a5, a6)\n",
    "print(f'\\nMultiplication : \\n{a7} \\n== {a8}')"
   ]
  },
  {
   "cell_type": "code",
   "execution_count": 8,
   "metadata": {},
   "outputs": [
    {
     "name": "stdout",
     "output_type": "stream",
     "text": [
      "Sum of [[ 1  2  3  4]\n",
      " [ 5  6  7  8]\n",
      " [ 9 10 11 12]] \n",
      "\n",
      "and [[15 16 17 18]\n",
      " [19 20 21 22]\n",
      " [23 24 25 26]]\n",
      "\n",
      "=[[16 18 20 22]\n",
      " [24 26 28 30]\n",
      " [32 34 36 38]]\n",
      "\n",
      "Difference  of [[ 1  2  3  4]\n",
      " [ 5  6  7  8]\n",
      " [ 9 10 11 12]] \n",
      "\n",
      "and [[15 16 17 18]\n",
      " [19 20 21 22]\n",
      " [23 24 25 26]]\n",
      "\n",
      "=[[-14 -14 -14 -14]\n",
      " [-14 -14 -14 -14]\n",
      " [-14 -14 -14 -14]]\n",
      "\n",
      "Division of [[ 1  2  3  4]\n",
      " [ 5  6  7  8]\n",
      " [ 9 10 11 12]] \n",
      "\n",
      "and [[15 16 17 18]\n",
      " [19 20 21 22]\n",
      " [23 24 25 26]]\n",
      "\n",
      "=[[0.06666667 0.125      0.17647059 0.22222222]\n",
      " [0.26315789 0.3        0.33333333 0.36363636]\n",
      " [0.39130435 0.41666667 0.44       0.46153846]]\n"
     ]
    }
   ],
   "source": [
    "a9 = np.arange(1, 13).reshape((3, 4))\n",
    "a10 = np.arange(15, 27).reshape((3, 4))\n",
    "\n",
    "# addition\n",
    "print(f'Sum of {a9} \\n\\nand {a10}\\n\\n={a9+a10}')\n",
    "\n",
    "# subtraction\n",
    "print(f'\\nDifference  of {a9} \\n\\nand {a10}\\n\\n={a9-a10}')\n",
    "\n",
    "# division\n",
    "print(f'\\nDivision of {a9} \\n\\nand {a10}\\n\\n={a9/a10}')"
   ]
  },
  {
   "cell_type": "markdown",
   "metadata": {},
   "source": [
    "### Universal Functions"
   ]
  },
  {
   "cell_type": "code",
   "execution_count": 21,
   "metadata": {},
   "outputs": [
    {
     "name": "stdout",
     "output_type": "stream",
     "text": [
      "Sin values :  [0.84147098 0.         0.29552021 0.43496553 0.19866933 0.47942554\n",
      " 0.78332691 0.84147098]\n",
      "\n",
      "Cos values :  [0.54030231 1.         0.95533649 0.9004471  0.98006658 0.87758256\n",
      " 0.62160997 0.54030231]\n",
      "\n",
      "Tan values :  [1.55740772 0.         0.30933625 0.48305507 0.20271004 0.54630249\n",
      " 1.26015822 1.55740772]\n",
      "Cummulative product array :  [[    1     2]\n",
      " [    6    24]\n",
      " [  120   720]\n",
      " [ 5040 40320]]\n",
      "Original array : \n",
      " [[ 1000.  2000.]\n",
      " [ 3000.  4000.]\n",
      " [ 5000.  6000.]\n",
      " [ 7000.  8000.]\n",
      " [ 9000. 10000.]]\n",
      "Log values :  [[6.90775528 7.60090246]\n",
      " [8.00636757 8.29404964]\n",
      " [8.51719319 8.69951475]\n",
      " [8.85366543 8.98719682]\n",
      " [9.10497986 9.21034037]]\n",
      "Lcm of input :  10608\n",
      "Sum using add() and reduce :  154\n"
     ]
    }
   ],
   "source": [
    "a11 = np.array((1, 0, 0.3, 0.45, 0.2, 0.5, 0.9, 1), dtype=float)\n",
    "\n",
    "# sin-cos-tan\n",
    "print(\"Sin values : \", np.sin(a11))\n",
    "print(\"\\nCos values : \", np.cos(a11))\n",
    "print(\"\\nTan values : \", np.tan(a11))\n",
    "\n",
    "a12 = np.arange(1, 9).reshape((4, 2))\n",
    "\n",
    "cummulative_product_array = np.cumprod(a12).reshape((4, 2))\n",
    "print(\"Cummulative product array : \", cummulative_product_array)\n",
    "\n",
    "a13 = np.linspace(1000, 10000, 10).reshape((5, 2))\n",
    "\n",
    "print(\"Original array : \\n\", a13)\n",
    "log_array = np.log(a13)\n",
    "print(\"Log values : \", log_array)\n",
    "\n",
    "a14 = np.array((12, 26, 48, 68))\n",
    "\n",
    "print(\"Lcm of input : \", np.lcm.reduce(a14))\n",
    "print('Sum using add() and reduce : ', np.add.reduce(a14))"
   ]
  },
  {
   "cell_type": "markdown",
   "metadata": {},
   "source": [
    "### Aggregate or reduction functions"
   ]
  },
  {
   "cell_type": "code",
   "execution_count": 52,
   "metadata": {},
   "outputs": [
    {
     "name": "stdout",
     "output_type": "stream",
     "text": [
      "Matrix is : \n",
      " [[ 1  2  3  4]\n",
      " [ 5  6  7  8]\n",
      " [ 9 10 11 12]\n",
      " [13 14 15 16]]\n",
      "\n",
      "Total sum :  136\n",
      "Row wise sum :  [10 26 42 58]\n",
      "Column wise sum :  [28 32 36 40]\n",
      "\n",
      "Min value :  1\n",
      "Max value :  16\n",
      "Max value row wise :  [ 4  8 12 16]\n",
      "\n",
      "Mean :  8.5\n",
      "Mean (row wise) :  [ 2.5  6.5 10.5 14.5]\n",
      "\n",
      "Any True values in array :  True\n",
      "Any True values in array (row wise) :  [ True  True  True  True]\n",
      "Truth value of zero array (any()) :  False\n",
      "\n",
      "Comparing two arrays element wise :  False\n",
      "Comparing two arrays element wise (double) :  True\n",
      "\n",
      "All are True values in array :  True\n",
      "All are True values in array (row wise) :  [ True  True  True  True]\n",
      "Truth value of zero array (all()) :  False\n",
      "We cal also call all() like this :  True\n",
      "All values of one array is greater than the other and are at-least double :  True\n",
      "\n",
      "Non zero indices of the array :  (array([], dtype=int64), array([], dtype=int64))\n",
      "Non zero indices of the array :  (array([0, 0, 0, 0, 1, 1, 1, 1, 2, 2, 2, 2, 3, 3, 3, 3], dtype=int64), array([0, 1, 2, 3, 0, 1, 2, 3, 0, 1, 2, 3, 0, 1, 2, 3], dtype=int64))\n",
      "Another example :  (array([0, 2, 3], dtype=int64),)\n",
      "Non zero indices of the array using flatnonzero() :  [ 0  1  2  3  4  5  6  7  8  9 10 11 12 13 14 15]\n",
      "\n",
      "Non zero count :  16\n"
     ]
    }
   ],
   "source": [
    "a15 = np.arange(1, 17).reshape((4, 4))\n",
    "print(\"Matrix is : \\n\", a15)\n",
    "\n",
    "# sum\n",
    "print(\"\\nTotal sum : \", np.sum(a15))\n",
    "print(\"Row wise sum : \", np.sum(a15, axis=1))\n",
    "print(\"Column wise sum : \", np.sum(a15, axis=0))\n",
    "\n",
    "# min, max\n",
    "print(\"\\nMin value : \", np.min(a15))\n",
    "print(\"Max value : \", np.max(a15))\n",
    "print(\"Max value row wise : \", np.max(a15, axis=1))\n",
    "\n",
    "# mean\n",
    "print(\"\\nMean : \", np.mean(a15))\n",
    "print(\"Mean (row wise) : \", np.mean(a15, axis=1))\n",
    "\n",
    "# any()\n",
    "print(\"\\nAny True values in array : \", np.any(a15))\n",
    "print(\"Any True values in array (row wise) : \", np.any(a15, axis=1))\n",
    "\n",
    "zero_array = np.zeros((2, 3))\n",
    "print(\"Truth value of zero array (any()) : \", np.any(zero_array))\n",
    "\n",
    "#Using conditionals with any()\n",
    "a16 = np.arange(17, 33).reshape((4, 4))\n",
    "print(\"\\nComparing two arrays element wise : \", np.any(a15 > a16))\n",
    "print(\"Comparing two arrays element wise (double) : \", np.any(2*a15 == a16))\n",
    "\n",
    "\n",
    "# all()\n",
    "print(\"\\nAll are True values in array : \", np.all(a15))\n",
    "print(\"All are True values in array (row wise) : \", np.all(a15, axis=1))\n",
    "print(\"Truth value of zero array (all()) : \", np.all(zero_array))\n",
    "\n",
    "print(\"We cal also call all() like this : \", a15.all())\n",
    "\n",
    "# all() with conditional chaining\n",
    "answer_bool = np.all((a15 < a16) & (a16 >= a15*2))\n",
    "print(\"All values of one array is greater than the other and are at-least double : \", answer_bool)\n",
    "\n",
    "# nonzero()\n",
    "print(\"\\nNon zero indices of the array : \", zero_array.nonzero())\n",
    "print(\"Non zero indices of the array : \", np.nonzero(a15))\n",
    "print(\"Another example : \" ,np.array((1, 0, 3, 4, 0)).nonzero())\n",
    "\n",
    "print(\"Non zero indices of the array using flatnonzero() : \", np.flatnonzero(a15))\n",
    "\n",
    "# count_nonzero()\n",
    "print(\"\\nNon zero count : \", np.count_nonzero(a15))"
   ]
  },
  {
   "cell_type": "markdown",
   "metadata": {},
   "source": [
    "### Sorting"
   ]
  },
  {
   "cell_type": "code",
   "execution_count": 2,
   "metadata": {},
   "outputs": [
    {
     "name": "stdout",
     "output_type": "stream",
     "text": [
      "1. Original Matrix : \n",
      " [[21 62 16 71 20]\n",
      " [98 27 35 51 53]\n",
      " [36 20 32 54 82]\n",
      " [98 20 54 58 97]\n",
      " [36 14 10 19  8]] \n",
      "\n",
      "Sorted matrix (Row wise) : \n",
      " [[16 20 21 62 71]\n",
      " [27 35 51 53 98]\n",
      " [20 32 36 54 82]\n",
      " [20 54 58 97 98]\n",
      " [ 8 10 14 19 36]]\n",
      "\n",
      "2. Original Matrix : \n",
      " [[21 62 16 71 20]\n",
      " [98 27 35 51 53]\n",
      " [36 20 32 54 82]\n",
      " [98 20 54 58 97]\n",
      " [36 14 10 19  8]] \n",
      "\n",
      "Sorted array (flattened) : \n",
      " [ 8 10 14 16 19 20 20 20 21 27 32 35 36 36 51 53 54 54 58 62 71 82 97 98\n",
      " 98]\n",
      "\n",
      "3. Original Matrix : \n",
      " [[21 62 16 71 20]\n",
      " [98 27 35 51 53]\n",
      " [36 20 32 54 82]\n",
      " [98 20 54 58 97]\n",
      " [36 14 10 19  8]] \n",
      "\n",
      "Sorted matrix (col wise) : \n",
      " [[21 14 10 19  8]\n",
      " [36 20 16 51 20]\n",
      " [36 20 32 54 53]\n",
      " [98 27 35 58 82]\n",
      " [98 62 54 71 97]]\n",
      "\n",
      "Structured array is :  [(b'one', 40, 170., 80.) (b'two', 29, 180., 80.) (b'three', 60, 160., 70.)\n",
      " (b'four', 50, 165., 69.)]\n",
      "\n",
      "Sorted array by weight : \n",
      " [(b'four', 50, 165., 69.) (b'three', 60, 160., 70.)\n",
      " (b'one', 40, 170., 80.) (b'two', 29, 180., 80.)]\n",
      "\n",
      "Sorted array by weight (if equal then age) : \n",
      " [(b'four', 50, 165., 69.) (b'three', 60, 160., 70.)\n",
      " (b'two', 29, 180., 80.) (b'one', 40, 170., 80.)]\n",
      "[[2 4 0 1 3]\n",
      " [1 2 3 4 0]\n",
      " [1 2 0 3 4]\n",
      " [1 2 3 4 0]\n",
      " [4 2 1 3 0]]\n"
     ]
    }
   ],
   "source": [
    "rng = np.random.default_rng(seed=3245)\n",
    "a17 = rng.integers(1, 100, size=(5, 5))\n",
    "\n",
    "# sorting\n",
    "sorted_copy = np.sort(a17)\n",
    "print(\"1. Original Matrix : \\n\", a17, \"\\n\\nSorted matrix (Row wise) : \\n\", sorted_copy)\n",
    "\n",
    "flat_sorted_copy = np.sort(a17, axis=None)\n",
    "print(\"\\n2. Original Matrix : \\n\", a17, \"\\n\\nSorted array (flattened) : \\n\", flat_sorted_copy)\n",
    "\n",
    "col_sorted_copy = np.sort(a17, axis=0)\n",
    "print(\"\\n3. Original Matrix : \\n\", a17, \"\\n\\nSorted matrix (col wise) : \\n\", col_sorted_copy)\n",
    "\n",
    "# Sorting structured array\n",
    "dtype = [('name', 'S15'), ('age', int), ('height', float), ('weight', float)]\n",
    "values = [('one', 40, 170, 80), ('two', 29, 180, 80), ('three', 60, 160, 70), ('four', 50, 165, 69)]\n",
    "a18 = np.array(values, dtype=dtype)\n",
    "\n",
    "print(\"\\nStructured array is : \", a18)\n",
    "struct_arr_sorted_weight_cp = np.sort(a18, order='weight')\n",
    "struct_arr_sorted_w_h_cp = np.sort(a18, order=['weight', 'age'])\n",
    "\n",
    "print('\\nSorted array by weight : \\n', struct_arr_sorted_weight_cp)\n",
    "print('\\nSorted array by weight (if equal then age) : \\n', struct_arr_sorted_w_h_cp)\n",
    "\n",
    "# argsort()\n",
    "arg_cp = np.argsort(a17)\n",
    "print(arg_cp)"
   ]
  },
  {
   "cell_type": "code",
   "execution_count": 36,
   "metadata": {},
   "outputs": [
    {
     "name": "stdout",
     "output_type": "stream",
     "text": [
      "Original array is :  [7 9 7 1 8 2 4 5 6 7 3 4 1]\n",
      "Partitioned arrays : [2 1 4 1 3 4], 5, [5 6 7 7 7 8 9]\n",
      "K-th largest number in [7 9 7 1 8 2 4 5 6 7 3 4 1] is 6\n",
      "Indices of partition : [ 5 12 11  3 10  6], 7, [7 8 2 9 0 4 1]\n"
     ]
    }
   ],
   "source": [
    "# partition\n",
    "a19 = np.array((7, 9, 7, 1, 8, 2, 4, 5, 6, 7, 3, 4, 1))\n",
    "print(\"Original array is : \", a19)\n",
    "\n",
    "k = 6\n",
    "partition_array = np.partition(a19, k)\n",
    "print(f'Partitioned arrays : {partition_array[:k]}, {partition_array[k]}, {partition_array[k:]}')\n",
    "\n",
    "k_th_largest_number = np.partition(a19, -k)\n",
    "print(f'K-th largest number in {a19} is {k_th_largest_number[-k]}')\n",
    "\n",
    "# argpartition()\n",
    "indices_partition = np.argpartition(a19, k)\n",
    "print(f'Indices of partition : {indices_partition[:k]}, {indices_partition[k]}, {indices_partition[k:]}')"
   ]
  }
 ],
 "metadata": {
  "kernelspec": {
   "display_name": "Python Base (DSML)",
   "language": "python",
   "name": "base"
  },
  "language_info": {
   "codemirror_mode": {
    "name": "ipython",
    "version": 3
   },
   "file_extension": ".py",
   "mimetype": "text/x-python",
   "name": "python",
   "nbconvert_exporter": "python",
   "pygments_lexer": "ipython3",
   "version": "3.13.1"
  },
  "orig_nbformat": 4
 },
 "nbformat": 4,
 "nbformat_minor": 2
}
