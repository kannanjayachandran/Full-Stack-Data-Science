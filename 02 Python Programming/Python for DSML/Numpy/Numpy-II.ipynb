{
 "cells": [
  {
   "cell_type": "markdown",
   "metadata": {},
   "source": [
    "<div align=\"center\"> <h1> <font color=\"Orange\"> Numpy - II </font> </h1> </div>"
   ]
  },
  {
   "cell_type": "code",
   "execution_count": 1,
   "metadata": {},
   "outputs": [],
   "source": [
    "import numpy as np"
   ]
  },
  {
   "cell_type": "markdown",
   "metadata": {},
   "source": [
    "### Broadcasting"
   ]
  },
  {
   "cell_type": "code",
   "execution_count": 6,
   "metadata": {},
   "outputs": [
    {
     "name": "stdout",
     "output_type": "stream",
     "text": [
      "Array + scalar: [11 12 13 14]\n",
      "\n",
      "2D + 1D:\n",
      "[[11 22 33]\n",
      " [14 25 36]]\n",
      "\n",
      "Column + row:\n",
      "[[11 21 31 41]\n",
      " [12 22 32 42]\n",
      " [13 23 33 43]]\n",
      "\n",
      "3D shape: (2, 3, 4), 1D shape: (4,)\n",
      "Result shape: (2, 3, 4)\n"
     ]
    }
   ],
   "source": [
    "# Example 1: Scalar and array\n",
    "arr = np.array([1, 2, 3, 4])\n",
    "result = arr + 10\n",
    "print(f\"Array + scalar: {result}\")\n",
    "# Broadcasting: (4,) + () -> (4,) + (1,) -> (4,)\n",
    "\n",
    "# Example 2: 1D and 2D\n",
    "arr_2d = np.array([[1, 2, 3], \n",
    "                   [4, 5, 6]])\n",
    "arr_1d = np.array([10, 20, 30])\n",
    "result = arr_2d + arr_1d\n",
    "print(f\"\\n2D + 1D:\\n{result}\")\n",
    "# Broadcasting: (2,3) + (3,) -> (2,3) + (1,3) -> (2,3)\n",
    "\n",
    "# Example 3: Column and row vectors\n",
    "col = np.array([[1], [2], [3]])\n",
    "row = np.array([10, 20, 30, 40])\n",
    "result = col + row\n",
    "print(f\"\\nColumn + row:\\n{result}\")\n",
    "# Broadcasting: (3,1) + (4,) -> (3,1) + (1,4) -> (3,4)\n",
    "# Step-by-step visualization:\n",
    "# a: (3,1) -> [[1], [2], [3]]\n",
    "# b: (4,)  -> [10, 20, 30, 40]\n",
    "# \n",
    "# After broadcasting:\n",
    "# a becomes: [[1, 1, 1, 1],\n",
    "#             [2, 2, 2, 2],\n",
    "#             [3, 3, 3, 3]]\n",
    "# \n",
    "# b becomes: [[10, 20, 30, 40],\n",
    "#             [10, 20, 30, 40],\n",
    "#             [10, 20, 30, 40]]\n",
    "\n",
    "# Example 4: Broadcasting in 3D\n",
    "arr_3d = np.ones((2, 3, 4))\n",
    "arr_1d = np.array([1, 2, 3, 4])\n",
    "result = arr_3d + arr_1d\n",
    "print(f\"\\n3D shape: {arr_3d.shape}, 1D shape: {arr_1d.shape}\")\n",
    "print(f\"Result shape: {result.shape}\")\n",
    "# Broadcasting: (2,3,4) + (4,) -> (2,3,4) + (1,1,4) -> (2,3,4)"
   ]
  },
  {
   "cell_type": "code",
   "execution_count": 2,
   "metadata": {},
   "outputs": [
    {
     "name": "stdout",
     "output_type": "stream",
     "text": [
      "Batch + bias shape: (32, 10)\n"
     ]
    }
   ],
   "source": [
    "# Common pattern: add bias to each sample in batch\n",
    "batch = np.random.randn(32, 10)  # 32 samples, 10 features\n",
    "bias = np.random.randn(10)       # 10 biases\n",
    "result = batch + bias            # Broadcasts correctly\n",
    "print(f\"Batch + bias shape: {result.shape}\")"
   ]
  },
  {
   "cell_type": "markdown",
   "metadata": {},
   "source": [
    "### Arithmetic UFuncs"
   ]
  },
  {
   "cell_type": "code",
   "execution_count": 14,
   "metadata": {},
   "outputs": [
    {
     "name": "stdout",
     "output_type": "stream",
     "text": [
      "Addition: [11 22 33 44]\n",
      "Subtraction: [ -9 -18 -27 -36]\n",
      "Multiplication: [ 10  40  90 160]\n",
      "Division: [10. 10. 10. 10.]\n",
      "Floor division: [10 10 10 10]\n",
      "Power: [ 1  4  9 16]\n",
      "Modulo: [0 0 0 0]\n",
      "\n",
      "Using operators:\n",
      "a + b = [11 22 33 44]\n",
      "a * 2 = [2 4 6 8]\n",
      "a ** 2 = [ 1  4  9 16]\n"
     ]
    }
   ],
   "source": [
    "# Basic arithmetic operations\n",
    "a = np.array([1, 2, 3, 4])\n",
    "b = np.array([10, 20, 30, 40])\n",
    "\n",
    "print(f\"Addition: {np.add(a, b)}\")          # a + b\n",
    "print(f\"Subtraction: {np.subtract(a, b)}\")  # a - b\n",
    "print(f\"Multiplication: {np.multiply(a, b)}\")  # a * b\n",
    "print(f\"Division: {np.divide(b, a)}\")       # b / a\n",
    "print(f\"Floor division: {np.floor_divide(b, a)}\")  # b // a\n",
    "print(f\"Power: {np.power(a, 2)}\")           # a ** 2\n",
    "print(f\"Modulo: {np.mod(b, a)}\")            # b % a\n",
    "\n",
    "# Operator shortcuts\n",
    "print(f\"\\nUsing operators:\")\n",
    "print(f\"a + b = {a + b}\")\n",
    "print(f\"a * 2 = {a * 2}\")\n",
    "print(f\"a ** 2 = {a ** 2}\")"
   ]
  },
  {
   "cell_type": "markdown",
   "metadata": {},
   "source": [
    "### Comparison UFuncs"
   ]
  },
  {
   "cell_type": "code",
   "execution_count": 15,
   "metadata": {},
   "outputs": [
    {
     "name": "stdout",
     "output_type": "stream",
     "text": [
      "Greater: [False False False  True  True]\n",
      "Less: [ True  True False False False]\n",
      "Equal: [False False  True False False]\n",
      "Not equal: [ True  True False  True  True]\n",
      "\n",
      "Using operators:\n",
      "a > b: [False False False  True  True]\n",
      "a == 3: [False False  True False False]\n"
     ]
    }
   ],
   "source": [
    "a = np.array([1, 2, 3, 4, 5])\n",
    "b = np.array([5, 4, 3, 2, 1])\n",
    "\n",
    "print(f\"Greater: {np.greater(a, b)}\")           # a > b\n",
    "print(f\"Less: {np.less(a, b)}\")                 # a < b\n",
    "print(f\"Equal: {np.equal(a, 3)}\")               # a == 3\n",
    "print(f\"Not equal: {np.not_equal(a, 3)}\")       # a != 3\n",
    "\n",
    "# Operator shortcuts\n",
    "print(f\"\\nUsing operators:\")\n",
    "print(f\"a > b: {a > b}\")\n",
    "print(f\"a == 3: {a == 3}\")"
   ]
  },
  {
   "cell_type": "markdown",
   "metadata": {},
   "source": [
    "### Mathematical UFuncs"
   ]
  },
  {
   "cell_type": "code",
   "execution_count": 16,
   "metadata": {},
   "outputs": [
    {
     "name": "stdout",
     "output_type": "stream",
     "text": [
      "Sine: [0.         0.5        0.70710678 0.8660254  1.        ]\n",
      "Cosine: [1.00000000e+00 8.66025404e-01 7.07106781e-01 5.00000000e-01\n",
      " 6.12323400e-17]\n",
      "Tangent: [0.         0.57735027 1.         1.73205081]\n",
      "\n",
      "Exponential: [  2.71828183   7.3890561   20.08553692  54.59815003 148.4131591 ]\n",
      "Natural log: [0.         0.69314718 1.09861229 1.38629436 1.60943791]\n",
      "Log base 10: [0.         0.30103    0.47712125 0.60205999 0.69897   ]\n",
      "Log base 2: [0.         1.         1.5849625  2.         2.32192809]\n",
      "\n",
      "Round: [1. 2. 4. 4. 6.]\n",
      "Floor: [1. 2. 3. 4. 5.]\n",
      "Ceil: [2. 3. 4. 5. 6.]\n",
      "Truncate: [1. 2. 3. 4. 5.]\n"
     ]
    }
   ],
   "source": [
    "# Trigonometric functions\n",
    "angles = np.array([0, np.pi/6, np.pi/4, np.pi/3, np.pi/2])\n",
    "print(f\"Sine: {np.sin(angles)}\")\n",
    "print(f\"Cosine: {np.cos(angles)}\")\n",
    "print(f\"Tangent: {np.tan(angles[:4])}\")  # Avoid pi/2 for tan\n",
    "\n",
    "# Exponential and logarithmic\n",
    "x = np.array([1, 2, 3, 4, 5])\n",
    "print(f\"\\nExponential: {np.exp(x)}\")\n",
    "print(f\"Natural log: {np.log(x)}\")\n",
    "print(f\"Log base 10: {np.log10(x)}\")\n",
    "print(f\"Log base 2: {np.log2(x)}\")\n",
    "\n",
    "# Rounding\n",
    "x = np.array([1.2, 2.5, 3.7, 4.1, 5.9])\n",
    "print(f\"\\nRound: {np.round(x)}\")\n",
    "print(f\"Floor: {np.floor(x)}\")\n",
    "print(f\"Ceil: {np.ceil(x)}\")\n",
    "print(f\"Truncate: {np.trunc(x)}\")"
   ]
  },
  {
   "cell_type": "markdown",
   "metadata": {},
   "source": [
    "### Basic Aggregations"
   ]
  },
  {
   "cell_type": "code",
   "execution_count": 18,
   "metadata": {},
   "outputs": [
    {
     "name": "stdout",
     "output_type": "stream",
     "text": [
      "Data:\n",
      "[[ 1  2  3  4]\n",
      " [ 5  6  7  8]\n",
      " [ 9 10 11 12]]\n",
      "\n",
      "Sum: 78\n",
      "Mean: 6.5\n",
      "Median: 6.5\n",
      "Standard deviation: 3.452052529534663\n",
      "Variance: 11.916666666666666\n",
      "Min: 1\n",
      "Max: 12\n"
     ]
    }
   ],
   "source": [
    "# Create sample data\n",
    "data = np.array([[1, 2, 3, 4],\n",
    "                 [5, 6, 7, 8],\n",
    "                 [9, 10, 11, 12]])\n",
    "\n",
    "print(f\"Data:\\n{data}\\n\")\n",
    "\n",
    "# Aggregate over entire array\n",
    "print(f\"Sum: {np.sum(data)}\")\n",
    "print(f\"Mean: {np.mean(data)}\")\n",
    "print(f\"Median: {np.median(data)}\")\n",
    "print(f\"Standard deviation: {np.std(data)}\")\n",
    "print(f\"Variance: {np.var(data)}\")\n",
    "print(f\"Min: {np.min(data)}\")\n",
    "print(f\"Max: {np.max(data)}\")"
   ]
  },
  {
   "cell_type": "markdown",
   "metadata": {},
   "source": [
    "### Axis-Based Operations"
   ]
  },
  {
   "cell_type": "code",
   "execution_count": 19,
   "metadata": {},
   "outputs": [
    {
     "name": "stdout",
     "output_type": "stream",
     "text": [
      "Sum along axis 0 (column sums): [15 18 21 24]\n",
      "Mean along axis 0: [5. 6. 7. 8.]\n",
      "\n",
      "Sum along axis 1 (row sums): [10 26 42]\n",
      "Mean along axis 1: [ 2.5  6.5 10.5]\n",
      "\n",
      "3D data shape: (2, 3, 4)\n",
      "Sum along axes (0, 2): [ 60  92 124]\n"
     ]
    }
   ],
   "source": [
    "data = np.array([[1, 2, 3, 4],\n",
    "                 [5, 6, 7, 8],\n",
    "                 [9, 10, 11, 12]])\n",
    "\n",
    "# Axis 0: down the rows (column-wise operation)\n",
    "print(f\"Sum along axis 0 (column sums): {np.sum(data, axis=0)}\")\n",
    "print(f\"Mean along axis 0: {np.mean(data, axis=0)}\")\n",
    "\n",
    "# Axis 1: across the columns (row-wise operation)\n",
    "print(f\"\\nSum along axis 1 (row sums): {np.sum(data, axis=1)}\")\n",
    "print(f\"Mean along axis 1: {np.mean(data, axis=1)}\")\n",
    "\n",
    "# Multiple axes\n",
    "data_3d = np.arange(24).reshape(2, 3, 4)\n",
    "print(f\"\\n3D data shape: {data_3d.shape}\")\n",
    "print(f\"Sum along axes (0, 2): {np.sum(data_3d, axis=(0, 2))}\")"
   ]
  },
  {
   "cell_type": "markdown",
   "metadata": {},
   "source": [
    "### Cumulative Operations"
   ]
  },
  {
   "cell_type": "code",
   "execution_count": 3,
   "metadata": {},
   "outputs": [
    {
     "name": "stdout",
     "output_type": "stream",
     "text": [
      "Data: [1 2 3 4 5]\n",
      "Cumulative sum: [ 1  3  6 10 15]\n",
      "Cumulative product: [  1   2   6  24 120]\n",
      "\n",
      "2D data:\n",
      "[[1 2 3]\n",
      " [4 5 6]]\n",
      "\n",
      "Cumsum axis 0:\n",
      "[[1 2 3]\n",
      " [5 7 9]]\n",
      "\n",
      "Cumsum axis 1:\n",
      "[[ 1  3  6]\n",
      " [ 4  9 15]]\n"
     ]
    }
   ],
   "source": [
    "data = np.array([1, 2, 3, 4, 5])\n",
    "\n",
    "print(f\"Data: {data}\")\n",
    "print(f\"Cumulative sum: {np.cumsum(data)}\")\n",
    "print(f\"Cumulative product: {np.cumprod(data)}\")\n",
    "\n",
    "# 2D cumulative operations\n",
    "data_2d = np.array([[1, 2, 3],\n",
    "                    [4, 5, 6]])\n",
    "\n",
    "print(f\"\\n2D data:\\n{data_2d}\")\n",
    "print(f\"\\nCumsum axis 0:\\n{np.cumsum(data_2d, axis=0)}\")\n",
    "print(f\"\\nCumsum axis 1:\\n{np.cumsum(data_2d, axis=1)}\")"
   ]
  },
  {
   "cell_type": "markdown",
   "metadata": {},
   "source": [
    "### ArgMin and ArgMax"
   ]
  },
  {
   "cell_type": "code",
   "execution_count": 4,
   "metadata": {},
   "outputs": [
    {
     "name": "stdout",
     "output_type": "stream",
     "text": [
      "Data:\n",
      "[[23 17 31 14]\n",
      " [89 12 65 43]]\n",
      "\n",
      "Argmin (flattened): 5\n",
      "Argmax (flattened): 4\n",
      "Min value: 12\n",
      "Max value: 89\n",
      "\n",
      "Argmin axis 0: [0 1 0 0]\n",
      "Argmax axis 0: [1 0 1 1]\n",
      "Argmin axis 1: [3 1]\n",
      "Argmax axis 1: [2 0]\n",
      "\n",
      "Max value at coordinates: (np.int64(1), np.int64(0))\n"
     ]
    }
   ],
   "source": [
    "# Find indices of min/max values\n",
    "data = np.array([[23, 17, 31, 14],\n",
    "                 [89, 12, 65, 43]])\n",
    "\n",
    "print(f\"Data:\\n{data}\\n\")\n",
    "\n",
    "# Global min/max indices\n",
    "print(f\"Argmin (flattened): {np.argmin(data)}\")\n",
    "print(f\"Argmax (flattened): {np.argmax(data)}\")\n",
    "print(f\"Min value: {data.flat[np.argmin(data)]}\")\n",
    "print(f\"Max value: {data.flat[np.argmax(data)]}\")\n",
    "\n",
    "# Per-axis min/max indices\n",
    "print(f\"\\nArgmin axis 0: {np.argmin(data, axis=0)}\")\n",
    "print(f\"Argmax axis 0: {np.argmax(data, axis=0)}\")\n",
    "print(f\"Argmin axis 1: {np.argmin(data, axis=1)}\")\n",
    "print(f\"Argmax axis 1: {np.argmax(data, axis=1)}\")\n",
    "\n",
    "# Convert flat index to 2D coordinates\n",
    "flat_idx = np.argmax(data)\n",
    "coords = np.unravel_index(flat_idx, data.shape)\n",
    "print(f\"\\nMax value at coordinates: {coords}\")"
   ]
  },
  {
   "cell_type": "markdown",
   "metadata": {},
   "source": [
    "### Statistical Functions"
   ]
  },
  {
   "cell_type": "code",
   "execution_count": 5,
   "metadata": {},
   "outputs": [
    {
     "name": "stdout",
     "output_type": "stream",
     "text": [
      "Data: [12 15 18 21 24 27 30 33 36]\n",
      "\n",
      "Mean: 24.00\n",
      "Median: 24.00\n",
      "Standard deviation: 7.75\n",
      "Variance: 60.00\n",
      "\n",
      "25th percentile: 18.00\n",
      "50th percentile (median): 24.00\n",
      "75th percentile: 30.00\n",
      "90th percentile: 33.60\n",
      "\n",
      "Quartiles: [18. 24. 30.]\n",
      "\n",
      "Range (max - min): 24\n"
     ]
    }
   ],
   "source": [
    "# Comprehensive statistics\n",
    "data = np.array([12, 15, 18, 21, 24, 27, 30, 33, 36])\n",
    "\n",
    "print(f\"Data: {data}\\n\")\n",
    "print(f\"Mean: {np.mean(data):.2f}\")\n",
    "print(f\"Median: {np.median(data):.2f}\")\n",
    "print(f\"Standard deviation: {np.std(data):.2f}\")\n",
    "print(f\"Variance: {np.var(data):.2f}\")\n",
    "\n",
    "# Percentiles and quantiles\n",
    "print(f\"\\n25th percentile: {np.percentile(data, 25):.2f}\")\n",
    "print(f\"50th percentile (median): {np.percentile(data, 50):.2f}\")\n",
    "print(f\"75th percentile: {np.percentile(data, 75):.2f}\")\n",
    "print(f\"90th percentile: {np.percentile(data, 90):.2f}\")\n",
    "\n",
    "# Quantiles (same as percentiles but in [0, 1])\n",
    "print(f\"\\nQuartiles: {np.quantile(data, [0.25, 0.5, 0.75])}\")\n",
    "\n",
    "# Range\n",
    "print(f\"\\nRange (max - min): {np.ptp(data)}\")  # ptp = peak to peak"
   ]
  },
  {
   "cell_type": "code",
   "execution_count": 2,
   "metadata": {},
   "outputs": [
    {
     "name": "stdout",
     "output_type": "stream",
     "text": [
      "Values: [85 90 78 92]\n",
      "Weights: [0.2 0.3 0.1 0.4]\n",
      "Weighted average: 88.60\n",
      "Regular average: 86.25\n"
     ]
    }
   ],
   "source": [
    "# Weighted average (common in ensemble models)\n",
    "values = np.array([85, 90, 78, 92])\n",
    "weights = np.array([0.2, 0.3, 0.1, 0.4])\n",
    "\n",
    "weighted_avg = np.average(values, weights=weights)\n",
    "print(f\"Values: {values}\")\n",
    "print(f\"Weights: {weights}\")\n",
    "print(f\"Weighted average: {weighted_avg:.2f}\")\n",
    "\n",
    "# Regular average for comparison\n",
    "regular_avg = np.mean(values)\n",
    "print(f\"Regular average: {regular_avg:.2f}\")"
   ]
  },
  {
   "cell_type": "markdown",
   "metadata": {},
   "source": [
    "### Boolean Aggregations"
   ]
  },
  {
   "cell_type": "code",
   "execution_count": 3,
   "metadata": {},
   "outputs": [
    {
     "name": "stdout",
     "output_type": "stream",
     "text": [
      "Data > 10: [False False False  True  True  True  True]\n",
      "Any > 10? True\n",
      "Any > 50? False\n",
      "All > 0? True\n",
      "All > 10? False\n",
      "\n",
      "Count > 10: 4\n",
      "Percentage > 10: 57.1%\n",
      "Indices where > 10: (array([3, 4, 5, 6]),)\n",
      "Values where > 10: [15 20 25 30]\n"
     ]
    }
   ],
   "source": [
    "# Logical operations on boolean arrays\n",
    "data = np.array([1, 5, 10, 15, 20, 25, 30])\n",
    "\n",
    "# Check conditions\n",
    "greater_than_10 = data > 10\n",
    "print(f\"Data > 10: {greater_than_10}\")\n",
    "\n",
    "# Any: True if ANY element is True\n",
    "print(f\"Any > 10? {np.any(data > 10)}\")\n",
    "print(f\"Any > 50? {np.any(data > 50)}\")\n",
    "\n",
    "# All: True if ALL elements are True\n",
    "print(f\"All > 0? {np.all(data > 0)}\")\n",
    "print(f\"All > 10? {np.all(data > 10)}\")\n",
    "\n",
    "# Count True values\n",
    "print(f\"\\nCount > 10: {np.sum(data > 10)}\")\n",
    "print(f\"Percentage > 10: {np.mean(data > 10) * 100:.1f}%\")\n",
    "\n",
    "# Find where condition is True\n",
    "indices = np.where(data > 10)\n",
    "print(f\"Indices where > 10: {indices}\")\n",
    "print(f\"Values where > 10: {data[indices]}\")"
   ]
  },
  {
   "cell_type": "markdown",
   "metadata": {},
   "source": [
    "### Unique and Counting"
   ]
  },
  {
   "cell_type": "code",
   "execution_count": 4,
   "metadata": {},
   "outputs": [
    {
     "name": "stdout",
     "output_type": "stream",
     "text": [
      "Unique values: [1 2 3 4]\n",
      "\n",
      "Value counts:\n",
      "  1: 1\n",
      "  2: 2\n",
      "  3: 3\n",
      "  4: 4\n",
      "\n",
      "First occurrence indices: [0 1 3 6]\n",
      "Inverse indices: [0 1 1 2 2 2 3 3 3 3]\n",
      "Reconstructed: [1 2 2 3 3 3 4 4 4 4]\n"
     ]
    }
   ],
   "source": [
    "# Find unique elements\n",
    "data = np.array([1, 2, 2, 3, 3, 3, 4, 4, 4, 4])\n",
    "\n",
    "unique_values = np.unique(data)\n",
    "print(f\"Unique values: {unique_values}\")\n",
    "\n",
    "# Get counts of unique values\n",
    "unique_vals, counts = np.unique(data, return_counts=True)\n",
    "print(f\"\\nValue counts:\")\n",
    "for val, count in zip(unique_vals, counts):\n",
    "    print(f\"  {val}: {count}\")\n",
    "\n",
    "# Get indices of unique values\n",
    "unique_vals, indices = np.unique(data, return_index=True)\n",
    "print(f\"\\nFirst occurrence indices: {indices}\")\n",
    "\n",
    "# Get inverse indices (reconstruct original array)\n",
    "unique_vals, inverse = np.unique(data, return_inverse=True)\n",
    "print(f\"Inverse indices: {inverse}\")\n",
    "print(f\"Reconstructed: {unique_vals[inverse]}\")"
   ]
  },
  {
   "cell_type": "markdown",
   "metadata": {},
   "source": [
    "### Basic Boolean Indexing"
   ]
  },
  {
   "cell_type": "code",
   "execution_count": 5,
   "metadata": {},
   "outputs": [
    {
     "name": "stdout",
     "output_type": "stream",
     "text": [
      "Data: [10 25 30 15 40  5 35 20]\n",
      "Mask (data > 20): [False  True  True False  True False  True False]\n",
      "Filtered data: [25 30 40 35]\n",
      "Direct filtering: [25 30 40 35]\n",
      "\n",
      "Data between 15 and 35: [25 30 20]\n",
      "Data < 15 OR > 35: [10 40  5]\n",
      "Data NOT > 20: [10 15  5 20]\n"
     ]
    }
   ],
   "source": [
    "# Create sample data\n",
    "data = np.array([10, 25, 30, 15, 40, 5, 35, 20])\n",
    "\n",
    "# Create boolean mask\n",
    "mask = data > 20\n",
    "print(f\"Data: {data}\")\n",
    "print(f\"Mask (data > 20): {mask}\")\n",
    "print(f\"Filtered data: {data[mask]}\")\n",
    "\n",
    "# Direct indexing with condition\n",
    "filtered = data[data > 20]\n",
    "print(f\"Direct filtering: {filtered}\")\n",
    "\n",
    "# Multiple conditions with logical operators\n",
    "# & (and), | (or), ~ (not)\n",
    "mask_complex = (data > 15) & (data < 35)\n",
    "print(f\"\\nData between 15 and 35: {data[mask_complex]}\")\n",
    "\n",
    "mask_or = (data < 15) | (data > 35)\n",
    "print(f\"Data < 15 OR > 35: {data[mask_or]}\")\n",
    "\n",
    "mask_not = ~(data > 20)\n",
    "print(f\"Data NOT > 20: {data[mask_not]}\")"
   ]
  },
  {
   "cell_type": "markdown",
   "metadata": {},
   "source": [
    "### Boolean Indexing in 2D Arrays"
   ]
  },
  {
   "cell_type": "code",
   "execution_count": 6,
   "metadata": {},
   "outputs": [
    {
     "name": "stdout",
     "output_type": "stream",
     "text": [
      "Scores:\n",
      "[[85 78 92]\n",
      " [67 88 73]\n",
      " [92 84 89]\n",
      " [74 69 81]\n",
      " [88 91 95]]\n",
      "\n",
      "Students with Math > 80:\n",
      "[[85 78 92]\n",
      " [92 84 89]\n",
      " [88 91 95]]\n",
      "\n",
      "Excellent scores (>90):\n",
      "[92 92 91 95]\n",
      "\n",
      "Excellent scores per student: [1 0 1 0 2]\n",
      "Students with all scores > 75:\n",
      "[[85 78 92]\n",
      " [92 84 89]\n",
      " [88 91 95]]\n"
     ]
    }
   ],
   "source": [
    "# Student scores: [Math, Physics, Chemistry]\n",
    "scores = np.array([[85, 78, 92],\n",
    "                   [67, 88, 73],\n",
    "                   [92, 84, 89],\n",
    "                   [74, 69, 81],\n",
    "                   [88, 91, 95]])\n",
    "\n",
    "print(f\"Scores:\\n{scores}\\n\")\n",
    "\n",
    "# Find students who scored > 80 in Math (first column)\n",
    "high_math = scores[:, 0] > 80\n",
    "print(f\"Students with Math > 80:\\n{scores[high_math]}\")\n",
    "\n",
    "# Find all scores > 90 (element-wise)\n",
    "excellent = scores > 90\n",
    "print(f\"\\nExcellent scores (>90):\\n{scores[excellent]}\")\n",
    "\n",
    "# Count excellent scores per student\n",
    "excellent_count = np.sum(scores > 90, axis=1)\n",
    "print(f\"\\nExcellent scores per student: {excellent_count}\")\n",
    "\n",
    "# Find students with all scores > 75\n",
    "all_good = np.all(scores > 75, axis=1)\n",
    "print(f\"Students with all scores > 75:\\n{scores[all_good]}\")"
   ]
  },
  {
   "cell_type": "markdown",
   "metadata": {},
   "source": [
    "### Modifying Values with Boolean Indexing"
   ]
  },
  {
   "cell_type": "code",
   "execution_count": 7,
   "metadata": {},
   "outputs": [
    {
     "name": "stdout",
     "output_type": "stream",
     "text": [
      "Original: [10 25 30 15 40  5 35 20]\n",
      "Clipped at 30: [10 25 30 15 30  5 30 20]\n",
      "Added 10 to values < 20: [20 25 30 25 40 15 35 20]\n",
      "10% reduction for > 25: [10 25 27 15 36  5 31 20]\n"
     ]
    }
   ],
   "source": [
    "# Replace values based on condition\n",
    "data = np.array([10, 25, 30, 15, 40, 5, 35, 20])\n",
    "print(f\"Original: {data}\")\n",
    "\n",
    "# Set all values > 30 to 30 (clipping)\n",
    "data_copy = data.copy()\n",
    "data_copy[data_copy > 30] = 30\n",
    "print(f\"Clipped at 30: {data_copy}\")\n",
    "\n",
    "# Increment values that match condition\n",
    "data_copy = data.copy()\n",
    "data_copy[data_copy < 20] += 10\n",
    "print(f\"Added 10 to values < 20: {data_copy}\")\n",
    "\n",
    "# Replace with array\n",
    "data_copy = data.copy()\n",
    "mask = data_copy > 25\n",
    "data_copy[mask] = data_copy[mask] * 0.9  # Apply 10% discount\n",
    "print(f\"10% reduction for > 25: {data_copy}\")"
   ]
  },
  {
   "cell_type": "markdown",
   "metadata": {},
   "source": [
    "### Using `where` for Conditional Selection"
   ]
  },
  {
   "cell_type": "code",
   "execution_count": 8,
   "metadata": {},
   "outputs": [
    {
     "name": "stdout",
     "output_type": "stream",
     "text": [
      "Binary (>20): [0 1 1 0 1 0 1 0]\n",
      "Transformed: [15 30 60 20 80 10 70 25]\n",
      "Indices where > 25: [2 4 6]\n",
      "Values where > 25: [30 40 35]\n",
      "\n",
      "Original matrix:\n",
      "[[ 1 -2  3]\n",
      " [-4  5 -6]\n",
      " [ 7 -8  9]]\n",
      "Cleaned matrix:\n",
      "[[1 0 3]\n",
      " [0 5 0]\n",
      " [7 0 9]]\n"
     ]
    }
   ],
   "source": [
    "# np.where(condition, value_if_true, value_if_false)\n",
    "data = np.array([10, 25, 30, 15, 40, 5, 35, 20])\n",
    "\n",
    "# Replace values: if > 20 then 1, else 0\n",
    "binary = np.where(data > 20, 1, 0)\n",
    "print(f\"Binary (>20): {binary}\")\n",
    "\n",
    "# Apply different operation based on condition\n",
    "# If > 25: multiply by 2, else add 5\n",
    "transformed = np.where(data > 25, data * 2, data + 5)\n",
    "print(f\"Transformed: {transformed}\")\n",
    "\n",
    "# Get indices where condition is True\n",
    "indices = np.where(data > 25)\n",
    "print(f\"Indices where > 25: {indices[0]}\")\n",
    "print(f\"Values where > 25: {data[indices]}\")\n",
    "\n",
    "# 2D example: replace negative values with 0\n",
    "matrix = np.array([[1, -2, 3],\n",
    "                   [-4, 5, -6],\n",
    "                   [7, -8, 9]])\n",
    "cleaned = np.where(matrix < 0, 0, matrix)\n",
    "print(f\"\\nOriginal matrix:\\n{matrix}\")\n",
    "print(f\"Cleaned matrix:\\n{cleaned}\")"
   ]
  },
  {
   "cell_type": "markdown",
   "metadata": {},
   "source": [
    "### Masking for Missing Data"
   ]
  },
  {
   "cell_type": "code",
   "execution_count": 9,
   "metadata": {},
   "outputs": [
    {
     "name": "stdout",
     "output_type": "stream",
     "text": [
      "Data with missing values:\n",
      "[[  85   90 -999]\n",
      " [  78 -999   88]\n",
      " [  92   85   90]\n",
      " [-999   80   85]]\n",
      "\n",
      "Missing mask:\n",
      "[[False False  True]\n",
      " [False  True False]\n",
      " [False False False]\n",
      " [ True False False]]\n",
      "\n",
      "After filling with column means:\n",
      "[[85.         90.         87.66666667]\n",
      " [78.         85.         88.        ]\n",
      " [92.         85.         90.        ]\n",
      " [85.         80.         85.        ]]\n",
      "\n",
      "Masked array:\n",
      "[[85 90 --]\n",
      " [78 -- 88]\n",
      " [92 85 90]\n",
      " [-- 80 85]]\n",
      "Column means (ignoring masked): [85.0 85.0 87.66666666666667]\n"
     ]
    }
   ],
   "source": [
    "# Simulate dataset with missing values (represented as -999)\n",
    "data = np.array([[85, 90, -999],\n",
    "                 [78, -999, 88],\n",
    "                 [92, 85, 90],\n",
    "                 [-999, 80, 85]])\n",
    "\n",
    "print(f\"Data with missing values:\\n{data}\\n\")\n",
    "\n",
    "# Create mask for missing values\n",
    "missing_mask = data == -999\n",
    "print(f\"Missing mask:\\n{missing_mask}\\n\")\n",
    "\n",
    "# Replace missing values with column mean\n",
    "data_clean = data.copy().astype(float)\n",
    "for col in range(data.shape[1]):\n",
    "    col_data = data[:, col]\n",
    "    col_mask = col_data != -999\n",
    "    col_mean = col_data[col_mask].mean()\n",
    "    data_clean[data_clean[:, col] == -999, col] = col_mean\n",
    "\n",
    "print(f\"After filling with column means:\\n{data_clean}\")\n",
    "\n",
    "# Alternative: use np.ma (masked arrays)\n",
    "masked_data = np.ma.masked_equal(data, -999)\n",
    "print(f\"\\nMasked array:\\n{masked_data}\")\n",
    "print(f\"Column means (ignoring masked): {masked_data.mean(axis=0)}\")"
   ]
  },
  {
   "cell_type": "markdown",
   "metadata": {},
   "source": [
    "### Basic Sorting"
   ]
  },
  {
   "cell_type": "code",
   "execution_count": 10,
   "metadata": {},
   "outputs": [
    {
     "name": "stdout",
     "output_type": "stream",
     "text": [
      "Original: [5 2 8 1 9 3 7]\n",
      "Sorted: [1 2 3 5 7 8 9]\n",
      "In-place sorted: [1 2 3 5 7 8 9]\n",
      "Descending: [9 8 7 5 3 2 1]\n"
     ]
    }
   ],
   "source": [
    "# 1D sorting\n",
    "arr = np.array([5, 2, 8, 1, 9, 3, 7])\n",
    "sorted_arr = np.sort(arr)\n",
    "print(f\"Original: {arr}\")\n",
    "print(f\"Sorted: {sorted_arr}\")\n",
    "\n",
    "# In-place sorting\n",
    "arr_copy = arr.copy()\n",
    "arr_copy.sort()\n",
    "print(f\"In-place sorted: {arr_copy}\")\n",
    "\n",
    "# Descending order\n",
    "desc_sorted = np.sort(arr)[::-1]\n",
    "print(f\"Descending: {desc_sorted}\")"
   ]
  },
  {
   "cell_type": "markdown",
   "metadata": {},
   "source": [
    "### Argsort - Sorting Indices"
   ]
  },
  {
   "cell_type": "code",
   "execution_count": 11,
   "metadata": {},
   "outputs": [
    {
     "name": "stdout",
     "output_type": "stream",
     "text": [
      "Scores: [85 92 78 95 88]\n",
      "Sorted indices: [2 0 4 1 3]\n",
      "Students (lowest to highest): ['Charlie' 'Alice' 'Eve' 'Bob' 'David']\n",
      "\n",
      "Top 3 students: ['David' 'Bob' 'Eve']\n",
      "Their scores: [95 92 88]\n"
     ]
    }
   ],
   "source": [
    "# Get indices that would sort the array\n",
    "scores = np.array([85, 92, 78, 95, 88])\n",
    "students = np.array(['Alice', 'Bob', 'Charlie', 'David', 'Eve'])\n",
    "\n",
    "# Get sorted indices\n",
    "sorted_indices = np.argsort(scores)\n",
    "print(f\"Scores: {scores}\")\n",
    "print(f\"Sorted indices: {sorted_indices}\")\n",
    "print(f\"Students (lowest to highest): {students[sorted_indices]}\")\n",
    "\n",
    "# Descending order\n",
    "desc_indices = np.argsort(scores)[::-1]\n",
    "print(f\"\\nTop 3 students: {students[desc_indices[:3]]}\")\n",
    "print(f\"Their scores: {scores[desc_indices[:3]]}\")"
   ]
  },
  {
   "cell_type": "markdown",
   "metadata": {},
   "source": [
    "### Sorting 2D Arrays"
   ]
  },
  {
   "cell_type": "code",
   "execution_count": 12,
   "metadata": {},
   "outputs": [
    {
     "name": "stdout",
     "output_type": "stream",
     "text": [
      "Original:\n",
      "[[5 2 8]\n",
      " [1 9 3]\n",
      " [7 4 6]]\n",
      "\n",
      "Sorted rows:\n",
      "[[2 5 8]\n",
      " [1 3 9]\n",
      " [4 6 7]]\n",
      "\n",
      "Sorted columns:\n",
      "[[1 2 3]\n",
      " [5 4 6]\n",
      " [7 9 8]]\n",
      "\n",
      "Sorted by first column:\n",
      "[[1 9 3]\n",
      " [5 2 8]\n",
      " [7 4 6]]\n"
     ]
    }
   ],
   "source": [
    "# Sort along different axes\n",
    "data = np.array([[5, 2, 8],\n",
    "                 [1, 9, 3],\n",
    "                 [7, 4, 6]])\n",
    "\n",
    "print(f\"Original:\\n{data}\\n\")\n",
    "\n",
    "# Sort each row\n",
    "sorted_rows = np.sort(data, axis=1)\n",
    "print(f\"Sorted rows:\\n{sorted_rows}\\n\")\n",
    "\n",
    "# Sort each column\n",
    "sorted_cols = np.sort(data, axis=0)\n",
    "print(f\"Sorted columns:\\n{sorted_cols}\\n\")\n",
    "\n",
    "# Sort rows based on first column\n",
    "row_order = np.argsort(data[:, 0])\n",
    "sorted_by_first_col = data[row_order]\n",
    "print(f\"Sorted by first column:\\n{sorted_by_first_col}\")"
   ]
  },
  {
   "cell_type": "markdown",
   "metadata": {},
   "source": [
    "### Partitioning - Fast Top-K Selection"
   ]
  },
  {
   "cell_type": "code",
   "execution_count": 13,
   "metadata": {},
   "outputs": [
    {
     "name": "stdout",
     "output_type": "stream",
     "text": [
      "Original: [23 45 12 67 34 89 56 78]\n",
      "Partitioned at k=3: [12 23 34 45 56 67 78 89]\n",
      "3 smallest: [12 23 34]\n",
      "\n",
      "Partitioned for top 3: [12 23 34 45 56 67 78 89]\n",
      "Top 3 (unsorted): [67 78 89]\n",
      "Top 3 (sorted): [89 78 67]\n"
     ]
    }
   ],
   "source": [
    "# Find top 3 elements (doesn't fully sort)\n",
    "data = np.array([23, 45, 12, 67, 34, 89, 56, 78])\n",
    "\n",
    "# Partition: elements < k-th are before, elements >= k-th are after\n",
    "k = 3\n",
    "partitioned = np.partition(data, k)\n",
    "print(f\"Original: {data}\")\n",
    "print(f\"Partitioned at k={k}: {partitioned}\")\n",
    "print(f\"3 smallest: {partitioned[:k]}\")  # Not sorted, but all < kth element\n",
    "\n",
    "# Get top 3 (use negative index for largest)\n",
    "top_3_partitioned = np.partition(data, -3)\n",
    "print(f\"\\nPartitioned for top 3: {top_3_partitioned}\")\n",
    "print(f\"Top 3 (unsorted): {top_3_partitioned[-3:]}\")\n",
    "\n",
    "# Get indices with argpartition\n",
    "indices = np.argpartition(data, -3)[-3:]\n",
    "top_3_sorted = data[indices[np.argsort(data[indices])[::-1]]]\n",
    "print(f\"Top 3 (sorted): {top_3_sorted}\")"
   ]
  },
  {
   "cell_type": "markdown",
   "metadata": {},
   "source": [
    "### Lexicographic Sorting (Multiple Keys)"
   ]
  },
  {
   "cell_type": "code",
   "execution_count": 17,
   "metadata": {},
   "outputs": [
    {
     "name": "stdout",
     "output_type": "stream",
     "text": [
      "Sorted by Age (asc), then Score (desc):\n",
      "Eve      Age:25 Score:92\n",
      "Alice    Age:25 Score:85\n",
      "Charlie  Age:25 Score:78\n",
      "Bob      Age:30 Score:92\n",
      "David    Age:30 Score:88\n"
     ]
    }
   ],
   "source": [
    "# Sort by multiple columns\n",
    "# Data: [Name, Age, Score]\n",
    "data = np.array([\n",
    "    ['Alice', 25, 85],\n",
    "    ['Bob', 30, 92],\n",
    "    ['Charlie', 25, 78],\n",
    "    ['David', 30, 88],\n",
    "    ['Eve', 25, 92]\n",
    "], dtype=object)\n",
    "\n",
    "# Sort by Age (ascending), then Score (descending)\n",
    "# First convert to appropriate types\n",
    "ages = data[:, 1].astype(int)\n",
    "scores = data[:, 2].astype(int)\n",
    "\n",
    "# Use lexsort (sorts by last key first)\n",
    "indices = np.lexsort((-scores, ages))  # Negative for descending\n",
    "sorted_data = data[indices]\n",
    "\n",
    "print(\"Sorted by Age (asc), then Score (desc):\")\n",
    "for row in sorted_data:\n",
    "    print(f\"{row[0]:8s} Age:{row[1]:2d} Score:{row[2]:2d}\")"
   ]
  },
  {
   "cell_type": "markdown",
   "metadata": {},
   "source": [
    "### Matrix Multiplication"
   ]
  },
  {
   "cell_type": "code",
   "execution_count": 18,
   "metadata": {},
   "outputs": [
    {
     "name": "stdout",
     "output_type": "stream",
     "text": [
      "A @ B:\n",
      "[[19 22]\n",
      " [43 50]]\n",
      "\n",
      "np.dot(A, B):\n",
      "[[19 22]\n",
      " [43 50]]\n",
      "\n",
      "A @ v: [ 5 11]\n",
      "\n",
      "Element-wise (A * B):\n",
      "[[ 5 12]\n",
      " [21 32]]\n"
     ]
    }
   ],
   "source": [
    "# Dot product and matrix multiplication\n",
    "A = np.array([[1, 2], [3, 4]])\n",
    "B = np.array([[5, 6], [7, 8]])\n",
    "\n",
    "# Matrix multiplication (modern way)\n",
    "C = A @ B\n",
    "print(f\"A @ B:\\n{C}\\n\")\n",
    "\n",
    "# Using np.dot (equivalent for 2D)\n",
    "C_dot = np.dot(A, B)\n",
    "print(f\"np.dot(A, B):\\n{C_dot}\\n\")\n",
    "\n",
    "# Matrix-vector multiplication\n",
    "v = np.array([1, 2])\n",
    "result = A @ v\n",
    "print(f\"A @ v: {result}\")\n",
    "\n",
    "# Element-wise multiplication (NOT matrix mult)\n",
    "elementwise = A * B\n",
    "print(f\"\\nElement-wise (A * B):\\n{elementwise}\")"
   ]
  },
  {
   "cell_type": "markdown",
   "metadata": {},
   "source": [
    "### Common Linear Algebra Operations"
   ]
  },
  {
   "cell_type": "code",
   "execution_count": 19,
   "metadata": {},
   "outputs": [
    {
     "name": "stdout",
     "output_type": "stream",
     "text": [
      "Transpose:\n",
      "[[1 3]\n",
      " [2 4]]\n",
      "\n",
      "Inverse:\n",
      "[[-2.   1. ]\n",
      " [ 1.5 -0.5]]\n",
      "\n",
      "A @ A_inv:\n",
      "[[1.0000000e+00 0.0000000e+00]\n",
      " [8.8817842e-16 1.0000000e+00]]\n",
      "\n",
      "Determinant: -2.0000000000000004\n",
      "Eigenvalues: [-0.37228132  5.37228132]\n",
      "Eigenvectors:\n",
      "[[-0.82456484 -0.41597356]\n",
      " [ 0.56576746 -0.90937671]]\n",
      "\n",
      "Rank: 2\n",
      "Trace: 5\n"
     ]
    }
   ],
   "source": [
    "# Matrix operations\n",
    "A = np.array([[1, 2], [3, 4]])\n",
    "\n",
    "# Transpose\n",
    "print(f\"Transpose:\\n{A.T}\\n\")\n",
    "\n",
    "# Inverse\n",
    "A_inv = np.linalg.inv(A)\n",
    "print(f\"Inverse:\\n{A_inv}\\n\")\n",
    "print(f\"A @ A_inv:\\n{A @ A_inv}\")  # Should be identity\n",
    "\n",
    "# Determinant\n",
    "det = np.linalg.det(A)\n",
    "print(f\"\\nDeterminant: {det}\")\n",
    "\n",
    "# Eigenvalues and eigenvectors\n",
    "eigenvalues, eigenvectors = np.linalg.eig(A)\n",
    "print(f\"Eigenvalues: {eigenvalues}\")\n",
    "print(f\"Eigenvectors:\\n{eigenvectors}\")\n",
    "\n",
    "# Matrix rank\n",
    "rank = np.linalg.matrix_rank(A)\n",
    "print(f\"\\nRank: {rank}\")\n",
    "\n",
    "# Trace\n",
    "trace = np.trace(A)\n",
    "print(f\"Trace: {trace}\")"
   ]
  }
 ],
 "metadata": {
  "kernelspec": {
   "display_name": "Python Base (DSML)",
   "language": "python",
   "name": "base"
  },
  "language_info": {
   "codemirror_mode": {
    "name": "ipython",
    "version": 3
   },
   "file_extension": ".py",
   "mimetype": "text/x-python",
   "name": "python",
   "nbconvert_exporter": "python",
   "pygments_lexer": "ipython3",
   "version": "3.13.1"
  },
  "orig_nbformat": 4
 },
 "nbformat": 4,
 "nbformat_minor": 2
}
