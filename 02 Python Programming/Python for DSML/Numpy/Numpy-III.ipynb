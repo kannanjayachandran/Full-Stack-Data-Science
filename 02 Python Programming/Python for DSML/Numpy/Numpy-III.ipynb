{
 "cells": [
  {
   "cell_type": "markdown",
   "metadata": {},
   "source": [
    "<h1 align=\"center\" style=\"color: orange\"> Numpy - III </h1>"
   ]
  },
  {
   "cell_type": "code",
   "execution_count": 1,
   "metadata": {},
   "outputs": [],
   "source": [
    "import numpy as np"
   ]
  },
  {
   "cell_type": "markdown",
   "metadata": {},
   "source": [
    "### Random Number Generation"
   ]
  },
  {
   "cell_type": "code",
   "execution_count": 2,
   "metadata": {},
   "outputs": [
    {
     "name": "stdout",
     "output_type": "stream",
     "text": [
      "Uniform [0,1): [0.37454012 0.95071431 0.73199394 0.59865848 0.15601864]\n",
      "Uniform [10,20): [11.5599452  10.58083612 18.66176146 16.01115012 17.08072578]\n",
      "Random integers [0,10): [5 4 1 7 5]\n",
      "Standard normal: [ 1.46237812  1.53871497 -2.43910582  0.60344123 -0.25104397]\n",
      "Normal (μ=100, σ=15): [ 97.54199325  77.8550546  122.30471437  99.63317234 105.33326976]\n"
     ]
    }
   ],
   "source": [
    "# Set seed for reproducibility\n",
    "np.random.seed(42)\n",
    "\n",
    "# Uniform random numbers [0, 1)\n",
    "uniform = np.random.rand(5)\n",
    "print(f\"Uniform [0,1): {uniform}\")\n",
    "\n",
    "# Uniform in range [low, high)\n",
    "uniform_range = np.random.uniform(10, 20, size=5)\n",
    "print(f\"Uniform [10,20): {uniform_range}\")\n",
    "\n",
    "# Random integers\n",
    "integers = np.random.randint(0, 10, size=5)\n",
    "print(f\"Random integers [0,10): {integers}\")\n",
    "\n",
    "# Standard normal distribution (mean=0, std=1)\n",
    "normal = np.random.randn(5)\n",
    "print(f\"Standard normal: {normal}\")\n",
    "\n",
    "# Normal with specific mean and std\n",
    "normal_custom = np.random.normal(loc=100, scale=15, size=5)\n",
    "print(f\"Normal (μ=100, σ=15): {normal_custom}\")"
   ]
  },
  {
   "cell_type": "markdown",
   "metadata": {},
   "source": [
    "### Random Sampling"
   ]
  },
  {
   "cell_type": "code",
   "execution_count": 3,
   "metadata": {},
   "outputs": [
    {
     "name": "stdout",
     "output_type": "stream",
     "text": [
      "With replacement: [50 30 50 10 20 40 10 40 20 20]\n",
      "Without replacement: [30 40 50]\n",
      "Weighted sample mean: 30.50\n"
     ]
    }
   ],
   "source": [
    "# Random choice from array\n",
    "data = np.array([10, 20, 30, 40, 50])\n",
    "\n",
    "# Sample with replacement\n",
    "sample_with = np.random.choice(data, size=10, replace=True)\n",
    "print(f\"With replacement: {sample_with}\")\n",
    "\n",
    "# Sample without replacement\n",
    "sample_without = np.random.choice(data, size=3, replace=False)\n",
    "print(f\"Without replacement: {sample_without}\")\n",
    "\n",
    "# Weighted sampling\n",
    "weights = np.array([0.1, 0.2, 0.3, 0.3, 0.1])\n",
    "weighted_sample = np.random.choice(data, size=100, p=weights)\n",
    "print(f\"Weighted sample mean: {weighted_sample.mean():.2f}\")"
   ]
  },
  {
   "cell_type": "markdown",
   "metadata": {},
   "source": [
    "### Random Permutations and Shuffling"
   ]
  },
  {
   "cell_type": "code",
   "execution_count": 4,
   "metadata": {},
   "outputs": [
    {
     "name": "stdout",
     "output_type": "stream",
     "text": [
      "Original: [0 1 2 3 4 5 6 7 8 9]\n",
      "Permuted: [4 5 8 2 7 6 3 1 9 0]\n",
      "Shuffled: [6 5 3 4 1 8 2 9 7 0]\n",
      "\n",
      "Original matrix:\n",
      "[[ 0  1  2  3]\n",
      " [ 4  5  6  7]\n",
      " [ 8  9 10 11]]\n",
      "Shuffled rows:\n",
      "[[ 8  9 10 11]\n",
      " [ 4  5  6  7]\n",
      " [ 0  1  2  3]]\n"
     ]
    }
   ],
   "source": [
    "# Permutation: return shuffled copy\n",
    "arr = np.arange(10)\n",
    "permuted = np.random.permutation(arr)\n",
    "print(f\"Original: {arr}\")\n",
    "print(f\"Permuted: {permuted}\")\n",
    "\n",
    "# Shuffle: in-place shuffling\n",
    "arr_copy = arr.copy()\n",
    "np.random.shuffle(arr_copy)\n",
    "print(f\"Shuffled: {arr_copy}\")\n",
    "\n",
    "# Shuffle rows of 2D array\n",
    "matrix = np.arange(12).reshape(3, 4)\n",
    "print(f\"\\nOriginal matrix:\\n{matrix}\")\n",
    "np.random.shuffle(matrix)\n",
    "print(f\"Shuffled rows:\\n{matrix}\")"
   ]
  },
  {
   "cell_type": "markdown",
   "metadata": {},
   "source": [
    "### Views vs Copies"
   ]
  },
  {
   "cell_type": "code",
   "execution_count": 5,
   "metadata": {},
   "outputs": [
    {
     "name": "stdout",
     "output_type": "stream",
     "text": [
      "Original after view modification: [999   1   2   3   4   5   6   7   8   9]\n",
      "Is view? True\n",
      "Original after copy modification: [0 1 2 3 4 5 6 7 8 9]\n"
     ]
    }
   ],
   "source": [
    "# View: references same memory\n",
    "arr = np.arange(10)\n",
    "view = arr[::2]\n",
    "view[0] = 999\n",
    "print(f\"Original after view modification: {arr}\")\n",
    "\n",
    "# Check if view\n",
    "print(f\"Is view? {view.base is arr}\")\n",
    "\n",
    "# Copy: independent memory\n",
    "arr = np.arange(10)\n",
    "copy = arr[::2].copy()\n",
    "copy[0] = 999\n",
    "print(f\"Original after copy modification: {arr}\")"
   ]
  },
  {
   "cell_type": "markdown",
   "metadata": {},
   "source": [
    "### Structured Arrays"
   ]
  },
  {
   "cell_type": "code",
   "execution_count": 6,
   "metadata": {},
   "outputs": [
    {
     "name": "stdout",
     "output_type": "stream",
     "text": [
      "Structured array:\n",
      "[('Alice', 25, 85.5) ('Bob', 30, 92. ) ('Charlie', 28, 78.5)]\n",
      "\n",
      "Names: ['Alice' 'Bob' 'Charlie']\n",
      "Ages: [25 30 28]\n",
      "Mean score: 85.33\n",
      "\n",
      "Sorted by score:\n",
      "[('Charlie', 28, 78.5) ('Alice', 25, 85.5) ('Bob', 30, 92. )]\n"
     ]
    }
   ],
   "source": [
    "# Define structured dtype\n",
    "dt = np.dtype([('name', 'U10'), ('age', 'i4'), ('score', 'f4')])\n",
    "\n",
    "# Create structured array\n",
    "data = np.array([('Alice', 25, 85.5),\n",
    "                 ('Bob', 30, 92.0),\n",
    "                 ('Charlie', 28, 78.5)], dtype=dt)\n",
    "\n",
    "print(f\"Structured array:\\n{data}\")\n",
    "print(f\"\\nNames: {data['name']}\")\n",
    "print(f\"Ages: {data['age']}\")\n",
    "print(f\"Mean score: {data['score'].mean():.2f}\")\n",
    "\n",
    "# Sort by score\n",
    "sorted_data = np.sort(data, order='score')\n",
    "print(f\"\\nSorted by score:\\n{sorted_data}\")"
   ]
  },
  {
   "cell_type": "markdown",
   "metadata": {},
   "source": [
    "### Masked Arrays"
   ]
  },
  {
   "cell_type": "code",
   "execution_count": 7,
   "metadata": {},
   "outputs": [
    {
     "name": "stdout",
     "output_type": "stream",
     "text": [
      "Masked array: [1 2 -- 4 -- 6]\n",
      "Mean (ignoring masked): 3.25\n",
      "Valid data: [1 2 4 6]\n"
     ]
    }
   ],
   "source": [
    "# Handle invalid/missing data\n",
    "data = np.array([1, 2, -999, 4, -999, 6])\n",
    "masked_data = np.ma.masked_equal(data, -999)\n",
    "\n",
    "print(f\"Masked array: {masked_data}\")\n",
    "print(f\"Mean (ignoring masked): {masked_data.mean():.2f}\")\n",
    "print(f\"Valid data: {masked_data.compressed()}\")"
   ]
  }
 ],
 "metadata": {
  "kernelspec": {
   "display_name": "Python Base (DSML)",
   "language": "python",
   "name": "base"
  },
  "language_info": {
   "codemirror_mode": {
    "name": "ipython",
    "version": 3
   },
   "file_extension": ".py",
   "mimetype": "text/x-python",
   "name": "python",
   "nbconvert_exporter": "python",
   "pygments_lexer": "ipython3",
   "version": "3.13.1"
  },
  "orig_nbformat": 4
 },
 "nbformat": 4,
 "nbformat_minor": 2
}
