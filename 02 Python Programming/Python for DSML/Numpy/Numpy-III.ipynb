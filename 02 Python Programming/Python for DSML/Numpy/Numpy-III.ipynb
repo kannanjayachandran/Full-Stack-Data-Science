{
 "cells": [
  {
   "cell_type": "markdown",
   "metadata": {},
   "source": [
    "<h1 align=\"center\" style=\"color: orange\"> Numpy - III </h1>"
   ]
  },
  {
   "cell_type": "code",
   "execution_count": 1,
   "metadata": {},
   "outputs": [],
   "source": [
    "import numpy as np"
   ]
  },
  {
   "cell_type": "markdown",
   "metadata": {},
   "source": [
    "### Creating random arrays"
   ]
  },
  {
   "cell_type": "code",
   "execution_count": 7,
   "metadata": {},
   "outputs": [
    {
     "name": "stdout",
     "output_type": "stream",
     "text": [
      "Random array created from normal distribution : [[  0.48237531   0.46751089   3.36755189 -10.08692142]\n",
      " [  3.75932795   2.4037292   -3.07912467  -1.55467588]\n",
      " [ -0.90832451  -1.76318385  -7.02709351  -5.45104012]]\n",
      "\n",
      "Random array of integers : [[8 3 1 4]\n",
      " [3 2 2 5]\n",
      " [2 4 4 7]]\n",
      "\n",
      "Random float array : [[0.36217262 0.0840522  0.08717386 0.35676831]\n",
      " [0.70319107 0.11350849 0.05232433 0.04839408]\n",
      " [0.11242347 0.44280192 0.13948498 0.66910179]]\n"
     ]
    }
   ],
   "source": [
    "# Creating random arrays\n",
    "rng = np.random.default_rng()\n",
    "\n",
    "# from normal distribution\n",
    "a1  = rng.normal(0, 3, size=(3, 4))\n",
    "print(f'Random array created from normal distribution : {a1}')\n",
    "\n",
    "# random integers array\n",
    "a2 = rng.integers(1, 10, size=(3, 4))\n",
    "print(f'\\nRandom array of integers : {a2}')\n",
    "\n",
    "# random float array\n",
    "a3 = rng.random((3, 4))\n",
    "print(f'\\nRandom float array : {a3}')"
   ]
  },
  {
   "cell_type": "markdown",
   "metadata": {},
   "source": [
    "### Memory layout"
   ]
  },
  {
   "cell_type": "code",
   "execution_count": 23,
   "metadata": {},
   "outputs": [
    {
     "name": "stdout",
     "output_type": "stream",
     "text": [
      "View (original array) of [[8 3 1 4]\n",
      " [3 2 2 5]\n",
      " [2 4 4 7]] \n",
      "is \n",
      " [[8 3 1 4]\n",
      " [3 2 2 5]\n",
      " [2 4 4 7]]\n",
      "\n",
      "View (original array) of [[8 3 1 4]\n",
      " [3 2 2 5]\n",
      " [2 4 4 7]] is \n",
      " None\n",
      "None means this is the original array\n",
      "\n",
      "a4 and a2 shares memory : True\n",
      "\n",
      "a5 and a2 shares memory : True\n",
      "\n",
      "a6 and a2 shares memory : True\n"
     ]
    }
   ],
   "source": [
    "a4 = a2.view()\n",
    "\n",
    "print(f'View (original array) of {a4} \\nis \\n {a4.base}')\n",
    "print(f'\\nView (original array) of {a2} is \\n {a2.base}\\nNone means this is the original array')\n",
    "print(f'\\na4 and a2 shares memory : {np.shares_memory(a2, a4)}')\n",
    "\n",
    "a5 = a4[:]\n",
    "print(f'\\na5 and a2 shares memory : {np.shares_memory(a5, a2)}')\n",
    "\n",
    "a6 = a5[::2]\n",
    "print(f'\\na6 and a2 shares memory : {np.shares_memory(a6, a2)}')"
   ]
  },
  {
   "cell_type": "markdown",
   "metadata": {},
   "source": [
    "### Tensor and Tensor operations"
   ]
  },
  {
   "cell_type": "code",
   "execution_count": 32,
   "metadata": {},
   "outputs": [
    {
     "name": "stdout",
     "output_type": "stream",
     "text": [
      "Tensor : \n",
      " [[[ 1  2  3]\n",
      "  [ 4  5  6]\n",
      "  [ 7  8  9]\n",
      "  [10 11 12]]\n",
      "\n",
      " [[13 14 15]\n",
      "  [16 17 18]\n",
      "  [19 20 21]\n",
      "  [22 23 24]]]\n",
      "\n",
      "Dimension of the tensor : 3, \n",
      "Shape of the tensor : (2, 4, 3)\n"
     ]
    }
   ],
   "source": [
    "layers, rows, cols = 2, 4, 3\n",
    "a7 = np.arange(1, 25).reshape((layers, rows, cols))\n",
    "print(\"Tensor : \\n\", a7)\n",
    "\n",
    "print(f\"\\nDimension of the tensor : {a7.ndim}, \\nShape of the tensor : {a7.shape}\")"
   ]
  },
  {
   "cell_type": "markdown",
   "metadata": {},
   "source": [
    "### Masked arrays"
   ]
  },
  {
   "cell_type": "code",
   "execution_count": 34,
   "metadata": {},
   "outputs": [
    {
     "name": "stdout",
     "output_type": "stream",
     "text": [
      "[-- 2 -- -- -- -- 7]\n"
     ]
    }
   ],
   "source": [
    "print(np.ma.array([1, 2, 3, 4, 5, 6, 7], mask=[1, 0, 1, 1, 1, 1, 0]))"
   ]
  },
  {
   "cell_type": "code",
   "execution_count": 36,
   "metadata": {},
   "outputs": [
    {
     "name": "stdout",
     "output_type": "stream",
     "text": [
      "[1.0 -- 3.0 4.0]\n"
     ]
    }
   ],
   "source": [
    "print(np.ma.masked_values([1.0, 1.e20, 3.0, 4.0], 1.e20))"
   ]
  }
 ],
 "metadata": {
  "kernelspec": {
   "display_name": "ML",
   "language": "python",
   "name": "python3"
  },
  "language_info": {
   "codemirror_mode": {
    "name": "ipython",
    "version": 3
   },
   "file_extension": ".py",
   "mimetype": "text/x-python",
   "name": "python",
   "nbconvert_exporter": "python",
   "pygments_lexer": "ipython3",
   "version": "3.11.5"
  },
  "orig_nbformat": 4
 },
 "nbformat": 4,
 "nbformat_minor": 2
}
