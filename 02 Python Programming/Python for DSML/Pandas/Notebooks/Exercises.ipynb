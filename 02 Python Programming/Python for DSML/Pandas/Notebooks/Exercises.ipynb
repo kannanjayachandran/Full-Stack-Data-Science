{
 "cells": [
  {
   "cell_type": "markdown",
   "metadata": {},
   "source": [
    "# Pandas : Exercises\n",
    "\n",
    "1. Create a series with the temperature values for the last seven days. Filter out the values below the mean.\n",
    "\n",
    "2. Create a series with your favorite colors. Use a categorical type.\n",
    "\n",
    "3. Combine two series into a DataFrame."
   ]
  },
  {
   "cell_type": "code",
   "execution_count": 1,
   "metadata": {},
   "outputs": [],
   "source": [
    "import pandas as pd"
   ]
  },
  {
   "cell_type": "code",
   "execution_count": null,
   "metadata": {},
   "outputs": [
    {
     "name": "stdout",
     "output_type": "stream",
     "text": [
      "Mean temperature is 29.286\n",
      "Answer:\n",
      "Thursday    31\n",
      "Friday      30\n",
      "Saturday    30\n",
      "Sunday      31\n",
      "dtype: Int64\n"
     ]
    }
   ],
   "source": [
    "# 1 Create a series with the temperature values for the last seven days. Filter out the values below the mean.\n",
    "temperature_list = [28, 29, 26, 31, 30, 30, 31]\n",
    "\n",
    "temperature_series = pd.Series(temperature_list,\n",
    "                               index=['Monday', 'Tuesday', 'Wednesday', 'Thursday', 'Friday', 'Saturday', 'Sunday'],\n",
    "                                dtype='Int64')\n",
    "\n",
    "mask = temperature_series > temperature_series.mean()\n",
    "\n",
    "answer = temperature_series[mask]\n",
    "\n",
    "print(f'Mean temperature is {temperature_series.mean():.3f}\\nAnswer:\\n{answer}')"
   ]
  },
  {
   "cell_type": "code",
   "execution_count": null,
   "metadata": {},
   "outputs": [
    {
     "data": {
      "text/plain": [
       "0     Black\n",
       "1     White\n",
       "2    Orange\n",
       "dtype: category\n",
       "Categories (3, object): ['Black', 'Orange', 'White']"
      ]
     },
     "execution_count": 3,
     "metadata": {},
     "output_type": "execute_result"
    }
   ],
   "source": [
    "# 2 Create a series with your favorite colors. Use a categorical type.\n",
    "fav_colors = ['Black', 'White', 'Orange']\n",
    "fav_colors_series = pd.Series(fav_colors, dtype='category')\n",
    "\n",
    "fav_colors_series"
   ]
  },
  {
   "cell_type": "code",
   "execution_count": null,
   "metadata": {},
   "outputs": [],
   "source": [
    "# 3 Combine two series into a DataFrame.\n",
    "s1 = pd.Series([1, 2, 3, 4, 5])\n",
    "s2 = pd.Series([6, 7, 8, 9, 10])\n",
    "\n",
    "df_combined = pd.concat([s1, s2])"
   ]
  },
  {
   "cell_type": "code",
   "execution_count": 10,
   "metadata": {},
   "outputs": [
    {
     "data": {
      "text/plain": [
       "0     1\n",
       "1     2\n",
       "2     3\n",
       "3     4\n",
       "4     5\n",
       "0     6\n",
       "1     7\n",
       "2     8\n",
       "3     9\n",
       "4    10\n",
       "dtype: int64"
      ]
     },
     "execution_count": 10,
     "metadata": {},
     "output_type": "execute_result"
    }
   ],
   "source": [
    "df_combined"
   ]
  }
 ],
 "metadata": {
  "kernelspec": {
   "display_name": "base",
   "language": "python",
   "name": "python3"
  },
  "language_info": {
   "codemirror_mode": {
    "name": "ipython",
    "version": 3
   },
   "file_extension": ".py",
   "mimetype": "text/x-python",
   "name": "python",
   "nbconvert_exporter": "python",
   "pygments_lexer": "ipython3",
   "version": "3.12.5"
  }
 },
 "nbformat": 4,
 "nbformat_minor": 2
}
