{
 "cells": [
  {
   "cell_type": "markdown",
   "metadata": {},
   "source": [
    "<h1 align=\"center\" style=\"color: orange\"> Pandas I </h1>"
   ]
  },
  {
   "cell_type": "code",
   "execution_count": 2,
   "metadata": {},
   "outputs": [],
   "source": [
    "import numpy as np\n",
    "import pandas as pd"
   ]
  },
  {
   "cell_type": "markdown",
   "metadata": {},
   "source": [
    "### Series"
   ]
  },
  {
   "cell_type": "code",
   "execution_count": 5,
   "metadata": {},
   "outputs": [
    {
     "name": "stdout",
     "output_type": "stream",
     "text": [
      "Series s1:\n",
      "0    10\n",
      "1    20\n",
      "2    30\n",
      "3    40\n",
      "dtype: int64\n",
      "--------------------------------\n",
      "\n",
      "Series s2 with custom index:\n",
      "a    10\n",
      "b    20\n",
      "c    30\n",
      "d    40\n",
      "Name: values, dtype: int64\n",
      "--------------------------------\n",
      "\n",
      "Series medals (from dict):\n",
      "US       46\n",
      "China    38\n",
      "Japan    27\n",
      "GB       22\n",
      "Name: Gold_Medals, dtype: int64\n",
      "--------------------------------\n",
      "\n",
      "Series s3 (from scalar):\n",
      "a    5.0\n",
      "b    5.0\n",
      "c    5.0\n",
      "d    5.0\n",
      "dtype: float64\n",
      "--------------------------------\n",
      "\n",
      "Series s4 (from Numpy array):\n",
      "v    1.598080\n",
      "w   -0.710631\n",
      "x    0.210101\n",
      "y    0.351109\n",
      "z   -0.294023\n",
      "dtype: float64\n"
     ]
    }
   ],
   "source": [
    "# From list (default integer index)\n",
    "s1 = pd.Series([10, 20, 30, 40])\n",
    "print(f\"Series s1:\\n{s1}\")\n",
    "print(\"--------------------------------\\n\")\n",
    "\n",
    "\n",
    "# With custom index\n",
    "s2 = pd.Series([10, 20, 30, 40], \n",
    "               index=['a', 'b', 'c', 'd'],\n",
    "               name='values')\n",
    "print(f\"Series s2 with custom index:\\n{s2}\")\n",
    "print(\"--------------------------------\\n\")\n",
    "\n",
    "# From dictionary (keys become index)\n",
    "data_dict = {'US': 46, 'China': 38, 'Japan': 27, 'GB': 22}\n",
    "medals = pd.Series(data_dict, name='Gold_Medals')\n",
    "print(f\"Series medals (from dict):\\n{medals}\")\n",
    "print(\"--------------------------------\\n\")\n",
    "\n",
    "# From scalar (broadcasts to all indices)\n",
    "s3 = pd.Series(5.0, index=['a', 'b', 'c', 'd'])\n",
    "print(f\"Series s3 (from scalar):\\n{s3}\")\n",
    "print(\"--------------------------------\\n\")\n",
    "\n",
    "# From NumPy array\n",
    "arr = np.random.randn(5)\n",
    "s4 = pd.Series(arr, index=['v', 'w', 'x', 'y', 'z'])\n",
    "print(f\"Series s4 (from Numpy array):\\n{s4}\")"
   ]
  },
  {
   "cell_type": "markdown",
   "metadata": {},
   "source": [
    "### Series Attributes"
   ]
  },
  {
   "cell_type": "code",
   "execution_count": null,
   "metadata": {},
   "outputs": [
    {
     "name": "stdout",
     "output_type": "stream",
     "text": [
      "Values: [46 38 27 22]\n",
      "\n",
      "Index: Index(['US', 'China', 'Japan', 'GB'], dtype='object')\n",
      "\n",
      "Name: Gold_Medals\n",
      "\n",
      "Dtype: int64\n",
      "\n",
      "Size: 4\n",
      "\n",
      "Count: 4\n",
      "\n",
      "Shape: (4,)\n",
      "\n",
      "Memory: 64 bytes\n"
     ]
    }
   ],
   "source": [
    "medals = pd.Series({'US': 46, 'China': 38, 'Japan': 27, 'GB': 22}, \n",
    "                   name='Gold_Medals')\n",
    "\n",
    "# Core attributes\n",
    "print(f\"Values: {medals.values}\")       # NumPy array\n",
    "print(f\"\\nIndex: {medals.index}\")       # Index object\n",
    "print(f\"\\nName: {medals.name}\")         # 'Gold_Medals'\n",
    "print(f\"\\nDtype: {medals.dtype}\")       # int64\n",
    "print(f\"\\nSize: {medals.size}\")         # 4 (total elements including NaN)\n",
    "print(f\"\\nCount: {medals.count()}\")     # 4 (non-NaN values)\n",
    "print(f\"\\nShape: {medals.shape}\")       # (4,)\n",
    "print(f\"\\nMemory: {medals.memory_usage()} bytes\")"
   ]
  },
  {
   "cell_type": "markdown",
   "metadata": {},
   "source": [
    "### Series Operations"
   ]
  },
  {
   "cell_type": "code",
   "execution_count": 8,
   "metadata": {},
   "outputs": [
    {
     "name": "stdout",
     "output_type": "stream",
     "text": [
      "Adding Scalar :\n",
      "0    11\n",
      "1    12\n",
      "2    13\n",
      "3    14\n",
      "dtype: int64\n",
      "\n",
      "Multiply with Scalar :\n",
      "0    2\n",
      "1    4\n",
      "2    6\n",
      "3    8\n",
      "dtype: int64\n",
      "\n",
      "Power :\n",
      "0     1\n",
      "1     4\n",
      "2     9\n",
      "3    16\n",
      "dtype: int64\n",
      "--------------------------------\n",
      "\n",
      "Result :\n",
      "a    5.0\n",
      "b    5.0\n",
      "c    5.0\n",
      "d    5.0\n",
      "dtype: float64\n",
      "--------------------------------\n",
      "\n",
      "Sum: 15\n",
      "\n",
      "Mean: 3.0\n",
      "\n",
      "Std: 1.5811388300841898\n",
      "\n",
      "Min: 1\n",
      "\n",
      "Max: 5\n",
      "\n",
      "Median: 3.0\n",
      "--------------------------------\n",
      "\n",
      "Summary Statistic :\n",
      "count    5.000000\n",
      "mean     3.000000\n",
      "std      1.581139\n",
      "min      1.000000\n",
      "25%      2.000000\n",
      "50%      3.000000\n",
      "75%      4.000000\n",
      "max      5.000000\n",
      "dtype: float64\n"
     ]
    }
   ],
   "source": [
    "# Arithmetic operations (element-wise)\n",
    "s = pd.Series([1, 2, 3, 4])\n",
    "print(f\"Adding Scalar :\\n{s + 10}\")\n",
    "print(f\"\\nMultiply with Scalar :\\n{s * 2}\")\n",
    "print(f\"\\nPower :\\n{s ** 2}\")\n",
    "print(\"--------------------------------\\n\")\n",
    "\n",
    "# Operations between Series (aligns on index)\n",
    "s1 = pd.Series([1, 2, 3], index=['a', 'b', 'c'])\n",
    "s2 = pd.Series([10, 20, 30, 40], index=['a', 'b', 'c', 'd'])\n",
    "result = s1 + s2\n",
    "print(f\"Result :\\n{s3}\")\n",
    "print(\"--------------------------------\\n\")\n",
    "# a     11\n",
    "# b     22\n",
    "# c     33\n",
    "# d    NaN  (no matching index in s1)\n",
    "\n",
    "# Aggregations\n",
    "data = pd.Series([1, 2, 3, 4, 5])\n",
    "print(f\"Sum: {data.sum()}\")\n",
    "print(f\"\\nMean: {data.mean()}\")\n",
    "print(f\"\\nStd: {data.std()}\")\n",
    "print(f\"\\nMin: {data.min()}\")\n",
    "print(f\"\\nMax: {data.max()}\")\n",
    "print(f\"\\nMedian: {data.median()}\")\n",
    "print(\"--------------------------------\\n\")\n",
    "\n",
    "# Statistical summary\n",
    "print(f\"Summary Statistic :\\n{data.describe()}\")"
   ]
  },
  {
   "cell_type": "markdown",
   "metadata": {},
   "source": [
    "### Series Indexing"
   ]
  },
  {
   "cell_type": "code",
   "execution_count": null,
   "metadata": {},
   "outputs": [
    {
     "name": "stdout",
     "output_type": "stream",
     "text": [
      "Explicit Indexing\n",
      "s['b']: 20\n",
      "s[['a', 'c']]: \n",
      "a    10\n",
      "c    30\n",
      "dtype: int64\n",
      "--------------------------------\n",
      "\n",
      "Implicit Indexing\n",
      "s.iloc[1]: 20\n",
      "s.iloc[0:2]: \n",
      "a    10\n",
      "b    20\n",
      "dtype: int64\n",
      "--------------------------------\n",
      "\n",
      "Boolean Indexing\n",
      "s[s > 20]: \n",
      "c    30\n",
      "d    40\n",
      "dtype: int64\n",
      "--------------------------------\n",
      "\n",
      "Fancy Indexing\n",
      "s.iloc[indices]: a    10\n",
      "c    30\n",
      "dtype: int64\n"
     ]
    }
   ],
   "source": [
    "s = pd.Series([10, 20, 30, 40], index=['a', 'b', 'c', 'd'])\n",
    "\n",
    "# By label (explicit indexing)\n",
    "print(\"Explicit Indexing\")\n",
    "print(f\"s['b']: {s['b']}\")  # 20\n",
    "print(f\"s[['a', 'c']]: \\n{s[['a', 'c']]}\")  # Multiple labels\n",
    "print(\"--------------------------------\\n\")\n",
    "\n",
    "# By position (implicit indexing)\n",
    "print(\"Implicit Indexing\")\n",
    "print(f\"s.iloc[1]: {s.iloc[1]}\")    # 20\n",
    "print(f\"s.iloc[0:2]: \\n{s.iloc[0:2]}\")  # First two elements\n",
    "print(\"--------------------------------\\n\")\n",
    "\n",
    "# Boolean indexing\n",
    "print(\"Boolean Indexing\")\n",
    "print(f\"s[s > 20]: \\n{s[s > 20]}\")  # Values > 20\n",
    "print(\"--------------------------------\\n\")\n",
    "\n",
    "# Fancy indexing\n",
    "print(\"Fancy Indexing\")\n",
    "indices = [0, 2]\n",
    "print(f\"s.iloc[indices]: {s.iloc[indices]}\")"
   ]
  },
  {
   "cell_type": "markdown",
   "metadata": {},
   "source": [
    "### Series Methods"
   ]
  },
  {
   "cell_type": "code",
   "execution_count": null,
   "metadata": {},
   "outputs": [
    {
     "name": "stdout",
     "output_type": "stream",
     "text": [
      "Series s :\n",
      "0    3\n",
      "1    1\n",
      "2    4\n",
      "3    1\n",
      "4    5\n",
      "5    9\n",
      "6    2\n",
      "7    6\n",
      "Name: numbers, dtype: int64\n",
      "--------------------------------\n",
      "\n",
      "\n",
      "Sorting\n",
      "s.sort_values(): 1    1\n",
      "3    1\n",
      "6    2\n",
      "0    3\n",
      "2    4\n",
      "4    5\n",
      "7    6\n",
      "5    9\n",
      "Name: numbers, dtype: int64\n",
      "s.sort_index(): 0    3\n",
      "1    1\n",
      "2    4\n",
      "3    1\n",
      "4    5\n",
      "5    9\n",
      "6    2\n",
      "7    6\n",
      "Name: numbers, dtype: int64\n",
      "--------------------------------\n",
      "\n",
      "Unique values\n",
      "s.unique(): [3 1 4 5 9 2 6]\n",
      "s.nunique(): 7\n",
      "s.value_counts(): numbers\n",
      "1    2\n",
      "3    1\n",
      "4    1\n",
      "5    1\n",
      "9    1\n",
      "2    1\n",
      "6    1\n",
      "Name: count, dtype: int64\n",
      "--------------------------------\n",
      "\n",
      "Ranking\n",
      "s.rank(): 0    4.0\n",
      "1    1.5\n",
      "2    5.0\n",
      "3    1.5\n",
      "4    6.0\n",
      "5    8.0\n",
      "6    3.0\n",
      "7    7.0\n",
      "Name: numbers, dtype: float64\n",
      "--------------------------------\n",
      "\n",
      "Checking for duplicates\n",
      "s.duplicated(): 0    False\n",
      "1    False\n",
      "2    False\n",
      "3     True\n",
      "4    False\n",
      "5    False\n",
      "6    False\n",
      "7    False\n",
      "Name: numbers, dtype: bool\n",
      "s.drop_duplicates(): 0    3\n",
      "1    1\n",
      "2    4\n",
      "4    5\n",
      "5    9\n",
      "6    2\n",
      "7    6\n",
      "Name: numbers, dtype: int64\n",
      "--------------------------------\n",
      "\n",
      "String Operations\n",
      "s_str.str.upper():\n",
      "0     APPLE\n",
      "1    BANANA\n",
      "2    CHERRY\n",
      "dtype: object\n",
      "s_str.str.contains('an'):\n",
      "0    False\n",
      "1     True\n",
      "2    False\n",
      "dtype: bool\n",
      "--------------------------------\n",
      "\n",
      "s.apply(square_if_even): 0     3\n",
      "1     1\n",
      "2    16\n",
      "3     1\n",
      "4     5\n",
      "5     9\n",
      "6     4\n",
      "7    36\n",
      "Name: numbers, dtype: int64\n",
      "s.map(mapping): 0    three\n",
      "1      one\n",
      "2      NaN\n",
      "3      one\n",
      "4      NaN\n",
      "5      NaN\n",
      "6      two\n",
      "7      NaN\n",
      "Name: numbers, dtype: object\n"
     ]
    }
   ],
   "source": [
    "s = pd.Series([3, 1, 4, 1, 5, 9, 2, 6], name='numbers')\n",
    "print(f\"Series s :\\n{s}\")\n",
    "print(\"--------------------------------\\n\")\n",
    "\n",
    "# Sorting\n",
    "print(\"\\nSorting\")\n",
    "print(f\"s.sort_values(): {s.sort_values()}\")        # Sort by values\n",
    "print(f\"s.sort_index(): {s.sort_index()}\")      # Sort by index\n",
    "print(\"--------------------------------\\n\")\n",
    "\n",
    "# Unique values\n",
    "print(\"Unique values\")\n",
    "print(f\"s.unique(): {s.unique()}\")      # Array of unique values\n",
    "print(f\"s.nunique(): {s.nunique()}\")        # Count of unique values\n",
    "print(f\"s.value_counts(): {s.value_counts()}\")      # Frequency of each value\n",
    "print(\"--------------------------------\\n\")\n",
    "\n",
    "# Ranking\n",
    "print(\"Ranking\")\n",
    "print(f\"s.rank(): {s.rank()}\")      # Assign ranks to values\n",
    "print(\"--------------------------------\\n\")\n",
    "\n",
    "# Checking for duplicates\n",
    "print(\"Checking for duplicates\")\n",
    "print(f\"s.duplicated(): {s.duplicated()}\")      # Boolean mask\n",
    "print(f\"s.drop_duplicates(): {s.drop_duplicates()}\")        # Remove duplicates\n",
    "print(\"--------------------------------\\n\")\n",
    "\n",
    "# String operations (if dtype is object/string)\n",
    "print(\"String Operations\")\n",
    "s_str = pd.Series(['apple', 'banana', 'cherry'])\n",
    "print(f\"s_str.str.upper():\\n{s_str.str.upper()}\")       # 'APPLE', 'BANANA', 'CHERRY'\n",
    "print(f\"s_str.str.contains('an'):\\n{s_str.str.contains('an')}\")     # Boolean mask\n",
    "print(\"--------------------------------\\n\")\n",
    "\n",
    "# Apply custom function\n",
    "def square_if_even(x):\n",
    "    return x**2 if x % 2 == 0 else x\n",
    "\n",
    "print(f\"s.apply(square_if_even): {s.apply(square_if_even)}\")\n",
    "\n",
    "# Map values (dictionary-based transformation)\n",
    "mapping = {1: 'one', 2: 'two', 3: 'three'}\n",
    "print(f\"s.map(mapping): {s.map(mapping)}\")      # NaN for unmapped values"
   ]
  },
  {
   "cell_type": "markdown",
   "metadata": {},
   "source": [
    "### DataFrame"
   ]
  },
  {
   "cell_type": "code",
   "execution_count": 3,
   "metadata": {},
   "outputs": [
    {
     "name": "stdout",
     "output_type": "stream",
     "text": [
      "{'index': [0, 1, 2], 'columns': [{'name': 'growth', 'data': 0    0.5\n",
      "1    0.7\n",
      "2    1.2\n",
      "dtype: float64}, {'name': 'revenue', 'data': 0    100\n",
      "1    150\n",
      "2    200\n",
      "dtype: int64}]}\n"
     ]
    }
   ],
   "source": [
    "# Conceptual representation of DataFrame internals\n",
    "df_concept = {\n",
    "    'index': [0, 1, 2],\n",
    "    'columns': [\n",
    "        {'name': 'growth', 'data': pd.Series([0.5, 0.7, 1.2])},\n",
    "        {'name': 'revenue', 'data': pd.Series([100, 150, 200])}\n",
    "    ]\n",
    "}\n",
    "\n",
    "print(df_concept)"
   ]
  },
  {
   "cell_type": "code",
   "execution_count": 5,
   "metadata": {},
   "outputs": [
    {
     "name": "stdout",
     "output_type": "stream",
     "text": [
      "  Country  Gold  Silver\n",
      "0      US    46      37\n",
      "1   China    38      32\n",
      "2   Japan    27      14\n",
      "--------------------------------------------\n",
      "\n",
      "          A         B         C\n",
      "w  0.857905 -1.705285 -0.010104\n",
      "x -0.534062  0.580203 -0.402063\n",
      "y -1.316870 -0.496442 -1.261982\n",
      "z  1.459550  0.471603 -0.444002\n",
      "--------------------------------------------\n",
      "\n",
      "   col1  col2\n",
      "a     1    10\n",
      "b     2    20\n",
      "c     3    30\n",
      "--------------------------------------------\n",
      "\n",
      "  Country  Gold  Silver  Bronze\n",
      "0      US    46      37      38\n",
      "1   China    38      32      18\n",
      "2   Japan    27      14      17\n",
      "--------------------------------------------\n",
      "\n",
      "       Country  Gold  Silver  Bronze\n",
      "first       US    46      37      38\n",
      "second   China    38      32      18\n",
      "third    Japan    27      14      17\n"
     ]
    }
   ],
   "source": [
    "# From dictionary of lists (most common)\n",
    "data = {\n",
    "    'Country': ['US', 'China', 'Japan', 'GB'],\n",
    "    'Gold': [46, 38, 27, 22],\n",
    "    'Silver': [37, 32, 14, 21],\n",
    "    'Bronze': [38, 18, 17, 22]\n",
    "}\n",
    "df = pd.DataFrame(data)\n",
    "\n",
    "# From list of dictionaries\n",
    "records = [\n",
    "    {'Country': 'US', 'Gold': 46, 'Silver': 37},\n",
    "    {'Country': 'China', 'Gold': 38, 'Silver': 32},\n",
    "    {'Country': 'Japan', 'Gold': 27, 'Silver': 14}\n",
    "]\n",
    "df = pd.DataFrame(records)\n",
    "\n",
    "print(df)\n",
    "print(\"--------------------------------------------\\n\")\n",
    "\n",
    "# From NumPy array with column names\n",
    "arr = np.random.randn(4, 3)\n",
    "df = pd.DataFrame(arr, \n",
    "                  columns=['A', 'B', 'C'],\n",
    "                  index=['w', 'x', 'y', 'z'])\n",
    "print(df)\n",
    "print(\"--------------------------------------------\\n\")\n",
    "\n",
    "# From dictionary of Series\n",
    "s1 = pd.Series([1, 2, 3], index=['a', 'b', 'c'])\n",
    "s2 = pd.Series([10, 20, 30], index=['a', 'b', 'c'])\n",
    "df = pd.DataFrame({'col1': s1, 'col2': s2})\n",
    "print(df)\n",
    "print(\"--------------------------------------------\\n\")\n",
    "\n",
    "# From nested lists\n",
    "data = [\n",
    "    ['US', 46, 37, 38],\n",
    "    ['China', 38, 32, 18],\n",
    "    ['Japan', 27, 14, 17]\n",
    "]\n",
    "df = pd.DataFrame(data, columns=['Country', 'Gold', 'Silver', 'Bronze'])\n",
    "print(df)\n",
    "print(\"--------------------------------------------\\n\")\n",
    "\n",
    "# With custom index\n",
    "df = pd.DataFrame(data, \n",
    "                  columns=['Country', 'Gold', 'Silver', 'Bronze'],\n",
    "                  index=['first', 'second', 'third'])\n",
    "print(df)"
   ]
  },
  {
   "cell_type": "code",
   "execution_count": 7,
   "metadata": {},
   "outputs": [
    {
     "name": "stdout",
     "output_type": "stream",
     "text": [
      "   A    B  C\n",
      "0  1  4.0  x\n",
      "1  2  5.0  y\n",
      "2  3  6.0  z\n",
      "--------------------------------------------\n",
      "\n",
      "Shape: (3, 3)\n",
      "\n",
      "Size: 9\n",
      "\n",
      "Columns: Index(['A', 'B', 'C'], dtype='object')\n",
      "\n",
      "Index: RangeIndex(start=0, stop=3, step=1)\n",
      "\n",
      "Dtypes:\n",
      "A      int64\n",
      "B    float64\n",
      "C     object\n",
      "dtype: object\n",
      "\n",
      "Values:\n",
      "[[1 4.0 'x']\n",
      " [2 5.0 'y']\n",
      " [3 6.0 'z']]\n",
      "\n",
      "Memory usage:\n",
      "Index    132\n",
      "A         24\n",
      "B         24\n",
      "C         24\n",
      "dtype: int64\n",
      "\n",
      "Memory (deep): 330 bytes\n",
      "Axes: [RangeIndex(start=0, stop=3, step=1), Index(['A', 'B', 'C'], dtype='object')]\n"
     ]
    }
   ],
   "source": [
    "df = pd.DataFrame({\n",
    "    'A': [1, 2, 3],\n",
    "    'B': [4.0, 5.0, 6.0],\n",
    "    'C': ['x', 'y', 'z']\n",
    "})\n",
    "print(df)\n",
    "print(\"--------------------------------------------\\n\")\n",
    "\n",
    "# Core attributes\n",
    "print(f\"Shape: {df.shape}\")              # (3, 3) - (rows, cols)\n",
    "print(f\"\\nSize: {df.size}\")                # 9 - total elements\n",
    "print(f\"\\nColumns: {df.columns}\")          # Column labels\n",
    "print(f\"\\nIndex: {df.index}\")              # Row labels\n",
    "print(f\"\\nDtypes:\\n{df.dtypes}\")           # Data type per column\n",
    "print(f\"\\nValues:\\n{df.values}\")           # NumPy array (2D)\n",
    "print(f\"\\nMemory usage:\\n{df.memory_usage()}\")\n",
    "print(f\"\\nMemory (deep): {df.memory_usage(deep=True).sum()} bytes\")\n",
    "\n",
    "# Axes (dimension names)\n",
    "print(f\"Axes: {df.axes}\")                # [index, columns]"
   ]
  },
  {
   "cell_type": "markdown",
   "metadata": {},
   "source": [
    "### DataFrame Methods"
   ]
  },
  {
   "cell_type": "code",
   "execution_count": 8,
   "metadata": {},
   "outputs": [
    {
     "name": "stdout",
     "output_type": "stream",
     "text": [
      "df1 + df2:     A     B\n",
      "0   6   9.0\n",
      "1   8  17.1\n",
      "2  10  15.6\n",
      "\n",
      "df1 - df2:    A    B\n",
      "0 -4 -1.0\n",
      "1 -4 -7.1\n",
      "2 -4 -3.6\n",
      "\n",
      "df1 * df2:     A     B\n",
      "0   5  20.0\n",
      "1  12  60.5\n",
      "2  21  57.6\n",
      "\n",
      "df1 / df2:           A         B\n",
      "0  0.200000  0.800000\n",
      "1  0.333333  0.413223\n",
      "2  0.428571  0.625000\n",
      "--------------------------------------------\n",
      "\n",
      "A\n",
      "B\n",
      "C\n",
      "0    1\n",
      "1    2\n",
      "2    3\n",
      "Name: A, dtype: int64\n"
     ]
    }
   ],
   "source": [
    "df1 = pd.DataFrame({\n",
    "    'A': [1, 2, 3],\n",
    "    'B': [4.0, 5.0, 6.0],\n",
    "})\n",
    "\n",
    "df2 = pd.DataFrame(\n",
    "    {\n",
    "        'A': [5, 6, 7],\n",
    "        'B': [5.0, 12.1, 9.6],\n",
    "    }\n",
    ")\n",
    "\n",
    "print(f\"df1 + df2: {df1 + df2}\")          # __add__\n",
    "print(f\"\\ndf1 - df2: {df1 - df2}\")          # __sub__\n",
    "print(f\"\\ndf1 * df2: {df1 * df2}\")          # __mul__\n",
    "print(f\"\\ndf1 / df2: {df1 / df2}\")          # __truediv__\n",
    "print(\"--------------------------------------------\\n\")\n",
    "\n",
    "# Iteration\n",
    "for col in df:     # __iter__ (iterates over column names)\n",
    "    print(col)\n",
    "\n",
    "# Indexing\n",
    "print(df['A'] )           # __getitem__\n",
    "df['A'] = [1,2,3]  # __setitem__"
   ]
  },
  {
   "cell_type": "markdown",
   "metadata": {},
   "source": [
    "**Categorical Data**"
   ]
  },
  {
   "cell_type": "code",
   "execution_count": 30,
   "metadata": {},
   "outputs": [
    {
     "data": {
      "text/plain": [
       "0     m\n",
       "1     l\n",
       "2    xs\n",
       "3     s\n",
       "4    xl\n",
       "dtype: category\n",
       "Categories (5, object): ['l', 'm', 's', 'xl', 'xs']"
      ]
     },
     "execution_count": 30,
     "metadata": {},
     "output_type": "execute_result"
    }
   ],
   "source": [
    "# categorical data\n",
    "shirt_size = pd.Series(['m', 'l', 'xs', 's', 'xl'], dtype='category')\n",
    "shirt_size"
   ]
  },
  {
   "cell_type": "code",
   "execution_count": 36,
   "metadata": {},
   "outputs": [
    {
     "name": "stdout",
     "output_type": "stream",
     "text": [
      "True\n"
     ]
    },
    {
     "data": {
      "text/plain": [
       "0      m\n",
       "1      l\n",
       "2    NaN\n",
       "3      s\n",
       "4     xl\n",
       "dtype: category\n",
       "Categories (4, object): ['s' < 'm' < 'l' < 'xl']"
      ]
     },
     "execution_count": 36,
     "metadata": {},
     "output_type": "execute_result"
    }
   ],
   "source": [
    "# ordering categories and astype()\n",
    "size_type = pd.api.types.CategoricalDtype(\n",
    "    categories=['s', 'm', 'l', 'xl'], \n",
    "    ordered=True\n",
    ")\n",
    "\n",
    "ordered_shirt_size = shirt_size.astype(size_type)\n",
    "print(ordered_shirt_size.cat.ordered)\n",
    "ordered_shirt_size"
   ]
  },
  {
   "cell_type": "code",
   "execution_count": 5,
   "metadata": {},
   "outputs": [
    {
     "data": {
      "text/html": [
       "<div>\n",
       "<style scoped>\n",
       "    .dataframe tbody tr th:only-of-type {\n",
       "        vertical-align: middle;\n",
       "    }\n",
       "\n",
       "    .dataframe tbody tr th {\n",
       "        vertical-align: top;\n",
       "    }\n",
       "\n",
       "    .dataframe thead th {\n",
       "        text-align: right;\n",
       "    }\n",
       "</style>\n",
       "<table border=\"1\" class=\"dataframe\">\n",
       "  <thead>\n",
       "    <tr style=\"text-align: right;\">\n",
       "      <th></th>\n",
       "      <th>car</th>\n",
       "      <th>speed</th>\n",
       "    </tr>\n",
       "  </thead>\n",
       "  <tbody>\n",
       "    <tr>\n",
       "      <th>Germany</th>\n",
       "      <td>BMW</td>\n",
       "      <td>120</td>\n",
       "    </tr>\n",
       "    <tr>\n",
       "      <th>India</th>\n",
       "      <td>Tata</td>\n",
       "      <td>90</td>\n",
       "    </tr>\n",
       "    <tr>\n",
       "      <th>US</th>\n",
       "      <td>Ford</td>\n",
       "      <td>70</td>\n",
       "    </tr>\n",
       "  </tbody>\n",
       "</table>\n",
       "</div>"
      ],
      "text/plain": [
       "          car  speed\n",
       "Germany   BMW    120\n",
       "India    Tata     90\n",
       "US       Ford     70"
      ]
     },
     "execution_count": 5,
     "metadata": {},
     "output_type": "execute_result"
    }
   ],
   "source": [
    "# creating a dataFrame\n",
    "car_speed = {'car': ['BMW', 'Tata', 'Ford'],\n",
    "             'speed': [120, 90, 70]\n",
    "            }\n",
    "\n",
    "df = pd.DataFrame(car_speed, index=['Germany', 'India', 'US'])\n",
    "df"
   ]
  },
  {
   "cell_type": "markdown",
   "metadata": {},
   "source": [
    "**Iloc & Loc**"
   ]
  },
  {
   "cell_type": "code",
   "execution_count": null,
   "metadata": {},
   "outputs": [
    {
     "data": {
      "text/plain": [
       "car      BMW\n",
       "speed    120\n",
       "Name: German, dtype: object"
      ]
     },
     "execution_count": 3,
     "metadata": {},
     "output_type": "execute_result"
    }
   ],
   "source": [
    "# iloc : Integer based indexing\n",
    "df.iloc[0]"
   ]
  },
  {
   "cell_type": "code",
   "execution_count": null,
   "metadata": {},
   "outputs": [
    {
     "data": {
      "text/plain": [
       "np.int64(120)"
      ]
     },
     "execution_count": 4,
     "metadata": {},
     "output_type": "execute_result"
    }
   ],
   "source": [
    "# iloc[row_index, col_index]\n",
    "df.iloc[0, 1]"
   ]
  },
  {
   "cell_type": "code",
   "execution_count": null,
   "metadata": {},
   "outputs": [
    {
     "data": {
      "text/html": [
       "<div>\n",
       "<style scoped>\n",
       "    .dataframe tbody tr th:only-of-type {\n",
       "        vertical-align: middle;\n",
       "    }\n",
       "\n",
       "    .dataframe tbody tr th {\n",
       "        vertical-align: top;\n",
       "    }\n",
       "\n",
       "    .dataframe thead th {\n",
       "        text-align: right;\n",
       "    }\n",
       "</style>\n",
       "<table border=\"1\" class=\"dataframe\">\n",
       "  <thead>\n",
       "    <tr style=\"text-align: right;\">\n",
       "      <th></th>\n",
       "      <th>speed</th>\n",
       "    </tr>\n",
       "  </thead>\n",
       "  <tbody>\n",
       "    <tr>\n",
       "      <th>India</th>\n",
       "      <td>90</td>\n",
       "    </tr>\n",
       "    <tr>\n",
       "      <th>US</th>\n",
       "      <td>70</td>\n",
       "    </tr>\n",
       "  </tbody>\n",
       "</table>\n",
       "</div>"
      ],
      "text/plain": [
       "       speed\n",
       "India     90\n",
       "US        70"
      ]
     },
     "execution_count": 7,
     "metadata": {},
     "output_type": "execute_result"
    }
   ],
   "source": [
    "# slicing also work with iloc\n",
    "df.iloc[1:, 1:]"
   ]
  },
  {
   "cell_type": "code",
   "execution_count": 8,
   "metadata": {},
   "outputs": [
    {
     "data": {
      "text/plain": [
       "car      Tata\n",
       "speed      90\n",
       "Name: India, dtype: object"
      ]
     },
     "execution_count": 8,
     "metadata": {},
     "output_type": "execute_result"
    }
   ],
   "source": [
    "# .loc : Label based indexing\n",
    "df.loc['India']"
   ]
  },
  {
   "cell_type": "code",
   "execution_count": 10,
   "metadata": {},
   "outputs": [
    {
     "data": {
      "text/plain": [
       "'Tata'"
      ]
     },
     "execution_count": 10,
     "metadata": {},
     "output_type": "execute_result"
    }
   ],
   "source": [
    "df.loc['India', 'car']"
   ]
  },
  {
   "cell_type": "code",
   "execution_count": 11,
   "metadata": {},
   "outputs": [
    {
     "data": {
      "text/plain": [
       "German    120\n",
       "India      90\n",
       "US         70\n",
       "Name: speed, dtype: int64"
      ]
     },
     "execution_count": 11,
     "metadata": {},
     "output_type": "execute_result"
    }
   ],
   "source": [
    "df.loc[:, 'speed']"
   ]
  },
  {
   "cell_type": "code",
   "execution_count": 20,
   "metadata": {},
   "outputs": [
    {
     "data": {
      "text/plain": [
       "German     BMW\n",
       "India     Tata\n",
       "US        Ford\n",
       "Name: car, dtype: object"
      ]
     },
     "execution_count": 20,
     "metadata": {},
     "output_type": "execute_result"
    }
   ],
   "source": [
    "# accessing elements\n",
    "df['car']"
   ]
  },
  {
   "cell_type": "code",
   "execution_count": 23,
   "metadata": {},
   "outputs": [
    {
     "name": "stdout",
     "output_type": "stream",
     "text": [
      "<class 'pandas.core.series.Series'>\n",
      "<class 'pandas.core.frame.DataFrame'>\n"
     ]
    }
   ],
   "source": [
    "print(type(df['car']), type(df), sep='\\n')"
   ]
  },
  {
   "cell_type": "markdown",
   "metadata": {},
   "source": [
    "**Slicing**"
   ]
  },
  {
   "cell_type": "code",
   "execution_count": null,
   "metadata": {},
   "outputs": [
    {
     "name": "stdout",
     "output_type": "stream",
     "text": [
      "DataFrame :\n",
      "                 car  speed   color\n",
      "Germany          BMW    120  Violet\n",
      "India           Tata     90  Indigo\n",
      "US              Ford     70    Blue\n",
      "Japan         Toyota    110   Green\n",
      "Sweden         Volvo    100  Yellow\n",
      "Italy    Lamborghini    200  Orange\n"
     ]
    }
   ],
   "source": [
    "# adding a single row to DF\n",
    "df.loc['Japan'] = [\"Toyota\", 110] \n",
    "\n",
    "# adding multiple rows with concat\n",
    "temp_df = pd.DataFrame({\"car\": ['Volvo', 'Lamborghini'],\"speed\": [100, 200]}, \n",
    "                       index=['Sweden', 'Italy'])\n",
    "df = pd.concat([df, temp_df])\n",
    "\n",
    "# adding a single column to DF\n",
    "df['color'] = ['Violet', 'Indigo', 'Blue', 'Green', 'Yellow', 'Orange']\n",
    "\n",
    "print(\"DataFrame :\")\n",
    "print(df)"
   ]
  },
  {
   "cell_type": "code",
   "execution_count": null,
   "metadata": {},
   "outputs": [
    {
     "name": "stdout",
     "output_type": "stream",
     "text": [
      "         speed\n",
      "Germany    120\n",
      "India       90\n",
      "US          70\n",
      "Japan      110\n",
      "Sweden     100\n",
      "Italy      200 \n",
      "is a DataFrame\n",
      "\n",
      "Germany    120\n",
      "India       90\n",
      "US          70\n",
      "Japan      110\n",
      "Sweden     100\n",
      "Italy      200\n",
      "Name: speed, dtype: int64 \n",
      "is a Series\n"
     ]
    }
   ],
   "source": [
    "# df[[]] gives the col as df\n",
    "speed_df = df[['speed']]\n",
    "\n",
    "# df[] gives the col as series\n",
    "speed_series = df['speed']\n",
    "\n",
    "if isinstance(speed_df, pd.DataFrame):\n",
    "    print(speed_df, \"\\nis a DataFrame\\n\")\n",
    "    \n",
    "if isinstance(speed_series, pd.Series):\n",
    "    print(speed_series, \"\\nis a Series\")"
   ]
  },
  {
   "cell_type": "markdown",
   "metadata": {},
   "source": [
    "**Pandas axes**"
   ]
  },
  {
   "cell_type": "code",
   "execution_count": null,
   "metadata": {},
   "outputs": [
    {
     "name": "stdout",
     "output_type": "stream",
     "text": [
      "DataFrame : \n",
      "   A  B  C\n",
      "0  1  4  7\n",
      "1  2  5  8\n",
      "2  3  6  9\n",
      "\n",
      "Column-wise sum (axis=0):\n",
      "A     6\n",
      "B    15\n",
      "C    24\n",
      "dtype: int64\n",
      "\n",
      "Row-wise sum (axis=1):\n",
      "0    12\n",
      "1    15\n",
      "2    18\n",
      "dtype: int64\n"
     ]
    }
   ],
   "source": [
    "data = {\n",
    "    'A': [1, 2, 3],\n",
    "    'B': [4, 5, 6],\n",
    "    'C': [7, 8, 9]\n",
    "}\n",
    "df = pd.DataFrame(data)\n",
    "\n",
    "print(\"DataFrame : \")\n",
    "print(df)\n",
    "\n",
    "# Summing along Axis 0 (column-wise)\n",
    "print(\"\\nColumn-wise sum (axis=0):\")\n",
    "print(df.sum(axis=0))\n",
    "\n",
    "# Summing along Axis 1 (row-wise)\n",
    "print(\"\\nRow-wise sum (axis=1):\")\n",
    "print(df.sum(axis=1))"
   ]
  },
  {
   "cell_type": "code",
   "execution_count": 14,
   "metadata": {},
   "outputs": [
    {
     "data": {
      "text/plain": [
       "0      38\n",
       "1      42\n",
       "2      43\n",
       "3      63\n",
       "4      19\n",
       "       ..\n",
       "115     2\n",
       "116     5\n",
       "117    76\n",
       "118    99\n",
       "119    77\n",
       "Name: random series, Length: 120, dtype: int64"
      ]
     },
     "execution_count": 14,
     "metadata": {},
     "output_type": "execute_result"
    }
   ],
   "source": [
    "np_arr = np.random.default_rng().integers(low=1, high=100, size=120)\n",
    "random_series = pd.Series(np_arr, name='random series')\n",
    "random_series"
   ]
  },
  {
   "cell_type": "code",
   "execution_count": 4,
   "metadata": {},
   "outputs": [],
   "source": [
    "# loading a dataset\n",
    "df = pd.read_csv('./Data/economy.csv')"
   ]
  },
  {
   "cell_type": "code",
   "execution_count": 7,
   "metadata": {},
   "outputs": [
    {
     "data": {
      "text/html": [
       "<div>\n",
       "<style scoped>\n",
       "    .dataframe tbody tr th:only-of-type {\n",
       "        vertical-align: middle;\n",
       "    }\n",
       "\n",
       "    .dataframe tbody tr th {\n",
       "        vertical-align: top;\n",
       "    }\n",
       "\n",
       "    .dataframe thead th {\n",
       "        text-align: right;\n",
       "    }\n",
       "</style>\n",
       "<table border=\"1\" class=\"dataframe\">\n",
       "  <thead>\n",
       "    <tr style=\"text-align: right;\">\n",
       "      <th></th>\n",
       "      <th>Model</th>\n",
       "      <th>Displ</th>\n",
       "      <th>Cyl</th>\n",
       "      <th>Trans</th>\n",
       "      <th>Drive</th>\n",
       "      <th>Fuel</th>\n",
       "      <th>Cert Region</th>\n",
       "      <th>Stnd</th>\n",
       "      <th>Stnd Description</th>\n",
       "      <th>Underhood ID</th>\n",
       "      <th>Veh Class</th>\n",
       "      <th>Air Pollution Score</th>\n",
       "      <th>City MPG</th>\n",
       "      <th>Hwy MPG</th>\n",
       "      <th>Cmb MPG</th>\n",
       "      <th>Greenhouse Gas Score</th>\n",
       "      <th>SmartWay</th>\n",
       "      <th>Comb CO2</th>\n",
       "    </tr>\n",
       "  </thead>\n",
       "  <tbody>\n",
       "    <tr>\n",
       "      <th>0</th>\n",
       "      <td>ACURA Integra</td>\n",
       "      <td>1.5</td>\n",
       "      <td>4.0</td>\n",
       "      <td>SCV-7</td>\n",
       "      <td>2WD</td>\n",
       "      <td>Gasoline</td>\n",
       "      <td>CA</td>\n",
       "      <td>L3SULEV30</td>\n",
       "      <td>California LEV-III SULEV30</td>\n",
       "      <td>RHNXV01.54EC</td>\n",
       "      <td>large car</td>\n",
       "      <td>7</td>\n",
       "      <td>30</td>\n",
       "      <td>37</td>\n",
       "      <td>33</td>\n",
       "      <td>6</td>\n",
       "      <td>No</td>\n",
       "      <td>269</td>\n",
       "    </tr>\n",
       "    <tr>\n",
       "      <th>1</th>\n",
       "      <td>ACURA Integra</td>\n",
       "      <td>1.5</td>\n",
       "      <td>4.0</td>\n",
       "      <td>SCV-7</td>\n",
       "      <td>2WD</td>\n",
       "      <td>Gasoline</td>\n",
       "      <td>FA</td>\n",
       "      <td>T3B30</td>\n",
       "      <td>Federal Tier 3 Bin 30</td>\n",
       "      <td>RHNXV01.54EC</td>\n",
       "      <td>large car</td>\n",
       "      <td>7</td>\n",
       "      <td>30</td>\n",
       "      <td>37</td>\n",
       "      <td>33</td>\n",
       "      <td>6</td>\n",
       "      <td>No</td>\n",
       "      <td>269</td>\n",
       "    </tr>\n",
       "    <tr>\n",
       "      <th>2</th>\n",
       "      <td>ACURA Integra</td>\n",
       "      <td>2.0</td>\n",
       "      <td>4.0</td>\n",
       "      <td>Man-6</td>\n",
       "      <td>2WD</td>\n",
       "      <td>Gasoline</td>\n",
       "      <td>CA</td>\n",
       "      <td>L3ULEV50</td>\n",
       "      <td>California LEV-III ULEV50</td>\n",
       "      <td>RHNXV02.0TDC</td>\n",
       "      <td>large car</td>\n",
       "      <td>6</td>\n",
       "      <td>21</td>\n",
       "      <td>28</td>\n",
       "      <td>24</td>\n",
       "      <td>5</td>\n",
       "      <td>No</td>\n",
       "      <td>371</td>\n",
       "    </tr>\n",
       "    <tr>\n",
       "      <th>3</th>\n",
       "      <td>ACURA Integra</td>\n",
       "      <td>2.0</td>\n",
       "      <td>4.0</td>\n",
       "      <td>Man-6</td>\n",
       "      <td>2WD</td>\n",
       "      <td>Gasoline</td>\n",
       "      <td>FA</td>\n",
       "      <td>T3B50</td>\n",
       "      <td>Federal Tier 3 Bin 50</td>\n",
       "      <td>RHNXV02.0TDC</td>\n",
       "      <td>large car</td>\n",
       "      <td>6</td>\n",
       "      <td>21</td>\n",
       "      <td>28</td>\n",
       "      <td>24</td>\n",
       "      <td>5</td>\n",
       "      <td>No</td>\n",
       "      <td>371</td>\n",
       "    </tr>\n",
       "    <tr>\n",
       "      <th>4</th>\n",
       "      <td>ACURA Integra A-Spec</td>\n",
       "      <td>1.5</td>\n",
       "      <td>4.0</td>\n",
       "      <td>Man-6</td>\n",
       "      <td>2WD</td>\n",
       "      <td>Gasoline</td>\n",
       "      <td>CA</td>\n",
       "      <td>L3ULEV50</td>\n",
       "      <td>California LEV-III ULEV50</td>\n",
       "      <td>RHNXV01.55DC</td>\n",
       "      <td>large car</td>\n",
       "      <td>6</td>\n",
       "      <td>26</td>\n",
       "      <td>36</td>\n",
       "      <td>30</td>\n",
       "      <td>6</td>\n",
       "      <td>No</td>\n",
       "      <td>293</td>\n",
       "    </tr>\n",
       "  </tbody>\n",
       "</table>\n",
       "</div>"
      ],
      "text/plain": [
       "                  Model  Displ  Cyl  Trans Drive      Fuel Cert Region  \\\n",
       "0         ACURA Integra    1.5  4.0  SCV-7   2WD  Gasoline          CA   \n",
       "1         ACURA Integra    1.5  4.0  SCV-7   2WD  Gasoline          FA   \n",
       "2         ACURA Integra    2.0  4.0  Man-6   2WD  Gasoline          CA   \n",
       "3         ACURA Integra    2.0  4.0  Man-6   2WD  Gasoline          FA   \n",
       "4  ACURA Integra A-Spec    1.5  4.0  Man-6   2WD  Gasoline          CA   \n",
       "\n",
       "        Stnd            Stnd Description  Underhood ID  Veh Class  \\\n",
       "0  L3SULEV30  California LEV-III SULEV30  RHNXV01.54EC  large car   \n",
       "1      T3B30       Federal Tier 3 Bin 30  RHNXV01.54EC  large car   \n",
       "2   L3ULEV50   California LEV-III ULEV50  RHNXV02.0TDC  large car   \n",
       "3      T3B50       Federal Tier 3 Bin 50  RHNXV02.0TDC  large car   \n",
       "4   L3ULEV50   California LEV-III ULEV50  RHNXV01.55DC  large car   \n",
       "\n",
       "   Air Pollution Score City MPG Hwy MPG Cmb MPG  Greenhouse Gas Score  \\\n",
       "0                    7       30      37      33                     6   \n",
       "1                    7       30      37      33                     6   \n",
       "2                    6       21      28      24                     5   \n",
       "3                    6       21      28      24                     5   \n",
       "4                    6       26      36      30                     6   \n",
       "\n",
       "  SmartWay Comb CO2  \n",
       "0       No      269  \n",
       "1       No      269  \n",
       "2       No      371  \n",
       "3       No      371  \n",
       "4       No      293  "
      ]
     },
     "execution_count": 7,
     "metadata": {},
     "output_type": "execute_result"
    }
   ],
   "source": [
    "df.head()"
   ]
  },
  {
   "cell_type": "code",
   "execution_count": 10,
   "metadata": {},
   "outputs": [
    {
     "data": {
      "text/plain": [
       "Index(['Model', 'Displ', 'Cyl', 'Trans', 'Drive', 'Fuel', 'Cert Region',\n",
       "       'Stnd', 'Stnd Description', 'Underhood ID', 'Veh Class',\n",
       "       'Air Pollution Score', 'City MPG', 'Hwy MPG', 'Cmb MPG',\n",
       "       'Greenhouse Gas Score', 'SmartWay', 'Comb CO2'],\n",
       "      dtype='object')"
      ]
     },
     "execution_count": 10,
     "metadata": {},
     "output_type": "execute_result"
    }
   ],
   "source": [
    "df.columns"
   ]
  },
  {
   "cell_type": "code",
   "execution_count": 11,
   "metadata": {},
   "outputs": [],
   "source": [
    "city_mpg, highway_mpg = df['City MPG'], df['Hwy MPG']"
   ]
  },
  {
   "cell_type": "markdown",
   "metadata": {},
   "source": [
    "---"
   ]
  },
  {
   "cell_type": "markdown",
   "metadata": {},
   "source": [
    "**Concatenation and Merging**"
   ]
  },
  {
   "cell_type": "code",
   "execution_count": 8,
   "metadata": {},
   "outputs": [
    {
     "data": {
      "text/html": [
       "<div>\n",
       "<style scoped>\n",
       "    .dataframe tbody tr th:only-of-type {\n",
       "        vertical-align: middle;\n",
       "    }\n",
       "\n",
       "    .dataframe tbody tr th {\n",
       "        vertical-align: top;\n",
       "    }\n",
       "\n",
       "    .dataframe thead th {\n",
       "        text-align: right;\n",
       "    }\n",
       "</style>\n",
       "<table border=\"1\" class=\"dataframe\">\n",
       "  <thead>\n",
       "    <tr style=\"text-align: right;\">\n",
       "      <th></th>\n",
       "      <th>Country</th>\n",
       "      <th>Currency</th>\n",
       "      <th>Temperature</th>\n",
       "      <th>humidity</th>\n",
       "    </tr>\n",
       "  </thead>\n",
       "  <tbody>\n",
       "    <tr>\n",
       "      <th>0</th>\n",
       "      <td>India</td>\n",
       "      <td>Indian Rupee</td>\n",
       "      <td>37</td>\n",
       "      <td>90.1</td>\n",
       "    </tr>\n",
       "    <tr>\n",
       "      <th>1</th>\n",
       "      <td>Japan</td>\n",
       "      <td>Japanese yen</td>\n",
       "      <td>26</td>\n",
       "      <td>34.2</td>\n",
       "    </tr>\n",
       "    <tr>\n",
       "      <th>2</th>\n",
       "      <td>US</td>\n",
       "      <td>United States dollar</td>\n",
       "      <td>18</td>\n",
       "      <td>47.5</td>\n",
       "    </tr>\n",
       "  </tbody>\n",
       "</table>\n",
       "</div>"
      ],
      "text/plain": [
       "  Country              Currency  Temperature  humidity\n",
       "0   India         Indian Rupee            37      90.1\n",
       "1   Japan          Japanese yen           26      34.2\n",
       "2      US  United States dollar           18      47.5"
      ]
     },
     "execution_count": 8,
     "metadata": {},
     "output_type": "execute_result"
    }
   ],
   "source": [
    "country_1_df = pd.DataFrame(\n",
    "    {\n",
    "        \"Country\": [\"India\", \"Japan\", \"US\"],\n",
    "        \"Currency\": [\"Indian Rupee \", \"Japanese yen\", \"United States dollar\"],\n",
    "        \"Temperature\": [37, 26, 18],\n",
    "        \"humidity\": [90.1, 34.2, 47.5]\n",
    "    }\n",
    ")\n",
    "\n",
    "country_2_df = pd.DataFrame(\n",
    "    {\n",
    "        \"Country\": [\"Korea\", \"Australia\", \"UK\"],\n",
    "        \"Currency\": [\"Won\", \"Dollar\", \"UK Pound\"],\n",
    "        \"Temperature\": [17, 16, 18],\n",
    "        \"humidity\": [40.1, 24.2, 27.5]\n",
    "    }\n",
    ")\n",
    "\n",
    "country_1_df"
   ]
  },
  {
   "cell_type": "code",
   "execution_count": 9,
   "metadata": {},
   "outputs": [
    {
     "name": "stdout",
     "output_type": "stream",
     "text": [
      "     Country              Currency  Temperature  humidity\n",
      "0      India         Indian Rupee            37      90.1\n",
      "1      Japan          Japanese yen           26      34.2\n",
      "2         US  United States dollar           18      47.5\n",
      "0      Korea                   Won           17      40.1\n",
      "1  Australia                Dollar           16      24.2\n",
      "2         UK              UK Pound           18      27.5\n"
     ]
    }
   ],
   "source": [
    "country_combined_df = pd.concat([country_1_df, country_2_df])\n",
    "\n",
    "print(country_combined_df)\n",
    "\n",
    "country_combined_df_one_idx = pd.concat([country_1_df, country_2_df], ignore_index=True)"
   ]
  },
  {
   "cell_type": "markdown",
   "metadata": {},
   "source": [
    "In the above cell, we concatenated the two dataframes in the row direction. We can also concatinate the dataframes in the column direction. For that we need to pass the `axis=1` as an argument to the `concat()` function."
   ]
  },
  {
   "cell_type": "code",
   "execution_count": 10,
   "metadata": {},
   "outputs": [
    {
     "data": {
      "text/html": [
       "<div>\n",
       "<style scoped>\n",
       "    .dataframe tbody tr th:only-of-type {\n",
       "        vertical-align: middle;\n",
       "    }\n",
       "\n",
       "    .dataframe tbody tr th {\n",
       "        vertical-align: top;\n",
       "    }\n",
       "\n",
       "    .dataframe thead th {\n",
       "        text-align: right;\n",
       "    }\n",
       "</style>\n",
       "<table border=\"1\" class=\"dataframe\">\n",
       "  <thead>\n",
       "    <tr style=\"text-align: right;\">\n",
       "      <th></th>\n",
       "      <th>0</th>\n",
       "      <th>1</th>\n",
       "      <th>2</th>\n",
       "      <th>3</th>\n",
       "      <th>4</th>\n",
       "      <th>5</th>\n",
       "      <th>6</th>\n",
       "      <th>7</th>\n",
       "    </tr>\n",
       "  </thead>\n",
       "  <tbody>\n",
       "    <tr>\n",
       "      <th>0</th>\n",
       "      <td>India</td>\n",
       "      <td>Indian Rupee</td>\n",
       "      <td>37</td>\n",
       "      <td>90.1</td>\n",
       "      <td>Korea</td>\n",
       "      <td>Won</td>\n",
       "      <td>17</td>\n",
       "      <td>40.1</td>\n",
       "    </tr>\n",
       "    <tr>\n",
       "      <th>1</th>\n",
       "      <td>Japan</td>\n",
       "      <td>Japanese yen</td>\n",
       "      <td>26</td>\n",
       "      <td>34.2</td>\n",
       "      <td>Australia</td>\n",
       "      <td>Dollar</td>\n",
       "      <td>16</td>\n",
       "      <td>24.2</td>\n",
       "    </tr>\n",
       "    <tr>\n",
       "      <th>2</th>\n",
       "      <td>US</td>\n",
       "      <td>United States dollar</td>\n",
       "      <td>18</td>\n",
       "      <td>47.5</td>\n",
       "      <td>UK</td>\n",
       "      <td>UK Pound</td>\n",
       "      <td>18</td>\n",
       "      <td>27.5</td>\n",
       "    </tr>\n",
       "  </tbody>\n",
       "</table>\n",
       "</div>"
      ],
      "text/plain": [
       "       0                     1   2     3          4         5   6     7\n",
       "0  India         Indian Rupee   37  90.1      Korea       Won  17  40.1\n",
       "1  Japan          Japanese yen  26  34.2  Australia    Dollar  16  24.2\n",
       "2     US  United States dollar  18  47.5         UK  UK Pound  18  27.5"
      ]
     },
     "execution_count": 10,
     "metadata": {},
     "output_type": "execute_result"
    }
   ],
   "source": [
    "side_by_side_df = pd.concat([country_1_df, country_2_df], ignore_index=True, axis=1)\n",
    "side_by_side_df"
   ]
  },
  {
   "cell_type": "code",
   "execution_count": 11,
   "metadata": {},
   "outputs": [
    {
     "data": {
      "text/html": [
       "<div>\n",
       "<style scoped>\n",
       "    .dataframe tbody tr th:only-of-type {\n",
       "        vertical-align: middle;\n",
       "    }\n",
       "\n",
       "    .dataframe tbody tr th {\n",
       "        vertical-align: top;\n",
       "    }\n",
       "\n",
       "    .dataframe thead th {\n",
       "        text-align: right;\n",
       "    }\n",
       "</style>\n",
       "<table border=\"1\" class=\"dataframe\">\n",
       "  <thead>\n",
       "    <tr style=\"text-align: right;\">\n",
       "      <th></th>\n",
       "      <th>Country</th>\n",
       "      <th>Currency</th>\n",
       "      <th>Temperature</th>\n",
       "      <th>humidity</th>\n",
       "      <th>Air Quality</th>\n",
       "    </tr>\n",
       "  </thead>\n",
       "  <tbody>\n",
       "    <tr>\n",
       "      <th>0</th>\n",
       "      <td>Korea</td>\n",
       "      <td>Won</td>\n",
       "      <td>17.0</td>\n",
       "      <td>40.1</td>\n",
       "      <td>NaN</td>\n",
       "    </tr>\n",
       "    <tr>\n",
       "      <th>1</th>\n",
       "      <td>Australia</td>\n",
       "      <td>Dollar</td>\n",
       "      <td>16.0</td>\n",
       "      <td>24.2</td>\n",
       "      <td>NaN</td>\n",
       "    </tr>\n",
       "    <tr>\n",
       "      <th>2</th>\n",
       "      <td>UK</td>\n",
       "      <td>UK Pound</td>\n",
       "      <td>18.0</td>\n",
       "      <td>27.5</td>\n",
       "      <td>NaN</td>\n",
       "    </tr>\n",
       "    <tr>\n",
       "      <th>3</th>\n",
       "      <td>India</td>\n",
       "      <td>NaN</td>\n",
       "      <td>NaN</td>\n",
       "      <td>NaN</td>\n",
       "      <td>6.0</td>\n",
       "    </tr>\n",
       "    <tr>\n",
       "      <th>4</th>\n",
       "      <td>Japan</td>\n",
       "      <td>NaN</td>\n",
       "      <td>NaN</td>\n",
       "      <td>NaN</td>\n",
       "      <td>4.0</td>\n",
       "    </tr>\n",
       "    <tr>\n",
       "      <th>5</th>\n",
       "      <td>US</td>\n",
       "      <td>NaN</td>\n",
       "      <td>NaN</td>\n",
       "      <td>NaN</td>\n",
       "      <td>5.0</td>\n",
       "    </tr>\n",
       "  </tbody>\n",
       "</table>\n",
       "</div>"
      ],
      "text/plain": [
       "     Country  Currency  Temperature  humidity  Air Quality\n",
       "0      Korea       Won         17.0      40.1          NaN\n",
       "1  Australia    Dollar         16.0      24.2          NaN\n",
       "2         UK  UK Pound         18.0      27.5          NaN\n",
       "3      India       NaN          NaN       NaN          6.0\n",
       "4      Japan       NaN          NaN       NaN          4.0\n",
       "5         US       NaN          NaN       NaN          5.0"
      ]
     },
     "execution_count": 11,
     "metadata": {},
     "output_type": "execute_result"
    }
   ],
   "source": [
    "country_3_df = pd.DataFrame(\n",
    "    {\n",
    "        \"Country\": [\"India\", \"Japan\", \"US\"],\n",
    "        \"Air Quality\": [6, 4, 5]\n",
    "    }\n",
    ") \n",
    "\n",
    "merged_df = pd.merge( country_2_df, country_3_df, on='Country', how='outer')\n",
    "merged_df"
   ]
  },
  {
   "cell_type": "markdown",
   "metadata": {},
   "source": [
    "In the above df, we can see that those values which are not present in both the input data frames were not dropped as it happened in inner join (merge without specifying outer).\n",
    "\n",
    "**loc and iloc**\n",
    "\n",
    "`loc` and `iloc` are the two functions which are used to access the data from the dataframe. `loc` is used to access the data using the labels of the rows and columns. `iloc` is used to access the data using the index of the rows and columns."
   ]
  },
  {
   "cell_type": "code",
   "execution_count": 22,
   "metadata": {},
   "outputs": [
    {
     "name": "stdout",
     "output_type": "stream",
     "text": [
      "loc[2]  = Country              UK\n",
      "Currency       UK Pound\n",
      "Temperature        18.0\n",
      "humidity           27.5\n",
      "Air Quality         NaN\n",
      "Name: 2, dtype: object\n",
      "\n",
      "iloc[2] = Country              UK\n",
      "Currency       UK Pound\n",
      "Temperature        18.0\n",
      "humidity           27.5\n",
      "Air Quality         NaN\n",
      "Name: 2, dtype: object\n"
     ]
    }
   ],
   "source": [
    "print(f'loc[2]  = {merged_df.loc[2]}\\n') # Using indexing for accessing data\n",
    "print(f\"iloc[2] = {merged_df.iloc[2]}\")  # Using the row number"
   ]
  },
  {
   "cell_type": "markdown",
   "metadata": {},
   "source": [
    "Now let us come back to our main dataset and see some more functions of pandas."
   ]
  },
  {
   "cell_type": "code",
   "execution_count": 24,
   "metadata": {},
   "outputs": [
    {
     "name": "stdout",
     "output_type": "stream",
     "text": [
      "       culmen_length_mm  culmen_depth_mm  flipper_length_mm  body_mass_g\n",
      "count        342.000000       342.000000         342.000000   342.000000\n",
      "mean          43.921930        17.151170         200.915205  4201.754386\n",
      "std            5.459584         1.974793          14.061714   801.954536\n",
      "min           32.100000        13.100000         172.000000  2700.000000\n",
      "25%           39.225000        15.600000         190.000000  3550.000000\n",
      "50%           44.450000        17.300000         197.000000  4050.000000\n",
      "75%           48.500000        18.700000         213.000000  4750.000000\n",
      "max           59.600000        21.500000         231.000000  6300.000000\n",
      "       species  island   sex\n",
      "count      344     344   334\n",
      "unique       3       3     3\n",
      "top     Adelie  Biscoe  MALE\n",
      "freq       152     168   168\n"
     ]
    }
   ],
   "source": [
    "print(df.describe())\n",
    "\n",
    "# including summaries of object datatypes also\n",
    "print(df.describe(include='object'))"
   ]
  },
  {
   "cell_type": "code",
   "execution_count": 6,
   "metadata": {},
   "outputs": [
    {
     "data": {
      "text/plain": [
       "0      Adelie\n",
       "1      Adelie\n",
       "2      Adelie\n",
       "3      Adelie\n",
       "4      Adelie\n",
       "        ...  \n",
       "339    Gentoo\n",
       "340    Gentoo\n",
       "341    Gentoo\n",
       "342    Gentoo\n",
       "343    Gentoo\n",
       "Name: species, Length: 344, dtype: object"
      ]
     },
     "execution_count": 6,
     "metadata": {},
     "output_type": "execute_result"
    }
   ],
   "source": [
    "species_series = df['species']\n",
    "species_series"
   ]
  },
  {
   "cell_type": "code",
   "execution_count": 9,
   "metadata": {},
   "outputs": [
    {
     "data": {
      "text/plain": [
       "2      Adelie\n",
       "4      Adelie\n",
       "6      Adelie\n",
       "8      Adelie\n",
       "10     Adelie\n",
       "        ...  \n",
       "680    Gentoo\n",
       "682    Gentoo\n",
       "684    Gentoo\n",
       "686    Gentoo\n",
       "688    Gentoo\n",
       "Name: species, Length: 344, dtype: object"
      ]
     },
     "execution_count": 9,
     "metadata": {},
     "output_type": "execute_result"
    }
   ],
   "source": [
    "# changing the index (2, end, 2)\n",
    "species_series.index = np.arange(2, (df.shape[0]+1)*2, 2)\n",
    "species_series"
   ]
  },
  {
   "cell_type": "code",
   "execution_count": 10,
   "metadata": {},
   "outputs": [
    {
     "data": {
      "text/plain": [
       "4      Adelie\n",
       "22     Adelie\n",
       "202    Adelie\n",
       "Name: species, dtype: object"
      ]
     },
     "execution_count": 10,
     "metadata": {},
     "output_type": "execute_result"
    }
   ],
   "source": [
    "species_series.iloc[[1, 10, 100]]"
   ]
  },
  {
   "cell_type": "code",
   "execution_count": 12,
   "metadata": {},
   "outputs": [
    {
     "data": {
      "text/plain": [
       "2      Adelie\n",
       "10     Adelie\n",
       "100    Adelie\n",
       "Name: species, dtype: object"
      ]
     },
     "execution_count": 12,
     "metadata": {},
     "output_type": "execute_result"
    }
   ],
   "source": [
    "# species_series.loc[[1, 10, 100]]  # error\n",
    "species_series.loc[[2, 10, 100]]"
   ]
  },
  {
   "cell_type": "code",
   "execution_count": 14,
   "metadata": {},
   "outputs": [
    {
     "data": {
      "text/plain": [
       "0      False\n",
       "1      False\n",
       "2      False\n",
       "3      False\n",
       "4      False\n",
       "       ...  \n",
       "339    False\n",
       "340    False\n",
       "341    False\n",
       "342    False\n",
       "343    False\n",
       "Length: 344, dtype: bool"
      ]
     },
     "execution_count": 14,
     "metadata": {},
     "output_type": "execute_result"
    }
   ],
   "source": [
    "df.duplicated()"
   ]
  },
  {
   "cell_type": "code",
   "execution_count": 15,
   "metadata": {},
   "outputs": [
    {
     "data": {
      "text/html": [
       "<div>\n",
       "<style scoped>\n",
       "    .dataframe tbody tr th:only-of-type {\n",
       "        vertical-align: middle;\n",
       "    }\n",
       "\n",
       "    .dataframe tbody tr th {\n",
       "        vertical-align: top;\n",
       "    }\n",
       "\n",
       "    .dataframe thead th {\n",
       "        text-align: right;\n",
       "    }\n",
       "</style>\n",
       "<table border=\"1\" class=\"dataframe\">\n",
       "  <thead>\n",
       "    <tr style=\"text-align: right;\">\n",
       "      <th></th>\n",
       "      <th>species</th>\n",
       "      <th>island</th>\n",
       "      <th>culmen_length_mm</th>\n",
       "      <th>culmen_depth_mm</th>\n",
       "      <th>flipper_length_mm</th>\n",
       "      <th>body_mass_g</th>\n",
       "      <th>sex</th>\n",
       "    </tr>\n",
       "  </thead>\n",
       "  <tbody>\n",
       "  </tbody>\n",
       "</table>\n",
       "</div>"
      ],
      "text/plain": [
       "Empty DataFrame\n",
       "Columns: [species, island, culmen_length_mm, culmen_depth_mm, flipper_length_mm, body_mass_g, sex]\n",
       "Index: []"
      ]
     },
     "execution_count": 15,
     "metadata": {},
     "output_type": "execute_result"
    }
   ],
   "source": [
    "# finding duplicates\n",
    "df.loc[df.duplicated()] "
   ]
  },
  {
   "cell_type": "code",
   "execution_count": 17,
   "metadata": {},
   "outputs": [
    {
     "data": {
      "text/html": [
       "<div>\n",
       "<style scoped>\n",
       "    .dataframe tbody tr th:only-of-type {\n",
       "        vertical-align: middle;\n",
       "    }\n",
       "\n",
       "    .dataframe tbody tr th {\n",
       "        vertical-align: top;\n",
       "    }\n",
       "\n",
       "    .dataframe thead th {\n",
       "        text-align: right;\n",
       "    }\n",
       "</style>\n",
       "<table border=\"1\" class=\"dataframe\">\n",
       "  <thead>\n",
       "    <tr style=\"text-align: right;\">\n",
       "      <th></th>\n",
       "      <th>species</th>\n",
       "      <th>island</th>\n",
       "      <th>culmen_length_mm</th>\n",
       "    </tr>\n",
       "  </thead>\n",
       "  <tbody>\n",
       "    <tr>\n",
       "      <th>0</th>\n",
       "      <td>Adelie</td>\n",
       "      <td>Torgersen</td>\n",
       "      <td>39.1</td>\n",
       "    </tr>\n",
       "    <tr>\n",
       "      <th>1</th>\n",
       "      <td>Adelie</td>\n",
       "      <td>Torgersen</td>\n",
       "      <td>39.5</td>\n",
       "    </tr>\n",
       "    <tr>\n",
       "      <th>2</th>\n",
       "      <td>Adelie</td>\n",
       "      <td>Torgersen</td>\n",
       "      <td>40.3</td>\n",
       "    </tr>\n",
       "    <tr>\n",
       "      <th>3</th>\n",
       "      <td>Adelie</td>\n",
       "      <td>Torgersen</td>\n",
       "      <td>NaN</td>\n",
       "    </tr>\n",
       "    <tr>\n",
       "      <th>4</th>\n",
       "      <td>Adelie</td>\n",
       "      <td>Torgersen</td>\n",
       "      <td>36.7</td>\n",
       "    </tr>\n",
       "  </tbody>\n",
       "</table>\n",
       "</div>"
      ],
      "text/plain": [
       "  species     island  culmen_length_mm\n",
       "0  Adelie  Torgersen              39.1\n",
       "1  Adelie  Torgersen              39.5\n",
       "2  Adelie  Torgersen              40.3\n",
       "3  Adelie  Torgersen               NaN\n",
       "4  Adelie  Torgersen              36.7"
      ]
     },
     "execution_count": 17,
     "metadata": {},
     "output_type": "execute_result"
    }
   ],
   "source": [
    "df.iloc[0:5, 0:3 ]"
   ]
  },
  {
   "cell_type": "code",
   "execution_count": 20,
   "metadata": {},
   "outputs": [
    {
     "data": {
      "text/html": [
       "<div>\n",
       "<style scoped>\n",
       "    .dataframe tbody tr th:only-of-type {\n",
       "        vertical-align: middle;\n",
       "    }\n",
       "\n",
       "    .dataframe tbody tr th {\n",
       "        vertical-align: top;\n",
       "    }\n",
       "\n",
       "    .dataframe thead th {\n",
       "        text-align: right;\n",
       "    }\n",
       "</style>\n",
       "<table border=\"1\" class=\"dataframe\">\n",
       "  <thead>\n",
       "    <tr style=\"text-align: right;\">\n",
       "      <th></th>\n",
       "      <th>species</th>\n",
       "      <th>body_mass_g</th>\n",
       "      <th>island</th>\n",
       "    </tr>\n",
       "  </thead>\n",
       "  <tbody>\n",
       "    <tr>\n",
       "      <th>0</th>\n",
       "      <td>Adelie</td>\n",
       "      <td>3750.0</td>\n",
       "      <td>Torgersen</td>\n",
       "    </tr>\n",
       "    <tr>\n",
       "      <th>1</th>\n",
       "      <td>Adelie</td>\n",
       "      <td>3800.0</td>\n",
       "      <td>Torgersen</td>\n",
       "    </tr>\n",
       "    <tr>\n",
       "      <th>2</th>\n",
       "      <td>Adelie</td>\n",
       "      <td>3250.0</td>\n",
       "      <td>Torgersen</td>\n",
       "    </tr>\n",
       "    <tr>\n",
       "      <th>3</th>\n",
       "      <td>Adelie</td>\n",
       "      <td>NaN</td>\n",
       "      <td>Torgersen</td>\n",
       "    </tr>\n",
       "    <tr>\n",
       "      <th>4</th>\n",
       "      <td>Adelie</td>\n",
       "      <td>3450.0</td>\n",
       "      <td>Torgersen</td>\n",
       "    </tr>\n",
       "    <tr>\n",
       "      <th>5</th>\n",
       "      <td>Adelie</td>\n",
       "      <td>3650.0</td>\n",
       "      <td>Torgersen</td>\n",
       "    </tr>\n",
       "  </tbody>\n",
       "</table>\n",
       "</div>"
      ],
      "text/plain": [
       "  species  body_mass_g     island\n",
       "0  Adelie       3750.0  Torgersen\n",
       "1  Adelie       3800.0  Torgersen\n",
       "2  Adelie       3250.0  Torgersen\n",
       "3  Adelie          NaN  Torgersen\n",
       "4  Adelie       3450.0  Torgersen\n",
       "5  Adelie       3650.0  Torgersen"
      ]
     },
     "execution_count": 20,
     "metadata": {},
     "output_type": "execute_result"
    }
   ],
   "source": [
    "df.loc[0:5, ['species', 'body_mass_g', 'island']]"
   ]
  },
  {
   "cell_type": "code",
   "execution_count": 22,
   "metadata": {},
   "outputs": [
    {
     "data": {
      "text/html": [
       "<div>\n",
       "<style scoped>\n",
       "    .dataframe tbody tr th:only-of-type {\n",
       "        vertical-align: middle;\n",
       "    }\n",
       "\n",
       "    .dataframe tbody tr th {\n",
       "        vertical-align: top;\n",
       "    }\n",
       "\n",
       "    .dataframe thead th {\n",
       "        text-align: right;\n",
       "    }\n",
       "</style>\n",
       "<table border=\"1\" class=\"dataframe\">\n",
       "  <thead>\n",
       "    <tr style=\"text-align: right;\">\n",
       "      <th></th>\n",
       "      <th>species</th>\n",
       "      <th>island</th>\n",
       "      <th>culmen_length_mm</th>\n",
       "      <th>culmen_depth_mm</th>\n",
       "      <th>flipper_length_mm</th>\n",
       "      <th>body_mass_g</th>\n",
       "      <th>sex</th>\n",
       "    </tr>\n",
       "  </thead>\n",
       "  <tbody>\n",
       "    <tr>\n",
       "      <th>253</th>\n",
       "      <td>Gentoo</td>\n",
       "      <td>Biscoe</td>\n",
       "      <td>59.6</td>\n",
       "      <td>17.0</td>\n",
       "      <td>230.0</td>\n",
       "      <td>6050.0</td>\n",
       "      <td>MALE</td>\n",
       "    </tr>\n",
       "    <tr>\n",
       "      <th>169</th>\n",
       "      <td>Chinstrap</td>\n",
       "      <td>Dream</td>\n",
       "      <td>58.0</td>\n",
       "      <td>17.8</td>\n",
       "      <td>181.0</td>\n",
       "      <td>3700.0</td>\n",
       "      <td>FEMALE</td>\n",
       "    </tr>\n",
       "    <tr>\n",
       "      <th>321</th>\n",
       "      <td>Gentoo</td>\n",
       "      <td>Biscoe</td>\n",
       "      <td>55.9</td>\n",
       "      <td>17.0</td>\n",
       "      <td>228.0</td>\n",
       "      <td>5600.0</td>\n",
       "      <td>MALE</td>\n",
       "    </tr>\n",
       "    <tr>\n",
       "      <th>215</th>\n",
       "      <td>Chinstrap</td>\n",
       "      <td>Dream</td>\n",
       "      <td>55.8</td>\n",
       "      <td>19.8</td>\n",
       "      <td>207.0</td>\n",
       "      <td>4000.0</td>\n",
       "      <td>MALE</td>\n",
       "    </tr>\n",
       "    <tr>\n",
       "      <th>335</th>\n",
       "      <td>Gentoo</td>\n",
       "      <td>Biscoe</td>\n",
       "      <td>55.1</td>\n",
       "      <td>16.0</td>\n",
       "      <td>230.0</td>\n",
       "      <td>5850.0</td>\n",
       "      <td>MALE</td>\n",
       "    </tr>\n",
       "    <tr>\n",
       "      <th>...</th>\n",
       "      <td>...</td>\n",
       "      <td>...</td>\n",
       "      <td>...</td>\n",
       "      <td>...</td>\n",
       "      <td>...</td>\n",
       "      <td>...</td>\n",
       "      <td>...</td>\n",
       "    </tr>\n",
       "    <tr>\n",
       "      <th>70</th>\n",
       "      <td>Adelie</td>\n",
       "      <td>Torgersen</td>\n",
       "      <td>33.5</td>\n",
       "      <td>19.0</td>\n",
       "      <td>190.0</td>\n",
       "      <td>3600.0</td>\n",
       "      <td>FEMALE</td>\n",
       "    </tr>\n",
       "    <tr>\n",
       "      <th>98</th>\n",
       "      <td>Adelie</td>\n",
       "      <td>Dream</td>\n",
       "      <td>33.1</td>\n",
       "      <td>16.1</td>\n",
       "      <td>178.0</td>\n",
       "      <td>2900.0</td>\n",
       "      <td>FEMALE</td>\n",
       "    </tr>\n",
       "    <tr>\n",
       "      <th>142</th>\n",
       "      <td>Adelie</td>\n",
       "      <td>Dream</td>\n",
       "      <td>32.1</td>\n",
       "      <td>15.5</td>\n",
       "      <td>188.0</td>\n",
       "      <td>3050.0</td>\n",
       "      <td>FEMALE</td>\n",
       "    </tr>\n",
       "    <tr>\n",
       "      <th>3</th>\n",
       "      <td>Adelie</td>\n",
       "      <td>Torgersen</td>\n",
       "      <td>NaN</td>\n",
       "      <td>NaN</td>\n",
       "      <td>NaN</td>\n",
       "      <td>NaN</td>\n",
       "      <td>NaN</td>\n",
       "    </tr>\n",
       "    <tr>\n",
       "      <th>339</th>\n",
       "      <td>Gentoo</td>\n",
       "      <td>Biscoe</td>\n",
       "      <td>NaN</td>\n",
       "      <td>NaN</td>\n",
       "      <td>NaN</td>\n",
       "      <td>NaN</td>\n",
       "      <td>NaN</td>\n",
       "    </tr>\n",
       "  </tbody>\n",
       "</table>\n",
       "<p>344 rows × 7 columns</p>\n",
       "</div>"
      ],
      "text/plain": [
       "       species     island  culmen_length_mm  culmen_depth_mm  \\\n",
       "253     Gentoo     Biscoe              59.6             17.0   \n",
       "169  Chinstrap      Dream              58.0             17.8   \n",
       "321     Gentoo     Biscoe              55.9             17.0   \n",
       "215  Chinstrap      Dream              55.8             19.8   \n",
       "335     Gentoo     Biscoe              55.1             16.0   \n",
       "..         ...        ...               ...              ...   \n",
       "70      Adelie  Torgersen              33.5             19.0   \n",
       "98      Adelie      Dream              33.1             16.1   \n",
       "142     Adelie      Dream              32.1             15.5   \n",
       "3       Adelie  Torgersen               NaN              NaN   \n",
       "339     Gentoo     Biscoe               NaN              NaN   \n",
       "\n",
       "     flipper_length_mm  body_mass_g     sex  \n",
       "253              230.0       6050.0    MALE  \n",
       "169              181.0       3700.0  FEMALE  \n",
       "321              228.0       5600.0    MALE  \n",
       "215              207.0       4000.0    MALE  \n",
       "335              230.0       5850.0    MALE  \n",
       "..                 ...          ...     ...  \n",
       "70               190.0       3600.0  FEMALE  \n",
       "98               178.0       2900.0  FEMALE  \n",
       "142              188.0       3050.0  FEMALE  \n",
       "3                  NaN          NaN     NaN  \n",
       "339                NaN          NaN     NaN  \n",
       "\n",
       "[344 rows x 7 columns]"
      ]
     },
     "execution_count": 22,
     "metadata": {},
     "output_type": "execute_result"
    }
   ],
   "source": [
    "df.sort_values(['culmen_length_mm'], ascending=False)"
   ]
  },
  {
   "cell_type": "code",
   "execution_count": 23,
   "metadata": {},
   "outputs": [
    {
     "data": {
      "text/html": [
       "<div>\n",
       "<style scoped>\n",
       "    .dataframe tbody tr th:only-of-type {\n",
       "        vertical-align: middle;\n",
       "    }\n",
       "\n",
       "    .dataframe tbody tr th {\n",
       "        vertical-align: top;\n",
       "    }\n",
       "\n",
       "    .dataframe thead th {\n",
       "        text-align: right;\n",
       "    }\n",
       "</style>\n",
       "<table border=\"1\" class=\"dataframe\">\n",
       "  <thead>\n",
       "    <tr style=\"text-align: right;\">\n",
       "      <th></th>\n",
       "      <th>species</th>\n",
       "      <th>island</th>\n",
       "      <th>culmen_length_mm</th>\n",
       "      <th>culmen_depth_mm</th>\n",
       "      <th>flipper_length_mm</th>\n",
       "      <th>body_mass_g</th>\n",
       "      <th>sex</th>\n",
       "    </tr>\n",
       "  </thead>\n",
       "  <tbody>\n",
       "    <tr>\n",
       "      <th>142</th>\n",
       "      <td>Adelie</td>\n",
       "      <td>Dream</td>\n",
       "      <td>32.1</td>\n",
       "      <td>15.5</td>\n",
       "      <td>188.0</td>\n",
       "      <td>3050.0</td>\n",
       "      <td>FEMALE</td>\n",
       "    </tr>\n",
       "    <tr>\n",
       "      <th>98</th>\n",
       "      <td>Adelie</td>\n",
       "      <td>Dream</td>\n",
       "      <td>33.1</td>\n",
       "      <td>16.1</td>\n",
       "      <td>178.0</td>\n",
       "      <td>2900.0</td>\n",
       "      <td>FEMALE</td>\n",
       "    </tr>\n",
       "    <tr>\n",
       "      <th>70</th>\n",
       "      <td>Adelie</td>\n",
       "      <td>Torgersen</td>\n",
       "      <td>33.5</td>\n",
       "      <td>19.0</td>\n",
       "      <td>190.0</td>\n",
       "      <td>3600.0</td>\n",
       "      <td>FEMALE</td>\n",
       "    </tr>\n",
       "    <tr>\n",
       "      <th>92</th>\n",
       "      <td>Adelie</td>\n",
       "      <td>Dream</td>\n",
       "      <td>34.0</td>\n",
       "      <td>17.1</td>\n",
       "      <td>185.0</td>\n",
       "      <td>3400.0</td>\n",
       "      <td>FEMALE</td>\n",
       "    </tr>\n",
       "    <tr>\n",
       "      <th>8</th>\n",
       "      <td>Adelie</td>\n",
       "      <td>Torgersen</td>\n",
       "      <td>34.1</td>\n",
       "      <td>18.1</td>\n",
       "      <td>193.0</td>\n",
       "      <td>3475.0</td>\n",
       "      <td>NaN</td>\n",
       "    </tr>\n",
       "    <tr>\n",
       "      <th>...</th>\n",
       "      <td>...</td>\n",
       "      <td>...</td>\n",
       "      <td>...</td>\n",
       "      <td>...</td>\n",
       "      <td>...</td>\n",
       "      <td>...</td>\n",
       "      <td>...</td>\n",
       "    </tr>\n",
       "    <tr>\n",
       "      <th>321</th>\n",
       "      <td>Gentoo</td>\n",
       "      <td>Biscoe</td>\n",
       "      <td>55.9</td>\n",
       "      <td>17.0</td>\n",
       "      <td>228.0</td>\n",
       "      <td>5600.0</td>\n",
       "      <td>MALE</td>\n",
       "    </tr>\n",
       "    <tr>\n",
       "      <th>169</th>\n",
       "      <td>Chinstrap</td>\n",
       "      <td>Dream</td>\n",
       "      <td>58.0</td>\n",
       "      <td>17.8</td>\n",
       "      <td>181.0</td>\n",
       "      <td>3700.0</td>\n",
       "      <td>FEMALE</td>\n",
       "    </tr>\n",
       "    <tr>\n",
       "      <th>253</th>\n",
       "      <td>Gentoo</td>\n",
       "      <td>Biscoe</td>\n",
       "      <td>59.6</td>\n",
       "      <td>17.0</td>\n",
       "      <td>230.0</td>\n",
       "      <td>6050.0</td>\n",
       "      <td>MALE</td>\n",
       "    </tr>\n",
       "    <tr>\n",
       "      <th>3</th>\n",
       "      <td>Adelie</td>\n",
       "      <td>Torgersen</td>\n",
       "      <td>NaN</td>\n",
       "      <td>NaN</td>\n",
       "      <td>NaN</td>\n",
       "      <td>NaN</td>\n",
       "      <td>NaN</td>\n",
       "    </tr>\n",
       "    <tr>\n",
       "      <th>339</th>\n",
       "      <td>Gentoo</td>\n",
       "      <td>Biscoe</td>\n",
       "      <td>NaN</td>\n",
       "      <td>NaN</td>\n",
       "      <td>NaN</td>\n",
       "      <td>NaN</td>\n",
       "      <td>NaN</td>\n",
       "    </tr>\n",
       "  </tbody>\n",
       "</table>\n",
       "<p>344 rows × 7 columns</p>\n",
       "</div>"
      ],
      "text/plain": [
       "       species     island  culmen_length_mm  culmen_depth_mm  \\\n",
       "142     Adelie      Dream              32.1             15.5   \n",
       "98      Adelie      Dream              33.1             16.1   \n",
       "70      Adelie  Torgersen              33.5             19.0   \n",
       "92      Adelie      Dream              34.0             17.1   \n",
       "8       Adelie  Torgersen              34.1             18.1   \n",
       "..         ...        ...               ...              ...   \n",
       "321     Gentoo     Biscoe              55.9             17.0   \n",
       "169  Chinstrap      Dream              58.0             17.8   \n",
       "253     Gentoo     Biscoe              59.6             17.0   \n",
       "3       Adelie  Torgersen               NaN              NaN   \n",
       "339     Gentoo     Biscoe               NaN              NaN   \n",
       "\n",
       "     flipper_length_mm  body_mass_g     sex  \n",
       "142              188.0       3050.0  FEMALE  \n",
       "98               178.0       2900.0  FEMALE  \n",
       "70               190.0       3600.0  FEMALE  \n",
       "92               185.0       3400.0  FEMALE  \n",
       "8                193.0       3475.0     NaN  \n",
       "..                 ...          ...     ...  \n",
       "321              228.0       5600.0    MALE  \n",
       "169              181.0       3700.0  FEMALE  \n",
       "253              230.0       6050.0    MALE  \n",
       "3                  NaN          NaN     NaN  \n",
       "339                NaN          NaN     NaN  \n",
       "\n",
       "[344 rows x 7 columns]"
      ]
     },
     "execution_count": 23,
     "metadata": {},
     "output_type": "execute_result"
    }
   ],
   "source": [
    "df.sort_values(['culmen_length_mm', 'body_mass_g'], ascending=[True, False])"
   ]
  },
  {
   "cell_type": "code",
   "execution_count": null,
   "metadata": {},
   "outputs": [],
   "source": [
    "df.to_csv('data_without_index.csv', index=False)"
   ]
  }
 ],
 "metadata": {
  "kernelspec": {
   "display_name": "Python Base (DSML)",
   "language": "python",
   "name": "base"
  },
  "language_info": {
   "codemirror_mode": {
    "name": "ipython",
    "version": 3
   },
   "file_extension": ".py",
   "mimetype": "text/x-python",
   "name": "python",
   "nbconvert_exporter": "python",
   "pygments_lexer": "ipython3",
   "version": "3.13.1"
  }
 },
 "nbformat": 4,
 "nbformat_minor": 2
}
