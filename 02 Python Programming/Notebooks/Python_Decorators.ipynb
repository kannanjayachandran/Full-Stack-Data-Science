{
 "cells": [
  {
   "attachments": {},
   "cell_type": "markdown",
   "metadata": {},
   "source": [
    "# <span style=\"color:#FEC260\">Decorators</span>\n",
    "\n",
    "> Decorators - HOC - Closures"
   ]
  },
  {
   "cell_type": "code",
   "execution_count": 9,
   "metadata": {},
   "outputs": [
    {
     "name": "stdout",
     "output_type": "stream",
     "text": [
      "<function foo at 0x00000271D736A550>\n"
     ]
    }
   ],
   "source": [
    "def foo():\n",
    "    return 5\n",
    "\n",
    "def another_foo(foo):\n",
    "    return foo\n",
    "\n",
    "print(another_foo(foo))\n",
    "\n",
    "# If we simply call the foo() inside another_foo(), it would execute, return 5 and When another_foo() complete the execution\n",
    "# the result returned by foo is gone. But if we return foo() we will get the value and if we return foo, we will get the \n",
    "# function location."
   ]
  },
  {
   "cell_type": "code",
   "execution_count": 13,
   "metadata": {},
   "outputs": [
    {
     "data": {
      "text/plain": [
       "'function inside function'"
      ]
     },
     "execution_count": 13,
     "metadata": {},
     "output_type": "execute_result"
    }
   ],
   "source": [
    "def some_foo():\n",
    "    def some_other_foo():\n",
    "        return \"function inside function\"\n",
    "    return some_other_foo()\n",
    "\n",
    "some_foo()"
   ]
  },
  {
   "cell_type": "code",
   "execution_count": 22,
   "metadata": {},
   "outputs": [
    {
     "name": "stdout",
     "output_type": "stream",
     "text": [
      "Extra Functionality Using decorator\n",
      "Hello Hello Hello Hello Hello \n",
      "***************\n",
      "\n",
      "Extra Functionality Using decorator\n",
      "ordinary Function\n",
      "***************\n",
      "\n"
     ]
    }
   ],
   "source": [
    "#decorator\n",
    "\n",
    "def my_new_decorator(foo):\n",
    "\n",
    "    def wrap_function():\n",
    "        print(\"Extra Functionality Using decorator\")\n",
    "        foo()\n",
    "        print('***************')\n",
    "        print()\n",
    "    return wrap_function\n",
    "\n",
    "# Now my_new_decorator is a decorator.\n",
    "\n",
    "@my_new_decorator\n",
    "def printHello():\n",
    "    print('Hello ' * 5)\n",
    "\n",
    "printHello()\n",
    "\n",
    "@my_new_decorator\n",
    "def some_foo():\n",
    "    print('ordinary Function')\n",
    "\n",
    "some_foo()"
   ]
  },
  {
   "cell_type": "code",
   "execution_count": 23,
   "metadata": {},
   "outputs": [],
   "source": [
    "# decorator pattern\n",
    "\n",
    "def deco(func):\n",
    "    def wrapper_func(*args, **kwargs):\n",
    "        func(*args, **kwargs)\n",
    "    return wrapper_func"
   ]
  },
  {
   "cell_type": "code",
   "execution_count": 26,
   "metadata": {},
   "outputs": [
    {
     "name": "stdout",
     "output_type": "stream",
     "text": [
      "hello world  10\n"
     ]
    }
   ],
   "source": [
    "@deco\n",
    "def my_foo(firstArg, secondArg, keyWordArg=10):\n",
    "    print(firstArg + ' ' + secondArg + ' ' , keyWordArg)\n",
    "\n",
    "my_foo(\"hello\", \"world\")"
   ]
  },
  {
   "cell_type": "code",
   "execution_count": 27,
   "metadata": {},
   "outputs": [],
   "source": [
    "# example of decorator\n",
    "from time import time\n",
    "\n",
    "def performance(fn):\n",
    "    def wrap_fn(*args, **kwargs):\n",
    "        t1 = time()\n",
    "        fn(*args, **kwargs)\n",
    "        t2 = time()\n",
    "        print(f'It took {t2-t1} s')\n",
    "    return wrap_fn"
   ]
  },
  {
   "cell_type": "code",
   "execution_count": 30,
   "metadata": {},
   "outputs": [
    {
     "name": "stdout",
     "output_type": "stream",
     "text": [
      "It took 5.507145881652832 ms\n"
     ]
    }
   ],
   "source": [
    "@performance\n",
    "def long_func():\n",
    "    for i in range(100000000):\n",
    "        i*= 2\n",
    "\n",
    "long_func()"
   ]
  }
 ],
 "metadata": {
  "kernelspec": {
   "display_name": "base",
   "language": "python",
   "name": "python3"
  },
  "language_info": {
   "codemirror_mode": {
    "name": "ipython",
    "version": 3
   },
   "file_extension": ".py",
   "mimetype": "text/x-python",
   "name": "python",
   "nbconvert_exporter": "python",
   "pygments_lexer": "ipython3",
   "version": "3.9.16"
  },
  "orig_nbformat": 4
 },
 "nbformat": 4,
 "nbformat_minor": 2
}
