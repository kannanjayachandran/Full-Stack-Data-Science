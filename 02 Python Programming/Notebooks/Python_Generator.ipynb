{
 "cells": [
  {
   "attachments": {},
   "cell_type": "markdown",
   "metadata": {},
   "source": [
    "# <span style=\"color:#FEC260\">Generators</span>\n",
    "\n",
    "They are special kind of functions which generate value over time. It can pause and resume functions."
   ]
  },
  {
   "cell_type": "code",
   "execution_count": 10,
   "metadata": {},
   "outputs": [
    {
     "name": "stdout",
     "output_type": "stream",
     "text": [
      "0\n",
      "1\n",
      "2\n",
      "3\n",
      "4\n",
      "5\n",
      "6\n",
      "7\n",
      "8\n",
      "9\n",
      "0 1 2 "
     ]
    }
   ],
   "source": [
    "def my_generator_fn(num):\n",
    "    for i in range(num):\n",
    "        yield i\n",
    "\n",
    "for item in my_generator_fn(10):\n",
    "    print(item)\n",
    "\n",
    "myG = my_generator_fn(20)\n",
    "print(next(myG), end=' ')\n",
    "print(next(myG), end=' ')\n",
    "print(next(myG), end=' ')"
   ]
  },
  {
   "cell_type": "code",
   "execution_count": 6,
   "metadata": {},
   "outputs": [
    {
     "name": "stdout",
     "output_type": "stream",
     "text": [
      "0 1 1 2 3 5 8 13 21 34 55 "
     ]
    }
   ],
   "source": [
    "#  fib sequence using generator\n",
    "def fib(num: int):\n",
    "    first, second = 0, 1\n",
    "    print('0 ', end='')\n",
    "    for _ in range(num):\n",
    "        first, second = second, first+second\n",
    "        yield first\n",
    "\n",
    "\n",
    "for item in fib(10):\n",
    "    print(item, end=\" \")"
   ]
  },
  {
   "cell_type": "markdown",
   "metadata": {},
   "source": [
    "**Comparing the performance**"
   ]
  },
  {
   "cell_type": "code",
   "execution_count": 5,
   "metadata": {},
   "outputs": [
    {
     "name": "stdout",
     "output_type": "stream",
     "text": [
      "Memory usage before is [77.171875] MB\n",
      "Final memory usage is [77.171875] MB.\n",
      "Time taken is 0.0\n"
     ]
    }
   ],
   "source": [
    "import random\n",
    "import time\n",
    "import memory_profiler as mem_profile\n",
    "from typing import List, Generator, Dict\n",
    "\n",
    "\n",
    "names = ['one', 'two', 'three', 'four', 'five', 'six']\n",
    "majors = ['Arts', 'Engineering', 'Medicine', 'CompSci', 'Business']\n",
    "\n",
    "print(f'Memory usage before is {mem_profile.memory_usage()} MB')\n",
    "\n",
    "def make_list(num_of_people: int) -> List[Dict]:\n",
    "    \n",
    "    res = []\n",
    "    for i in range(num_of_people):\n",
    "        person = {\n",
    "            'id': i,\n",
    "            'name': random.choice(names),\n",
    "            'majors': random.choice(majors)\n",
    "        }\n",
    "        res.append(person)\n",
    "    return res\n",
    "\n",
    "def make_generator(num_of_people: int) -> Generator[int, None, None]:\n",
    "    \n",
    "    for i in range(num_of_people):\n",
    "        person = {\n",
    "            'id': i,\n",
    "            'name': random.choice(names),\n",
    "            'majors': random.choice(majors)\n",
    "        }\n",
    "        yield person\n",
    "\n",
    "\n",
    "# normal code\n",
    "# start = time.perf_counter()\n",
    "# people = make_list(1000000)\n",
    "# end = time.perf_counter()\n",
    "\n",
    "# generator code\n",
    "start = time.perf_counter()\n",
    "people = make_generator(1000000)\n",
    "end = time.perf_counter()\n",
    "\n",
    "\n",
    "print(f'Final memory usage is {mem_profile.memory_usage()} MB.')\n",
    "print(f'Time taken is {round(end-start, 2)}')"
   ]
  }
 ],
 "metadata": {
  "kernelspec": {
   "display_name": "base",
   "language": "python",
   "name": "python3"
  },
  "language_info": {
   "codemirror_mode": {
    "name": "ipython",
    "version": 3
   },
   "file_extension": ".py",
   "mimetype": "text/x-python",
   "name": "python",
   "nbconvert_exporter": "python",
   "pygments_lexer": "ipython3",
   "version": "3.11.5"
  },
  "orig_nbformat": 4
 },
 "nbformat": 4,
 "nbformat_minor": 2
}
