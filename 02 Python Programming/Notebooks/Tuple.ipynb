{
 "cells": [
  {
   "cell_type": "markdown",
   "metadata": {},
   "source": [
    "<h1 style='color: #FEC260'> Tuple </h1>"
   ]
  },
  {
   "cell_type": "code",
   "execution_count": 1,
   "metadata": {},
   "outputs": [
    {
     "name": "stdout",
     "output_type": "stream",
     "text": [
      "('a', 'e', 'i', 'o', 'u') <class 'tuple'>\n"
     ]
    }
   ],
   "source": [
    "vowels =('a', 'e', 'i', 'o', 'u')\n",
    "print(vowels, type(vowels))"
   ]
  },
  {
   "cell_type": "code",
   "execution_count": 2,
   "metadata": {},
   "outputs": [
    {
     "name": "stdout",
     "output_type": "stream",
     "text": [
      "Continents : ('Asia', 'Africa', 'Antarctica', 'Australia', 'North America', 'South America', 'Europe')\n",
      "Type: <class 'tuple'>\n"
     ]
    }
   ],
   "source": [
    "# by default this would be considered as tuple\n",
    "continents = \"Asia\", \"Africa\", \"Antarctica\", \"Australia\", \"North America\", \"South America\", \"Europe\"\n",
    "print(f\"Continents : {continents}\\nType: {type(continents)}\")"
   ]
  },
  {
   "cell_type": "code",
   "execution_count": null,
   "metadata": {},
   "outputs": [
    {
     "name": "stdout",
     "output_type": "stream",
     "text": [
      "hello 1 [1, 2, 3] ['hello']\n",
      "hello 1 [1000, 2, 3, 1] ['hello']\n",
      "hello 1 [1000, 2, 3, 1] ['hello', 'World']\n"
     ]
    }
   ],
   "source": [
    "my_lis = [1, 2, 3]\n",
    "my_tup = (\"hello\", 1, my_lis, [\"hello\"])\n",
    "print(*my_tup)\n",
    "\n",
    "my_lis[0] = 1000\n",
    "my_lis.append(1)\n",
    "print(*my_tup)\n",
    "\n",
    "# This works\n",
    "my_tup[3].append(\"World\")\n",
    "print(*my_tup)"
   ]
  },
  {
   "cell_type": "code",
   "execution_count": null,
   "metadata": {},
   "outputs": [
    {
     "name": "stdout",
     "output_type": "stream",
     "text": [
      "<class 'int'>\n",
      "(2,) <class 'tuple'>\n"
     ]
    }
   ],
   "source": [
    "t = (2) # not a tuple\n",
    "print(type(t))\n",
    "\n",
    "# we can solve this by;\n",
    "t = (2,)\n",
    "print(t, type(t))"
   ]
  },
  {
   "cell_type": "code",
   "execution_count": null,
   "metadata": {},
   "outputs": [
    {
     "name": "stdout",
     "output_type": "stream",
     "text": [
      "[7, 58, 13, 73, 98, 52, 44, 21, 10, 9]\n",
      "92 48 50 42 78 27 94 43 26 96 <class 'tuple'>\n"
     ]
    }
   ],
   "source": [
    "import random\n",
    "\n",
    "# random list using list comprehension\n",
    "rand_lis = [random.randint(1, 100) for _ in range(10)]\n",
    "print(rand_lis)\n",
    "\n",
    "# There is no tuple comprehension, the following is a generator expression\n",
    "rand_gen = (random.randint(1, 100) for _ in range(10))\n",
    "# however; tuple(random.randint(1, 100) for _ in range(10)) would be a tuple\n",
    "\n",
    "rand_tup = tuple(rand_gen)\n",
    "\n",
    "print(*rand_tup, type(rand_tup))"
   ]
  },
  {
   "cell_type": "markdown",
   "metadata": {},
   "source": [
    "### write a program to see if the given tuple is sorted or not\n"
   ]
  },
  {
   "cell_type": "code",
   "execution_count": null,
   "metadata": {},
   "outputs": [
    {
     "name": "stdout",
     "output_type": "stream",
     "text": [
      "(53, 77, 3, 15, 26, 21, 37, 77, 15, 81)\n",
      "Not sorted\n"
     ]
    }
   ],
   "source": [
    "print(rand_tup)\n",
    "\n",
    "ans = 'Sorted'\n",
    "    \n",
    "for i in range(len(rand_tup)-1):\n",
    "    if rand_tup[i] > rand_tup[i+1]:\n",
    "        ans = 'Not sorted'\n",
    "\n",
    "print(ans)"
   ]
  },
  {
   "cell_type": "code",
   "execution_count": 14,
   "metadata": {},
   "outputs": [
    {
     "name": "stdout",
     "output_type": "stream",
     "text": [
      "Hello World Hello World Hello World Hello World Hello World\n"
     ]
    }
   ],
   "source": [
    "t1 = ('Hello', 'World')\n",
    "repeated_t1 = t1*5\n",
    "print(*repeated_t1)"
   ]
  },
  {
   "cell_type": "code",
   "execution_count": 3,
   "metadata": {},
   "outputs": [
    {
     "name": "stdout",
     "output_type": "stream",
     "text": [
      "True\n"
     ]
    }
   ],
   "source": [
    "# membership\n",
    "print('hello' in repeated_t1)"
   ]
  },
  {
   "cell_type": "code",
   "execution_count": 5,
   "metadata": {},
   "outputs": [
    {
     "name": "stdout",
     "output_type": "stream",
     "text": [
      "1\n"
     ]
    }
   ],
   "source": [
    "# index\n",
    "index = repeated_t1.index('world')\n",
    "print(index)"
   ]
  }
 ],
 "metadata": {
  "kernelspec": {
   "display_name": "Python Base (DSML)",
   "language": "python",
   "name": "base"
  },
  "language_info": {
   "codemirror_mode": {
    "name": "ipython",
    "version": 3
   },
   "file_extension": ".py",
   "mimetype": "text/x-python",
   "name": "python",
   "nbconvert_exporter": "python",
   "pygments_lexer": "ipython3",
   "version": "3.13.1"
  },
  "orig_nbformat": 4,
  "vscode": {
   "interpreter": {
    "hash": "f4c85645bce20c702a4ecae1b93c6759c482279d1c3b7e99a0246a20b7629f3f"
   }
  }
 },
 "nbformat": 4,
 "nbformat_minor": 2
}
