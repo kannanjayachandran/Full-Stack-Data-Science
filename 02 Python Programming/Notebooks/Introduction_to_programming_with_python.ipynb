{
 "cells": [
  {
   "attachments": {},
   "cell_type": "markdown",
   "id": "7bd17021",
   "metadata": {},
   "source": [
    "# Introduction to programming with Python"
   ]
  },
  {
   "cell_type": "code",
   "execution_count": 6,
   "id": "6ee00487",
   "metadata": {},
   "outputs": [
    {
     "name": "stdout",
     "output_type": "stream",
     "text": [
      "Hello World\n"
     ]
    }
   ],
   "source": [
    "# Hello World\n",
    "print(\"Hello World\")"
   ]
  },
  {
   "cell_type": "code",
   "execution_count": 2,
   "id": "ebe4ef2c",
   "metadata": {},
   "outputs": [
    {
     "data": {
      "text/plain": [
       "'\\nThis is also a multi-line comment\\n'"
      ]
     },
     "execution_count": 2,
     "metadata": {},
     "output_type": "execute_result"
    }
   ],
   "source": [
    "# Single line comment\n",
    "\n",
    "'''\n",
    "This is a multi-line comment\n",
    "'''\n",
    "\n",
    "\"\"\"\n",
    "This is also a multi-line comment\n",
    "\"\"\""
   ]
  },
  {
   "cell_type": "code",
   "execution_count": 22,
   "id": "754a210e",
   "metadata": {},
   "outputs": [
    {
     "name": "stdout",
     "output_type": "stream",
     "text": [
      "5\n",
      "Hello, World!\n"
     ]
    }
   ],
   "source": [
    "# variables\n",
    "x = 5\n",
    "y = \"Hello, World!\"\n",
    "\n",
    "print(x)\n",
    "print(y)"
   ]
  },
  {
   "cell_type": "code",
   "execution_count": 7,
   "id": "494bf19b",
   "metadata": {},
   "outputs": [
    {
     "name": "stdout",
     "output_type": "stream",
     "text": [
      "5\n"
     ]
    }
   ],
   "source": [
    "# conditionals\n",
    "if x > 5:\n",
    "    print(\"NO\")\n",
    "elif x == 5:\n",
    "    print(x)\n",
    "else:\n",
    "    print(\"Yes\")"
   ]
  },
  {
   "cell_type": "code",
   "execution_count": 23,
   "id": "96c35758",
   "metadata": {},
   "outputs": [
    {
     "name": "stdout",
     "output_type": "stream",
     "text": [
      "5\n",
      "4\n",
      "3\n",
      "2\n",
      "1\n",
      "0\n",
      "1\n",
      "2\n",
      "3\n"
     ]
    }
   ],
   "source": [
    "# Loop\n",
    "while x > 0:\n",
    "    print(x)\n",
    "    x -= 1\n",
    "\n",
    "for i in range(4):\n",
    "    print(i)"
   ]
  },
  {
   "cell_type": "code",
   "execution_count": 24,
   "id": "c345764b",
   "metadata": {},
   "outputs": [
    {
     "data": {
      "text/plain": [
       "25"
      ]
     },
     "execution_count": 24,
     "metadata": {},
     "output_type": "execute_result"
    }
   ],
   "source": [
    "# function\n",
    "def square(x):\n",
    "    return x**2\n",
    "\n",
    "square(5)"
   ]
  },
  {
   "cell_type": "markdown",
   "id": "1ffd6bd9",
   "metadata": {},
   "source": [
    "## Simple Programs"
   ]
  },
  {
   "cell_type": "code",
   "execution_count": 15,
   "id": "8dbe9bed",
   "metadata": {},
   "outputs": [
    {
     "data": {
      "text/plain": [
       "120"
      ]
     },
     "execution_count": 15,
     "metadata": {},
     "output_type": "execute_result"
    }
   ],
   "source": [
    "# factorial of a number\n",
    "def factorial(num: int) -> int:\n",
    "    \"\"\"Returns the factorial of a number\"\"\"\n",
    "    f = 1\n",
    "    \n",
    "    for i in range(1, num+1):\n",
    "        f *= i\n",
    "    return f\n",
    "\n",
    "\n",
    "factorial(5)"
   ]
  },
  {
   "cell_type": "code",
   "execution_count": 16,
   "id": "cf0a160c",
   "metadata": {},
   "outputs": [
    {
     "data": {
      "text/plain": [
       "23"
      ]
     },
     "execution_count": 16,
     "metadata": {},
     "output_type": "execute_result"
    }
   ],
   "source": [
    "# sum of n numbers in a list\n",
    "def sumOfN(nums: list[int]) -> int:\n",
    "    \"\"\"Return the sum of a list\"\"\"\n",
    "    total = 0\n",
    "    \n",
    "    for x in nums:\n",
    "        total += x\n",
    "    return total\n",
    "\n",
    "\n",
    "sumOfN([1, 3, 5, 7, 4, 3])"
   ]
  },
  {
   "cell_type": "code",
   "execution_count": 18,
   "id": "0d1d220e",
   "metadata": {},
   "outputs": [
    {
     "data": {
      "text/plain": [
       "0"
      ]
     },
     "execution_count": 18,
     "metadata": {},
     "output_type": "execute_result"
    }
   ],
   "source": [
    "# find the smallest number in a list\n",
    "def smallest(nums: list[int]) -> int:\n",
    "    \"\"\"Return the minimum element\"\"\"\n",
    "    small = float('inf')\n",
    "\n",
    "    for x in nums:\n",
    "        if x < small:\n",
    "            small = x\n",
    "    return small\n",
    "\n",
    "\n",
    "smallest([1, 3, 2, 4, 0, 5])"
   ]
  },
  {
   "cell_type": "code",
   "execution_count": 19,
   "id": "bfca1090",
   "metadata": {},
   "outputs": [
    {
     "data": {
      "text/plain": [
       "5"
      ]
     },
     "execution_count": 19,
     "metadata": {},
     "output_type": "execute_result"
    }
   ],
   "source": [
    "# find the largest number in a list\n",
    "def largest (nums: list[int]) -> int:\n",
    "    \"\"\"Returns the maximum element\"\"\"\n",
    "    large = -float('inf')\n",
    "\n",
    "    for x in nums:\n",
    "        if x > large:\n",
    "            large = x\n",
    "    return large\n",
    "\n",
    "\n",
    "largest([1, 3, 2, 4, 0, 5])"
   ]
  },
  {
   "cell_type": "code",
   "execution_count": 20,
   "id": "39aa3a17",
   "metadata": {},
   "outputs": [
    {
     "data": {
      "text/plain": [
       "55"
      ]
     },
     "execution_count": 20,
     "metadata": {},
     "output_type": "execute_result"
    }
   ],
   "source": [
    "# find the n-th fibonacci term\n",
    "def fib(num: int) -> int:\n",
    "    \"\"\"Returns n-th fibonacci term\"\"\"\n",
    "    first  = 0\n",
    "    second = 1\n",
    "\n",
    "    while num:\n",
    "        first, second = second, first+second\n",
    "        num -= 1\n",
    "    return first\n",
    "\n",
    "\n",
    "fib(10)"
   ]
  },
  {
   "cell_type": "code",
   "execution_count": 25,
   "id": "a2914520",
   "metadata": {},
   "outputs": [
    {
     "data": {
      "text/plain": [
       "True"
      ]
     },
     "execution_count": 25,
     "metadata": {},
     "output_type": "execute_result"
    }
   ],
   "source": [
    "# find whether the given number is palindrome or not \n",
    "def isPalindromeNum(a: int) -> bool:\n",
    "    \"\"\"Returns True if the input is a palindrome\"\"\"\n",
    "    num = a\n",
    "    rev = 0\n",
    "\n",
    "    while a:\n",
    "        digit = a % 10\n",
    "        rev = rev * 10 + digit\n",
    "        a //= 10\n",
    "    return num == rev\n",
    "\n",
    "\n",
    "isPalindromeNum(151)"
   ]
  },
  {
   "cell_type": "code",
   "execution_count": 28,
   "id": "6a236675",
   "metadata": {},
   "outputs": [
    {
     "name": "stdout",
     "output_type": "stream",
     "text": [
      "True\n",
      "True\n"
     ]
    }
   ],
   "source": [
    "# find whether the given string is palindrome or not \n",
    "def isPalindromeStr1(s: str) -> bool:\n",
    "    \"\"\"Returns True if the input is a palindrome\"\"\"\n",
    "    return s == s[::-1]\n",
    "\n",
    "\n",
    "def isPalindromeStr2(s: str) -> bool:\n",
    "    \"\"\"Returns True if the input is a palindrome\"\"\"\n",
    "    start = 0\n",
    "    end = len(s)-1\n",
    "\n",
    "    while start < end:\n",
    "        if s[start] != s[end]:\n",
    "            return False\n",
    "        start += 1\n",
    "        end -= 1    \n",
    "    return True\n",
    "\n",
    "\n",
    "print(isPalindromeStr1('racecar'))\n",
    "print(isPalindromeStr2('racecar'))"
   ]
  },
  {
   "cell_type": "code",
   "execution_count": 29,
   "id": "704db863",
   "metadata": {},
   "outputs": [
    {
     "data": {
      "text/plain": [
       "'Odd'"
      ]
     },
     "execution_count": 29,
     "metadata": {},
     "output_type": "execute_result"
    }
   ],
   "source": [
    "# find whether the given number is even or odd\n",
    "def evenOdd(num: int) -> str:\n",
    "    \"\"\"Find whether the given number is even or odd\"\"\"\n",
    "    if num == 0: return \"Neither even nor odd\"\n",
    "    if num % 2 == 0: return \"Even\"\n",
    "    if num % 2 == 1: return \"Odd\"\n",
    "\n",
    "\n",
    "evenOdd(2345)"
   ]
  },
  {
   "cell_type": "code",
   "execution_count": 30,
   "id": "0c728e7a",
   "metadata": {},
   "outputs": [
    {
     "data": {
      "text/plain": [
       "False"
      ]
     },
     "execution_count": 30,
     "metadata": {},
     "output_type": "execute_result"
    }
   ],
   "source": [
    "# find whether the given number is an Armstrong number or not\n",
    "def is_Armstrong(a: int) -> bool:\n",
    "    \"\"\"Return True if the given number is an Armstrong number\"\"\"\n",
    "    if a < 0:\n",
    "        a = abs(a)\n",
    "    num = a\n",
    "    cubeSum = 0\n",
    "\n",
    "    while a:\n",
    "        digit = a % 10\n",
    "        cubeSum += digit**3\n",
    "        a //= 10\n",
    "    return cubeSum == num\n",
    "\n",
    "\n",
    "is_Armstrong(345)"
   ]
  },
  {
   "cell_type": "code",
   "execution_count": 31,
   "id": "04ce4320",
   "metadata": {},
   "outputs": [
    {
     "data": {
      "text/plain": [
       "True"
      ]
     },
     "execution_count": 31,
     "metadata": {},
     "output_type": "execute_result"
    }
   ],
   "source": [
    "# find whether the given number is prime or not\n",
    "def isPrime(num: int) -> bool:\n",
    "    \"\"\"Returns True if the given number is a prime number\"\"\"\n",
    "    if num <= 1: return False\n",
    "\n",
    "    for i in range(2, int(num ** 0.5)+1):\n",
    "        if num % i == 0:\n",
    "            return False\n",
    "    return True\n",
    "\n",
    "\n",
    "isPrime(3)"
   ]
  },
  {
   "cell_type": "code",
   "execution_count": 41,
   "id": "bf0e3f2d",
   "metadata": {},
   "outputs": [
    {
     "name": "stdout",
     "output_type": "stream",
     "text": [
      "$1000 is : 85000 Rupees\n",
      "₹100000 is : 1176.471 Dollars\n"
     ]
    }
   ],
   "source": [
    "# Convert INR to USD\n",
    "def to_USD(money: int) -> float:\n",
    "    \"\"\"Convert INR to USD\"\"\"\n",
    "    return money/85\n",
    "\n",
    "\n",
    "def to_Rupee(money: int) -> int:\n",
    "    \"\"\"Convert USD to INR\"\"\"\n",
    "    return money*85\n",
    "\n",
    "\n",
    "def convert(currency: str, amount: int) -> int:\n",
    "    \"\"\"Convert between USD and INR\"\"\"\n",
    "    if currency.lower() == \"usd\":\n",
    "        return to_Rupee(amount)\n",
    "    elif currency.lower() == \"inr\":\n",
    "        return to_USD(amount)\n",
    "    else:\n",
    "        return \"Invalid format\"\n",
    "    \n",
    "\n",
    "amount_usd = 1000\n",
    "amount_inr = 100000\n",
    "\n",
    "print(f\"${amount_usd} is : {convert(\"USD\", amount_usd)} Rupees\")\n",
    "print(f\"₹{amount_inr} is : {convert(\"INR\", amount_inr):.3f} Dollars\")"
   ]
  },
  {
   "cell_type": "code",
   "execution_count": 46,
   "id": "bf122d67",
   "metadata": {},
   "outputs": [
    {
     "data": {
      "text/plain": [
       "104.0"
      ]
     },
     "execution_count": 46,
     "metadata": {},
     "output_type": "execute_result"
    }
   ],
   "source": [
    "# convert celsius to fahrenheit \n",
    "def to_Fahrenheit(celsius: int ) -> float:\n",
    "    \"\"\"Convert celsius to fahrenheit\"\"\"\n",
    "    return (celsius*1.8) + 32\n",
    "\n",
    "\n",
    "to_Fahrenheit(40)"
   ]
  },
  {
   "cell_type": "code",
   "execution_count": 44,
   "id": "83dde6b4",
   "metadata": {},
   "outputs": [
    {
     "name": "stdout",
     "output_type": "stream",
     "text": [
      "Area of Circle 78.53750000000001\n",
      "Area of Square 25\n",
      "Area of Rectangle 30\n",
      "Area of Triangle 15.0\n"
     ]
    }
   ],
   "source": [
    "# compute area\n",
    "def circle_area(radius: int) -> float: \n",
    "    \"\"\"Returns the area of a circle with given radius\"\"\"\n",
    "    PI = 3.1415\n",
    "    return PI*radius*radius\n",
    "\n",
    "\n",
    "def square_area(side: int) -> int:\n",
    "    \"\"\"Returns the area of a square with given side\"\"\"\n",
    "    return side*side\n",
    "\n",
    "\n",
    "def rectangle_area(length: int, breadth: int) -> int:\n",
    "    \"\"\"Returns the area of a rectangle with given length and breadth\"\"\"\n",
    "    return length*breadth\n",
    "\n",
    "\n",
    "def triangle_area(base: int, height: int) -> int:\n",
    "    \"\"\"Returns the area of a triangle with given base and height\"\"\"\n",
    "    return 0.5*base*height\n",
    "\n",
    "\n",
    "print(\"Area of Circle\", circle_area(5))\n",
    "print(\"Area of Square\", square_area(5))\n",
    "print(\"Area of Rectangle\", rectangle_area(5, 6))\n",
    "print(\"Area of Triangle\", triangle_area(5, 6))"
   ]
  },
  {
   "cell_type": "code",
   "execution_count": 45,
   "id": "27d35b4f",
   "metadata": {},
   "outputs": [
    {
     "data": {
      "text/plain": [
       "5.5"
      ]
     },
     "execution_count": 45,
     "metadata": {},
     "output_type": "execute_result"
    }
   ],
   "source": [
    "# find the average of a list\n",
    "def average(nums: list[int]) -> int:\n",
    "    \"\"\"Returns the average of a list\"\"\"\n",
    "    return sum(nums)/len(nums)\n",
    "\n",
    "\n",
    "average([1, 2, 3, 4, 5, 6, 7, 8, 9, 10])"
   ]
  },
  {
   "cell_type": "code",
   "execution_count": 48,
   "id": "00302d9c",
   "metadata": {},
   "outputs": [
    {
     "name": "stdout",
     "output_type": "stream",
     "text": [
      "False\n"
     ]
    },
    {
     "data": {
      "text/plain": [
       "False"
      ]
     },
     "execution_count": 48,
     "metadata": {},
     "output_type": "execute_result"
    }
   ],
   "source": [
    "# find whether given year is leap year or not\n",
    "def leap_year(year: int) -> bool:\n",
    "    \"\"\"Returns True if given year is a leap year\"\"\"\n",
    "    if year % 400 == 0 and year % 100 == 0:\n",
    "        return True\n",
    "    if year % 4 == 0 and year % 100 != 0:\n",
    "        return True\n",
    "    return False\n",
    "\n",
    "\n",
    "def leap_year_2(year: int) -> bool:\n",
    "    \"\"\"Returns True if given year is a leap year : Using Calendar module\"\"\"\n",
    "    import calendar\n",
    "    return calendar.isleap(year)\n",
    "\n",
    "\n",
    "print(leap_year(2025))\n",
    "leap_year_2(2025)"
   ]
  },
  {
   "cell_type": "code",
   "execution_count": 66,
   "id": "b3f26a24",
   "metadata": {},
   "outputs": [
    {
     "data": {
      "text/plain": [
       "[11, 13, 15, 17, 19]"
      ]
     },
     "execution_count": 66,
     "metadata": {},
     "output_type": "execute_result"
    }
   ],
   "source": [
    "# find all the odd number in a given range\n",
    "def odd_in_range(start: int, end: int) -> list[int]:\n",
    "    \"\"\"Returns odd numbers in a given range\"\"\"\n",
    "    if start > end:\n",
    "        return []\n",
    "    result = []\n",
    "\n",
    "    for num in range(start, end + 1):\n",
    "        if num & 1 == 1:\n",
    "            result.append(num)\n",
    "    return result\n",
    "\n",
    "\n",
    "odd_in_range(10, 20)"
   ]
  },
  {
   "cell_type": "code",
   "execution_count": 3,
   "id": "23c343d7",
   "metadata": {},
   "outputs": [
    {
     "data": {
      "text/plain": [
       "[4, 16, 36, 64, 100, 144]"
      ]
     },
     "execution_count": 3,
     "metadata": {},
     "output_type": "execute_result"
    }
   ],
   "source": [
    "# find all the even squares up to a given number\n",
    "def even_squares(n: int) -> list[int]:\n",
    "    \"\"\"Returns a list of all even squares up to input number\"\"\"\n",
    "    result = []\n",
    "\n",
    "    if n <= 1:\n",
    "        print(\"Enter a number larger than 1\")\n",
    "        return result\n",
    "    \n",
    "    for i in range(2, n+1, 2):\n",
    "        result.append(i*i)\n",
    "    return result\n",
    "\n",
    "\n",
    "even_squares(12)"
   ]
  },
  {
   "cell_type": "code",
   "execution_count": 4,
   "id": "9e7bb558",
   "metadata": {},
   "outputs": [
    {
     "data": {
      "text/plain": [
       "[729, 343, 125, 27, 1]"
      ]
     },
     "execution_count": 4,
     "metadata": {},
     "output_type": "execute_result"
    }
   ],
   "source": [
    "# find all the odd cubes up to a given number in reversed order\n",
    "def reversed_odd_cubes(n: int) -> list[int]:\n",
    "    \"\"\"Returns a list of all odd cubes up to input number\"\"\"\n",
    "    result = []\n",
    "    \n",
    "    if n < 1:\n",
    "        print(\"Enter a number greater than 0\")\n",
    "        return result\n",
    "    \n",
    "    for i in reversed(range(1, n+1, 2)):\n",
    "        result.append(i ** 3)\n",
    "    return result\n",
    "\n",
    "\n",
    "reversed_odd_cubes(10)"
   ]
  },
  {
   "cell_type": "code",
   "execution_count": 5,
   "id": "1fe61e33",
   "metadata": {},
   "outputs": [
    {
     "data": {
      "text/plain": [
       "15"
      ]
     },
     "execution_count": 5,
     "metadata": {},
     "output_type": "execute_result"
    }
   ],
   "source": [
    "# find the sum of all digits in a number\n",
    "def sum_of_digits(num: int) -> int:\n",
    "    \"\"\"Returns the sum of all digits in a number\"\"\"\n",
    "    if num < 0:\n",
    "        num = abs(num)\n",
    "    x = 0\n",
    "    while num:\n",
    "        digit = num % 10\n",
    "        x += digit\n",
    "        num //= 10\n",
    "    return x\n",
    "\n",
    "\n",
    "sum_of_digits(-12345)"
   ]
  },
  {
   "cell_type": "code",
   "execution_count": 8,
   "id": "11fc8ae6",
   "metadata": {},
   "outputs": [
    {
     "data": {
      "text/plain": [
       "[9, 6, 1, 3, 10, 3, 8, 4, 1, 8, 10, 6, 2, 7, 4, 1, 6, 2, 5]"
      ]
     },
     "execution_count": 8,
     "metadata": {},
     "output_type": "execute_result"
    }
   ],
   "source": [
    "# Randomly print numbers and when you print 5 stop\n",
    "import random\n",
    "\n",
    "\n",
    "def random_five() -> list[int]:\n",
    "    \"\"\"Returns a list of random numbers between 1 and 10 until 5 occurs\"\"\"\n",
    "    result = []\n",
    "    while True:\n",
    "        r = random.randint(1, 10)\n",
    "        result.append(r)\n",
    "        if r == 5:\n",
    "            break\n",
    "    return result\n",
    "\n",
    "\n",
    "random_five()"
   ]
  },
  {
   "cell_type": "code",
   "execution_count": 11,
   "id": "5ca9781c",
   "metadata": {},
   "outputs": [
    {
     "data": {
      "text/plain": [
       "9"
      ]
     },
     "execution_count": 11,
     "metadata": {},
     "output_type": "execute_result"
    }
   ],
   "source": [
    "# find the first digit of a number\n",
    "def first_digit(n: int) -> int:\n",
    "    \"\"\"Returns the first digit of a number\"\"\"\n",
    "    if n < 0:\n",
    "        n = abs(n)\n",
    "    while n >= 10:\n",
    "        n //= 10\n",
    "    return n\n",
    "\n",
    "\n",
    "first_digit(910)"
   ]
  }
 ],
 "metadata": {
  "kernelspec": {
   "display_name": "Python Base (DSML)",
   "language": "python",
   "name": "base"
  },
  "language_info": {
   "codemirror_mode": {
    "name": "ipython",
    "version": 3
   },
   "file_extension": ".py",
   "mimetype": "text/x-python",
   "name": "python",
   "nbconvert_exporter": "python",
   "pygments_lexer": "ipython3",
   "version": "3.13.1"
  },
  "vscode": {
   "interpreter": {
    "hash": "cb22319440f11b8bb84e6e602744710fc1e32bd2bad8dcc38bf68177a45fab0d"
   }
  }
 },
 "nbformat": 4,
 "nbformat_minor": 5
}
