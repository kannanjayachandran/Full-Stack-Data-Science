{
 "cells": [
  {
   "cell_type": "markdown",
   "metadata": {},
   "source": [
    "<h1 align=\"center\" style='color: #FEC260'> Strings </h1>"
   ]
  },
  {
   "cell_type": "code",
   "execution_count": 3,
   "metadata": {},
   "outputs": [
    {
     "name": "stdout",
     "output_type": "stream",
     "text": [
      "Hello world\n"
     ]
    }
   ],
   "source": [
    "# concatenation\n",
    "a = \"Hello\"\n",
    "b = \"world\"\n",
    "\n",
    "c = a + ' ' + b\n",
    "print(c)"
   ]
  },
  {
   "cell_type": "code",
   "execution_count": 4,
   "metadata": {},
   "outputs": [
    {
     "name": "stdout",
     "output_type": "stream",
     "text": [
      "Hello Hello Hello Hello Hello Hello Hello Hello Hello Hello \n"
     ]
    }
   ],
   "source": [
    "# multiplication\n",
    "word = 'Hello '\n",
    "h = word*10\n",
    "print(h)"
   ]
  },
  {
   "cell_type": "code",
   "execution_count": null,
   "metadata": {},
   "outputs": [
    {
     "name": "stdout",
     "output_type": "stream",
     "text": [
      "Vilgax\n"
     ]
    }
   ],
   "source": [
    "# membership\n",
    "if \"hello\" in c:\n",
    "    print(\"Aggregor\")\n",
    "elif 'Hello' in c: \n",
    "    print(\"Vilgax\")\n",
    "else:\n",
    "    print(\"Dagon\")"
   ]
  },
  {
   "cell_type": "code",
   "execution_count": 16,
   "metadata": {},
   "outputs": [
    {
     "name": "stdout",
     "output_type": "stream",
     "text": [
      "Given string is :\n",
      " The Immortals of Meluha         The Secretes of the Nagas         The Oath of the Vayuputras\n",
      "\n",
      "Counting occurrences of 'the' : 2\n",
      "Counting occurrences of 'the' (ignoring case) : 5\n",
      "\n",
      "Find the firs occurrence of 'the' : 48\n",
      "\n",
      "Formatted string :  The_*_Immortals_*_of_*_Meluha_*__*__*__*__*__*__*__*__*_The_*_Secretes_*_of_*_the_*_Nagas_*__*__*__*__*__*__*__*__*_The_*_Oath_*_of_*_the_*_Vayuputras\n",
      "\n",
      "Lowercase string :  the immortals of meluha         the secretes of the nagas         the oath of the vayuputras\n",
      "\n",
      "Uppercase string THE IMMORTALS OF MELUHA         THE SECRETES OF THE NAGAS         THE OATH OF THE VAYUPUTRAS\n"
     ]
    }
   ],
   "source": [
    "# string functions\n",
    "book = \"The Immortals of Meluha \\\n",
    "        The Secretes of the Nagas \\\n",
    "        The Oath of the Vayuputras\"\n",
    "\n",
    "print(\"Given string is :\\n\", book)\n",
    "\n",
    "print(f\"\\nCounting occurrences of 'the' : {book.count('the')}\")\n",
    "print(f\"Counting occurrences of 'the' (ignoring case) : {book.lower().count('the')}\")\n",
    "\n",
    "print(f\"\\nFind the firs occurrence of 'the' : {book.find('the')}\")\n",
    "\n",
    "new_book = book.replace(' ', '_*_')\n",
    "print(\"\\nFormatted string : \", new_book)\n",
    "\n",
    "new_book = book.lower()\n",
    "print(\"\\nLowercase string : \", new_book)\n",
    "\n",
    "new_book = book.upper()\n",
    "print(\"\\nUppercase string\", new_book)\n"
   ]
  },
  {
   "cell_type": "code",
   "execution_count": 18,
   "metadata": {},
   "outputs": [
    {
     "name": "stdout",
     "output_type": "stream",
     "text": [
      "T*  h*  e*   *  I*  m*  m*  o*  r*  t*  a*  l*  s*   *  o*  f*   *  M*  e*  l*  u*  h*  a*   *   *   *   *   *   *   *   *   *  T*  h*  e*   *  S*  e*  c*  r*  e*  t*  e*  s*   *  o*  f*   *  t*  h*  e*   *  N*  a*  g*  a*  s*   *   *   *   *   *   *   *   *   *  T*  h*  e*   *  O*  a*  t*  h*   *  o*  f*   *  t*  h*  e*   *  V*  a*  y*  u*  p*  u*  t*  r*  a*  s*  "
     ]
    }
   ],
   "source": [
    "# looping over a list\n",
    "for char in book:\n",
    "    print(char, end='*  ')"
   ]
  },
  {
   "cell_type": "markdown",
   "metadata": {},
   "source": [
    "**strip()**"
   ]
  },
  {
   "cell_type": "code",
   "execution_count": 19,
   "metadata": {},
   "outputs": [
    {
     "name": "stdout",
     "output_type": "stream",
     "text": [
      "         Hello World             \n",
      "Hello World\n",
      "            hello world       \n",
      "hello world\n"
     ]
    }
   ],
   "source": [
    "h = \"         Hello\"\n",
    "w = \"World             \"\n",
    "hw = '            hello world       '\n",
    "print(h, w)\n",
    "print(h.lstrip(), w.rstrip())\n",
    "print(hw, hw.strip(), sep='\\n')"
   ]
  },
  {
   "cell_type": "markdown",
   "metadata": {},
   "source": [
    "**split()**"
   ]
  },
  {
   "cell_type": "code",
   "execution_count": 26,
   "metadata": {},
   "outputs": [
    {
     "name": "stdout",
     "output_type": "stream",
     "text": [
      "['The', 'immortals', 'of', 'Meluha', 'and', 'the', 'Secretes', 'of', 'the', 'Nagas'] <class 'list'>\n"
     ]
    }
   ],
   "source": [
    "lis = book.split()\n",
    "print(lis, type(lis))"
   ]
  },
  {
   "cell_type": "markdown",
   "metadata": {},
   "source": [
    "**join()**"
   ]
  },
  {
   "cell_type": "code",
   "execution_count": 31,
   "metadata": {},
   "outputs": [
    {
     "name": "stdout",
     "output_type": "stream",
     "text": [
      "The immortals of Meluha and the Secretes of the Nagas\n"
     ]
    }
   ],
   "source": [
    "s = ' '.join(lis)\n",
    "print(s)"
   ]
  },
  {
   "cell_type": "code",
   "execution_count": 10,
   "metadata": {},
   "outputs": [
    {
     "name": "stdout",
     "output_type": "stream",
     "text": [
      "Meluha of immortals The\n"
     ]
    }
   ],
   "source": [
    "# Reverse the order of words in a sentence.\n",
    "p = 'The immortals of Meluha'\n",
    "rev = ' '.join(p.split()[::-1])\n",
    "print(rev)"
   ]
  },
  {
   "cell_type": "code",
   "execution_count": 11,
   "metadata": {},
   "outputs": [
    {
     "name": "stdout",
     "output_type": "stream",
     "text": [
      "Original string: kingdom\n",
      "with slicing : modgnik\n",
      "without slicing : modgnik\n"
     ]
    }
   ],
   "source": [
    "# Reverse a string with and without using slicing\n",
    "string_to_reverse = \"kingdom\"\n",
    "with_slicing = string_to_reverse[::-1]\n",
    "without_slicing = \"\".join(reversed(string_to_reverse))\n",
    "\n",
    "print(f\"Original string: {string_to_reverse}\\nwith slicing : {with_slicing}\\nwithout slicing : {without_slicing}\")"
   ]
  },
  {
   "cell_type": "markdown",
   "metadata": {},
   "source": [
    "**f-Strings**"
   ]
  },
  {
   "cell_type": "code",
   "execution_count": 33,
   "metadata": {},
   "outputs": [
    {
     "name": "stdout",
     "output_type": "stream",
     "text": [
      "Apple count is  10, orange count is 20,guava count is 30\n"
     ]
    }
   ],
   "source": [
    "apple = int(input(\"Enter apple: \"))\n",
    "orange = int(input(\"Enter orange: \"))\n",
    "guava = int(input(\"Enter guava: \"))\n",
    "\n",
    "s = f'Apple count is  {apple}, orange count is {orange},guava count is {guava}'\n",
    "\n",
    "print(s)"
   ]
  },
  {
   "cell_type": "code",
   "execution_count": 5,
   "metadata": {},
   "outputs": [
    {
     "name": "stdout",
     "output_type": "stream",
     "text": [
      "True\n"
     ]
    }
   ],
   "source": [
    "# check if a string is a palindrome\n",
    "palindrome_string = \"malayalam\"\n",
    "print(palindrome_string == palindrome_string[::-1])"
   ]
  },
  {
   "cell_type": "code",
   "execution_count": 6,
   "metadata": {},
   "outputs": [
    {
     "name": "stdout",
     "output_type": "stream",
     "text": [
      "w\n"
     ]
    }
   ],
   "source": [
    "# First non-repeating character\n",
    "from collections import Counter\n",
    "\n",
    "\n",
    "non_repeating_check = \"swiss\"\n",
    "freq = Counter(non_repeating_check)\n",
    "\n",
    "for char in non_repeating_check:\n",
    "    if freq[char] == 1:\n",
    "        print(char)\n",
    "        break"
   ]
  },
  {
   "cell_type": "code",
   "execution_count": 7,
   "metadata": {},
   "outputs": [
    {
     "name": "stdout",
     "output_type": "stream",
     "text": [
      "True\n"
     ]
    }
   ],
   "source": [
    "# Anagram check\n",
    "s1, s2 = \"listen\", \"silent\"\n",
    "print(sorted(s1) == sorted(s2))"
   ]
  },
  {
   "cell_type": "code",
   "execution_count": 12,
   "metadata": {},
   "outputs": [
    {
     "name": "stdout",
     "output_type": "stream",
     "text": [
      "Vowels : 3\n",
      "Consonants : 7\n"
     ]
    }
   ],
   "source": [
    "# Count vowels and consonants\n",
    "count_text = \"hello world\"\n",
    "vowels = \"aeiou\"\n",
    "\n",
    "v = sum(1 for char in count_text if char.lower() in vowels)\n",
    "c = sum(1 for char in count_text if char.isalpha() and char.lower() not in vowels)\n",
    "\n",
    "print(f\"Vowels : {v}\\nConsonants : {c}\")"
   ]
  },
  {
   "cell_type": "code",
   "execution_count": 2,
   "metadata": {},
   "outputs": [
    {
     "name": "stdout",
     "output_type": "stream",
     "text": [
      "65\n",
      "A\n",
      "b'Python \\xf0\\x9f\\x90\\x8d'\n",
      "Python 🐍\n"
     ]
    }
   ],
   "source": [
    "print(ord(\"A\"))     \n",
    "print(chr(65))      \n",
    "\n",
    "s = \"Python 🐍\"\n",
    "encoded = s.encode(\"utf-8\")\n",
    "decoded = encoded.decode(\"utf-8\")\n",
    "print(encoded)  \n",
    "print(decoded)  "
   ]
  },
  {
   "cell_type": "code",
   "execution_count": 12,
   "metadata": {},
   "outputs": [
    {
     "name": "stdout",
     "output_type": "stream",
     "text": [
      "False\n"
     ]
    }
   ],
   "source": [
    "a = \"Strings in Python are powerful and versatile.\"\n",
    "b = \"Strings in Python are powerful and versatile.\"\n",
    "print(a is b)  # False"
   ]
  }
 ],
 "metadata": {
  "kernelspec": {
   "display_name": "Python Base (DSML)",
   "language": "python",
   "name": "base"
  },
  "language_info": {
   "codemirror_mode": {
    "name": "ipython",
    "version": 3
   },
   "file_extension": ".py",
   "mimetype": "text/x-python",
   "name": "python",
   "nbconvert_exporter": "python",
   "pygments_lexer": "ipython3",
   "version": "3.13.1"
  },
  "orig_nbformat": 4,
  "vscode": {
   "interpreter": {
    "hash": "f4c85645bce20c702a4ecae1b93c6759c482279d1c3b7e99a0246a20b7629f3f"
   }
  }
 },
 "nbformat": 4,
 "nbformat_minor": 2
}
