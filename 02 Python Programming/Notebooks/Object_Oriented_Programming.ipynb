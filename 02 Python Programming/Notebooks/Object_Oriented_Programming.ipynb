{
 "cells": [
  {
   "attachments": {},
   "cell_type": "markdown",
   "metadata": {},
   "source": [
    "<h1 style='color: #FEC260'> Object Oriented Programming in Python </h1>"
   ]
  },
  {
   "cell_type": "code",
   "execution_count": null,
   "metadata": {},
   "outputs": [
    {
     "name": "stdout",
     "output_type": "stream",
     "text": [
      "Buddy\n",
      "Canis familiaris\n",
      "Buddy says Woof!\n",
      "True\n"
     ]
    }
   ],
   "source": [
    "class Dog:\n",
    "    \"\"\"A simple Dog class demonstrating basic OOP concepts\"\"\"\n",
    "    \n",
    "    # Class attribute\n",
    "    species = \"Canis familiaris\"\n",
    "    \n",
    "    def __init__(self, name, age):\n",
    "        \"\"\"Instance initializer (constructor)\"\"\"\n",
    "        # Instance attributes (unique to each instance)\n",
    "        self.name = name\n",
    "        self.age = age\n",
    "    \n",
    "    def bark(self):\n",
    "        \"\"\"Instance method\"\"\"\n",
    "        return f\"{self.name} says Woof!\"\n",
    "    \n",
    "class Nothing:\n",
    "    \"\"\"Empty class\"\"\"\n",
    "    pass\n",
    "\n",
    "# Creating objects (instances)\n",
    "dog1 = Dog(\"Buddy\", 3)\n",
    "dog2 = Dog(\"Lucy\", 5)\n",
    "\n",
    "print(dog1.name)          # Buddy\n",
    "print(dog1.species)       # Canis familiaris\n",
    "print(dog1.bark())        # Buddy says Woof!\n",
    "\n",
    "# Class attributes are shared\n",
    "print(dog1.species is dog2.species)  # True (same object in memory)"
   ]
  },
  {
   "cell_type": "code",
   "execution_count": 4,
   "metadata": {},
   "outputs": [
    {
     "name": "stdout",
     "output_type": "stream",
     "text": [
      "2\n",
      "2\n",
      "2\n",
      "100\n",
      "2\n",
      "2\n"
     ]
    }
   ],
   "source": [
    "# Instance vs Class Attributes\n",
    "class Counter:\n",
    "    count = 0  # Class attribute\n",
    "    \n",
    "    def __init__(self, name):\n",
    "        self.name = name  # Instance attribute\n",
    "        Counter.count += 1  # Modifying class attribute\n",
    "\n",
    "c1 = Counter(\"First\")\n",
    "c2 = Counter(\"Second\")\n",
    "\n",
    "print(Counter.count)      # 2\n",
    "print(c1.count)           # 2 (accessed through instance)\n",
    "print(c2.count)           # 2\n",
    "\n",
    "# Modifying through instance creates instance attribute (shadowing)\n",
    "c1.count = 100\n",
    "print(c1.count)           # 100 (instance attribute)\n",
    "print(c2.count)           # 2 (still accessing class attribute)\n",
    "print(Counter.count)      # 2 (class attribute unchanged)"
   ]
  },
  {
   "cell_type": "code",
   "execution_count": 9,
   "metadata": {},
   "outputs": [
    {
     "name": "stdout",
     "output_type": "stream",
     "text": [
      "77.0\n",
      "37.0\n",
      "Total conversions: 2\n",
      "True\n"
     ]
    }
   ],
   "source": [
    "class Temperature:\n",
    "    \"\"\"Temperature converter with all method types\"\"\"\n",
    "    \n",
    "    # Class attribute\n",
    "    conversion_count = 0\n",
    "    \n",
    "    def __init__(self, celsius):\n",
    "        \"\"\"Instance method initialization\"\"\"\n",
    "        self.celsius = celsius\n",
    "        Temperature.conversion_count += 1\n",
    "    \n",
    "    def to_fahrenheit(self):\n",
    "        \"\"\"Instance method - uses instance data\"\"\"\n",
    "        return (self.celsius * 9/5) + 32\n",
    "    \n",
    "    def to_kelvin(self):\n",
    "        \"\"\"Instance method\"\"\"\n",
    "        return self.celsius + 273.15\n",
    "    \n",
    "    @classmethod\n",
    "    def from_fahrenheit(cls, fahrenheit):\n",
    "        \"\"\"Class method - alternative constructor\"\"\"\n",
    "        celsius = (fahrenheit - 32) * 5/9\n",
    "        return cls(celsius)\n",
    "    \n",
    "    @classmethod\n",
    "    def get_conversion_count(cls):\n",
    "        \"\"\"Class method - access class data\"\"\"\n",
    "        return f\"Total conversions: {cls.conversion_count}\"\n",
    "    \n",
    "    @staticmethod\n",
    "    def is_freezing(celsius):\n",
    "        \"\"\"Static method - utility function\"\"\"\n",
    "        return celsius <= 0\n",
    "    \n",
    "    @staticmethod\n",
    "    def is_boiling(celsius):\n",
    "        \"\"\"Static method\"\"\"\n",
    "        return celsius >= 100\n",
    "\n",
    "# Using all method types\n",
    "temp1 = Temperature(25)\n",
    "print(temp1.to_fahrenheit())  # 77.0\n",
    "\n",
    "temp2 = Temperature.from_fahrenheit(98.6)\n",
    "print(temp2.celsius)  # 37.0\n",
    "\n",
    "print(Temperature.get_conversion_count())  # Total conversions: 2\n",
    "print(Temperature.is_freezing(-5))  # True"
   ]
  },
  {
   "cell_type": "code",
   "execution_count": null,
   "metadata": {},
   "outputs": [
    {
     "name": "stdout",
     "output_type": "stream",
     "text": [
      "\"1984\" by George Orwell\n",
      "\"1984\" by George Orwell\n",
      "Book(title='1984', author='George Orwell', year=1949)\n"
     ]
    }
   ],
   "source": [
    "class Book:\n",
    "    \"\"\"Book class demonstrating __str__ and __repr__\"\"\"\n",
    "    def __init__(self, title, author, year):\n",
    "        self.title = title\n",
    "        self.author = author\n",
    "        self.year = year\n",
    "    \n",
    "    def __str__(self):\n",
    "        \"\"\"User-friendly string representation\"\"\"\n",
    "        return f'\"{self.title}\" by {self.author}'\n",
    "    \n",
    "    def __repr__(self):\n",
    "        \"\"\"Developer-friendly representation (should be unambiguous)\"\"\"\n",
    "        return f'Book(title={self.title!r}, author={self.author!r}, year={self.year})'\n",
    "\n",
    "book = Book(\"1984\", \"George Orwell\", 1949)\n",
    "\n",
    "# __str__ is called by print() and str()\n",
    "print(str(book))          # \"1984\" by George Orwell\n",
    "print(book)               # \"1984\" by George Orwell\n",
    "\n",
    "# __repr__ is called by repr() and in interactive shell\n",
    "print(repr(book))         # Book(title='1984', author='George Orwell', year=1949)\n",
    "\n",
    "# If __str__ is not defined, __repr__ is used as fallback"
   ]
  },
  {
   "cell_type": "code",
   "execution_count": 1,
   "metadata": {},
   "outputs": [
    {
     "name": "stdout",
     "output_type": "stream",
     "text": [
      "True\n",
      "[5, 4, 3, 2, 1]\n",
      "3\n",
      "5\n",
      "True\n",
      "3\n",
      "1\n"
     ]
    }
   ],
   "source": [
    "\n",
    "from collections.abc import Iterable, Sequence\n",
    "\n",
    "# Custom iterable using ABC\n",
    "class CountDown(Iterable):\n",
    "    def __init__(self, start):\n",
    "        self.start = start\n",
    "    \n",
    "    def __iter__(self):\n",
    "        n = self.start\n",
    "        while n > 0:\n",
    "            yield n\n",
    "            n -= 1\n",
    "\n",
    "countdown = CountDown(5)\n",
    "print(isinstance(countdown, Iterable))  # True\n",
    "print(list(countdown))  # [5, 4, 3, 2, 1]\n",
    "\n",
    "# Custom sequence\n",
    "class ImmutableList(Sequence):\n",
    "    \"\"\"Immutable sequence implementation\"\"\"\n",
    "    \n",
    "    def __init__(self, items):\n",
    "        self._items = tuple(items)\n",
    "    \n",
    "    def __getitem__(self, index):\n",
    "        return self._items[index]\n",
    "    \n",
    "    def __len__(self):\n",
    "        return len(self._items)\n",
    "\n",
    "immutable = ImmutableList([1, 2, 3, 4, 5])\n",
    "print(immutable[2])         # 3\n",
    "print(len(immutable))       # 5\n",
    "print(3 in immutable)       # True (inherited from Sequence)\n",
    "print(immutable.index(4))   # 3 (inherited method)\n",
    "print(immutable.count(2))   # 1 (inherited method)"
   ]
  },
  {
   "attachments": {},
   "cell_type": "markdown",
   "metadata": {},
   "source": [
    "### Inheritance"
   ]
  },
  {
   "cell_type": "code",
   "execution_count": 5,
   "metadata": {},
   "outputs": [],
   "source": [
    "class Person:\n",
    "\n",
    "    def __init__(self, first_name, last_name):\n",
    "        self.first_name = first_name\n",
    "        self.last_name = last_name\n",
    "    \n",
    "    def say_hello(self):\n",
    "        print(f\"Hello, {self.first_name} {self.last_name}\")\n",
    "\n",
    "    def print_class(self):\n",
    "        print(\"Main class - Person class\")\n",
    "\n",
    "\n",
    "\n",
    "class Employee(Person):\n",
    "\n",
    "    #overriding the constructor\n",
    "    def __init__(self, first_name, last_name, salary=0):\n",
    "        super().__init__(first_name, last_name)\n",
    "        self.salary = salary\n",
    "    \n",
    "    def print_details(self):\n",
    "        print(f\"Name : {self.first_name} {self.last_name}\\nSalary : {self.salary}\")\n",
    "    \n",
    "    # overriding function\n",
    "    def print_class(self):\n",
    "        print(\"Employee Sub class\")\n",
    "        # invoking overridden function using super keyword\n",
    "        super().print_class()\n",
    "\n",
    "\n",
    "\n",
    "class Manager(Employee):\n",
    "\n",
    "    def __init__(self, first_name, last_name, department, salary=0):\n",
    "        super().__init__(first_name, last_name, salary)\n",
    "        self.department = department\n",
    "\n",
    "    def print_details(self):\n",
    "        super().print_details()\n",
    "        print(f\"Department : {self.department}\")\n",
    "    \n",
    "    def print_class(self):\n",
    "        print(\"Manager Class - Child/grandchild\")\n",
    "        super().print_class()\n",
    "\n",
    "\n",
    "\n",
    "class Owner(Person):\n",
    "    def __init__(self, first_name, last_name, profit = 0):\n",
    "        super().__init__(first_name, last_name)\n",
    "        self.profit = profit "
   ]
  },
  {
   "cell_type": "code",
   "execution_count": 13,
   "metadata": {},
   "outputs": [
    {
     "name": "stdout",
     "output_type": "stream",
     "text": [
      "Person object\n",
      "Hello, Martin Luther\n",
      "\n",
      "Employee object\n",
      "Hello, Martin Luther\n",
      "Name : Martin Luther\n",
      "Salary : 10000\n",
      "Employee Sub class\n",
      "Main class - Person class\n",
      "\n",
      "Manager object\n",
      "Hello, King Kong\n",
      "Name : King Kong\n",
      "Salary : 50000\n",
      "Department : Skull Island\n",
      "Manager Class - Child/grandchild\n",
      "Employee Sub class\n",
      "Main class - Person class\n",
      "\n",
      "Owner object\n",
      "Hello, Tim Book\n",
      "Profit:  20000000\n",
      "True\n"
     ]
    }
   ],
   "source": [
    "# Person object\n",
    "print(\"Person object\")\n",
    "p1 = Person(\"Martin\", \"Luther\")\n",
    "p1.say_hello()\n",
    "\n",
    "# Employee object\n",
    "print(\"\\nEmployee object\")\n",
    "e1 = Employee(\"Martin\", \"Luther\", 10000)\n",
    "e1.say_hello()\n",
    "e1.print_details()\n",
    "e1.print_class()\n",
    "\n",
    "# Manager object\n",
    "print(\"\\nManager object\")\n",
    "e2 = Manager(\"King\", \"Kong\", \"Skull Island\", 50000)\n",
    "e2.say_hello()\n",
    "e2.print_details()\n",
    "e2.print_class()\n",
    "\n",
    "# Owner object\n",
    "print(\"\\nOwner object\")\n",
    "o = Owner(\"Tim\", \"Book\", 20000000)\n",
    "o.say_hello()\n",
    "print(\"Profit: \", o.profit)\n",
    "print(isinstance(o, Person))"
   ]
  },
  {
   "cell_type": "code",
   "execution_count": 29,
   "metadata": {},
   "outputs": [],
   "source": [
    "# multiple inheritance\n",
    "class A:\n",
    "    def __init__(self):\n",
    "        print('A')\n",
    "\n",
    "\n",
    "\n",
    "class B:\n",
    "    def __init__(self):\n",
    "        print('B')\n",
    "\n",
    "\n",
    "\n",
    "class C(A, B):\n",
    "    def __init__(self):\n",
    "        super().__init__()"
   ]
  },
  {
   "cell_type": "code",
   "execution_count": 32,
   "metadata": {},
   "outputs": [
    {
     "name": "stdout",
     "output_type": "stream",
     "text": [
      "A\n",
      "True\n",
      "True\n",
      "True\n"
     ]
    }
   ],
   "source": [
    "abc = C()\n",
    "print(isinstance(abc, A))\n",
    "print(isinstance(abc, B))\n",
    "print(isinstance(abc, C))"
   ]
  },
  {
   "cell_type": "markdown",
   "metadata": {},
   "source": [
    "Object Creation With .__new__()"
   ]
  },
  {
   "cell_type": "code",
   "execution_count": 5,
   "metadata": {},
   "outputs": [
    {
     "name": "stdout",
     "output_type": "stream",
     "text": [
      "Distance_KM : 10.9\n",
      "Distance_Miles + 25: 36.3\n",
      "['__abs__', '__add__', '__bool__', '__ceil__', '__class__', '__delattr__', '__dict__', '__dir__', '__divmod__', '__doc__', '__eq__', '__float__', '__floor__', '__floordiv__', '__format__', '__ge__', '__getattribute__', '__getformat__', '__getnewargs__', '__getstate__', '__gt__', '__hash__', '__init__', '__init_subclass__', '__int__', '__le__', '__lt__', '__mod__', '__module__', '__mul__', '__ne__', '__neg__', '__new__', '__pos__', '__pow__', '__radd__', '__rdivmod__', '__reduce__', '__reduce_ex__', '__repr__', '__rfloordiv__', '__rmod__', '__rmul__', '__round__', '__rpow__', '__rsub__', '__rtruediv__', '__setattr__', '__sizeof__', '__str__', '__sub__', '__subclasshook__', '__truediv__', '__trunc__', '__weakref__', 'as_integer_ratio', 'conjugate', 'fromhex', 'hex', 'imag', 'is_integer', 'real', 'unit']\n"
     ]
    }
   ],
   "source": [
    "# a distance class\n",
    "class Distance(float):\n",
    "    def __new__(cls, value: float, unit: str):\n",
    "        instance = super().__new__(cls, value)\n",
    "        instance.unit = unit\n",
    "        return instance\n",
    "    \n",
    "\n",
    "dist_km = Distance(10.9, 'KM')\n",
    "dist_miles = Distance(11.3, 'Miles')\n",
    "\n",
    "print(\"Distance_KM :\", dist_km)\n",
    "print(\"Distance_Miles + 25:\", dist_miles + 25)\n",
    "\n",
    "print(dir(dist_km))"
   ]
  },
  {
   "cell_type": "markdown",
   "metadata": {},
   "source": [
    "**Abstract classes**"
   ]
  },
  {
   "cell_type": "code",
   "execution_count": 1,
   "metadata": {},
   "outputs": [],
   "source": [
    "# Abstract classes\n",
    "class AbstractGame:\n",
    "\n",
    "    def start(self):\n",
    "        while True:\n",
    "            start = input(\"Would you like to play ? Enter 'Y' to start\")\n",
    "            if start.lower() == \"y\":\n",
    "                break\n",
    "        self.play()\n",
    "    \n",
    "\n",
    "    def end(self):\n",
    "        print(\"The game is over.\")\n",
    "        self.reset()\n",
    "\n",
    "    \n",
    "    def play(self):\n",
    "        raise NotImplementedError(\"Implement play() !\")\n",
    "\n",
    "\n",
    "    def reset(self):\n",
    "        raise NotImplementedError(\"Implement reset() !\")\n",
    "\n",
    "\n",
    "\n",
    "class Snake_Ladder(AbstractGame):\n",
    "    def __init__(self, rounds):\n",
    "        self.rounds = rounds\n",
    "        self.round = 0\n",
    "    \n",
    "    def reset(self):\n",
    "        self.round = 0\n",
    "\n",
    "    \n",
    "    def play(self):\n",
    "\n",
    "        while self.round < self.rounds:\n",
    "            self.round += 1\n",
    "            print(f\"Welcome to round {self.round}\")\n",
    "            # Snake and ladder game implementation\n",
    "\n",
    "        self.end()"
   ]
  },
  {
   "cell_type": "code",
   "execution_count": 2,
   "metadata": {},
   "outputs": [
    {
     "name": "stdout",
     "output_type": "stream",
     "text": [
      "Welcome to round 1\n",
      "Welcome to round 2\n",
      "Welcome to round 3\n",
      "The game is over.\n"
     ]
    }
   ],
   "source": [
    "game = Snake_Ladder(3)\n",
    "game.start()"
   ]
  },
  {
   "attachments": {},
   "cell_type": "markdown",
   "metadata": {},
   "source": [
    "### A simple bank account program"
   ]
  },
  {
   "cell_type": "code",
   "execution_count": 15,
   "metadata": {},
   "outputs": [],
   "source": [
    "class Bank_account():\n",
    "    '''This is the base class for bank account program'''\n",
    "\n",
    "    def __init__(self, balance = 0.0) :\n",
    "        self.balance = balance\n",
    "\n",
    "    def display_balance(self):\n",
    "        print(\"Your balance is:\", self.balance)\n",
    "\n",
    "    def deposit(self):\n",
    "        amount = int(input('Enter the amount:'))\n",
    "        self.balance += amount\n",
    "        print('Your current balance is:', self.balance)\n",
    "\n",
    "    def withdrawal(self):\n",
    "        amount1 = int(input(\"Enter amount:\"))\n",
    "        if amount1 <= self.balance:\n",
    "            print(\"Here's your money:\", amount1)\n",
    "            self.balance -= amount1 \n",
    "        else:\n",
    "            print('Not enough money')\n",
    "\n",
    "        print('Your current balance is:', self.balance)"
   ]
  },
  {
   "cell_type": "code",
   "execution_count": 23,
   "metadata": {},
   "outputs": [],
   "source": [
    "person1 = Bank_account(1000)"
   ]
  },
  {
   "cell_type": "code",
   "execution_count": 24,
   "metadata": {},
   "outputs": [
    {
     "name": "stdout",
     "output_type": "stream",
     "text": [
      "Your balance is: 1000\n"
     ]
    }
   ],
   "source": [
    "person1.display_balance()"
   ]
  },
  {
   "cell_type": "code",
   "execution_count": 25,
   "metadata": {},
   "outputs": [
    {
     "name": "stdout",
     "output_type": "stream",
     "text": [
      "Your current balance is: 1250\n"
     ]
    }
   ],
   "source": [
    "person1.deposit()"
   ]
  },
  {
   "cell_type": "code",
   "execution_count": 26,
   "metadata": {},
   "outputs": [
    {
     "name": "stdout",
     "output_type": "stream",
     "text": [
      "Here's your money: 500\n",
      "Your current balance is: 750\n"
     ]
    }
   ],
   "source": [
    "person1.withdrawal()"
   ]
  },
  {
   "cell_type": "code",
   "execution_count": 27,
   "metadata": {},
   "outputs": [
    {
     "name": "stdout",
     "output_type": "stream",
     "text": [
      "Not enough money\n",
      "Your current balance is: 750\n"
     ]
    }
   ],
   "source": [
    "person1.withdrawal()"
   ]
  }
 ],
 "metadata": {
  "kernelspec": {
   "display_name": "Python Base (DSML)",
   "language": "python",
   "name": "base"
  },
  "language_info": {
   "codemirror_mode": {
    "name": "ipython",
    "version": 3
   },
   "file_extension": ".py",
   "mimetype": "text/x-python",
   "name": "python",
   "nbconvert_exporter": "python",
   "pygments_lexer": "ipython3",
   "version": "3.13.1"
  },
  "orig_nbformat": 4
 },
 "nbformat": 4,
 "nbformat_minor": 2
}
