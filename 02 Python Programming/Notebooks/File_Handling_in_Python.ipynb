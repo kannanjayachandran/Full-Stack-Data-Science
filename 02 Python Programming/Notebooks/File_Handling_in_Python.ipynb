{
 "cells": [
  {
   "cell_type": "markdown",
   "metadata": {},
   "source": [
    "<h1 style='color: #FEC260'> File Handling </h1>"
   ]
  },
  {
   "cell_type": "code",
   "execution_count": 1,
   "metadata": {},
   "outputs": [
    {
     "name": "stdout",
     "output_type": "stream",
     "text": [
      "<class '_io.TextIOWrapper'>\n"
     ]
    }
   ],
   "source": [
    "# Opening file\n",
    "f = open('Aliens.txt', 'w')\n",
    "print(type(f))"
   ]
  },
  {
   "cell_type": "code",
   "execution_count": 2,
   "metadata": {},
   "outputs": [],
   "source": [
    "# Writing to file \n",
    "f.write('Four-Arms\\nDiamond-Head\\n')\n",
    "f.close()"
   ]
  },
  {
   "cell_type": "code",
   "execution_count": 3,
   "metadata": {},
   "outputs": [
    {
     "name": "stdout",
     "output_type": "stream",
     "text": [
      "Four-Arms\n",
      "Diamond-Head\n",
      "\n"
     ]
    }
   ],
   "source": [
    "# Reading a complete file\n",
    "f = open('Aliens.txt', 'r')\n",
    "print(f.read())\n",
    "f.close()"
   ]
  },
  {
   "cell_type": "code",
   "execution_count": 4,
   "metadata": {},
   "outputs": [
    {
     "name": "stdout",
     "output_type": "stream",
     "text": [
      "Four-Arms\n",
      "\n"
     ]
    }
   ],
   "source": [
    "# read line until newline or EOF\n",
    "f = open('Aliens.txt', 'r')\n",
    "print(f.readline())\n",
    "f.close()"
   ]
  },
  {
   "cell_type": "code",
   "execution_count": 5,
   "metadata": {},
   "outputs": [
    {
     "name": "stdout",
     "output_type": "stream",
     "text": [
      "Four-Arms\n",
      " Diamond-Head\n",
      " <class 'list'>\n"
     ]
    }
   ],
   "source": [
    "# read all lines\n",
    "f = open('Aliens.txt', 'r')\n",
    "a = f.readlines()\n",
    "print(*a, type(a))\n",
    "f.close()"
   ]
  },
  {
   "cell_type": "code",
   "execution_count": 6,
   "metadata": {},
   "outputs": [],
   "source": [
    "# append contents to a file\n",
    "f = open('Aliens.txt', 'a')\n",
    "f.write('Upgrade\\nSting-fly\\n')\n",
    "f.close()"
   ]
  },
  {
   "cell_type": "code",
   "execution_count": 7,
   "metadata": {},
   "outputs": [
    {
     "name": "stdout",
     "output_type": "stream",
     "text": [
      "Four-Arms\n",
      "Diamond-Head\n",
      "Upgrade\n",
      "Sting-fly\n",
      "\n"
     ]
    }
   ],
   "source": [
    "f = open('Aliens.txt', 'r')\n",
    "print(f.read())"
   ]
  },
  {
   "cell_type": "code",
   "execution_count": 8,
   "metadata": {},
   "outputs": [
    {
     "name": "stdout",
     "output_type": "stream",
     "text": [
      "Four-Arms\n",
      "\n",
      "Diamond-Head\n",
      "\n",
      "Upgrade\n",
      "\n",
      "Sting-fly\n",
      "\n"
     ]
    }
   ],
   "source": [
    "# context manager \"with\"\n",
    "with open('Aliens.txt', 'r') as f:\n",
    "    for line in f.readlines():\n",
    "        print(line)"
   ]
  },
  {
   "cell_type": "code",
   "execution_count": 9,
   "metadata": {},
   "outputs": [
    {
     "name": "stdout",
     "output_type": "stream",
     "text": [
      "File content : ['Four-Arms\\n', 'Diamond-Head\\n', 'Upgrade\\n', 'Sting-fly\\n']\n"
     ]
    }
   ],
   "source": [
    "lines = []\n",
    "with open('Aliens.txt', 'r') as f:\n",
    "    lines  = f.readlines()\n",
    "\n",
    "print(f\"File content : {lines}\")\n",
    "\n",
    "with open('Aliens.txt', 'w') as f:\n",
    "    for number, line in enumerate(lines):\n",
    "        if number % 2 == 0:\n",
    "            f.write(line)"
   ]
  },
  {
   "cell_type": "code",
   "execution_count": 10,
   "metadata": {},
   "outputs": [
    {
     "name": "stdout",
     "output_type": "stream",
     "text": [
      "Four-Arms\n",
      "\n",
      "Upgrade\n",
      "\n"
     ]
    }
   ],
   "source": [
    "with open('Aliens.txt', 'r') as f:\n",
    "    for line in f.readlines():\n",
    "        print(line)"
   ]
  },
  {
   "cell_type": "code",
   "execution_count": 11,
   "metadata": {},
   "outputs": [
    {
     "name": "stdout",
     "output_type": "stream",
     "text": [
      "Four-Arms\n",
      "\n",
      "Upgrade\n",
      "\n",
      "Four-Arms\n",
      "\n",
      "Diamond-Head\n",
      "\n",
      "Upgrade\n",
      "\n",
      "Sting-fly\n",
      "\n",
      "Upgrade\n",
      "\n"
     ]
    }
   ],
   "source": [
    "# append and read\n",
    "with open('Aliens.txt', 'a+') as f:\n",
    "    # append data to the end of the file\n",
    "    f.write(\"Four-Arms\\nDiamond-Head\\nUpgrade\\nSting-fly\\nUpgrade\\n\")\n",
    "\n",
    "    # move file pointer back to the start position (0)\n",
    "    f.seek(0)\n",
    "    for line in f.readlines():\n",
    "        print(line)"
   ]
  },
  {
   "cell_type": "code",
   "execution_count": 12,
   "metadata": {},
   "outputs": [
    {
     "name": "stdout",
     "output_type": "stream",
     "text": [
      "7\n"
     ]
    }
   ],
   "source": [
    "# Count the number of lines in a file\n",
    "with open(\"Aliens.txt\") as f:\n",
    "    print(sum(1 for _ in f))"
   ]
  },
  {
   "cell_type": "code",
   "execution_count": 14,
   "metadata": {},
   "outputs": [
    {
     "name": "stdout",
     "output_type": "stream",
     "text": [
      "Four-Arms\n",
      "\n",
      "Upgrade\n",
      "\n",
      "Diamond-Head\n",
      "\n",
      "Sting-fly\n",
      "\n"
     ]
    }
   ],
   "source": [
    "# Read a file and remove duplicates\n",
    "lines = set()\n",
    "with open(\"Aliens.txt\") as f_in, open(\"unique.txt\", \"r+\") as f_out:\n",
    "    for line in f_in:\n",
    "        if line not in lines:\n",
    "            f_out.write(line)\n",
    "            lines.add(line)\n",
    "    \n",
    "    f_out.seek(0)\n",
    "    for line in f_out:\n",
    "        print(line)"
   ]
  },
  {
   "cell_type": "code",
   "execution_count": 15,
   "metadata": {},
   "outputs": [],
   "source": [
    "# Reverse file content line by line\n",
    "with open('Aliens.txt') as f:\n",
    "    lines = f.readlines()\n",
    "\n",
    "with open('reversed.txt', 'w') as f:\n",
    "    for line in reversed(lines):\n",
    "        f.write(line)"
   ]
  },
  {
   "cell_type": "code",
   "execution_count": null,
   "metadata": {},
   "outputs": [
    {
     "name": "stdout",
     "output_type": "stream",
     "text": [
      "Original list : ['Four-Arms\\n', 'Upgrade\\n', 'Four-Arms\\n', 'Diamond-Head\\n', 'Upgrade\\n', 'Sting-fly\\n', 'Upgrade\\n']\n",
      "Reversed list : ['Upgrade\\n', 'Sting-fly\\n', 'Upgrade\\n', 'Diamond-Head\\n', 'Four-Arms\\n', 'Upgrade\\n', 'Four-Arms\\n']\n"
     ]
    }
   ],
   "source": [
    "with open ('Aliens.txt', 'r') as f_og, open('reversed.txt', 'r') as f_new:\n",
    "    l1, l2 = f_og.readlines(), f_new.readlines()\n",
    "    print(f\"Original list : {l1}\\nReversed list : {l2}\")"
   ]
  },
  {
   "cell_type": "code",
   "execution_count": 19,
   "metadata": {},
   "outputs": [
    {
     "name": "stdout",
     "output_type": "stream",
     "text": [
      "['Four-Arms\\n', 'Upgrade\\n', 'Four-Arms\\n', 'Diamond-Head\\n', 'Upgrade\\n', 'Sting-fly\\n', 'Upgrade\\n', '\\n', 'Upgrade\\n', 'Sting-fly\\n', 'Upgrade\\n', 'Diamond-Head\\n', 'Four-Arms\\n', 'Upgrade\\n', 'Four-Arms\\n', '\\n', 'Four-Arms\\n', 'Upgrade\\n', 'Diamond-Head\\n', 'Sting-fly\\n', '\\n']\n"
     ]
    }
   ],
   "source": [
    "# Merge multiple files into one\n",
    "filenames = [\"Aliens.txt\", \"reversed.txt\", \"unique.txt\"]\n",
    "with open('merged.txt', 'w') as out_file:\n",
    "    for name in filenames:\n",
    "        with open(name) as in_file:\n",
    "            out_file.write(in_file.read() + \"\\n\")\n",
    "\n",
    "with open('merged.txt') as f:\n",
    "    print(f.readlines())"
   ]
  }
 ],
 "metadata": {
  "kernelspec": {
   "display_name": "Python Base (DSML)",
   "language": "python",
   "name": "base"
  },
  "language_info": {
   "codemirror_mode": {
    "name": "ipython",
    "version": 3
   },
   "file_extension": ".py",
   "mimetype": "text/x-python",
   "name": "python",
   "nbconvert_exporter": "python",
   "pygments_lexer": "ipython3",
   "version": "3.13.1"
  }
 },
 "nbformat": 4,
 "nbformat_minor": 2
}
