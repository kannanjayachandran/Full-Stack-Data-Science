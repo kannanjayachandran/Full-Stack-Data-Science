{
 "cells": [
  {
   "attachments": {},
   "cell_type": "markdown",
   "metadata": {},
   "source": [
    "<h1 style='color:#FEC260'> Practice Problems </h1>\n",
    "\n",
    "1. **Check palindrome**\n",
    "\n",
    "Given a string A consisting of lowercase characters. Check if characters of the given string can be rearranged to form a palindrome. Return 1 if it is possible to rearrange the characters of the string A such that it becomes a palindrome else return 0."
   ]
  },
  {
   "cell_type": "code",
   "execution_count": 1,
   "metadata": {},
   "outputs": [],
   "source": [
    "def solution(word):\n",
    "\n",
    "    # making a frequency map\n",
    "    freqMap = {}\n",
    "    \n",
    "    for char in word:\n",
    "        if char in freqMap:\n",
    "            freqMap[char] += 1\n",
    "        else:\n",
    "            freqMap[char] = 1\n",
    "\n",
    "    # counting the odd frequencies\n",
    "    odd_freq = 0\n",
    "\n",
    "    for i in freqMap.values():\n",
    "        if i % 2 == 1:\n",
    "            odd_freq += 1\n",
    "    \n",
    "    # checking if palindrome or not\n",
    "    if odd_freq <= 1:\n",
    "        return 1\n",
    "    else:\n",
    "        return 0\n",
    "    \n",
    "# Time : O(n)\n",
    "# Space : O(n)\n",
    "\n",
    "def isPalindrome(s: str)->bool:  \n",
    "    \n",
    "    mask = 0    \n",
    "    for char in s:\n",
    "        mask ^= 1 << ord(char)  \n",
    "        \n",
    "    return mask == 0 or mask & (mask-1) == 0\n",
    "    \n",
    "# O(n) | O(1)"
   ]
  },
  {
   "cell_type": "code",
   "execution_count": 2,
   "metadata": {},
   "outputs": [
    {
     "name": "stdout",
     "output_type": "stream",
     "text": [
      "0\n"
     ]
    },
    {
     "data": {
      "text/plain": [
       "False"
      ]
     },
     "execution_count": 2,
     "metadata": {},
     "output_type": "execute_result"
    }
   ],
   "source": [
    "word  = input().lower()\n",
    "print(solution(word))\n",
    "\n",
    "isPalindrome(word)"
   ]
  },
  {
   "attachments": {},
   "cell_type": "markdown",
   "metadata": {},
   "source": [
    "2. **GCD using Euclid's Algorithm**"
   ]
  },
  {
   "cell_type": "code",
   "execution_count": 7,
   "metadata": {},
   "outputs": [],
   "source": [
    "def gcd(a, b):\n",
    "    \n",
    "    while b:\n",
    "        a, b = b, a % b\n",
    "        \n",
    "    return a"
   ]
  },
  {
   "cell_type": "code",
   "execution_count": 8,
   "metadata": {},
   "outputs": [
    {
     "name": "stdout",
     "output_type": "stream",
     "text": [
      "Enter the first number:  60\n",
      "Enter the second number:  48\n"
     ]
    },
    {
     "data": {
      "text/plain": [
       "12"
      ]
     },
     "execution_count": 8,
     "metadata": {},
     "output_type": "execute_result"
    }
   ],
   "source": [
    "a = int(input(\"Enter the first number: \"))\n",
    "b = int(input(\"Enter the second number: \"))\n",
    "\n",
    "gcd(a, b)"
   ]
  },
  {
   "attachments": {},
   "cell_type": "markdown",
   "metadata": {},
   "source": [
    "3. **Trailing zeros in factorial of a number**\n",
    "\n",
    "- Given an integer A return the number of trailing zeros in A!, the solution should have logarithmic time complexity. A can be as big as 10^5."
   ]
  },
  {
   "cell_type": "code",
   "execution_count": 15,
   "metadata": {},
   "outputs": [],
   "source": [
    "def trailing(n):\n",
    "\n",
    "    result = 0\n",
    "    deno = 5\n",
    "\n",
    "    value = n // deno\n",
    "\n",
    "    while value >= 1:\n",
    "        result += value\n",
    "        deno *= 5\n",
    "\n",
    "        value = n // deno\n",
    "    \n",
    "    return result"
   ]
  },
  {
   "cell_type": "code",
   "execution_count": 16,
   "metadata": {},
   "outputs": [
    {
     "name": "stdout",
     "output_type": "stream",
     "text": [
      "Enter n:  345\n"
     ]
    },
    {
     "data": {
      "text/plain": [
       "84"
      ]
     },
     "execution_count": 16,
     "metadata": {},
     "output_type": "execute_result"
    }
   ],
   "source": [
    "n = int(input(\"Enter n: \"))\n",
    "trailing(n)"
   ]
  },
  {
   "attachments": {},
   "cell_type": "markdown",
   "metadata": {},
   "source": [
    "4. **Two Sum**\n",
    "\n",
    "- Given an array of integers, find two numbers such that they add up to a specific target number. Solve in linear time complexity.\n"
   ]
  },
  {
   "cell_type": "code",
   "execution_count": 1,
   "metadata": {},
   "outputs": [],
   "source": [
    "def twoSum(A, B):\n",
    "\n",
    "    dic = {}\n",
    "\n",
    "    for i in range(len(A)):\n",
    "\n",
    "        req  = B - A[i]\n",
    "\n",
    "        if req in dic: \n",
    "            return  dic[req], i\n",
    "        if A[i] not in dic:\n",
    "            dic[A[i]] = i\n",
    "    \n",
    "    return []"
   ]
  },
  {
   "cell_type": "code",
   "execution_count": 2,
   "metadata": {},
   "outputs": [
    {
     "data": {
      "text/plain": [
       "(0, 3)"
      ]
     },
     "execution_count": 2,
     "metadata": {},
     "output_type": "execute_result"
    }
   ],
   "source": [
    "A = [2, 2 ,7, 11, 13, 12]\n",
    "B = 13\n",
    "\n",
    "twoSum(A, B)"
   ]
  },
  {
   "cell_type": "code",
   "execution_count": 26,
   "metadata": {},
   "outputs": [],
   "source": [
    "def twoSum2(arr: list, target: int)->list:\n",
    "    hash_table = {}\n",
    "    for i, num in enumerate(arr):\n",
    "        if target - num in hash_table:\n",
    "            return hash_table[target-num], i\n",
    "        if num not in hash_table:\n",
    "            hash_table[num] = i\n",
    "    return []"
   ]
  },
  {
   "cell_type": "code",
   "execution_count": 27,
   "metadata": {},
   "outputs": [
    {
     "data": {
      "text/plain": [
       "(0, 3)"
      ]
     },
     "execution_count": 27,
     "metadata": {},
     "output_type": "execute_result"
    }
   ],
   "source": [
    "twoSum2([2, 2 ,7, 11, 13, 12], 13)"
   ]
  },
  {
   "attachments": {},
   "cell_type": "markdown",
   "metadata": {},
   "source": [
    "5. **Maximum absolute difference**\n",
    "\n",
    "You are given an array of N integers, A1, A2 ,…, AN. Return maximum value of f(i, j) for all 1 ≤ i, j ≤ N.\n",
    "\n",
    "f(i, j) is defined as |A[i] - A[j]| + |i - j|, where |x| denotes absolute value of x.\n",
    "\n",
    "For example,\n",
    "\n",
    "A=[1, 3, -1]\n",
    "\n",
    "f(1, 1) = f(2, 2) = f(3, 3) = 0\n",
    "f(1, 2) = f(2, 1) = |1 - 3| + |1 - 2| = 3\n",
    "f(1, 3) = f(3, 1) = |1 - (-1)| + |1 - 3| = 4\n",
    "f(2, 3) = f(3, 2) = |3 - (-1)| + |2 - 3| = 5\n",
    "\n",
    "So, we return 5."
   ]
  },
  {
   "cell_type": "code",
   "execution_count": 5,
   "metadata": {},
   "outputs": [],
   "source": [
    "def ab_diff(A):\n",
    "\n",
    "    a = -float('inf')\n",
    "    b = float('inf')\n",
    "    c = -float('inf')\n",
    "    d = float('inf')\n",
    "    \n",
    "    for num, index in enumerate(A):\n",
    "        \n",
    "        a = a if a > num+index else num+index\n",
    "        \n",
    "        b = b if b < num+index else num+index\n",
    "\n",
    "        c = c if c > num-index else num-index\n",
    "        \n",
    "        d = d if c < num-index else num-index\n",
    "\n",
    "    return max(a-b, c-d)"
   ]
  },
  {
   "cell_type": "code",
   "execution_count": 7,
   "metadata": {},
   "outputs": [
    {
     "name": "stdout",
     "output_type": "stream",
     "text": [
      "5\n"
     ]
    }
   ],
   "source": [
    "A = [1, 3, -1]\n",
    "\n",
    "print(max_Ab_Diff(A))"
   ]
  },
  {
   "attachments": {},
   "cell_type": "markdown",
   "metadata": {},
   "source": [
    "6. **First missing positive value**\n",
    "\n",
    "Given an unsorted integer array, find the first missing positive integer.\n",
    "\n",
    "Given [1,2,0] return 3,\n",
    "\n",
    "[3,4,-1,1] return 2,\n",
    "\n",
    "[-8, -7, -6] returns 1"
   ]
  },
  {
   "cell_type": "code",
   "execution_count": 1,
   "metadata": {},
   "outputs": [
    {
     "data": {
      "text/plain": [
       "4"
      ]
     },
     "execution_count": 1,
     "metadata": {},
     "output_type": "execute_result"
    }
   ],
   "source": [
    "A = [-1, 0, 1, 2, -4, 3, 10, 200]\n",
    "\n",
    "def positive_int(A):\n",
    "\n",
    "    N = len(A)\n",
    "\n",
    "    # cleaning the data\n",
    "    for i in range(N):\n",
    "        if A[i] <= 0 or A[i] > N:\n",
    "            A[i] = N+100\n",
    "\n",
    "    # Negating the values present in the list\n",
    "    for i in range(N):\n",
    "\n",
    "        # selecting the index\n",
    "        x = abs(A[i]) - 1\n",
    "\n",
    "        if x >= 0 and x < N:\n",
    "            A[x] *= -1\n",
    "\n",
    "    # finding the answer    \n",
    "    for i in range(N):\n",
    "        if A[i] > 0:\n",
    "            return i + 1\n",
    "    \n",
    "    return N+1\n",
    "        \n",
    "\n",
    "positive_int(A)"
   ]
  },
  {
   "attachments": {},
   "cell_type": "markdown",
   "metadata": {},
   "source": [
    "7. **Find the second largest number in a list**\n",
    "\n",
    "Given a list of numbers, find the second largest number in the list."
   ]
  },
  {
   "cell_type": "code",
   "execution_count": 4,
   "metadata": {},
   "outputs": [
    {
     "data": {
      "text/plain": [
       "40"
      ]
     },
     "execution_count": 4,
     "metadata": {},
     "output_type": "execute_result"
    }
   ],
   "source": [
    "def secondLargest(arr):\n",
    "\n",
    "    l = -float('inf')\n",
    "    s = -float('inf')\n",
    "\n",
    "    for i in range(len(arr)):\n",
    "        if arr[i] > l:\n",
    "            l, s = arr[i], l\n",
    "\n",
    "    return s\n",
    "\n",
    "secondLargest([-20, -30, 10, 40, 1, 2, 10, 100])"
   ]
  },
  {
   "attachments": {},
   "cell_type": "markdown",
   "metadata": {},
   "source": [
    "8. **Given a string remove the duplicate elements and return the unique string**\n",
    "\n",
    "For example:\n",
    "\n",
    "Input: \"aaccghh\" Output: \"acgh\""
   ]
  },
  {
   "cell_type": "code",
   "execution_count": 14,
   "metadata": {},
   "outputs": [
    {
     "name": "stdout",
     "output_type": "stream",
     "text": [
      "abcdefg\n"
     ]
    }
   ],
   "source": [
    "def remove_duplicates(s):\n",
    "    \n",
    "    output = ''\n",
    "\n",
    "    for char in s:\n",
    "        if char not in output:\n",
    "            output+= char\n",
    "            \n",
    "    return output\n",
    "\n",
    "print(remove_duplicates('aabbcddeeffgda'))"
   ]
  },
  {
   "cell_type": "code",
   "execution_count": 13,
   "metadata": {},
   "outputs": [
    {
     "name": "stdout",
     "output_type": "stream",
     "text": [
      "abcdefg\n"
     ]
    }
   ],
   "source": [
    "# we can use a list also for solving this question\n",
    "\n",
    "def remove_duplicates(s):\n",
    "    \n",
    "    lis = []\n",
    "\n",
    "    for char in s:\n",
    "        if char not in lis:\n",
    "            lis.append(char)\n",
    "    lis = ''.join(lis)\n",
    "    \n",
    "    return lis\n",
    "\n",
    "print(remove_duplicates('aabbcddeeffgda'))"
   ]
  },
  {
   "cell_type": "code",
   "execution_count": 12,
   "metadata": {},
   "outputs": [
    {
     "name": "stdout",
     "output_type": "stream",
     "text": [
      "acdefgb\n"
     ]
    }
   ],
   "source": [
    "# if order does not matter we can use set\n",
    "\n",
    "def remove_duplicates(s):\n",
    "\n",
    "    s1 = set(s)\n",
    "    s1 = ''.join(s1)\n",
    "    \n",
    "    return s1 \n",
    "\n",
    "print(remove_duplicates('aabbcddeeffgda'))"
   ]
  },
  {
   "attachments": {},
   "cell_type": "markdown",
   "metadata": {},
   "source": [
    "9. **For a given string, remove all the consecutive duplicate characters**\n",
    "\n",
    "- Input:  aabccbaa,  xxyyzxx \n",
    "- Output: abcba, xyzx"
   ]
  },
  {
   "cell_type": "code",
   "execution_count": 12,
   "metadata": {},
   "outputs": [
    {
     "name": "stdout",
     "output_type": "stream",
     "text": [
      "abcba\n"
     ]
    }
   ],
   "source": [
    "def remove_duplicates(s):\n",
    "    \n",
    "  a = ''\n",
    "  previous = None\n",
    "\n",
    "  for char in s:\n",
    "    if previous != char:\n",
    "        a += char\n",
    "        previous = char\n",
    "\n",
    "  return a\n",
    "\n",
    "print(remove_duplicates('aabccbaa'))"
   ]
  },
  {
   "attachments": {},
   "cell_type": "markdown",
   "metadata": {},
   "source": [
    "10. **Reverse each word in a given sentence**\n",
    "\n",
    "Given a string, reverse each word in the string. For example;\n",
    "\n",
    "Input: Always indent your code\n",
    "\n",
    "output: syawlA tnedni ruoy edoc"
   ]
  },
  {
   "cell_type": "code",
   "execution_count": 23,
   "metadata": {},
   "outputs": [
    {
     "data": {
      "text/plain": [
       "'syawlA tnedni ruoy edoc'"
      ]
     },
     "execution_count": 23,
     "metadata": {},
     "output_type": "execute_result"
    }
   ],
   "source": [
    "def reverse_words(s):\n",
    "\n",
    "    return ' '.join([x[::-1] for x in s.split()])\n",
    "\n",
    "reverse_words('Always indent your code')"
   ]
  },
  {
   "cell_type": "code",
   "execution_count": 21,
   "metadata": {},
   "outputs": [
    {
     "data": {
      "text/plain": [
       "'olleH dlrow'"
      ]
     },
     "execution_count": 21,
     "metadata": {},
     "output_type": "execute_result"
    }
   ],
   "source": [
    "# using lambda function\n",
    "\n",
    "s = 'Hello world'\n",
    "\n",
    "foo = lambda x: ' '.join([x[::-1] for x in s.split()])\n",
    "\n",
    "foo(s)"
   ]
  }
 ],
 "metadata": {
  "kernelspec": {
   "display_name": "Python 3 (ipykernel)",
   "language": "python",
   "name": "python3"
  },
  "language_info": {
   "codemirror_mode": {
    "name": "ipython",
    "version": 3
   },
   "file_extension": ".py",
   "mimetype": "text/x-python",
   "name": "python",
   "nbconvert_exporter": "python",
   "pygments_lexer": "ipython3",
   "version": "3.11.5"
  },
  "vscode": {
   "interpreter": {
    "hash": "f4c85645bce20c702a4ecae1b93c6759c482279d1c3b7e99a0246a20b7629f3f"
   }
  }
 },
 "nbformat": 4,
 "nbformat_minor": 4
}
