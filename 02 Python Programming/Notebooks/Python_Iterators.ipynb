{
 "cells": [
  {
   "cell_type": "markdown",
   "metadata": {},
   "source": [
    "# <span style=\"color:#FEC260\">Iterators</span>"
   ]
  },
  {
   "cell_type": "code",
   "execution_count": 10,
   "metadata": {},
   "outputs": [
    {
     "name": "stdout",
     "output_type": "stream",
     "text": [
      "<class 'list'> is an iterable\n",
      "<class 'str'> is an iterable\n",
      "<class 'list_iterator'> is an Iterator\n"
     ]
    }
   ],
   "source": [
    "lis = [1, 2, 3]\n",
    "string = \"Hello World\"\n",
    "i_lis = iter(lis) # same as lis.__iter__()\n",
    "check_list = [lis, string, i_lis]\n",
    "\n",
    "for x in check_list:\n",
    "    dir_lis = [y for y in dir(x)]\n",
    "    \n",
    "    if \"__iter__\" in dir_lis and \"__next__\" in dir_lis:\n",
    "        print(f'{type(x)} is an Iterator')\n",
    "    elif \"__iter__\" in dir_lis:\n",
    "        print(f'{type(x)} is an iterable')"
   ]
  },
  {
   "cell_type": "code",
   "execution_count": 11,
   "metadata": {},
   "outputs": [
    {
     "name": "stdout",
     "output_type": "stream",
     "text": [
      "1\n",
      "2\n",
      "3\n",
      "\n",
      "Using while\n",
      "1\n",
      "2\n",
      "3\n"
     ]
    }
   ],
   "source": [
    "# a simple for loop\n",
    "for l in lis:\n",
    "    print(l)\n",
    "\n",
    "print('\\nUsing while')\n",
    "\n",
    "while True:\n",
    "    try:\n",
    "        print(next(i_lis))\n",
    "    except StopIteration:\n",
    "        break"
   ]
  },
  {
   "cell_type": "code",
   "execution_count": 15,
   "metadata": {},
   "outputs": [],
   "source": [
    "# custom range method\n",
    "class MyRange():\n",
    "    \n",
    "    def __init__(self, start, end):\n",
    "        self.value = start\n",
    "        self.end = end\n",
    "    \n",
    "    \n",
    "    def __iter__(self):\n",
    "        return self\n",
    "    \n",
    "\n",
    "    def __next__(self):\n",
    "        if self.value >= self.end:\n",
    "            raise StopIteration\n",
    "        cur_val = self.value\n",
    "        self.value += 1\n",
    "        return cur_val"
   ]
  },
  {
   "cell_type": "code",
   "execution_count": 23,
   "metadata": {},
   "outputs": [
    {
     "name": "stdout",
     "output_type": "stream",
     "text": [
      "1\n",
      "2\n",
      "3\n",
      "4\n",
      "5\n",
      "-----------------------\n",
      "6\n",
      "7\n",
      "8\n",
      "9\n"
     ]
    }
   ],
   "source": [
    "nums = MyRange(1, 10)\n",
    "\n",
    "# Iterator\n",
    "print(next(nums))\n",
    "print(next(nums))\n",
    "print(next(nums))\n",
    "print(next(nums))\n",
    "print(next(nums))\n",
    "\n",
    "print(\"-----------------------\")\n",
    "# Iterable\n",
    "for num in nums:\n",
    "    print(num)"
   ]
  }
 ],
 "metadata": {
  "kernelspec": {
   "display_name": "ML",
   "language": "python",
   "name": "python3"
  },
  "language_info": {
   "codemirror_mode": {
    "name": "ipython",
    "version": 3
   },
   "file_extension": ".py",
   "mimetype": "text/x-python",
   "name": "python",
   "nbconvert_exporter": "python",
   "pygments_lexer": "ipython3",
   "version": "3.11.5"
  },
  "orig_nbformat": 4
 },
 "nbformat": 4,
 "nbformat_minor": 2
}
