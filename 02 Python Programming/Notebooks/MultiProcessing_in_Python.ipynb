{
 "cells": [
  {
   "cell_type": "markdown",
   "metadata": {},
   "source": [
    "# <span style=\"color:#FEC260\">Multi-Processing</span>"
   ]
  },
  {
   "cell_type": "code",
   "execution_count": 1,
   "metadata": {},
   "outputs": [
    {
     "name": "stdout",
     "output_type": "stream",
     "text": [
      "Sleeping for 2 seconds\n",
      "Done sleeping\n",
      "Sleeping for 2 seconds\n",
      "Done sleeping\n",
      "Finished in 4.0 seconds.\n"
     ]
    }
   ],
   "source": [
    "# timing normal code\n",
    "import time\n",
    "\n",
    "start = time.perf_counter()\n",
    "\n",
    "def do_something(x: int):\n",
    "    print(f'Sleeping for {x} seconds')\n",
    "    time.sleep(x)\n",
    "    print('Done sleeping')\n",
    "\n",
    "\n",
    "do_something(2)\n",
    "do_something(2)\n",
    "\n",
    "finish_time = time.perf_counter()\n",
    "\n",
    "print(f'Finished in {round(finish_time-start, 2)} seconds.')"
   ]
  },
  {
   "cell_type": "code",
   "execution_count": 2,
   "metadata": {},
   "outputs": [
    {
     "name": "stdout",
     "output_type": "stream",
     "text": [
      "Finished in 0.2 seconds.\n"
     ]
    }
   ],
   "source": [
    "import multiprocessing\n",
    "\n",
    "\n",
    "def do_something(x: int):\n",
    "    print(f'Sleeping for {x} seconds')\n",
    "    time.sleep(x)\n",
    "    print('Done sleeping')\n",
    "\n",
    "start = time.perf_counter()\n",
    "\n",
    "p1 = multiprocessing.Process(target=do_something, args=(2,))  \n",
    "p2 = multiprocessing.Process(target=do_something, args=(3,))  \n",
    "\n",
    "p1.start()\n",
    "p2.start()\n",
    "\n",
    "p1.join()\n",
    "p2.join()\n",
    "\n",
    "finish_time = time.perf_counter()\n",
    "\n",
    "print(f'Finished in {round(finish_time-start, 2)} seconds.')"
   ]
  },
  {
   "cell_type": "code",
   "execution_count": 6,
   "metadata": {},
   "outputs": [
    {
     "name": "stdout",
     "output_type": "stream",
     "text": [
      "Process finished\n"
     ]
    }
   ],
   "source": [
    "# run this as a script\n",
    "\n",
    "def print_numbers(queue):\n",
    "    for i in range(1, 11):\n",
    "        queue.put(i)\n",
    "\n",
    "\n",
    "if __name__ == '__main__':\n",
    "    queue = multiprocessing.Queue()\n",
    "    process = multiprocessing.Process(target=print_numbers, args=(queue,))\n",
    "    process.start()\n",
    "    process.join()\n",
    "\n",
    "    while not queue.empty():\n",
    "        print(queue.get())\n",
    "\n",
    "    print('Process finished')"
   ]
  }
 ],
 "metadata": {
  "kernelspec": {
   "display_name": "Python Base (DSML)",
   "language": "python",
   "name": "base"
  },
  "language_info": {
   "codemirror_mode": {
    "name": "ipython",
    "version": 3
   },
   "file_extension": ".py",
   "mimetype": "text/x-python",
   "name": "python",
   "nbconvert_exporter": "python",
   "pygments_lexer": "ipython3",
   "version": "3.13.1"
  },
  "orig_nbformat": 4
 },
 "nbformat": 4,
 "nbformat_minor": 2
}
