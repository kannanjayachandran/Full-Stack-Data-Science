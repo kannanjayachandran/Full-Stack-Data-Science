{
 "cells": [
  {
   "cell_type": "markdown",
   "id": "cfe05483-e35c-4003-a547-d5ebd4e18c79",
   "metadata": {},
   "source": [
    "# List"
   ]
  },
  {
   "cell_type": "code",
   "execution_count": 1,
   "id": "1f5769b8-a895-469a-846a-0a651446f1e7",
   "metadata": {},
   "outputs": [
    {
     "name": "stdout",
     "output_type": "stream",
     "text": [
      "Original list:  ['one', 'two', 3, 4, 4.5, True]\n",
      "Length of the list:  6\n"
     ]
    }
   ],
   "source": [
    "lis_1 = ['one', 'two',3, 4, 4.5, True]\n",
    "\n",
    "print(\"Original list: \", lis_1)\n",
    "print(\"Length of the list: \", len(lis_1))"
   ]
  },
  {
   "cell_type": "code",
   "execution_count": null,
   "id": "38e35e9b",
   "metadata": {},
   "outputs": [
    {
     "name": "stdout",
     "output_type": "stream",
     "text": [
      "Modified list:  ['zero', 'two', 3, 4, 4.5, True]\n",
      "Modified list:  ['zero', 'two', 3, 4, 4.5, True, 'five', 7]\n",
      "Modified list:  ['zero', 'two', 3, 4, 'ten', 4.5, True, 'five', 7]\n"
     ]
    }
   ],
   "source": [
    "# we can index a list\n",
    "lis_1[0] = \"zero\"\n",
    "print('Modified list: ', lis_1)\n",
    "\n",
    "# we can add new elements to a list using append\n",
    "lis_1.append(\"five\")\n",
    "lis_1.append(lis_1[2] + lis_1[3])\n",
    "print('Modified list: ', lis_1)\n",
    "\n",
    "# we can use the insert method to insert an element at a specific index\n",
    "lis_1.insert(4, \"ten\")\n",
    "print('Modified list: ', lis_1)"
   ]
  },
  {
   "cell_type": "code",
   "execution_count": null,
   "id": "05632844",
   "metadata": {},
   "outputs": [
    {
     "name": "stdout",
     "output_type": "stream",
     "text": [
      "Extended list:  ['zero', 'two', 3, 4, 'ten', 4.5, True, 'five', 7, 'six', 'seven']\n",
      "Modified list:  ['zero', 'two', 3, 4, 4.5, True, 'five', 7, 'six', 'seven']\n",
      "Removed element :  3\n",
      "Removed element :  seven\n"
     ]
    }
   ],
   "source": [
    "# we can add another iterable to the end of the list using the extend method\n",
    "extension_list = ['six', 'seven']\n",
    "lis_1.extend(extension_list)\n",
    "print(\"Extended list: \", lis_1)\n",
    "\n",
    "# we can remove the first item whose value is x by using the remove method\n",
    "lis_1.remove('ten')\n",
    "print(\"Modified list: \", lis_1)\n",
    "\n",
    "# we can remove an item at a given index and return it using pop method\n",
    "a = lis_1.pop(2)\n",
    "print(\"Removed element : \", a)\n",
    "\n",
    "# if no index is specified pop would remove the last element and return it\n",
    "b = lis_1.pop()\n",
    "print(\"Removed element : \", b)"
   ]
  },
  {
   "cell_type": "code",
   "execution_count": null,
   "id": "d8ad60eb",
   "metadata": {},
   "outputs": [
    {
     "name": "stdout",
     "output_type": "stream",
     "text": [
      "Number of 'ten' in modified list :  3\n",
      "Index of 5:  5\n"
     ]
    }
   ],
   "source": [
    "# we can count the number of times an element appears using the count method\n",
    "lis_ten = ['ten', 'ten', 'ten']\n",
    "lis_1.extend(lis_ten)\n",
    "print(\"Number of 'ten' in modified list : \", lis_1.count('ten'))\n",
    "\n",
    "# we can get index of an item using the index method (It return the first appearance)\n",
    "print(\"Index of 5: \", lis_1.index('five'))"
   ]
  },
  {
   "cell_type": "code",
   "execution_count": 13,
   "id": "b9701b5a",
   "metadata": {},
   "outputs": [
    {
     "name": "stdout",
     "output_type": "stream",
     "text": [
      "Sorted list:  [1, 2, 3, 4, 5, 5, 6, 8, 10]\n",
      "\n",
      "Reversed list:  [10, 8, 6, 5, 5, 4, 3, 2, 1]\n",
      "\n",
      "Copy of list:  [10, 8, 6, 5, 5, 4, 3, 2, 1]\n"
     ]
    }
   ],
   "source": [
    "lis_2 = [10, 1, 8, 2, 5, 5, 3, 6, 4]\n",
    "\n",
    "# we can use the built-in sort function to sort the list\n",
    "lis_2.sort()\n",
    "print(\"Sorted list: \", lis_2)\n",
    "\n",
    "# we can use the reverse method to reverse the list\n",
    "lis_2.reverse()\n",
    "print(\"\\nReversed list: \", lis_2)\n",
    "\n",
    "# we can create a copy of the list using copy method\n",
    "p = lis_2.copy()\n",
    "print(\"\\nCopy of list: \", p)"
   ]
  },
  {
   "cell_type": "markdown",
   "id": "362a8919",
   "metadata": {},
   "source": [
    "<h2 style='color: #FEC260'> Slicing </h2>"
   ]
  },
  {
   "cell_type": "code",
   "execution_count": 14,
   "id": "8cb02399",
   "metadata": {},
   "outputs": [],
   "source": [
    "shows = ['Breaking bad', 'Dark', 'Friends', 'GOT', 'House', \n",
    "         'Sherlock holmes', 'The office', 'Vikings']"
   ]
  },
  {
   "cell_type": "code",
   "execution_count": 15,
   "id": "e6a975e7",
   "metadata": {},
   "outputs": [
    {
     "data": {
      "text/plain": [
       "['Dark', 'Friends', 'GOT']"
      ]
     },
     "execution_count": 15,
     "metadata": {},
     "output_type": "execute_result"
    }
   ],
   "source": [
    "shows[1:4] # start index to end-1 index"
   ]
  },
  {
   "cell_type": "code",
   "execution_count": 16,
   "id": "2b4f68b8",
   "metadata": {},
   "outputs": [
    {
     "data": {
      "text/plain": [
       "['Breaking bad', 'Dark', 'Friends', 'GOT', 'House']"
      ]
     },
     "execution_count": 16,
     "metadata": {},
     "output_type": "execute_result"
    }
   ],
   "source": [
    "shows[:5] # all the elements from beginning to end-1 index"
   ]
  },
  {
   "cell_type": "code",
   "execution_count": 17,
   "id": "7087df63",
   "metadata": {},
   "outputs": [
    {
     "data": {
      "text/plain": [
       "['Friends', 'GOT', 'House', 'Sherlock holmes', 'The office', 'Vikings']"
      ]
     },
     "execution_count": 17,
     "metadata": {},
     "output_type": "execute_result"
    }
   ],
   "source": [
    "shows[2:] # all the elements from start index to to last"
   ]
  },
  {
   "cell_type": "code",
   "execution_count": 18,
   "id": "1f2b828b",
   "metadata": {},
   "outputs": [
    {
     "name": "stdout",
     "output_type": "stream",
     "text": [
      "['Breaking bad', 'Friends', 'House', 'The office']\n"
     ]
    },
    {
     "data": {
      "text/plain": [
       "['Breaking bad', 'Friends', 'House', 'The office']"
      ]
     },
     "execution_count": 18,
     "metadata": {},
     "output_type": "execute_result"
    }
   ],
   "source": [
    "print(shows[0:len(shows):2]) # from beginning to end with 2 increment\n",
    "\n",
    "# we can write the above code by omitting the default values\n",
    "shows[::2]"
   ]
  },
  {
   "cell_type": "code",
   "execution_count": 19,
   "id": "7bdf1a00",
   "metadata": {},
   "outputs": [
    {
     "name": "stdout",
     "output_type": "stream",
     "text": [
      "['Breaking bad', 'Dark', 'Friends', 'GOT', 'House', 'Sherlock holmes', 'The office', 'Vikings']\n",
      "['Vikings', 'The office', 'Sherlock holmes', 'House', 'GOT', 'Friends', 'Dark', 'Breaking bad']\n"
     ]
    }
   ],
   "source": [
    "p = shows[::-1] # reversing\n",
    "print(shows)\n",
    "print(p)"
   ]
  },
  {
   "cell_type": "code",
   "execution_count": 20,
   "id": "898a21ed",
   "metadata": {},
   "outputs": [
    {
     "data": {
      "text/plain": [
       "['Sherlock holmes', 'House', 'GOT']"
      ]
     },
     "execution_count": 20,
     "metadata": {},
     "output_type": "execute_result"
    }
   ],
   "source": [
    "shows[5:2:-1]  # from the start index to end-1 index in left direction\n",
    "\n",
    "# The default value for increment is 1, we can skip giving 1, \n",
    "# anything other than one  we have to give."
   ]
  },
  {
   "cell_type": "code",
   "execution_count": 21,
   "id": "5b6b0ba5",
   "metadata": {},
   "outputs": [
    {
     "data": {
      "text/plain": [
       "['Vikings', 'The office', 'Sherlock holmes']"
      ]
     },
     "execution_count": 21,
     "metadata": {},
     "output_type": "execute_result"
    }
   ],
   "source": [
    "shows[-1:-4:-1] # we can use indexing in negative direction also"
   ]
  },
  {
   "cell_type": "markdown",
   "id": "7547492f",
   "metadata": {},
   "source": [
    "### Taking input into a list"
   ]
  },
  {
   "cell_type": "code",
   "execution_count": 2,
   "id": "c51d8d3f",
   "metadata": {},
   "outputs": [
    {
     "name": "stdout",
     "output_type": "stream",
     "text": [
      "Input number are :  1, 2, 3, 4, 5\n",
      "Output list is :  [1, 2, 3, 4, 5]\n"
     ]
    }
   ],
   "source": [
    "a = input(\"Enter numbers: \")\n",
    "print(\"Input number are : \", a)\n",
    "\n",
    "b = [int(num) for num in a.split(\",\")]\n",
    "print(\"Output list is : \", b)"
   ]
  },
  {
   "cell_type": "code",
   "execution_count": null,
   "id": "dfa461e0",
   "metadata": {},
   "outputs": [
    {
     "name": "stdout",
     "output_type": "stream",
     "text": [
      "[1, 2, 3, 4, 5] <class 'int'>\n"
     ]
    }
   ],
   "source": [
    "# using map\n",
    "int_list = list(map(int, input().split(\",\")))\n",
    "print(int_list, type(int_list[0]))"
   ]
  },
  {
   "cell_type": "markdown",
   "id": "f3fa1fe9",
   "metadata": {},
   "source": [
    "### Reversing a list"
   ]
  },
  {
   "cell_type": "code",
   "execution_count": 1,
   "id": "671e3fd0",
   "metadata": {},
   "outputs": [
    {
     "name": "stdout",
     "output_type": "stream",
     "text": [
      "Original list:  [1, 3, 5, 7, 9]\n",
      "Reversing the list using reverse():  [9, 7, 5, 3, 1]\n",
      "Reversing the list using Slicing:  [1, 3, 5, 7, 9]\n"
     ]
    }
   ],
   "source": [
    "l = [1, 3, 5, 7, 9]\n",
    "print(\"Original list: \", l)\n",
    "\n",
    "l.reverse()\n",
    "\n",
    "print(\"Reversing the list using reverse(): \", l)\n",
    "\n",
    "l = l[::-1]\n",
    "print(\"Reversing the list using Slicing: \", l)"
   ]
  },
  {
   "cell_type": "markdown",
   "id": "f692a4a7",
   "metadata": {},
   "source": [
    "## 2-Dimensional List"
   ]
  },
  {
   "cell_type": "code",
   "execution_count": 2,
   "id": "8abe2f19",
   "metadata": {},
   "outputs": [
    {
     "name": "stdout",
     "output_type": "stream",
     "text": [
      "[[1, 2, 3, 4], [5, 6, 7, 8], [9, 10, 11, 12]]\n"
     ]
    }
   ],
   "source": [
    "matrix = [\n",
    "    [1, 2, 3, 4], \n",
    "    [5, 6, 7, 8],\n",
    "    [9, 10, 11, 12]\n",
    "]\n",
    "print(matrix)"
   ]
  },
  {
   "cell_type": "code",
   "execution_count": 3,
   "id": "1adbb732",
   "metadata": {},
   "outputs": [
    {
     "name": "stdout",
     "output_type": "stream",
     "text": [
      "First Row :  [1, 2, 3, 4]\n",
      "First element :  1\n"
     ]
    }
   ],
   "source": [
    "print(\"First Row : \", matrix[0]) # first row\n",
    "print(\"First element : \", matrix[0][0]) # first element"
   ]
  },
  {
   "cell_type": "code",
   "execution_count": 9,
   "id": "1b4d3a22",
   "metadata": {},
   "outputs": [
    {
     "name": "stdout",
     "output_type": "stream",
     "text": [
      "[1, 2, 3, 4]\n",
      "[5, 6, 7, 8]\n",
      "[9, 10, 11, 12]\n"
     ]
    }
   ],
   "source": [
    "# Rows\n",
    "for row in matrix:\n",
    "    print(row)"
   ]
  },
  {
   "cell_type": "code",
   "execution_count": 4,
   "id": "5321aa6c",
   "metadata": {},
   "outputs": [
    {
     "name": "stdout",
     "output_type": "stream",
     "text": [
      "1 5 9 \n",
      "2 6 10 \n",
      "3 7 11 \n",
      "4 8 12 \n"
     ]
    }
   ],
   "source": [
    "# Cols\n",
    "num_of_cols = len(matrix[0])\n",
    "num_of_rows = len(matrix)\n",
    "\n",
    "for cols in range(num_of_cols):\n",
    "    for rows in range(num_of_rows):\n",
    "        print(matrix[rows][cols], end=\" \")\n",
    "    print()"
   ]
  },
  {
   "cell_type": "code",
   "execution_count": 19,
   "id": "bb85794a",
   "metadata": {},
   "outputs": [
    {
     "name": "stdout",
     "output_type": "stream",
     "text": [
      "1 5 9\n",
      "2 6 10\n",
      "3 7 11\n",
      "4 8 12\n"
     ]
    }
   ],
   "source": [
    "# column iteration using zip\n",
    "for column_tuple in zip(*matrix): # transpose the matrix\n",
    "    print(*column_tuple)"
   ]
  },
  {
   "cell_type": "code",
   "execution_count": 20,
   "id": "709f20fa",
   "metadata": {},
   "outputs": [
    {
     "name": "stdout",
     "output_type": "stream",
     "text": [
      "1 4 9 16 \n",
      "25 36 49 64 \n",
      "81 100 121 144 \n"
     ]
    }
   ],
   "source": [
    "# Element wise operations\n",
    "for row in matrix:\n",
    "    for element in row:\n",
    "        print(element**2, end=' ')\n",
    "    print()"
   ]
  },
  {
   "cell_type": "markdown",
   "id": "91412a11",
   "metadata": {},
   "source": [
    "### Taking input to a 2-Dimensional List"
   ]
  },
  {
   "cell_type": "code",
   "execution_count": null,
   "id": "8d1e2fb4",
   "metadata": {},
   "outputs": [
    {
     "name": "stdout",
     "output_type": "stream",
     "text": [
      "\n",
      "Two dimensional list : [[1, 2, 3], [4, 5, 6]] \n",
      "Dimensions 2 x 3\n"
     ]
    }
   ],
   "source": [
    "r, c = map(int, input(\"Enter rows and columns (separated by coma): \").split(\",\"))\n",
    "a = []\n",
    "\n",
    "# taking actual elements of list\n",
    "for i in range(r):\n",
    "    while True:\n",
    "        row_input = input(f\"Enter {i}- row (expecting {c} elements, separated by comma): \")\n",
    "        row = list(map(int, row_input.split(\",\")))\n",
    "        if len(row) == c:\n",
    "            a.append(row)\n",
    "            break\n",
    "        else:\n",
    "            print(f\"Error: You entered {len(row)} elements. Please enter exactly {c} elements.\")\n",
    "\n",
    "print(f\"\\nTwo dimensional list : {a} \\nDimensions {r} x {c}\")"
   ]
  },
  {
   "cell_type": "markdown",
   "id": "5cf5a28d",
   "metadata": {},
   "source": [
    "### Adding two matrices"
   ]
  },
  {
   "cell_type": "code",
   "execution_count": 7,
   "id": "d8271bca",
   "metadata": {},
   "outputs": [],
   "source": [
    "def get_matrix_input(r: int, c: int) -> list[list[int]]:\n",
    "    \"\"\"\n",
    "    Prompts the user to enter matrix elements and validates the input.\n",
    "    The user must enter elements separated by commas.\n",
    "    \"\"\"\n",
    "    matrix: list[list[int]] = []\n",
    "    print(f\"\\nEnter the elements for the {r}x{c} matrix, separating numbers by commas.\")\n",
    "    for i in range(r):\n",
    "        while True:\n",
    "            try:\n",
    "                row_input = input(f\"Enter elements for row {i+1} (expecting {c} elements): \")\n",
    "                row = list(map(int, row_input.split(\",\")))\n",
    "                if len(row) == c:\n",
    "                    matrix.append(row)\n",
    "                    break\n",
    "                else:\n",
    "                    print(f\"Error: Entered {len(row)} elements. Please enter exactly {c} elements.\")\n",
    "            except ValueError:\n",
    "                print(f\"Error: All elements must be valid integers separated by commas.\")\n",
    "        print(\"Matrix input completed.\")\n",
    "\n",
    "    return matrix\n",
    "\n",
    "\n",
    "def add_matrices(m1: list[list[int]], m2: list[list[int]]) -> list[list[int]] | None:\n",
    "    \"\"\"\n",
    "    Adds two matrices, returning the result or None if dimensions are incompatible.\n",
    "    \"\"\"\n",
    "    r1 = len(m1)\n",
    "    c1 = len(m1[0]) if r1 > 0 else 0\n",
    "\n",
    "    r2 = len(m2)\n",
    "    c2 = len(m2[0]) if r2 > 0 else 0\n",
    "\n",
    "    # Correctness check for matrix addition\n",
    "    if r1 != r2 or c1 != c2:\n",
    "        print(f\"Matrix addition is incompatible. Matrix A is {r1}x{c1}, Matrix B is {r2}x{c2}.\")\n",
    "        return None\n",
    "    \n",
    "    result_matrix: list[list[int]] = [\n",
    "        [m1[row][col] + m2[row][col] for col in range(c1)] for row in range(r1)\n",
    "    ]\n",
    "\n",
    "    return result_matrix\n",
    "\n",
    "\n",
    "def get_dimensions() -> tuple[int, int]:\n",
    "    \"\"\"Safely gets dimensions from user for both matrices.\"\"\"\n",
    "    while True:\n",
    "        try:\n",
    "            r_c_input = input(\"Enter dimensions (rows, columns, separated by comma): \")\n",
    "            r, c = map(int, r_c_input.split(\",\"))\n",
    "            if r > 0 and c > 0:\n",
    "                return r,c\n",
    "            else:\n",
    "                print(\"Dimensions must be positive integers.\")\n",
    "        except ValueError:\n",
    "            print(\"Invalid format. Please enter two integers (e.g., 3,4).\")"
   ]
  },
  {
   "cell_type": "code",
   "execution_count": 9,
   "id": "c9c49721",
   "metadata": {},
   "outputs": [
    {
     "name": "stdout",
     "output_type": "stream",
     "text": [
      "\n",
      "--- Input for Matrix A ---\n",
      "\n",
      "Enter the elements for the 3x4 matrix, separating numbers by commas.\n",
      "Matrix input completed.\n",
      "Matrix input completed.\n",
      "Matrix input completed.\n",
      "\n",
      "--- Input for Matrix B ---\n",
      "\n",
      "Enter the elements for the 3x4 matrix, separating numbers by commas.\n",
      "Matrix input completed.\n",
      "Matrix input completed.\n",
      "Matrix input completed.\n",
      "\n",
      "--- Matrix A ---\n",
      "\n",
      "[1, 2, 3, 4]\n",
      "[2, 3, 4, 5]\n",
      "[3, 4, 5, 6]\n",
      "\n",
      "--- Matrix B ---\n",
      "\n",
      "[5, 6, 7, 8]\n",
      "[6, 7, 8, 9]\n",
      "[7, 8, 9, 10]\n",
      "\n",
      "--- Matrix Addition Result (A + B) ---\n",
      "[6, 8, 10, 12]\n",
      "[8, 10, 12, 14]\n",
      "[10, 12, 14, 16]\n"
     ]
    }
   ],
   "source": [
    "# Get dimensions\n",
    "rows, cols = get_dimensions()\n",
    "\n",
    "# Get matrices\n",
    "print(\"\\n--- Input for Matrix A ---\")\n",
    "matrix_a = get_matrix_input(rows, cols)\n",
    "\n",
    "print(\"\\n--- Input for Matrix B ---\")\n",
    "matrix_b = get_matrix_input(rows, cols)\n",
    "\n",
    "# add matrices\n",
    "result = add_matrices(matrix_a, matrix_b)\n",
    "if result is not None:\n",
    "    print(\"\\n--- Matrix A ---\\n\")\n",
    "    for row in matrix_a:\n",
    "        print(row)\n",
    "    print(\"\\n--- Matrix B ---\\n\")\n",
    "    for row in matrix_b:\n",
    "        print(row)\n",
    "    print(\"\\n--- Matrix Addition Result (A + B) ---\")\n",
    "    for row in result:\n",
    "        print(row)"
   ]
  },
  {
   "cell_type": "markdown",
   "id": "03816957",
   "metadata": {},
   "source": [
    "### Multiplying two matrices"
   ]
  },
  {
   "cell_type": "code",
   "execution_count": 10,
   "id": "ce2a05c1",
   "metadata": {},
   "outputs": [],
   "source": [
    "def matrix_multiplication(m1: list[list[int]], m2: list[list[int]]) -> list[list[int]] | None:\n",
    "    \"\"\"\n",
    "    Multiplies two matrices (m1 * m2).\n",
    "\n",
    "    Returns the resulting matrix or None if the matrices are incompatible\n",
    "    for multiplication (i.e., m1 columns != m2 rows).\n",
    "    \"\"\"\n",
    "    r1 = len(m1)\n",
    "    c1 = len(m1[0]) if r1 > 0 and m1[0] else 0 #check for empty rows\n",
    "\n",
    "    r2 = len(m2)\n",
    "    c2 = len(m2[0]) if r2 > 0 and m2[0] else 0\n",
    "\n",
    "    # matrix multiplication condition\n",
    "    if c1 != r2:\n",
    "        print(f\"Matrix multiplication is incompatible. M1 is {r1}x{c1}, M2 is {r2}x{c2}. (Must have c1 == r2)\")\n",
    "        return None\n",
    "    result_matrix: list[list[int]] = [\n",
    "        [\n",
    "            sum(m1[i][k] * m2[k][j] for k in range(c1)) for j in range(c2)\n",
    "        ] for i in range(r1)\n",
    "    ]\n",
    "    return result_matrix"
   ]
  },
  {
   "cell_type": "code",
   "execution_count": 12,
   "id": "47810852",
   "metadata": {},
   "outputs": [
    {
     "name": "stdout",
     "output_type": "stream",
     "text": [
      "\n",
      "--- Input for Matrix A ---\n",
      "\n",
      "Enter the elements for the 2x3 matrix, separating numbers by commas.\n",
      "Matrix input completed.\n",
      "Matrix input completed.\n",
      "\n",
      "--- Input for Matrix B ---\n",
      "\n",
      "Enter the elements for the 3x4 matrix, separating numbers by commas.\n",
      "Matrix input completed.\n",
      "Matrix input completed.\n",
      "Matrix input completed.\n",
      "\n",
      "--- Matrix A ---\n",
      "\n",
      "[1, 2, 3]\n",
      "[4, 5, 6]\n",
      "\n",
      "--- Matrix B ---\n",
      "\n",
      "[1, 2, 3, 4]\n",
      "[5, 6, 7, 8]\n",
      "[3, 4, 5, 6]\n",
      "\n",
      "--- Matrix Multiplication Result (A * B) ---\n",
      "[20, 26, 32, 38]\n",
      "[47, 62, 77, 92]\n"
     ]
    }
   ],
   "source": [
    "# Get dimensions\n",
    "rows1, cols1 = get_dimensions()\n",
    "rows2, cols2 = get_dimensions()\n",
    "\n",
    "# Get matrices\n",
    "print(\"\\n--- Input for Matrix A ---\")\n",
    "matrix_a = get_matrix_input(rows1, cols1)\n",
    "\n",
    "print(\"\\n--- Input for Matrix B ---\")\n",
    "matrix_b = get_matrix_input(rows2, cols2)\n",
    "\n",
    "# multiplication\n",
    "result = matrix_multiplication(matrix_a, matrix_b)\n",
    "if result is not None:\n",
    "    print(\"\\n--- Matrix A ---\\n\")\n",
    "    for row in matrix_a:\n",
    "        print(row)\n",
    "    print(\"\\n--- Matrix B ---\\n\")\n",
    "    for row in matrix_b:\n",
    "        print(row)\n",
    "    print(\"\\n--- Matrix Multiplication Result (A * B) ---\")\n",
    "    for row in result:\n",
    "        print(row)"
   ]
  },
  {
   "cell_type": "markdown",
   "id": "d0a32ecc",
   "metadata": {},
   "source": [
    "### Subtracting two matrices"
   ]
  },
  {
   "cell_type": "code",
   "execution_count": 3,
   "id": "ffc8ce53",
   "metadata": {},
   "outputs": [
    {
     "name": "stdout",
     "output_type": "stream",
     "text": [
      "Enter the first matrix: \n",
      "Enter the second matrix: \n",
      "\n",
      "Matrix1:  [[1, 2, 3], [3, 2, 1]]\n",
      "\n",
      "Matrix2:  [[1, 2, 3], [3, 2, 1]]\n",
      "\n",
      "Difference matrix:  [[0, 0, 0], [0, 0, 0]]\n"
     ]
    }
   ],
   "source": [
    "# Taking input for matrix1\n",
    "print(\"Enter the first matrix: \")\n",
    "\n",
    "r1, c1 = map(int, input().split())\n",
    "\n",
    "a = []\n",
    "\n",
    "for i in range(r1):\n",
    "    row = list(map(int, input(\"Enter the elements: \").split()))[:c1]  \n",
    "    a.append(row)\n",
    "\n",
    "print(\"Enter the second matrix: \")\n",
    "\n",
    "r2, c2 = map(int, input().split())\n",
    "\n",
    "b = []\n",
    "\n",
    "for i in range(r2):\n",
    "    row = list(map(int, input(\"Enter the elements: \").split()))[:c1]\n",
    "    b.append(row)\n",
    "\n",
    "print(\"\\nMatrix1: \", a)\n",
    "print(\"\\nMatrix2: \", b)\n",
    "\n",
    "\n",
    "if r1 == r2 and c1 == c2:\n",
    "    for i in range(r1):\n",
    "        for j in range(c1):\n",
    "            a[i][j] -= b[i][j]\n",
    "\n",
    "print(\"\\nDifference matrix: \", a)"
   ]
  }
 ],
 "metadata": {
  "kernelspec": {
   "display_name": "Python Base (DSML)",
   "language": "python",
   "name": "base"
  },
  "language_info": {
   "codemirror_mode": {
    "name": "ipython",
    "version": 3
   },
   "file_extension": ".py",
   "mimetype": "text/x-python",
   "name": "python",
   "nbconvert_exporter": "python",
   "pygments_lexer": "ipython3",
   "version": "3.13.1"
  }
 },
 "nbformat": 4,
 "nbformat_minor": 5
}
