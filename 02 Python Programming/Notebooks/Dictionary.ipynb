{
 "cells": [
  {
   "cell_type": "markdown",
   "metadata": {},
   "source": [
    "<h1 style='color: #FEC260'> Dictionary </h1>"
   ]
  },
  {
   "cell_type": "code",
   "execution_count": 4,
   "metadata": {},
   "outputs": [
    {
     "name": "stdout",
     "output_type": "stream",
     "text": [
      "Dict1: {'key1': 'value1', 'key2': 'value2'}\n",
      "\n",
      "Dict2: {'key1': 'value1', 'key2': 'value2'}\n",
      "\n",
      "Type: <class 'dict'>\n"
     ]
    }
   ],
   "source": [
    "# we can make a dict in two ways\n",
    "d1 = dict(key1='value1', key2='value2')\n",
    "\n",
    "d2 = {'key1': 'value1', 'key2': 'value2'}\n",
    "\n",
    "print(f\"Dict1: {d1}\\n\\nDict2: {d2}\\n\\nType: {type(d1)}\")"
   ]
  },
  {
   "cell_type": "code",
   "execution_count": 7,
   "metadata": {},
   "outputs": [
    {
     "name": "stdout",
     "output_type": "stream",
     "text": [
      "Currency: {'India': 'Rupee', 'USA': 'Dollars', 'Japan': 'Yen', 'Ireland': 'Euro', 'Singapore': 'Singapore Dollar'}\n",
      "Keys:  India USA Japan Ireland Singapore\n"
     ]
    }
   ],
   "source": [
    "currency = {\n",
    "    'India': 'Rupee',\n",
    "    'USA': 'Dollars',\n",
    "    'Japan': 'Yen',\n",
    "}\n",
    "currency['Ireland'] = 'Euro'\n",
    "currency['Singapore'] = 'Singapore Dollar'\n",
    "\n",
    "print(f\"Currency: {currency}\")\n",
    "print(\"Keys: \", *currency)"
   ]
  },
  {
   "cell_type": "code",
   "execution_count": 8,
   "metadata": {},
   "outputs": [
    {
     "data": {
      "text/plain": [
       "'Rupee'"
      ]
     },
     "execution_count": 8,
     "metadata": {},
     "output_type": "execute_result"
    }
   ],
   "source": [
    "# we can access the dictionary elements using keys\n",
    "currency['India']"
   ]
  },
  {
   "cell_type": "code",
   "execution_count": 32,
   "metadata": {},
   "outputs": [
    {
     "name": "stdout",
     "output_type": "stream",
     "text": [
      "{'India': 'Rupee', 'USA': 'USD', 'Japan': 'Yen', 'Ireland': 'Euro', 'Singapore': 'Singapore Dollar'}\n"
     ]
    }
   ],
   "source": [
    "# we can access and change values using keys\n",
    "currency['USA'] = 'USD'\n",
    "print(currency)"
   ]
  },
  {
   "cell_type": "code",
   "execution_count": 33,
   "metadata": {},
   "outputs": [
    {
     "name": "stdout",
     "output_type": "stream",
     "text": [
      "dict_keys(['India', 'USA', 'Japan', 'Ireland', 'Singapore']) <class 'dict_keys'>\n"
     ]
    }
   ],
   "source": [
    "# we can get all the keys of a dict using keys() function\n",
    "a = currency.keys()\n",
    "print(a, type(a))"
   ]
  },
  {
   "cell_type": "code",
   "execution_count": 34,
   "metadata": {},
   "outputs": [
    {
     "name": "stdout",
     "output_type": "stream",
     "text": [
      "dict_values(['Rupee', 'USD', 'Yen', 'Euro', 'Singapore Dollar']) <class 'dict_values'>\n"
     ]
    }
   ],
   "source": [
    "a = currency.values()\n",
    "print(a, type(a))"
   ]
  },
  {
   "cell_type": "code",
   "execution_count": 35,
   "metadata": {},
   "outputs": [
    {
     "name": "stdout",
     "output_type": "stream",
     "text": [
      "[('India', 'Rupee'), ('USA', 'USD'), ('Japan', 'Yen'), ('Ireland', 'Euro'), ('Singapore', 'Singapore Dollar')]\n"
     ]
    }
   ],
   "source": [
    "# To get all the key-value pairs of a dict as a list of tuples\n",
    "val = list(currency.items())\n",
    "print(val)"
   ]
  },
  {
   "cell_type": "code",
   "execution_count": 36,
   "metadata": {},
   "outputs": [
    {
     "name": "stdout",
     "output_type": "stream",
     "text": [
      "Singapore Dollar {'India': 'Rupee', 'USA': 'USD', 'Japan': 'Yen', 'Ireland': 'Euro'}\n",
      "{'India': 'Rupee', 'USA': 'USD', 'Japan': 'Yen'}\n"
     ]
    }
   ],
   "source": [
    "# removing entries from a dictionary\n",
    "# using pop() method\n",
    "removed_value = currency.pop('Singapore')\n",
    "print(removed_value, currency)\n",
    "\n",
    "# using del keyword\n",
    "del currency['Ireland']\n",
    "print(currency)"
   ]
  },
  {
   "cell_type": "code",
   "execution_count": 43,
   "metadata": {},
   "outputs": [],
   "source": [
    "# copying and deep copying\n",
    "import copy\n",
    "\n",
    "\n",
    "currency_copy = currency.copy()\n",
    "currency_deep_copy = copy.deepcopy(currency)"
   ]
  },
  {
   "cell_type": "markdown",
   "metadata": {},
   "source": [
    "<h2 style='color: #FEC260'> Collections - Counter </h2>"
   ]
  },
  {
   "cell_type": "code",
   "execution_count": 9,
   "metadata": {},
   "outputs": [],
   "source": [
    "s = \"\"\"Ben 10 is an American animated television series and a \n",
    "media franchise created by Man of Action Studios and produced \n",
    "by Cartoon Network Studios. The franchise revolves around a boy \n",
    "named Ben Tennyson who acquires a watch-like alien device, the \n",
    "Omnitrix, which allows him to transform into ten different alien \n",
    "creatures. The Ben 10 franchise has received wide critical acclaim, \n",
    "winning three Emmy Awards\"\"\""
   ]
  },
  {
   "cell_type": "code",
   "execution_count": 13,
   "metadata": {},
   "outputs": [
    {
     "name": "stdout",
     "output_type": "stream",
     "text": [
      "{'b': 6, 'e': 42, 'n': 31, ' ': 63, '1': 2, '0': 2, 'i': 31, 's': 19, 'a': 33, 'm': 11, 'r': 22, 'c': 18, 't': 22, 'd': 16, 'l': 9, 'v': 5, 'o': 19, '\\n': 6, 'f': 7, 'h': 13, 'y': 5, 'u': 6, 'p': 1, 'w': 8, 'k': 2, '.': 2, 'q': 1, '-': 1, ',': 3, 'x': 1, 'g': 1}\n"
     ]
    }
   ],
   "source": [
    "norm_letter_counter = {}\n",
    "for char in s:\n",
    "    if char.lower() not in norm_letter_counter:\n",
    "        norm_letter_counter[char.lower()] = 1\n",
    "    else:\n",
    "        norm_letter_counter[char.lower()] += 1\n",
    "\n",
    "print(norm_letter_counter)"
   ]
  },
  {
   "cell_type": "code",
   "execution_count": 21,
   "metadata": {},
   "outputs": [
    {
     "name": "stdout",
     "output_type": "stream",
     "text": [
      "Counter({' ': 63, 'e': 42, 'a': 33, 'n': 31, 'i': 31, 'r': 22, 't': 22, 's': 19, 'o': 19, 'c': 18, 'd': 16, 'h': 13, 'm': 11, 'l': 9, 'w': 8, 'f': 7, 'b': 6, '\\n': 6, 'u': 6, 'v': 5, 'y': 5, ',': 3, '1': 2, '0': 2, 'k': 2, '.': 2, 'p': 1, 'q': 1, '-': 1, 'x': 1, 'g': 1})\n",
      "Counter({1: 6, 2: 5, 3: 5})\tType: <class 'collections.Counter'>\n",
      "\n",
      "Converted: {1: 6, 2: 5, 3: 5}\tType: <class 'dict'>\n"
     ]
    }
   ],
   "source": [
    "from collections import Counter\n",
    "\n",
    "\n",
    "letter_count = Counter(s.lower())\n",
    "print(letter_count)\n",
    "\n",
    "l1 = [1, 1, 2, 3, 1, 2, 3, 1, 2, 3, 1, 2, 3, 2, 1, 3]\n",
    "list_count = Counter(l1)\n",
    "print(f'{list_count}\\tType: {type(list_count)}\\n\\nConverted: {dict(list_count)}\\tType: {type(dict(list_count))}')"
   ]
  },
  {
   "cell_type": "code",
   "execution_count": 22,
   "metadata": {},
   "outputs": [
    {
     "name": "stdout",
     "output_type": "stream",
     "text": [
      "[(' ', 63), ('e', 42), ('a', 33), ('n', 31), ('i', 31)]\n"
     ]
    }
   ],
   "source": [
    "# common counter methods\n",
    "# print(list(letter_count.elements()))\n",
    "print(letter_count.most_common(5))"
   ]
  },
  {
   "cell_type": "markdown",
   "metadata": {},
   "source": [
    "<h2 style='color: #FEC260'> Dictionary Comprehension </h2>"
   ]
  },
  {
   "cell_type": "code",
   "execution_count": 59,
   "metadata": {},
   "outputs": [
    {
     "name": "stdout",
     "output_type": "stream",
     "text": [
      "{'b': 6, 'e': 42, 'n': 31, 'i': 31, 's': 19, 'a': 33, 'm': 11, 'r': 22, 'c': 18, 't': 22, 'd': 16, 'l': 9, 'v': 5, 'o': 19, 'f': 7, 'h': 13, 'y': 5, 'u': 6, 'p': 1, 'w': 8, 'k': 2, 'q': 1, 'x': 1, 'g': 1}\n"
     ]
    }
   ],
   "source": [
    "letter_count = {k: v for k, v in letter_count.items() if k.isalpha()}\n",
    "\n",
    "print(letter_count)"
   ]
  },
  {
   "cell_type": "code",
   "execution_count": 25,
   "metadata": {},
   "outputs": [
    {
     "name": "stdout",
     "output_type": "stream",
     "text": [
      "{0: 'ID0', 1: 'ID1', 2: 'ID2', 3: 'ID3', 4: 'ID4', 5: 'ID5', 6: 'ID6', 7: 'ID7', 8: 'ID8', 9: 'ID9'}\n",
      "{'India': 1, 'USA': 2, 'Japan': 3, 'Ireland': 4, 'Singapore': 5}\n"
     ]
    }
   ],
   "source": [
    "ids = {x: f\"ID{x}\" for x in range(10)}\n",
    "\n",
    "lis1 = ['India', 'USA', 'Japan', 'Ireland', 'Singapore']\n",
    "lis2 = [1, 2, 3, 4, 5]\n",
    "country_dict = {lis1[x]: lis2[x] for x in range(len(lis1))} # Not the best way; use zip()\n",
    "\n",
    "print(ids)\n",
    "print(country_dict)"
   ]
  },
  {
   "cell_type": "code",
   "execution_count": 26,
   "metadata": {},
   "outputs": [
    {
     "name": "stdout",
     "output_type": "stream",
     "text": [
      "{'India': 1, 'USA': 2, 'Japan': 3, 'Ireland': 4, 'Singapore': 5}\n"
     ]
    }
   ],
   "source": [
    "# dictionary from two lists using zip\n",
    "country_dict2 = dict(zip(lis1, lis2))\n",
    "print(country_dict2)"
   ]
  },
  {
   "cell_type": "code",
   "execution_count": 34,
   "metadata": {},
   "outputs": [
    {
     "name": "stdout",
     "output_type": "stream",
     "text": [
      "{'India': 1, 'USA': 2, 'Japan': 3, 'Ireland': 4, 'Singapore': 5}\n",
      "\n",
      "{1: 'India', 2: 'USA', 3: 'Japan', 4: 'Ireland', 5: 'Singapore'}\n"
     ]
    }
   ],
   "source": [
    "# Inverting mapping using dictionary comprehension\n",
    "country_dict2_rev = {v: k for (k, v) in country_dict2.items()}\n",
    "\n",
    "print(country_dict2, country_dict2_rev, sep=\"\\n\\n\")"
   ]
  },
  {
   "cell_type": "markdown",
   "metadata": {},
   "source": [
    "Count word frequencies in a string.\n",
    "\n",
    "Find the first non-repeating character.\n",
    "\n",
    "Invert a dictionary (swap keys and values).\n",
    "\n",
    "Merge two dictionaries with combined values.\n",
    "\n",
    "Detect duplicates using dictionary or Counter."
   ]
  }
 ],
 "metadata": {
  "kernelspec": {
   "display_name": "Python Base (DSML)",
   "language": "python",
   "name": "base"
  },
  "language_info": {
   "codemirror_mode": {
    "name": "ipython",
    "version": 3
   },
   "file_extension": ".py",
   "mimetype": "text/x-python",
   "name": "python",
   "nbconvert_exporter": "python",
   "pygments_lexer": "ipython3",
   "version": "3.13.1"
  },
  "orig_nbformat": 4,
  "vscode": {
   "interpreter": {
    "hash": "f4c85645bce20c702a4ecae1b93c6759c482279d1c3b7e99a0246a20b7629f3f"
   }
  }
 },
 "nbformat": 4,
 "nbformat_minor": 2
}
