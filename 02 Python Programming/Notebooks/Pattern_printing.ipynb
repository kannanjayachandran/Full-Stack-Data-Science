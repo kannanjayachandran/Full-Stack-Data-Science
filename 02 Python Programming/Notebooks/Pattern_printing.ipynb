{
 "cells": [
  {
   "cell_type": "markdown",
   "id": "9190a087",
   "metadata": {},
   "source": [
    "<h1 style='color: #FEC260'> Pattern Printing </h1>"
   ]
  },
  {
   "cell_type": "code",
   "execution_count": 1,
   "id": "4f58d558",
   "metadata": {
    "scrolled": true
   },
   "outputs": [
    {
     "name": "stdout",
     "output_type": "stream",
     "text": [
      "* \n",
      "* * \n",
      "* * * \n",
      "* * * * \n"
     ]
    }
   ],
   "source": [
    "\"\"\"\n",
    "Stair pattern\n",
    "*\n",
    "* *\n",
    "* * *\n",
    "* * * *\n",
    "\"\"\"\n",
    "\n",
    "n = int(input(\"Enter n: \"))\n",
    "\n",
    "i = 1\n",
    "while i <= n:\n",
    "    print(\"* \"*i)\n",
    "    i += 1"
   ]
  },
  {
   "cell_type": "code",
   "execution_count": 2,
   "id": "aa3822ae",
   "metadata": {},
   "outputs": [
    {
     "name": "stdout",
     "output_type": "stream",
     "text": [
      "* * * * * \n",
      "* * * * \n",
      "* * * \n",
      "* * \n",
      "* \n"
     ]
    }
   ],
   "source": [
    "\"\"\"\n",
    "Inverted stair pattern\n",
    "* * * * * \n",
    "* * * * \n",
    "* * * \n",
    "* * \n",
    "*\n",
    "\"\"\"\n",
    "\n",
    "n = int(input(\"Enter n: \"))\n",
    "\n",
    "i = n\n",
    "while(i>0):\n",
    "    print(\"* \"*i)\n",
    "    i-=1"
   ]
  },
  {
   "cell_type": "code",
   "execution_count": 3,
   "id": "e1b40add-0436-4592-8c7a-6df536301278",
   "metadata": {},
   "outputs": [
    {
     "name": "stdout",
     "output_type": "stream",
     "text": [
      "\n",
      "* \n",
      "* * \n",
      "* * * \n",
      "* * * * \n",
      "* * * * * \n",
      "* * * * \n",
      "* * * \n",
      "* * \n",
      "* \n"
     ]
    }
   ],
   "source": [
    "\"\"\" \n",
    "Triangle Pattern\n",
    "* \n",
    "* * \n",
    "* * * \n",
    "* * * * \n",
    "* * * * * \n",
    "* * * * \n",
    "* * * \n",
    "* * \n",
    "* \n",
    "\"\"\"\n",
    "\n",
    "n = int(input(\"Enter n: \"))\n",
    "\n",
    "for i in range(n):\n",
    "    print(\"* \" * i)\n",
    "\n",
    "for i in range(n, 0, -1):\n",
    "    print(\"* \" * i)"
   ]
  },
  {
   "cell_type": "code",
   "execution_count": 4,
   "id": "70277904-254a-4804-83d9-c54e3787e250",
   "metadata": {},
   "outputs": [
    {
     "name": "stdout",
     "output_type": "stream",
     "text": [
      "* * * * * \n",
      "* * * * \n",
      "* * * \n",
      "* * \n",
      "* \n",
      "* \n",
      "* * \n",
      "* * * \n",
      "* * * * \n",
      "* * * * * \n"
     ]
    }
   ],
   "source": [
    "\"\"\" \n",
    "Triangle Pattern\n",
    "* * * * * \n",
    "* * * * \n",
    "* * * \n",
    "* * \n",
    "* \n",
    "* \n",
    "* * \n",
    "* * * \n",
    "* * * * \n",
    "* * * * * \n",
    "\"\"\"\n",
    "\n",
    "n = int(input(\"Enter n: \"))\n",
    "\n",
    "for i in range(n, 0, -1):\n",
    "    print(\"* \" * i)\n",
    "for i in range(1, n+1):\n",
    "    print(\"* \" * i)"
   ]
  },
  {
   "cell_type": "code",
   "execution_count": 5,
   "id": "4450230c-5e56-485a-9fc6-7d93bddea3d2",
   "metadata": {},
   "outputs": [
    {
     "name": "stdout",
     "output_type": "stream",
     "text": [
      "5 5 5 5 5 \n",
      "5 5 5 5 5 \n",
      "5 5 5 5 5 \n",
      "5 5 5 5 5 \n",
      "5 5 5 5 5 \n"
     ]
    }
   ],
   "source": [
    "\"\"\"\n",
    "Number pattern 1\n",
    "for n = 4\n",
    "4 4 4 4 \n",
    "4 4 4 4 \n",
    "4 4 4 4 \n",
    "4 4 4 4 \n",
    "\"\"\"\n",
    "\n",
    "n = int(input(\"Enter n: \"))\n",
    "\n",
    "for i in range(n):\n",
    "    print((str(n) + \" \") * n)"
   ]
  },
  {
   "cell_type": "code",
   "execution_count": 6,
   "id": "9cfe7ec0-bb95-4e9d-bde9-5e39ebbf0155",
   "metadata": {},
   "outputs": [
    {
     "name": "stdout",
     "output_type": "stream",
     "text": [
      "1 1 1 1 1 \n",
      "2 2 2 2 2 \n",
      "3 3 3 3 3 \n",
      "4 4 4 4 4 \n",
      "5 5 5 5 5 \n"
     ]
    }
   ],
   "source": [
    "\"\"\"\n",
    "Number pattern 2\n",
    "for n = 4\n",
    "1 1 1 1 \n",
    "2 2 2 2 \n",
    "3 3 3 3 \n",
    "4 4 4 4\n",
    "\"\"\"\n",
    "\n",
    "n = int(input(\"Enter n: \"))\n",
    "\n",
    "for i in range(1, n+1):\n",
    "    print((str(i) + \" \") * n)"
   ]
  },
  {
   "cell_type": "code",
   "execution_count": 7,
   "id": "3d6da86e-163c-42be-97e2-39f8613ed777",
   "metadata": {},
   "outputs": [
    {
     "name": "stdout",
     "output_type": "stream",
     "text": [
      "1 \n",
      "2 2 \n",
      "3 3 3 \n",
      "4 4 4 4 \n",
      "5 5 5 5 5 \n"
     ]
    }
   ],
   "source": [
    "\"\"\"\n",
    "Number pattern 2\n",
    "for n = 4\n",
    "1 \n",
    "2 2 \n",
    "3 3 3 \n",
    "4 4 4 4 \n",
    "5 5 5 5 5 \n",
    "\"\"\"\n",
    "\n",
    "n = int(input(\"Enter n: \"))\n",
    "\n",
    "for i in range(1, n+1):\n",
    "    print((str(i) + \" \") * i)"
   ]
  },
  {
   "cell_type": "code",
   "execution_count": 8,
   "id": "a809a267-544a-4bb2-b7cb-3c3d6bae1c4e",
   "metadata": {},
   "outputs": [
    {
     "name": "stdout",
     "output_type": "stream",
     "text": [
      "A \n",
      "B B \n",
      "C C C \n",
      "D D D D \n",
      "E E E E E \n"
     ]
    }
   ],
   "source": [
    "\"\"\"\n",
    "for n = 4\n",
    "A \n",
    "B B \n",
    "C C C \n",
    "D D D D\n",
    "\"\"\"\n",
    "\n",
    "n = int(input(\"Enter n: \"))\n",
    "\n",
    "for i in range(1, n+1):\n",
    "    print((chr(64+i) + \" \") * i)"
   ]
  },
  {
   "cell_type": "code",
   "execution_count": 9,
   "id": "36a8da21-7dff-4ef6-b5c0-a9be31cd84ac",
   "metadata": {},
   "outputs": [
    {
     "name": "stdout",
     "output_type": "stream",
     "text": [
      "1 2 3 4 5 \n",
      "1 2 3 4 \n",
      "1 2 3 \n",
      "1 2 \n",
      "1 \n"
     ]
    }
   ],
   "source": [
    "\"\"\"\n",
    "for n = 4\n",
    "1 2 3 4 \n",
    "1 2 3 \n",
    "1 2 \n",
    "1\n",
    "\"\"\"\n",
    "\n",
    "n = int(input(\"Enter n: \"))\n",
    "\n",
    "for i in range(n, 0, -1):\n",
    "    for j in range(1, i+1):\n",
    "        print(j, end=\" \")\n",
    "    print()"
   ]
  },
  {
   "cell_type": "code",
   "execution_count": 10,
   "id": "82f3b917-8e0d-458c-bf22-70153b8619f6",
   "metadata": {},
   "outputs": [
    {
     "name": "stdout",
     "output_type": "stream",
     "text": [
      "     * \n",
      "    * * \n",
      "   * * * \n",
      "  * * * * \n",
      " * * * * * \n"
     ]
    }
   ],
   "source": [
    "\"\"\"\n",
    "for n = 4 print\n",
    "     * \n",
    "    * * \n",
    "   * * * \n",
    "  * * * * \n",
    "\"\"\"\n",
    "\n",
    "n = int(input(\"Enter n: \"))\n",
    "\n",
    "for i in range(n):\n",
    "    print((\" \" * (n-i-1)), \"* \" * (i+1))"
   ]
  },
  {
   "cell_type": "code",
   "execution_count": 11,
   "id": "6d1fcf2b-860a-4814-8eaa-314bc2e1664e",
   "metadata": {},
   "outputs": [
    {
     "name": "stdout",
     "output_type": "stream",
     "text": [
      "     1 \n",
      "    2 2 \n",
      "   3 3 3 \n",
      "  4 4 4 4 \n",
      " 5 5 5 5 5 \n"
     ]
    }
   ],
   "source": [
    "\"\"\"\n",
    "for n = 4 print the following pattern\n",
    "     1 \n",
    "    2 2 \n",
    "   3 3 3 \n",
    "  4 4 4 4 \n",
    "\"\"\"\n",
    "\n",
    "n = int(input(\"Enter n: \"))\n",
    "\n",
    "for i in range(n):\n",
    "    print((\" \"*(n-i-1)), (str(i+1) + \" \")* (i+1))"
   ]
  },
  {
   "cell_type": "code",
   "execution_count": 12,
   "id": "628d4064-af74-4e87-82d1-6fbf165de3ce",
   "metadata": {},
   "outputs": [
    {
     "name": "stdout",
     "output_type": "stream",
     "text": [
      "     A \n",
      "    B B \n",
      "   C C C \n",
      "  D D D D \n",
      " E E E E E \n"
     ]
    }
   ],
   "source": [
    "\"\"\"\n",
    "for n = 4, print\n",
    "     A \n",
    "    B B \n",
    "   C C C \n",
    "  D D D D \n",
    "\n",
    "\"\"\"\n",
    "\n",
    "n = int(input(\"Enter n: \"))\n",
    "\n",
    "for i in range(n):\n",
    "    print((\" \" * (n-i-1)), (chr(65+i) + \" \") * (i+1))"
   ]
  },
  {
   "cell_type": "code",
   "execution_count": 13,
   "id": "01401a1e-6c92-43d3-ae84-5300d072a1aa",
   "metadata": {},
   "outputs": [
    {
     "name": "stdout",
     "output_type": "stream",
     "text": [
      "  * * * * * \n",
      "   * * * * \n",
      "    * * * \n",
      "     * * \n",
      "      * \n"
     ]
    }
   ],
   "source": [
    "\"\"\"\n",
    "for n = 4, print \n",
    "   * * * * \n",
    "    * * * \n",
    "     * * \n",
    "      * \n",
    "\"\"\"\n",
    "\n",
    "n = int(input(\"Enter n: \"))\n",
    "\n",
    "for i in range(n):\n",
    "    print(\" \" * (i+1), \"* \" * (n-i))"
   ]
  },
  {
   "cell_type": "code",
   "execution_count": 14,
   "id": "1755a31d-56ae-4f17-be35-8226c30318aa",
   "metadata": {},
   "outputs": [
    {
     "name": "stdout",
     "output_type": "stream",
     "text": [
      "  5 5 5 5 5 \n",
      "   4 4 4 4 \n",
      "    3 3 3 \n",
      "     2 2 \n",
      "      1 \n"
     ]
    }
   ],
   "source": [
    "\"\"\"\n",
    "for n = 4, print\n",
    "   4 4 4 4 \n",
    "    3 3 3 \n",
    "     2 2 \n",
    "      1 \n",
    "\"\"\"\n",
    "\n",
    "n = int(input(\"Enter n: \"))\n",
    "\n",
    "for i in range(n):\n",
    "    print(\" \" * (i+1), (str(n-i) + \" \") * (n-i))"
   ]
  },
  {
   "cell_type": "code",
   "execution_count": 15,
   "id": "a7326dbb-7a87-4577-b5f3-2fd504bc5784",
   "metadata": {},
   "outputs": [
    {
     "name": "stdout",
     "output_type": "stream",
     "text": [
      "     E \n",
      "    D D \n",
      "   C C C \n",
      "  B B B B \n",
      " A A A A A \n"
     ]
    }
   ],
   "source": [
    "\"\"\"\n",
    "for n = 4 print\n",
    "    D \n",
    "   C C \n",
    "  B B B \n",
    " A A A A \n",
    "\"\"\"\n",
    "\n",
    "n = int(input(\"Enter n: \"))\n",
    "\n",
    "for i in range(n):\n",
    "    print((\" \" * (n-i-1)), (chr(65 + (n-i-1)) + \" \") * (i+1))"
   ]
  },
  {
   "cell_type": "code",
   "execution_count": 16,
   "id": "2b101744-fd5c-478d-8031-6d3784582b2c",
   "metadata": {},
   "outputs": [
    {
     "name": "stdout",
     "output_type": "stream",
     "text": [
      "    E \n",
      "   E D \n",
      "  E D C \n",
      " E D C B \n",
      "E D C B A \n"
     ]
    }
   ],
   "source": [
    "\"\"\"\n",
    "for n = 4 print\n",
    "   D \n",
    "  D C \n",
    " D C B \n",
    "D C B A \n",
    "\"\"\"\n",
    "\n",
    "n = int(input(\"Enter n: \"))\n",
    "\n",
    "for i in range(n):\n",
    "    print(\" \" * (n-i-1), end='')\n",
    "    for j in range(i+1):\n",
    "        print(chr(64+n-j), end=' ')\n",
    "    print()"
   ]
  },
  {
   "cell_type": "code",
   "execution_count": 17,
   "id": "8fe86d30-aab5-4f35-a115-8cb7e23d1c46",
   "metadata": {},
   "outputs": [
    {
     "name": "stdout",
     "output_type": "stream",
     "text": [
      "\n",
      "A \n",
      "B B \n",
      "C C C \n",
      "D D D D \n",
      "E E E E E \n",
      "E E E E E \n",
      "D D D D \n",
      "C C C \n",
      "B B \n",
      "A \n"
     ]
    }
   ],
   "source": [
    "\"\"\"\n",
    "for n = 4, print\n",
    "\n",
    "A \n",
    "B B \n",
    "C C C \n",
    "D D D D \n",
    "D D D D \n",
    "C C C \n",
    "B B \n",
    "A \n",
    "\n",
    "\"\"\"\n",
    "\n",
    "n = int(input(\"Enter n: \"))\n",
    "\n",
    "for i in range(n+1):\n",
    "    print((chr(64+i) + \" \") * i)\n",
    "    \n",
    "for j in range(n, 0, -1):\n",
    "    print((chr(64+j) + \" \") * j)"
   ]
  },
  {
   "cell_type": "code",
   "execution_count": 18,
   "id": "db33b29f-7bab-4596-9753-91223e70e4cf",
   "metadata": {},
   "outputs": [
    {
     "name": "stdout",
     "output_type": "stream",
     "text": [
      "A \n",
      "A B \n",
      "A B C \n",
      "A B C D \n",
      "A B C D E \n",
      "A B C D \n",
      "A B C \n",
      "A B \n",
      "A \n"
     ]
    }
   ],
   "source": [
    "\"\"\"\n",
    "for n = 4, print\n",
    "A \n",
    "A B \n",
    "A B C \n",
    "A B C D \n",
    "A B C \n",
    "A B \n",
    "A\n",
    "\"\"\"\n",
    "\n",
    "n = int(input(\"Enter n: \"))\n",
    "\n",
    "for i in range(n):\n",
    "    for j in range(i+1):\n",
    "        print((chr(65+j) + \" \"), end='')\n",
    "    print()\n",
    "for i in range(n-1):\n",
    "    for j in range(n-i-1):\n",
    "        print((chr(65+j) + \" \"), end='')\n",
    "    print()"
   ]
  },
  {
   "cell_type": "code",
   "execution_count": 19,
   "id": "27600798-c0ea-4457-b8e3-b9f5fe512981",
   "metadata": {},
   "outputs": [
    {
     "name": "stdout",
     "output_type": "stream",
     "text": [
      "1 2 3 4 5 \n",
      "1 2 3 4 \n",
      "1 2 3 \n",
      "1 2 \n",
      "1 \n"
     ]
    }
   ],
   "source": [
    "\"\"\"\n",
    "for n = 4, print\n",
    "1 2 3 4 \n",
    "1 2 3 \n",
    "1 2 \n",
    "1\n",
    "\"\"\"\n",
    "\n",
    "n = int(input(\"Enter n: \"))\n",
    "\n",
    "for i in range(n):\n",
    "    for j in range(n-i):\n",
    "        print((str(j+1) + \" \"), end='')\n",
    "    print()"
   ]
  },
  {
   "cell_type": "code",
   "execution_count": 2,
   "id": "5277dff4",
   "metadata": {},
   "outputs": [
    {
     "name": "stdout",
     "output_type": "stream",
     "text": [
      "     1 \n",
      "    1 1 \n",
      "   1 2 1 \n",
      "  1 3 3 1 \n",
      " 1 4 6 4 1 \n",
      "1 5 10 10 5 1 \n"
     ]
    }
   ],
   "source": [
    "# Pascal's triangle\n",
    "rows = 6\n",
    "for i in range(rows):\n",
    "    for j in range(rows - i - 1):\n",
    "        print(\" \", end=\"\")\n",
    "    C = 1\n",
    "    for j in range(i + 1):\n",
    "        print(C, end=\" \")\n",
    "        C = C * (i - j) // (j + 1)\n",
    "    print()\n"
   ]
  }
 ],
 "metadata": {
  "kernelspec": {
   "display_name": "Python 3.10.5 64-bit",
   "language": "python",
   "name": "python3"
  },
  "language_info": {
   "codemirror_mode": {
    "name": "ipython",
    "version": 3
   },
   "file_extension": ".py",
   "mimetype": "text/x-python",
   "name": "python",
   "nbconvert_exporter": "python",
   "pygments_lexer": "ipython3",
   "version": "3.11.5"
  },
  "vscode": {
   "interpreter": {
    "hash": "f4c85645bce20c702a4ecae1b93c6759c482279d1c3b7e99a0246a20b7629f3f"
   }
  }
 },
 "nbformat": 4,
 "nbformat_minor": 5
}
