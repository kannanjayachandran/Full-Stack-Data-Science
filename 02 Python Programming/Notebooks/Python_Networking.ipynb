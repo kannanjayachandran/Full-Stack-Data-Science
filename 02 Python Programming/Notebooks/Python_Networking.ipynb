{
 "cells": [
  {
   "cell_type": "markdown",
   "metadata": {},
   "source": [
    "# <span style=\"color:#FEC260\">Networking using Python</span>\n",
    "\n",
    "## A simple TCP server\n",
    "\n",
    "> Run them in two separate `.py` files to see the result."
   ]
  },
  {
   "cell_type": "code",
   "execution_count": null,
   "metadata": {},
   "outputs": [],
   "source": [
    "# server\n",
    "import socket\n",
    "\n",
    "# Server configuration\n",
    "host = \"127.0.0.1\"  # Localhost IP address\n",
    "port = 12345       # Port to listen on\n",
    "\n",
    "# Create a socket\n",
    "server_socket = socket.socket(socket.AF_INET, socket.SOCK_STREAM)\n",
    "\n",
    "# Bind the socket to the address and port\n",
    "server_socket.bind((host, port))\n",
    "\n",
    "# Listen for incoming connections (max 1 pending connection)\n",
    "server_socket.listen(1)\n",
    "print(f\"Server is listening on {host}:{port}\")\n",
    "\n",
    "# Accept a client connection\n",
    "client_socket, client_address = server_socket.accept()\n",
    "print(f\"Accepted connection from {client_address}\")\n",
    "\n",
    "# Receive and print data from the client\n",
    "data = client_socket.recv(1024).decode()\n",
    "print(f\"Received data from client: {data}\")\n",
    "\n",
    "# Send a response back to the client\n",
    "response = \"Hello, client! Thanks for connecting.\"\n",
    "client_socket.send(response.encode())\n",
    "\n",
    "# Close the client socket and the server socket\n",
    "client_socket.close()\n",
    "server_socket.close()"
   ]
  },
  {
   "cell_type": "code",
   "execution_count": null,
   "metadata": {},
   "outputs": [],
   "source": [
    "# client \n",
    "\n",
    "import socket\n",
    "\n",
    "# Client configuration\n",
    "server_host = \"127.0.0.1\"  # IP address of the server (localhost in this case)\n",
    "server_port = 12345       # Port the server is listening on\n",
    "\n",
    "# Create a socket\n",
    "client_socket = socket.socket(socket.AF_INET, socket.SOCK_STREAM)\n",
    "\n",
    "# Connect to the server\n",
    "client_socket.connect((server_host, server_port))\n",
    "\n",
    "# Send data to the server\n",
    "message = \"Hello, server!\"\n",
    "client_socket.send(message.encode())\n",
    "\n",
    "# Receive and print the server's response\n",
    "response = client_socket.recv(1024).decode()\n",
    "print(f\"Received response from server: {response}\")\n",
    "\n",
    "# Close the client socket\n",
    "client_socket.close()"
   ]
  }
 ],
 "metadata": {
  "kernelspec": {
   "display_name": "ML",
   "language": "python",
   "name": "python3"
  },
  "language_info": {
   "codemirror_mode": {
    "name": "ipython",
    "version": 3
   },
   "file_extension": ".py",
   "mimetype": "text/x-python",
   "name": "python",
   "nbconvert_exporter": "python",
   "pygments_lexer": "ipython3",
   "version": "3.11.5"
  },
  "orig_nbformat": 4
 },
 "nbformat": 4,
 "nbformat_minor": 2
}
