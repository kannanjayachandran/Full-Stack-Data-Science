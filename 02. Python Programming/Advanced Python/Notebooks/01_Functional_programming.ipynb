{
 "cells": [
  {
   "attachments": {},
   "cell_type": "markdown",
   "metadata": {},
   "source": [
    "<h1 style='color: #FEC260'> Functional Programming In Python </h1>"
   ]
  },
  {
   "cell_type": "code",
   "execution_count": 19,
   "metadata": {
    "trusted": true
   },
   "outputs": [
    {
     "name": "stdout",
     "output_type": "stream",
     "text": [
      "Original list:  [1, 2, 3, 4, 5]\n",
      "New list:  [2, 4, 6, 8, 10]\n"
     ]
    }
   ],
   "source": [
    "list1 = [1, 2, 3, 4, 5]\n",
    "list2 = []\n",
    "\n",
    "for element in list1:\n",
    "    list2.append(element*2)\n",
    "    \n",
    "print(\"Original list: \", list1)\n",
    "print(\"New list: \", list2)"
   ]
  },
  {
   "attachments": {},
   "cell_type": "markdown",
   "metadata": {},
   "source": [
    "- We can use `map()` function to do this easily."
   ]
  },
  {
   "cell_type": "code",
   "execution_count": 16,
   "metadata": {},
   "outputs": [
    {
     "name": "stdout",
     "output_type": "stream",
     "text": [
      "Original list:  [1, 2, 3, 4, 5]\n",
      "New list:  [2, 4, 6, 8, 10]\n"
     ]
    }
   ],
   "source": [
    "lis = [x for x in range(1, 6)]\n",
    "\n",
    "def multiply_by_2(item: int):\n",
    "    return item * 2\n",
    "\n",
    "print(\"Original list: \", lis)\n",
    "print(\"New list: \", list(map(multiply_by_2, lis)))"
   ]
  },
  {
   "attachments": {},
   "cell_type": "markdown",
   "metadata": {},
   "source": [
    "- We can use `lambda` function to further simplify the code."
   ]
  },
  {
   "cell_type": "code",
   "execution_count": 15,
   "metadata": {
    "trusted": true
   },
   "outputs": [
    {
     "name": "stdout",
     "output_type": "stream",
     "text": [
      "Original list:  [1, 2, 3, 4, 5]\n",
      "New list:  [2, 4, 6, 8, 10]\n"
     ]
    }
   ],
   "source": [
    "lis_1 = list(map(lambda x: x*2, lis))\n",
    "\n",
    "print(\"Original list: \", lis)\n",
    "print(\"New list: \", lis_1)"
   ]
  },
  {
   "attachments": {},
   "cell_type": "markdown",
   "metadata": {},
   "source": [
    "### filter()\n",
    "\n",
    "```python\n",
    "filter(function, iterable)\n",
    "```\n",
    "\n",
    "- filter() function returns an iterator were the items are filtered through a function to test if the item is accepted or not.\n",
    "\n",
    "> Let's say we have the following list;  `lis = [1, 2, 3, 4, 5, 6, 7, 8, 9, 10, 11, 12, 13, 14, 15, 16, 17, 18, 19, 20]` and we want to filter out the even numbers from the list.\n"
   ]
  },
  {
   "cell_type": "code",
   "execution_count": 23,
   "metadata": {},
   "outputs": [
    {
     "name": "stdout",
     "output_type": "stream",
     "text": [
      "Original list:  [1, 2, 3, 4, 5, 6, 7, 8, 9, 10, 11, 12, 13, 14, 15, 16, 17, 18, 19, 20]\n",
      "New list:  [2, 4, 6, 8, 10, 12, 14, 16, 18, 20]\n"
     ]
    }
   ],
   "source": [
    "nums = [x for x in range(1, 21)]\n",
    "\n",
    "new_nums = []\n",
    "\n",
    "for i in range(len(nums)):\n",
    "    if nums[i] % 2 == 0:\n",
    "        new_nums.append(nums[i])\n",
    "\n",
    "print(\"Original list: \", nums)\n",
    "print(\"New list: \", new_nums)"
   ]
  },
  {
   "attachments": {},
   "cell_type": "markdown",
   "metadata": {},
   "source": [
    "- We can use `filter()` function to do this easily."
   ]
  },
  {
   "cell_type": "code",
   "execution_count": 24,
   "metadata": {},
   "outputs": [
    {
     "name": "stdout",
     "output_type": "stream",
     "text": [
      "[2, 4, 6, 8, 10, 12, 14, 16, 18, 20]\n"
     ]
    }
   ],
   "source": [
    "def even(item):\n",
    "    return item%2==0\n",
    "\n",
    "print(list(filter(even, nums)))"
   ]
  },
  {
   "attachments": {},
   "cell_type": "markdown",
   "metadata": {},
   "source": [
    "- We can further simplify the code using `lambda` function."
   ]
  },
  {
   "cell_type": "code",
   "execution_count": 25,
   "metadata": {
    "trusted": true
   },
   "outputs": [
    {
     "name": "stdout",
     "output_type": "stream",
     "text": [
      "[2, 4, 6, 8, 10, 12, 14, 16, 18, 20]\n"
     ]
    }
   ],
   "source": [
    "print(list(filter(lambda x: x % 2 == 0, nums)))"
   ]
  },
  {
   "attachments": {},
   "cell_type": "markdown",
   "metadata": {},
   "source": [
    "### reduce()\n",
    "\n",
    "```python\n",
    "reduce(function, iterable[, initializer])\n",
    "```\n",
    "\n",
    "- `reduce()` function applies a rolling computation to sequential pairs of values in a list. In simple terms the reduce() function takes a `collection` and a `combining function` as arguments. It repeatedly applies the combining function to the elements of the collection, reducing them to a single value.\n",
    "\n",
    "For example, if you wanted to compute the product of a list of integers. \n",
    "\n",
    "- `reduce()` function is defined in the `functools` module.\n",
    "\n",
    "- The `initializer` value is optional. If provided, the `initializer` will be placed before the items of the sequence in the calculation, and serves as a default when the sequence is empty.\n",
    "\n",
    "For example let's say we have the following list; `lis = [1, 2, 3, 4, 5]` and we have set the initial value to 10.\n",
    "Then the `reduce()` function will work as follows:\n",
    "\n",
    "```readme\n",
    "step 1: res = func(10, 1)\n",
    "step 2: res = func(res, 2)\n",
    "step 3: res = func(res, 3)\n",
    "step 4: res = func(res, 4)\n",
    "step 5: res = func(res, 5)\n",
    "```\n",
    "\n",
    "So if we take the sum of the list elements, it would be 25 (instead of 15)."
   ]
  },
  {
   "cell_type": "code",
   "execution_count": 29,
   "metadata": {},
   "outputs": [
    {
     "name": "stdout",
     "output_type": "stream",
     "text": [
      "Original list:  [1, 2, 3, 4, 5]\n",
      "Product of numbers in the list:  120\n"
     ]
    }
   ],
   "source": [
    "number_list = [_ for _ in range(1, 6)]\n",
    "\n",
    "prod = 1\n",
    "\n",
    "for element in number_list:\n",
    "    prod *= element\n",
    "\n",
    "print(\"Original list: \", number_list)\n",
    "print(\"Product of numbers in the list: \", prod)"
   ]
  },
  {
   "cell_type": "code",
   "execution_count": 39,
   "metadata": {},
   "outputs": [],
   "source": [
    "from functools import reduce"
   ]
  },
  {
   "attachments": {},
   "cell_type": "markdown",
   "metadata": {},
   "source": [
    "- We can use `reduce()` function to do this easily."
   ]
  },
  {
   "cell_type": "code",
   "execution_count": 43,
   "metadata": {},
   "outputs": [
    {
     "name": "stdout",
     "output_type": "stream",
     "text": [
      "120\n"
     ]
    }
   ],
   "source": [
    "def product(x, y):\n",
    "    return x * y\n",
    "\n",
    "print(reduce(product, number_list))"
   ]
  },
  {
   "attachments": {},
   "cell_type": "markdown",
   "metadata": {},
   "source": [
    "- We can further simplify the code using `lambda` function."
   ]
  },
  {
   "cell_type": "code",
   "execution_count": 42,
   "metadata": {
    "trusted": true
   },
   "outputs": [
    {
     "name": "stdout",
     "output_type": "stream",
     "text": [
      "120\n"
     ]
    }
   ],
   "source": [
    "print(reduce(lambda x, y: x * y, number_list))"
   ]
  },
  {
   "attachments": {},
   "cell_type": "markdown",
   "metadata": {},
   "source": [
    "### zip()\n",
    "\n",
    "```python\n",
    "zip(iterable1, iterable2, ...)\n",
    "```\n",
    "\n",
    "- `zip()` function returns an iterator of tuples, where the i-th tuple contains the i-th element from each of the argument sequences or iterables. In simple terms the zip() function takes a number of iterables and then creates a tuple containing each of the elements in the iterables."
   ]
  },
  {
   "cell_type": "code",
   "execution_count": 50,
   "metadata": {},
   "outputs": [
    {
     "name": "stdout",
     "output_type": "stream",
     "text": [
      "{'a': 1, 'b': 2, 'c': 3, 'd': 4}\n",
      "[('a', 1), ('b', 2), ('c', 3), ('d', 4)]\n",
      "(('a', 1), ('b', 2), ('c', 3), ('d', 4))\n"
     ]
    }
   ],
   "source": [
    "alphabets = [\"a\", \"b\", \"c\", \"d\"]\n",
    "numbers = (1, 2, 3, 4)\n",
    "\n",
    "print(dict(zip(alphabets, numbers)))\n",
    "print(list(zip(alphabets, numbers)))\n",
    "print(tuple(zip(alphabets, numbers)))\n"
   ]
  },
  {
   "attachments": {},
   "cell_type": "markdown",
   "metadata": {},
   "source": [
    "### Note\n",
    "\n",
    "Functional programming makes it extremely easy to work with incremental data (real time data)."
   ]
  },
  {
   "attachments": {},
   "cell_type": "markdown",
   "metadata": {},
   "source": [
    "**A sample problem**\n",
    "\n",
    "> You need to calculate the total required cloth for making T-Shirt. A list with 10 values would be given. Do the following operation on the data.\n",
    "\n",
    "- Preprocess the data (Remove all invalid values)\n",
    "- Convert the data into CM (Given in inches)\n",
    "- Find the total\n",
    "\n",
    "> Be sure to use Functional programming paradigm\n",
    "\n",
    "> data : cloth_lis = [3, 4, -2, 5, 1, 2.4, 5, -9, 3, -5]"
   ]
  },
  {
   "cell_type": "code",
   "execution_count": 1,
   "metadata": {
    "trusted": true
   },
   "outputs": [
    {
     "name": "stdout",
     "output_type": "stream",
     "text": [
      "Total length of cloth required is : 59.436 cms\n"
     ]
    }
   ],
   "source": [
    "import functools\n",
    "\n",
    "cloth_lis = [3, 4, -2, 5, 1, 2.4, 5, -9, 3, -5]\n",
    "\n",
    "# removing negative values\n",
    "preprocessing = filter(lambda x: x>0, cloth_lis)\n",
    "\n",
    "# converting into inches\n",
    "centimeters = map(lambda x: x*2.54, preprocessing)\n",
    "\n",
    "# total length of cloth required\n",
    "total = functools.reduce(lambda x, y: x+y, centimeters)\n",
    "\n",
    "print(f\"Total length of cloth required is : {total} cms\")"
   ]
  },
  {
   "cell_type": "markdown",
   "metadata": {},
   "source": [
    "### Lambda Calculus\n",
    "\n",
    "- Lambda calculus is a formal system in mathematical logic for expressing computation based on function abstraction and application using variable binding and substitution.\n",
    "\n",
    "- It is a universal model of computation that can be used to simulate any Turing machine.\n",
    "\n",
    "- It was introduced by the mathematician Alonzo Church in the 1930s as part of his research into the foundations of mathematics.\n",
    "\n",
    "- Lambda calculus has applications in many areas of computer science including the theory of computation, functional programming, and the design of programming languages.\n",
    "\n",
    "```python\n",
    "lambda arguments: expression\n",
    "```\n"
   ]
  },
  {
   "cell_type": "code",
   "execution_count": 7,
   "metadata": {},
   "outputs": [
    {
     "data": {
      "text/plain": [
       "3"
      ]
     },
     "execution_count": 7,
     "metadata": {},
     "output_type": "execute_result"
    }
   ],
   "source": [
    "# adding two numbers\n",
    "(lambda x: lambda y: x + y) (1)(2)"
   ]
  }
 ],
 "metadata": {
  "kernelspec": {
   "display_name": "Python Base (DSML)",
   "language": "python",
   "name": "base"
  },
  "language_info": {
   "codemirror_mode": {
    "name": "ipython",
    "version": 3
   },
   "file_extension": ".py",
   "mimetype": "text/x-python",
   "name": "python",
   "nbconvert_exporter": "python",
   "pygments_lexer": "ipython3",
   "version": "3.13.1"
  }
 },
 "nbformat": 4,
 "nbformat_minor": 4
}
